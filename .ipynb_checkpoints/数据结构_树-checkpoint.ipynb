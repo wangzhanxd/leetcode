{
 "cells": [
  {
   "cell_type": "markdown",
   "metadata": {},
   "source": [
    "# 递归"
   ]
  },
  {
   "cell_type": "markdown",
   "metadata": {},
   "source": [
    "### 104. 二叉树的最大深度\n",
    "给定一个二叉树，找出其最大深度。\n",
    "\n",
    "二叉树的深度为根节点到最远叶子节点的最长路径上的节点数。\n",
    "\n",
    "说明: 叶子节点是指没有子节点的节点。"
   ]
  },
  {
   "cell_type": "code",
   "execution_count": 1,
   "metadata": {},
   "outputs": [],
   "source": [
    "# 示例：\n",
    "# 给定二叉树 [3,9,20,null,null,15,7]，\n",
    "\n",
    "#     3\n",
    "#    / \\\n",
    "#   9  20\n",
    "#     /  \\\n",
    "#    15   7\n",
    "#返回它的最大深度 3 。"
   ]
  },
  {
   "cell_type": "code",
   "execution_count": 3,
   "metadata": {},
   "outputs": [],
   "source": [
    "class TreeNode:\n",
    "    def __init__(self, x):\n",
    "        self.val = x\n",
    "        self.left = None\n",
    "        self.right = None\n",
    "\n",
    "class Solution:\n",
    "    def maxDepth(self, root: TreeNode) -> int:\n",
    "        if root== None:\n",
    "            return 0\n",
    "        else:\n",
    "            return max(self.maxDepth(root.left),self.maxDepth(root.right)) + 1"
   ]
  },
  {
   "cell_type": "markdown",
   "metadata": {},
   "source": [
    "### 110. 平衡二叉树\n",
    "给定一个二叉树，判断它是否是高度平衡的二叉树。\n",
    "\n",
    "本题中，一棵高度平衡二叉树定义为：\n",
    "\n",
    "一个二叉树每个节点 的左右两个子树的高度差的绝对值不超过1。"
   ]
  },
  {
   "cell_type": "code",
   "execution_count": 4,
   "metadata": {},
   "outputs": [],
   "source": [
    "# 示例 1:\n",
    "\n",
    "# 给定二叉树 [3,9,20,null,null,15,7]\n",
    "\n",
    "#     3\n",
    "#    / \\\n",
    "#   9  20\n",
    "#     /  \\\n",
    "#    15   7\n",
    "# 返回 true 。\n",
    "\n",
    "# 示例 2:\n",
    "\n",
    "# 给定二叉树 [1,2,2,3,3,null,null,4,4]\n",
    "\n",
    "#        1\n",
    "#       / \\\n",
    "#      2   2\n",
    "#     / \\\n",
    "#    3   3\n",
    "#   / \\\n",
    "#  4   4\n",
    "# 返回 false 。"
   ]
  },
  {
   "cell_type": "code",
   "execution_count": 16,
   "metadata": {},
   "outputs": [],
   "source": [
    "class TreeNode:\n",
    "    def __init__(self, x):\n",
    "        self.val = x\n",
    "        self.left = None\n",
    "        self.right = None\n",
    "\n",
    "class Solution:\n",
    "    def maxDepth(self, root: TreeNode) -> int:\n",
    "        if root== None:\n",
    "            return 0\n",
    "        else:\n",
    "            return max(self.maxDepth(root.left),self.maxDepth(root.right)) + 1\n",
    "    def isBalanced(self, root: TreeNode) -> bool:\n",
    "        if root==None:\n",
    "            return True\n",
    "        return abs(self.maxDepth(root.left)-self.maxDepth(root.right))<=1 and self.isBalanced(root.left) and self.isBalanced(root.right)"
   ]
  },
  {
   "cell_type": "markdown",
   "metadata": {},
   "source": [
    "### 543. 二叉树的直径\n",
    "给定一棵二叉树，你需要计算它的直径长度。一棵二叉树的直径长度是任意两个结点路径长度中的最大值。这条路径可能穿过也可能不穿过根结点。"
   ]
  },
  {
   "cell_type": "code",
   "execution_count": 17,
   "metadata": {},
   "outputs": [],
   "source": [
    "# 示例 :\n",
    "# 给定二叉树\n",
    "\n",
    "#           1\n",
    "#          / \\\n",
    "#         2   3\n",
    "#        / \\     \n",
    "#       4   5    \n",
    "# 返回 3, 它的长度是路径 [4,2,1,3] 或者 [5,2,1,3]。"
   ]
  },
  {
   "cell_type": "code",
   "execution_count": 19,
   "metadata": {},
   "outputs": [],
   "source": [
    "class TreeNode:\n",
    "    def __init__(self, x):\n",
    "        self.val = x\n",
    "        self.left = None\n",
    "        self.right = None\n",
    "\n",
    "class Solution:\n",
    "    def maxDepth(self,root):\n",
    "        if root == None:\n",
    "            return 0\n",
    "        return max(self.maxDepth(root.left),self.maxDepth(root.right))+1\n",
    "    def diameterOfBinaryTree(self, root: TreeNode) -> int:\n",
    "        if root == None:\n",
    "            return 0\n",
    "        l = self.maxDepth(root.left)\n",
    "        r = self.maxDepth(root.right)\n",
    "        ##return l+r  ###错误的，直径的路径不一定经过根节点\n",
    "        return max(l+r,self.diameterOfBinaryTree(root.left),self.diameterOfBinaryTree(root.right))"
   ]
  },
  {
   "cell_type": "markdown",
   "metadata": {},
   "source": [
    "### 226. 翻转二叉树\n",
    "翻转一棵二叉树。"
   ]
  },
  {
   "cell_type": "code",
   "execution_count": 27,
   "metadata": {},
   "outputs": [],
   "source": [
    "# 示例：\n",
    "\n",
    "# 输入：\n",
    "\n",
    "#      4\n",
    "#    /   \\\n",
    "#   2     7\n",
    "#  / \\   / \\\n",
    "# 1   3 6   9\n",
    "# 输出：\n",
    "\n",
    "#      4\n",
    "#    /   \\\n",
    "#   7     2\n",
    "#  / \\   / \\\n",
    "# 9   6 3   1"
   ]
  },
  {
   "cell_type": "code",
   "execution_count": 24,
   "metadata": {},
   "outputs": [],
   "source": [
    "class TreeNode:\n",
    "    def __init__(self, x):\n",
    "        self.val = x\n",
    "        self.left = None\n",
    "        self.right = None\n",
    "\n",
    "class Solution:\n",
    "    def invertTree(self, root: TreeNode) -> TreeNode:\n",
    "        if root == None:\n",
    "            return root\n",
    "        left = root.left###后面的操作会改变left的指向，先保存\n",
    "        root.left = self.invertTree(root.right)\n",
    "        root.right = self.invertTree(left)\n",
    "        return root"
   ]
  },
  {
   "cell_type": "markdown",
   "metadata": {},
   "source": [
    "### 617. 合并二叉树\n",
    "给定两个二叉树，想象当你将它们中的一个覆盖到另一个上时，两个二叉树的一些节点便会重叠。\n",
    "\n",
    "你需要将他们合并为一个新的二叉树。合并的规则是如果两个节点重叠，那么将他们的值相加作为节点合并后的新值，否则不为 NULL 的节点将直接作为新二叉树的节点。\n"
   ]
  },
  {
   "cell_type": "code",
   "execution_count": null,
   "metadata": {},
   "outputs": [],
   "source": [
    "# 示例 1:\n",
    "\n",
    "# 输入: \n",
    "# \tTree 1                     Tree 2                  \n",
    "#           1                         2                             \n",
    "#          / \\                       / \\                            \n",
    "#         3   2                     1   3                        \n",
    "#        /                           \\   \\                      \n",
    "#       5                             4   7                  \n",
    "# 输出: \n",
    "# 合并后的树:\n",
    "# \t     3\n",
    "# \t    / \\\n",
    "# \t   4   5\n",
    "# \t  / \\   \\ \n",
    "# \t 5   4   7"
   ]
  },
  {
   "cell_type": "code",
   "execution_count": 26,
   "metadata": {},
   "outputs": [],
   "source": [
    "class TreeNode:\n",
    "    def __init__(self, x):\n",
    "        self.val = x\n",
    "        self.left = None\n",
    "        self.right = None\n",
    "\n",
    "class Solution:\n",
    "    def mergeTrees(self, t1: TreeNode, t2: TreeNode) -> TreeNode:\n",
    "        if t1==None and t2==None:\n",
    "            return None\n",
    "        elif t1==None and t2!=None:\n",
    "            return t2\n",
    "        elif t1!=None and t2==None:\n",
    "            return t1\n",
    "        else:\n",
    "            root = TreeNode(t1.val+t2.val)\n",
    "            root.left = self.mergeTrees(t1.left,t2.left)\n",
    "            root.right = self.mergeTrees(t1.right,t2.right)\n",
    "        return root"
   ]
  },
  {
   "cell_type": "markdown",
   "metadata": {},
   "source": [
    "### 112. 路径总和\n",
    "给定一个二叉树和一个目标和，判断该树中是否存在根节点到叶子节点的路径，这条路径上所有节点值相加等于目标和。\n",
    "\n",
    "说明: 叶子节点是指没有子节点的节点。\n",
    "<p>\n",
    "示例: \n",
    "给定如下二叉树，以及目标和 sum = 22，\n",
    "\n",
    "              5\n",
    "             / \\\n",
    "            4   8\n",
    "           /   / \\\n",
    "          11  13  4\n",
    "         /  \\      \\\n",
    "        7    2      1\n",
    "返回 true, 因为存在目标和为 22 的根节点到叶子节点的路径 5->4->11->2。\n",
    "</p>"
   ]
  },
  {
   "cell_type": "code",
   "execution_count": 28,
   "metadata": {},
   "outputs": [],
   "source": [
    "class TreeNode:\n",
    "    def __init__(self, x):\n",
    "        self.val = x\n",
    "        self.left = None\n",
    "        self.right = None\n",
    "\n",
    "class Solution:\n",
    "    def hasPathSum(self, root: TreeNode, sum: int) -> bool:\n",
    "        if root == None:\n",
    "            return False\n",
    "        elif root.left == None and root.right==None and root.val == sum:\n",
    "            return True\n",
    "        else:\n",
    "            return self.hasPathSum(root.left,sum-root.val) or self.hasPathSum(root.right,sum-root.val) "
   ]
  },
  {
   "cell_type": "markdown",
   "metadata": {},
   "source": [
    "### 572. 另一个树的子树\n",
    "\n",
    "给定两个非空二叉树 s 和 t，检验 s 中是否包含和 t 具有相同结构和节点值的子树。s 的一个子树包括 s 的一个节点和这个节点的所有子孙。s 也可以看做它自身的一棵子树。\n"
   ]
  },
  {
   "cell_type": "code",
   "execution_count": 30,
   "metadata": {},
   "outputs": [],
   "source": [
    "# 示例 1:\n",
    "# 给定的树 s:\n",
    "\n",
    "#      3\n",
    "#     / \\\n",
    "#    4   5\n",
    "#   / \\\n",
    "#  1   2\n",
    "# 给定的树 t：\n",
    "\n",
    "#    4 \n",
    "#   / \\\n",
    "#  1   2\n",
    "# 返回 true，因为 t 与 s 的一个子树拥有相同的结构和节点值。\n",
    "\n",
    "# 示例 2:\n",
    "# 给定的树 s：\n",
    "\n",
    "#      3\n",
    "#     / \\\n",
    "#    4   5\n",
    "#   / \\\n",
    "#  1   2\n",
    "#     /\n",
    "#    0\n",
    "# 给定的树 t：\n",
    "\n",
    "#    4\n",
    "#   / \\\n",
    "#  1   2\n",
    "# 返回 false。"
   ]
  },
  {
   "cell_type": "code",
   "execution_count": 32,
   "metadata": {},
   "outputs": [],
   "source": [
    "class TreeNode:\n",
    "    def __init__(self, x):\n",
    "        self.val = x\n",
    "        self.left = None\n",
    "        self.right = None\n",
    "class Solution:\n",
    "    def isSubtreeWithRoot(self, s: TreeNode, t: TreeNode) -> bool:\n",
    "        if s==None and t == None:\n",
    "            return True\n",
    "        elif s==None or t == None:\n",
    "            return False\n",
    "        else:\n",
    "            return s.val == t.val and self.isSubtreeWithRoot(s.left,t.left) and self.isSubtreeWithRoot(s.right,t.right)\n",
    "    def isSubtree(self, s: TreeNode, t: TreeNode) -> bool:\n",
    "        if s == None and t == None:\n",
    "            return True\n",
    "        elif s == None:\n",
    "            return False\n",
    "        else:\n",
    "            return self.isSubtreeWithRoot(s,t) or self.isSubtree(s.left,t) or self.isSubtree(s.right,t)"
   ]
  },
  {
   "cell_type": "markdown",
   "metadata": {},
   "source": [
    "### 101. 对称二叉树\n",
    "给定一个二叉树，检查它是否是镜像对称的。"
   ]
  },
  {
   "cell_type": "code",
   "execution_count": 33,
   "metadata": {},
   "outputs": [],
   "source": [
    "# 例如，二叉树 [1,2,2,3,4,4,3] 是对称的。\n",
    "\n",
    "#     1\n",
    "#    / \\\n",
    "#   2   2\n",
    "#  / \\ / \\\n",
    "# 3  4 4  3\n",
    " \n",
    "\n",
    "# 但是下面这个 [1,2,2,null,3,null,3] 则不是镜像对称的:\n",
    "\n",
    "#     1\n",
    "#    / \\\n",
    "#   2   2\n",
    "#    \\   \\\n",
    "#    3    3\n",
    " \n",
    "\n",
    "# 进阶：\n",
    "\n",
    "# 你可以运用递归和迭代两种方法解决这个问题吗？"
   ]
  },
  {
   "cell_type": "code",
   "execution_count": 38,
   "metadata": {},
   "outputs": [],
   "source": [
    "class TreeNode:\n",
    "    def __init__(self, x):\n",
    "        self.val = x\n",
    "        self.left = None\n",
    "        self.right = None\n",
    "\n",
    "class Solution:\n",
    "    def helper(self,s,t) -> bool:\n",
    "        if s == None and t ==None:\n",
    "            return True\n",
    "        elif s==None or t == None:\n",
    "            return False\n",
    "        else:\n",
    "            return s.val == t.val and self.helper(s.left,t.right) and self.helper(s.right,t.left)\n",
    "    def isSymmetric(self, root: TreeNode) -> bool:\n",
    "        if root==None:\n",
    "            return True\n",
    "        return self.helper(root.left,root.right)"
   ]
  },
  {
   "cell_type": "markdown",
   "metadata": {},
   "source": [
    "### 111. 二叉树的最小深度\n",
    "给定一个二叉树，找出其最小深度。\n",
    "\n",
    "最小深度是从根节点到最近叶子节点的最短路径上的节点数量。\n",
    "\n",
    "说明: 叶子节点是指没有子节点的节点。\n"
   ]
  },
  {
   "cell_type": "code",
   "execution_count": 41,
   "metadata": {},
   "outputs": [],
   "source": [
    "# 示例:\n",
    "\n",
    "# 给定二叉树 [3,9,20,null,null,15,7],\n",
    "#     3\n",
    "#    / \\\n",
    "#   9  20\n",
    "#     /  \\\n",
    "#    15   7\n",
    "# 返回它的最小深度  2."
   ]
  },
  {
   "cell_type": "code",
   "execution_count": 44,
   "metadata": {},
   "outputs": [],
   "source": [
    "###是指到叶子节点的最小深度 不是整棵树的最小深度\n",
    "class TreeNode:\n",
    "    def __init__(self, x):\n",
    "        self.val = x\n",
    "        self.left = None\n",
    "        self.right = None\n",
    "\n",
    "class Solution:\n",
    "    def minDepth(self, root: TreeNode) -> int:\n",
    "        if root == None:\n",
    "            return 0\n",
    "        l = self.minDepth(root.left)\n",
    "        r = self.minDepth(root.right)\n",
    "        if l==0 or r == 0:\n",
    "            return l+r+1\n",
    "        return min(l,r) + 1"
   ]
  },
  {
   "cell_type": "markdown",
   "metadata": {},
   "source": [
    "### 404. 左叶子之和\n",
    "计算给定二叉树的所有左叶子之和。"
   ]
  },
  {
   "cell_type": "code",
   "execution_count": 45,
   "metadata": {},
   "outputs": [],
   "source": [
    "# 示例：\n",
    "\n",
    "#     3\n",
    "#    / \\\n",
    "#   9  20\n",
    "#     /  \\\n",
    "#    15   7\n",
    "\n",
    "# 在这个二叉树中，有两个左叶子，分别是 9 和 15，所以返回 24"
   ]
  },
  {
   "cell_type": "code",
   "execution_count": 47,
   "metadata": {},
   "outputs": [],
   "source": [
    "class TreeNode:\n",
    "    def __init__(self, x):\n",
    "        self.val = x\n",
    "        self.left = None\n",
    "        self.right = None\n",
    "\n",
    "class Solution:\n",
    "    def __init__(self):\n",
    "        self.ret = 0\n",
    "    def sumOfLeftLeaves(self, root: TreeNode) -> int:\n",
    "        if root==None:\n",
    "            return 0\n",
    "        if root.left!=None and root.left.left==None and root.left.right==None:\n",
    "            self.ret += root.left.val\n",
    "        self.sumOfLeftLeaves(root.left)\n",
    "        self.sumOfLeftLeaves(root.right)\n",
    "        return self.ret\n",
    "            "
   ]
  },
  {
   "cell_type": "markdown",
   "metadata": {},
   "source": [
    "### 687. 最长同值路径\n",
    "给定一个二叉树，找到最长的路径，这个路径中的每个节点具有相同值。 这条路径可以经过也可以不经过根节点。\n",
    "\n",
    "注意：两个节点之间的路径长度由它们之间的边数表示。"
   ]
  },
  {
   "cell_type": "code",
   "execution_count": 49,
   "metadata": {},
   "outputs": [],
   "source": [
    "# 示例 1:\n",
    "\n",
    "# 输入:\n",
    "\n",
    "#               5\n",
    "#              / \\\n",
    "#             4   5\n",
    "#            / \\   \\\n",
    "#           1   1   5\n",
    "# 输出:\n",
    "\n",
    "# 2\n",
    "# 示例 2:\n",
    "\n",
    "# 输入:\n",
    "\n",
    "#               1\n",
    "#              / \\\n",
    "#             4   5\n",
    "#            / \\   \\\n",
    "#           4   4   5\n",
    "# 输出:\n",
    "\n",
    "# 2"
   ]
  },
  {
   "cell_type": "code",
   "execution_count": 51,
   "metadata": {},
   "outputs": [],
   "source": [
    "class TreeNode:\n",
    "    def __init__(self, x):\n",
    "        self.val = x\n",
    "        self.left = None\n",
    "        self.right = None\n",
    "class Solution:\n",
    "    def __init__(self):\n",
    "        self.path = 0\n",
    "    def dfs(root):\n",
    "        if root == None:\n",
    "            return 0\n",
    "        left = dfs(root.left)\n",
    "        right = dfs(root.right)\n",
    "        left_path = left + 1 if root.left!=None and root.left.val == root.val else 0\n",
    "        right_path = right + 1 if root.right!=None and root.right.val == root.val else 0\n",
    "        self.path = max(self.path,left_path + right_path)\n",
    "        return max(left_path,right_path)\n",
    "    def longestUnivaluePath(self, root: TreeNode) -> int:\n",
    "        self.dfs(root)\n",
    "        return self.path"
   ]
  },
  {
   "cell_type": "markdown",
   "metadata": {},
   "source": [
    "### 337. 打家劫舍 III\n",
    "在上次打劫完一条街道之后和一圈房屋后，小偷又发现了一个新的可行窃的地区。这个地区只有一个入口，我们称之为“根”。 除了“根”之外，每栋房子有且只有一个“父“房子与之相连。一番侦察之后，聪明的小偷意识到“这个地方的所有房屋的排列类似于一棵二叉树”。 如果两个直接相连的房子在同一天晚上被打劫，房屋将自动报警。\n",
    "\n",
    "计算在不触动警报的情况下，小偷一晚能够盗取的最高金额。"
   ]
  },
  {
   "cell_type": "code",
   "execution_count": 56,
   "metadata": {},
   "outputs": [],
   "source": [
    "\n",
    "# 示例 1:\n",
    "\n",
    "# 输入: [3,2,3,null,3,null,1]\n",
    "\n",
    "#      3\n",
    "#     / \\\n",
    "#    2   3\n",
    "#     \\   \\ \n",
    "#      3   1\n",
    "\n",
    "# 输出: 7 \n",
    "# 解释: 小偷一晚能够盗取的最高金额 = 3 + 3 + 1 = 7.\n",
    "# 示例 2:\n",
    "\n",
    "# 输入: [3,4,5,1,3,null,1]\n",
    "\n",
    "#      3\n",
    "#     / \\\n",
    "#    4   5\n",
    "#   / \\   \\ \n",
    "#  1   3   1\n",
    "\n",
    "# 输出: 9\n",
    "# 解释: 小偷一晚能够盗取的最高金额 = 4 + 5 = 9."
   ]
  },
  {
   "cell_type": "code",
   "execution_count": 62,
   "metadata": {},
   "outputs": [],
   "source": [
    "### 方法一 超时\n",
    "class TreeNode:\n",
    "    def __init__(self, x):\n",
    "        self.val = x\n",
    "        self.left = None\n",
    "        self.right = None\n",
    "\n",
    "class Solution:\n",
    "    def __init__(self):\n",
    "        self.ret  = 0\n",
    "    def rob(self, root: TreeNode) -> int:\n",
    "        if root==None:\n",
    "            return 0\n",
    "        elif root.left==None and root.right==None:\n",
    "            return root.val\n",
    "        elif root.left == None:\n",
    "            return max(self.rob(root.right),root.val+self.rob(root.right.left)+self.rob(root.right.right))\n",
    "        elif root.right == None:\n",
    "            return max(self.rob(root.left),root.val+self.rob(root.left.left)+self.rob(root.left.right))\n",
    "        else:\n",
    "            return max(self.rob(root.right)+self.rob(root.left),root.val+self.rob(root.right.left)+self.rob(root.right.right)+self.rob(root.left.left)+self.rob(root.left.right))"
   ]
  },
  {
   "cell_type": "code",
   "execution_count": 66,
   "metadata": {},
   "outputs": [],
   "source": [
    "### 方法一 增加中间变量 减少重复计算 还是超时\n",
    "### java版可以通过\n",
    "class TreeNode:\n",
    "    def __init__(self, x):\n",
    "        self.val = x\n",
    "        self.left = None\n",
    "        self.right = None\n",
    "\n",
    "class Solution:\n",
    "    def rob(self, root: TreeNode) -> int:\n",
    "        if root==None:\n",
    "            return 0\n",
    "        v1 = root.val;\n",
    "        if root.left != None:\n",
    "            v1 += self.rob(root.left.left)+self.rob(root.left.right)\n",
    "        if root.right != None:\n",
    "            v1 += self.rob(root.right.left)+self.rob(root.right.right)\n",
    "        v2 = self.rob(root.left) + self.rob(root.right)\n",
    "        return max(v1,v2)\n",
    "        "
   ]
  },
  {
   "cell_type": "code",
   "execution_count": 67,
   "metadata": {},
   "outputs": [],
   "source": [
    "### 方法二 思考方法二为什么比方法一快 是因为增加中间变量 减少计算？\n",
    "class Solution:\n",
    "    def rob(self, root: TreeNode) -> int:\n",
    "        # dfs(now)=(rob,skip) ：rob:must rob now node ;skip:skip the now node. Both variates are represented the best result among the entire tree of now node.\n",
    "        def dfs(now: TreeNode)->tuple:\n",
    "            if None== now:return (0,0)  #It is empty tree! NO MONEY!\n",
    "            robL,skipL=dfs(now.left)\n",
    "            robR,skipR=dfs(now.right)\n",
    "            robN=now.val+skipL+skipR    # You must skip the child-nodes if you rob now\n",
    "            skipN=max(robL,skipL)+max(robR,skipR)  #CAUTION! to get the best result of both subtrees.\n",
    "            return (robN , skipN)\n",
    "        return max(dfs(root))"
   ]
  },
  {
   "cell_type": "markdown",
   "metadata": {},
   "source": [
    "### 671. 二叉树中第二小的节点\n",
    "给定一个非空特殊的二叉树，每个节点都是正数，并且每个节点的子节点数量只能为 2 或 0。如果一个节点有两个子节点的话，那么这个节点的值不大于它的子节点的值。 \n",
    "\n",
    "给出这样的一个二叉树，你需要输出所有节点中的第二小的值。如果第二小的值不存在的话，输出 -1 。"
   ]
  },
  {
   "cell_type": "code",
   "execution_count": 52,
   "metadata": {},
   "outputs": [],
   "source": [
    "# 示例 1:\n",
    "\n",
    "# 输入: \n",
    "#     2\n",
    "#    / \\\n",
    "#   2   5\n",
    "#      / \\\n",
    "#     5   7\n",
    "\n",
    "# 输出: 5\n",
    "# 说明: 最小的值是 2 ，第二小的值是 5 。\n",
    "# 示例 2:\n",
    "\n",
    "# 输入: \n",
    "#     2\n",
    "#    / \\\n",
    "#   2   2\n",
    "\n",
    "# 输出: -1\n",
    "# 说明: 最小的值是 2, 但是不存在第二小的值。"
   ]
  },
  {
   "cell_type": "code",
   "execution_count": 70,
   "metadata": {},
   "outputs": [],
   "source": [
    "### 如果根节点不为None，那么根节点是最小值\n",
    "from typing import List\n",
    "class TreeNode:\n",
    "    def __init__(self, x):\n",
    "        self.val = x\n",
    "        self.left = None\n",
    "        self.right = None\n",
    "\n",
    "class Solution:\n",
    "    def findSecondMinimumValue(self, root: TreeNode) -> int:\n",
    "        if root==None or (root.left==None and root.right==None):\n",
    "            return -1\n",
    "        left_val = root.left.val\n",
    "        right_val = root.right.val\n",
    "        if left_val == root.val:\n",
    "            left_val = self.findSecondMinimumValue(root.left)\n",
    "        if right_val == root.val:\n",
    "            right_val = self.findSecondMinimumValue(root.right)\n",
    "        if left_val != -1 and right_val != -1:\n",
    "            return min(left_val,right_val)\n",
    "        elif left_val != -1:\n",
    "            return left_val\n",
    "        else:\n",
    "            return right_val"
   ]
  },
  {
   "cell_type": "markdown",
   "metadata": {},
   "source": [
    "# 层次遍历"
   ]
  },
  {
   "cell_type": "markdown",
   "metadata": {},
   "source": [
    "### 637. 二叉树的层平均值\n",
    "给定一个非空二叉树, 返回一个由每层节点平均值组成的数组."
   ]
  },
  {
   "cell_type": "code",
   "execution_count": 68,
   "metadata": {},
   "outputs": [],
   "source": [
    "# 示例 1:\n",
    "\n",
    "# 输入:\n",
    "#     3\n",
    "#    / \\\n",
    "#   9  20\n",
    "#     /  \\\n",
    "#    15   7\n",
    "# 输出: [3, 14.5, 11]\n",
    "# 解释:\n",
    "# 第0层的平均值是 3,  第1层是 14.5, 第2层是 11. 因此返回 [3, 14.5, 11]."
   ]
  },
  {
   "cell_type": "code",
   "execution_count": 73,
   "metadata": {},
   "outputs": [],
   "source": [
    "### 层序遍历 需要借助队列\n",
    "class TreeNode:\n",
    "    def __init__(self, x):\n",
    "        self.val = x\n",
    "        self.left = None\n",
    "        self.right = None\n",
    "\n",
    "class Solution:\n",
    "    def averageOfLevels(self, root: TreeNode) -> List[float]:\n",
    "        ret = []\n",
    "        queue = []\n",
    "        if root==None:\n",
    "            return []\n",
    "        queue.insert(0,root)\n",
    "        while queue!=[]:\n",
    "            _sum = 0\n",
    "            cnt = len(queue)\n",
    "            for i in range(cnt):\n",
    "                node = queue.pop()\n",
    "                _sum += node.val\n",
    "                if node.left!=None:\n",
    "                    queue.insert(0,node.left)\n",
    "                if node.right!=None:\n",
    "                    queue.insert(0,node.right)\n",
    "            ret.append(_sum/cnt)\n",
    "        return ret   "
   ]
  },
  {
   "cell_type": "markdown",
   "metadata": {},
   "source": [
    "### 513. 找树左下角的值\n",
    "给定一个二叉树，在树的最后一行找到最左边的值。"
   ]
  },
  {
   "cell_type": "code",
   "execution_count": 74,
   "metadata": {},
   "outputs": [],
   "source": [
    "# 示例 1:\n",
    "\n",
    "# 输入:\n",
    "\n",
    "#     2\n",
    "#    / \\\n",
    "#   1   3\n",
    "\n",
    "# 输出:\n",
    "# 1\n",
    " \n",
    "\n",
    "# 示例 2:\n",
    "\n",
    "# 输入:\n",
    "\n",
    "#         1\n",
    "#        / \\\n",
    "#       2   3\n",
    "#      /   / \\\n",
    "#     4   5   6\n",
    "#        /\n",
    "#       7\n",
    "\n",
    "# 输出:\n",
    "# 7"
   ]
  },
  {
   "cell_type": "code",
   "execution_count": 77,
   "metadata": {},
   "outputs": [],
   "source": [
    "class TreeNode:\n",
    "    def __init__(self, x):\n",
    "        self.val = x\n",
    "        self.left = None\n",
    "        self.right = None\n",
    "\n",
    "class Solution:\n",
    "    def findBottomLeftValue(self, root: TreeNode) -> int:\n",
    "        queue = []\n",
    "\n",
    "        if root == None:\n",
    "            return None\n",
    "        queue.insert(0,root)\n",
    "        while queue:\n",
    "            ret = []\n",
    "            cnt = len(queue)\n",
    "            for i in range(cnt):\n",
    "                node = queue.pop()\n",
    "                ret.append(node.val)\n",
    "                if node.left!=None:\n",
    "                    queue.insert(0,node.left)\n",
    "                if node.right!=None:\n",
    "                    queue.insert(0,node.right)\n",
    "        return ret[0]"
   ]
  },
  {
   "cell_type": "code",
   "execution_count": 78,
   "metadata": {},
   "outputs": [],
   "source": [
    "###方法二 先进右孩子节点 再进左孩子节点\n",
    "class Solution:\n",
    "    def findBottomLeftValue(self, root: TreeNode) -> int:\n",
    "        if root == None:\n",
    "            return None\n",
    "        queue = []\n",
    "        queue.insert(0,root)\n",
    "        while queue:\n",
    "                node = queue.pop()\n",
    "                if node.right!=None:\n",
    "                    queue.insert(0,node.right)\n",
    "                if node.left!=None:\n",
    "                    queue.insert(0,node.left)\n",
    "\n",
    "        return node.val"
   ]
  },
  {
   "cell_type": "markdown",
   "metadata": {},
   "source": [
    "### 144. 二叉树的前序遍历\n",
    "给定一个二叉树，返回它的 前序 遍历。"
   ]
  },
  {
   "cell_type": "code",
   "execution_count": 79,
   "metadata": {},
   "outputs": [],
   "source": [
    "#  示例:\n",
    "\n",
    "# 输入: [1,null,2,3]  \n",
    "#    1\n",
    "#     \\\n",
    "#      2\n",
    "#     /\n",
    "#    3 \n",
    "\n",
    "# 输出: [1,2,3]\n",
    "# 进阶: 递归算法很简单，你可以通过迭代算法完成吗？"
   ]
  },
  {
   "cell_type": "code",
   "execution_count": 81,
   "metadata": {},
   "outputs": [],
   "source": [
    "#### 递归实现\n",
    "class TreeNode:\n",
    "    def __init__(self, x):\n",
    "        self.val = x\n",
    "        self.left = None\n",
    "        self.right = None\n",
    "        \n",
    "class Solution:\n",
    "    def __init__(self):\n",
    "        self.ret = []\n",
    "    def preorderTraversal(self, root: TreeNode) -> List[int]:\n",
    "        if root == None:\n",
    "            return []\n",
    "        self.ret.append(root.val)\n",
    "        self.preorderTraversal(root.left)\n",
    "        self.preorderTraversal(root.right)\n",
    "        return self.ret"
   ]
  },
  {
   "cell_type": "code",
   "execution_count": 83,
   "metadata": {},
   "outputs": [],
   "source": [
    "### 非递归实现\n",
    "class Solution:\n",
    "    def preorderTraversal(self, root: TreeNode) -> List[int]:\n",
    "        if root == None:\n",
    "            return []\n",
    "        ret = []\n",
    "        st = []\n",
    "        st.append(root)\n",
    "        while st:\n",
    "            node = st.pop()\n",
    "            if node == None:\n",
    "                continue\n",
    "            ret.append(node.val)\n",
    "            st.append(node.right)##左孩子节点后进栈，先出栈\n",
    "            st.append(node.left)\n",
    "        return ret"
   ]
  },
  {
   "cell_type": "code",
   "execution_count": null,
   "metadata": {},
   "outputs": [],
   "source": []
  }
 ],
 "metadata": {
  "kernelspec": {
   "display_name": "Python 3",
   "language": "python",
   "name": "python3"
  },
  "language_info": {
   "codemirror_mode": {
    "name": "ipython",
    "version": 3
   },
   "file_extension": ".py",
   "mimetype": "text/x-python",
   "name": "python",
   "nbconvert_exporter": "python",
   "pygments_lexer": "ipython3",
   "version": "3.7.0"
  }
 },
 "nbformat": 4,
 "nbformat_minor": 2
}
