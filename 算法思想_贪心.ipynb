{
 "cells": [
  {
   "cell_type": "markdown",
   "metadata": {},
   "source": [
    "### 贪心算法\n",
    "    455. Assign Cookies (Easy)\n",
    "    435. Non-overlapping Intervals (Medium)\n",
    "    452. Minimum Number of Arrows to Burst Balloons (Medium)\n",
    "    406. Queue Reconstruction by Height(Medium)\n",
    "    121. Best Time to Buy and Sell Stock (Easy)\n",
    "    122. Best Time to Buy and Sell Stock II (Easy)\n",
    "    605. Can Place Flowers (Easy)\n",
    "    392. Is Subsequence (Medium)\n",
    "    665. Non-decreasing Array (Easy)\n",
    "    53. Maximum Subarray (Easy)\n",
    "    763. Partition Labels (Medium)"
   ]
  },
  {
   "cell_type": "markdown",
   "metadata": {},
   "source": [
    "### 455. Assign Cookies (Easy)\n",
    "假设你是一位很棒的家长，想要给你的孩子们一些小饼干。但是，每个孩子最多只能给一块饼干。对每个孩子 i ，都有一个胃口值 gi ，这是能让孩子们满足胃口的饼干的最小尺寸；并且每块饼干 j ，都有一个尺寸 sj 。如果 sj >= gi ，我们可以将这个饼干 j 分配给孩子 i ，这个孩子会得到满足。你的目标是尽可能满足越多数量的孩子，并输出这个最大数值。\n",
    "\n",
    "注意：\n",
    "\n",
    "你可以假设胃口值为正。\n",
    "一个小朋友最多只能拥有一块饼干。\n",
    "\n",
    "示例 1:\n",
    "\n",
    "输入: [1,2,3], [1,1]\n",
    "\n",
    "输出: 1\n",
    "\n",
    "解释: \n",
    "你有三个孩子和两块小饼干，3个孩子的胃口值分别是：1,2,3。\n",
    "虽然你有两块小饼干，由于他们的尺寸都是1，你只能让胃口值是1的孩子满足。\n",
    "所以你应该输出1。\n",
    "示例 2:\n",
    "\n",
    "输入: [1,2], [1,2,3]\n",
    "\n",
    "输出: 2\n",
    "\n",
    "解释: \n",
    "你有两个孩子和三块小饼干，2个孩子的胃口值分别是1,2。\n",
    "你拥有的饼干数量和尺寸都足以让所有孩子满足。\n",
    "所以你应该输出2."
   ]
  },
  {
   "cell_type": "code",
   "execution_count": 44,
   "metadata": {},
   "outputs": [
    {
     "name": "stdout",
     "output_type": "stream",
     "text": [
      "1\n"
     ]
    }
   ],
   "source": [
    "from typing import List\n",
    "class Solution:\n",
    "    def findContentChildren(self, g: List[int], s: List[int]) -> int:\n",
    "        i = 0\n",
    "        j = 0\n",
    "        g.sort()\n",
    "        s.sort()\n",
    "        while i<len(g) and j < len(s):\n",
    "            if g[i]>s[j]:\n",
    "                j = j + 1\n",
    "            else:\n",
    "                i = i + 1\n",
    "                j = j + 1\n",
    "                \n",
    "        return i\n",
    "    \n",
    "if __name__ == '__main__':\n",
    "    s = Solution()\n",
    "    print(s.findContentChildren([1,2,3], [1,1]))"
   ]
  },
  {
   "cell_type": "markdown",
   "metadata": {},
   "source": [
    "### 435. Non-overlapping Intervals (Medium)\n",
    "#### 435. 无重叠区间\n",
    "\n",
    "给定一个区间的集合，找到需要移除区间的最小数量，使剩余区间互不重叠。\n",
    "\n",
    "注意:\n",
    "\n",
    "可以认为区间的终点总是大于它的起点。\n",
    "区间 [1,2] 和 [2,3] 的边界相互“接触”，但没有相互重叠。\n",
    "示例 1:\n",
    "\n",
    "输入: [ [1,2], [2,3], [3,4], [1,3] ]\n",
    "\n",
    "输出: 1\n",
    "\n",
    "解释: 移除 [1,3] 后，剩下的区间没有重叠。\n",
    "示例 2:\n",
    "\n",
    "输入: [ [1,2], [1,2], [1,2] ]\n",
    "\n",
    "输出: 2\n",
    "\n",
    "解释: 你需要移除两个 [1,2] 来使剩下的区间没有重叠。\n",
    "示例 3:\n",
    "\n",
    "输入: [ [1,2], [2,3] ]\n",
    "\n",
    "输出: 0\n",
    "\n",
    "解释: 你不需要移除任何区间，因为它们已经是无重叠的了。"
   ]
  },
  {
   "cell_type": "code",
   "execution_count": 60,
   "metadata": {},
   "outputs": [
    {
     "name": "stdout",
     "output_type": "stream",
     "text": [
      "2\n"
     ]
    }
   ],
   "source": [
    "#先计算最多能组成的不重叠区间个数，然后用区间总个数减去不重叠区间的个数。\n",
    "#在每次选择中，区间的结尾最为重要，选择的区间结尾越小，留给后面的区间的空间越大，那么后面能够选择的区间个数也就越大。\n",
    "#按区间的结尾进行排序，每次选择结尾最小，并且和前一个区间不重叠的区间。\n",
    "\n",
    "from typing import List\n",
    "class Solution:\n",
    "    def eraseOverlapIntervals(self, intervals: List[List[int]]) -> int:\n",
    "        length = len(intervals)\n",
    "        if length<=1:\n",
    "            return 0\n",
    "        intervals = list(map(lambda x:[x[1],x[0]],intervals))\n",
    "        intervals.sort()\n",
    "        intervals = list(map(lambda x:[x[1],x[0]],intervals))\n",
    "        cnt = 1\n",
    "        i = 0\n",
    "        while i < len(intervals)-1: #### 代码不够简洁\n",
    "            if (intervals[i+1][0]>=intervals[i][0] and intervals[i+1][0] < intervals[i][1]) or \\\n",
    "            (intervals[i][0]>=intervals[i+1][0] and intervals[i][0] < intervals[i+1][1]):\n",
    "                del intervals[i+1]\n",
    "            else:\n",
    "                i = i + 1\n",
    "                cnt = cnt + 1\n",
    "        return length - cnt\n",
    "\n",
    "if __name__ == '__main__':\n",
    "    s = Solution()\n",
    "    print(s.eraseOverlapIntervals( [[1,100],[11,22],[1,11],[2,12]]))       "
   ]
  },
  {
   "cell_type": "code",
   "execution_count": 64,
   "metadata": {},
   "outputs": [
    {
     "name": "stdout",
     "output_type": "stream",
     "text": [
      "[[1, 11], [2, 12], [11, 22], [1, 100]]\n",
      "2\n"
     ]
    }
   ],
   "source": [
    "class Solution:\n",
    "    def eraseOverlapIntervals(self, intervals: List[List[int]]) -> int:\n",
    "        length = len(intervals)\n",
    "        if length<=1:\n",
    "            return 0\n",
    "        intervals = list(map(lambda x:[x[1],x[0]],intervals))\n",
    "        intervals.sort()\n",
    "        intervals = list(map(lambda x:[x[1],x[0]],intervals))\n",
    "        print(intervals)\n",
    "        cnt = 1\n",
    "        end = intervals[0][1]\n",
    "        for i in range(1,length):\n",
    "            if intervals[i][0] < end:\n",
    "                continue\n",
    "            end = intervals[i][1];\n",
    "            cnt = cnt + 1\n",
    "        return length - cnt\n",
    "\n",
    "if __name__ == '__main__':\n",
    "    s = Solution()\n",
    "    print(s.eraseOverlapIntervals( [[1,100],[11,22],[1,11],[2,12]]))       "
   ]
  },
  {
   "cell_type": "code",
   "execution_count": 67,
   "metadata": {},
   "outputs": [
    {
     "name": "stdout",
     "output_type": "stream",
     "text": [
      "[[1, 11], [2, 12], [11, 22], [1, 100]]\n",
      "2\n"
     ]
    }
   ],
   "source": [
    "class Solution:\n",
    "    def eraseOverlapIntervals(self, intervals: List[List[int]]) -> int:\n",
    "        length = len(intervals)\n",
    "        if length<=1:\n",
    "            return 0\n",
    "        intervals = sorted(intervals,key=lambda x:x[1])  ### 换一种排序方法\n",
    "        cnt = 1\n",
    "        end = intervals[0][1]\n",
    "        for i in range(1,length):\n",
    "            if intervals[i][0] < end:\n",
    "                continue\n",
    "            end = intervals[i][1];\n",
    "            cnt = cnt + 1\n",
    "        return length - cnt\n",
    "\n",
    "if __name__ == '__main__':\n",
    "    s = Solution()\n",
    "    print(s.eraseOverlapIntervals( [[1,100],[11,22],[1,11],[2,12]]))       "
   ]
  },
  {
   "cell_type": "markdown",
   "metadata": {},
   "source": [
    "### 452. Minimum Number of Arrows to Burst Balloons\n",
    "在二维空间中有许多球形的气球。对于每个气球，提供的输入是水平方向上，气球直径的开始和结束坐标。由于它是水平的，所以y坐标并不重要，因此只要知道开始和结束的x坐标就足够了。开始坐标总是小于结束坐标。平面内最多存在104个气球。\n",
    "\n",
    "一支弓箭可以沿着x轴从不同点完全垂直地射出。在坐标x处射出一支箭，若有一个气球的直径的开始和结束坐标为 xstart，xend， 且满足  xstart ≤ x ≤ xend，则该气球会被引爆。可以射出的弓箭的数量没有限制。 弓箭一旦被射出之后，可以无限地前进。我们想找到使得所有气球全部被引爆，所需的弓箭的最小数量。\n",
    "\n",
    "Example:\n",
    "\n",
    "输入:\n",
    "[[10,16], [2,8], [1,6], [7,12]]\n",
    "\n",
    "输出:\n",
    "2\n",
    "\n",
    "解释:\n",
    "对于该样例，我们可以在x = 6（射爆[2,8],[1,6]两个气球）和 x = 11（射爆另外两个气球）。"
   ]
  },
  {
   "cell_type": "code",
   "execution_count": 73,
   "metadata": {},
   "outputs": [
    {
     "name": "stdout",
     "output_type": "stream",
     "text": [
      "[[1, 2], [3, 4], [5, 6], [7, 8]]\n",
      "4\n"
     ]
    }
   ],
   "source": [
    "### 计算不重叠区间的个数 重叠的区间一支箭就能射破\n",
    "class Solution:\n",
    "    def findMinArrowShots(self, points: List[List[int]]) -> int:\n",
    "        length = len(points)\n",
    "        if length == 0:\n",
    "            return 0\n",
    "        points = sorted(points,key = lambda x:x[1])\n",
    "        cnt = 1\n",
    "        end = points[0][1]\n",
    "        i = 1\n",
    "        while i < length:\n",
    "            if points[i][0]<=end:\n",
    "                i = i + 1\n",
    "            else:\n",
    "                end = points[i][1]\n",
    "                i = i + 1\n",
    "                cnt = cnt + 1\n",
    "        return cnt\n",
    "\n",
    "if __name__ == '__main__':\n",
    "    s = Solution()\n",
    "    print(s.findMinArrowShots([[1,2],[3,4],[5,6],[7,8]]))   "
   ]
  },
  {
   "cell_type": "markdown",
   "metadata": {},
   "source": [
    "### 406. Queue Reconstruction by Height(Medium)\n",
    "假设有打乱顺序的一群人站成一个队列。 每个人由一个整数对(h, k)表示，其中h是这个人的身高，k是排在这个人前面且身高大于或等于h的人数。 编写一个算法来重建这个队列。\n",
    "\n",
    "注意：\n",
    "总人数少于1100人。\n",
    "\n",
    "示例\n",
    "\n",
    "输入:\n",
    "[[7,0], [4,4], [7,1], [5,0], [6,1], [5,2]]\n",
    "\n",
    "输出:\n",
    "[[5,0], [7,0], [5,2], [6,1], [4,4], [7,1]]"
   ]
  },
  {
   "cell_type": "code",
   "execution_count": 93,
   "metadata": {},
   "outputs": [
    {
     "name": "stdout",
     "output_type": "stream",
     "text": [
      "[[5, 0], [7, 0], [5, 2], [6, 1], [4, 4], [7, 1]]\n"
     ]
    }
   ],
   "source": [
    "#为了使插入操作不影响后续的操作，身高较高的学生应该先做插入操作，否则身高较小的学生原先正确插入的第 k 个位置可能会变成第 k+1 个位置。\n",
    "#身高 h 降序、个数 k 值升序，然后将某个学生插入队列的第 k 个位置中。\n",
    "# 即[7,0]和[7,1]先插入[7,0]   [7,0]和[6,1]先插入[7,0]\n",
    "class Solution:\n",
    "    def reconstructQueue(self, people: List[List[int]]) -> List[List[int]]:\n",
    "        if len(people)<=1:\n",
    "                return people\n",
    "        people.sort(key=lambda x: (-x[0], x[1]))\n",
    "        i = 0\n",
    "        while i < len(people):\n",
    "            if i == people[i][1]:\n",
    "                i = i + 1\n",
    "            else:\n",
    "                people.insert(people[i][1],people[i])\n",
    "                del people[i+1]\n",
    "                i = i + 1\n",
    "        return people\n",
    "if __name__ == '__main__':\n",
    "    s = Solution()\n",
    "    print(s.reconstructQueue([[7, 0], [7, 1], [6, 1], [5, 0], [5, 2], [4, 4]]))"
   ]
  },
  {
   "cell_type": "markdown",
   "metadata": {},
   "source": [
    "### 121. Best Time to Buy and Sell Stock (Easy)\n",
    "给定一个数组，它的第 i 个元素是一支给定股票第 i 天的价格。\n",
    "\n",
    "如果你最多只允许完成一笔交易（即买入和卖出一支股票），设计一个算法来计算你所能获取的最大利润。\n",
    "\n",
    "注意你不能在买入股票前卖出股票。\n",
    "\n",
    "示例 1:\n",
    "\n",
    "输入: [7,1,5,3,6,4]\n",
    "输出: 5\n",
    "解释: 在第 2 天（股票价格 = 1）的时候买入，在第 5 天（股票价格 = 6）的时候卖出，最大利润 = 6-1 = 5 。\n",
    "     注意利润不能是 7-1 = 6, 因为卖出价格需要大于买入价格。\n",
    "示例 2:\n",
    "\n",
    "输入: [7,6,4,3,1]\n",
    "输出: 0\n",
    "解释: 在这种情况下, 没有交易完成, 所以最大利润为 0。"
   ]
  },
  {
   "cell_type": "code",
   "execution_count": 11,
   "metadata": {},
   "outputs": [
    {
     "name": "stdout",
     "output_type": "stream",
     "text": [
      "0\n"
     ]
    }
   ],
   "source": [
    "from typing import List\n",
    "class Solution:\n",
    "    def maxProfit(self, prices: List[int]) -> int:\n",
    "        if len(prices) <= 1:\n",
    "            return 0\n",
    "        i = 1\n",
    "        temp = 0\n",
    "        index = 0\n",
    "        while i < len(prices):\n",
    "            if prices[i]<= prices[index]:\n",
    "                index = i\n",
    "                i = i + 1\n",
    "            else:\n",
    "                temp = max(temp,prices[i]-prices[index])\n",
    "                i = i + 1\n",
    "        return temp\n",
    "if __name__ == '__main__':\n",
    "    s = Solution()\n",
    "    print(s.maxProfit([7,6,4,3,1]))"
   ]
  },
  {
   "cell_type": "markdown",
   "metadata": {},
   "source": [
    "### 122. Best Time to Buy and Sell Stock II\n",
    "给定一个数组，它的第 i 个元素是一支给定股票第 i 天的价格。\n",
    "\n",
    "设计一个算法来计算你所能获取的最大利润。你可以尽可能地完成更多的交易（多次买卖一支股票）。\n",
    "\n",
    "注意：你不能同时参与多笔交易（你必须在再次购买前出售掉之前的股票）。\n",
    "\n",
    "示例 1:\n",
    "\n",
    "输入: [7,1,5,3,6,4]\n",
    "输出: 7\n",
    "解释: 在第 2 天（股票价格 = 1）的时候买入，在第 3 天（股票价格 = 5）的时候卖出, 这笔交易所能获得利润 = 5-1 = 4 。\n",
    "     随后，在第 4 天（股票价格 = 3）的时候买入，在第 5 天（股票价格 = 6）的时候卖出, 这笔交易所能获得利润 = 6-3 = 3 。\n",
    "示例 2:\n",
    "\n",
    "输入: [1,2,3,4,5]\n",
    "输出: 4\n",
    "解释: 在第 1 天（股票价格 = 1）的时候买入，在第 5 天 （股票价格 = 5）的时候卖出, 这笔交易所能获得利润 = 5-1 = 4 。\n",
    "     注意你不能在第 1 天和第 2 天接连购买股票，之后再将它们卖出。\n",
    "     因为这样属于同时参与了多笔交易，你必须在再次购买前出售掉之前的股票。\n",
    "示例 3:\n",
    "\n",
    "输入: [7,6,4,3,1]\n",
    "输出: 0\n",
    "解释: 在这种情况下, 没有交易完成, 所以最大利润为 0。"
   ]
  },
  {
   "cell_type": "code",
   "execution_count": 23,
   "metadata": {},
   "outputs": [
    {
     "name": "stdout",
     "output_type": "stream",
     "text": [
      "7\n"
     ]
    }
   ],
   "source": [
    "class Solution:\n",
    "    def maxProfit(self, prices: List[int]) -> int:\n",
    "        if len(prices) <= 1:\n",
    "            return 0\n",
    "        i = 0\n",
    "        j = 1\n",
    "        temp = 0\n",
    "        index = 0\n",
    "        while j < len(prices):\n",
    "            if prices[j]<= prices[i]:\n",
    "                i = i + 1 \n",
    "                j = j + 1\n",
    "            else:\n",
    "                index = i\n",
    "                while (prices[j] > prices[i]):\n",
    "                    j = j + 1\n",
    "                    i = i + 1\n",
    "                    if j == len(prices):\n",
    "                        break\n",
    "                temp = temp + prices[j-1]-prices[index]\n",
    "                i= j\n",
    "                j = j +1      \n",
    "        return temp\n",
    "if __name__ == '__main__':\n",
    "    s = Solution()\n",
    "    print(s.maxProfit([7,1,5,3,6,4]))"
   ]
  },
  {
   "cell_type": "code",
   "execution_count": 29,
   "metadata": {},
   "outputs": [
    {
     "name": "stdout",
     "output_type": "stream",
     "text": [
      "1\n",
      "3\n",
      "7\n"
     ]
    }
   ],
   "source": [
    "### 另一种更简洁的代码\n",
    "class Solution:\n",
    "    def maxProfit(self, prices: List[int]) -> int:\n",
    "        if len(prices) <= 1:\n",
    "            return 0\n",
    "        i = 0\n",
    "        temp = 0\n",
    "        while i < len(prices)-1:\n",
    "            if prices[i+1]> prices[i]:\n",
    "                temp = temp + prices[i+1] - prices[i]\n",
    "            i = i + 1\n",
    "        return temp\n",
    "if __name__ == '__main__':\n",
    "    s = Solution()\n",
    "    print(s.maxProfit([7,1,5,3,6,4]))"
   ]
  },
  {
   "cell_type": "markdown",
   "metadata": {},
   "source": [
    "### 605. Can Place Flowers (Easy)\n",
    "假设你有一个很长的花坛，一部分地块种植了花，另一部分却没有。可是，花卉不能种植在相邻的地块上，它们会争夺水源，两者都会死去。\n",
    "\n",
    "给定一个花坛（表示为一个数组包含0和1，其中0表示没种植花，1表示种植了花），和一个数 n 。能否在不打破种植规则的情况下种入 n 朵花？能则返回True，不能则返回False。\n",
    "\n",
    "示例 1:\n",
    "\n",
    "输入: flowerbed = [1,0,0,0,1], n = 1\n",
    "输出: True\n",
    "示例 2:\n",
    "\n",
    "输入: flowerbed = [1,0,0,0,1], n = 2\n",
    "输出: False\n",
    "注意:\n",
    "\n",
    "数组内已种好的花不会违反种植规则。\n",
    "输入的数组长度范围为 [1, 20000]。\n",
    "n 是非负整数，且不会超过输入数组的大小。"
   ]
  },
  {
   "cell_type": "code",
   "execution_count": 42,
   "metadata": {},
   "outputs": [
    {
     "name": "stdout",
     "output_type": "stream",
     "text": [
      "False\n"
     ]
    }
   ],
   "source": [
    "### 滑动窗口，头尾添加虚拟节点\n",
    "class Solution:\n",
    "    def canPlaceFlowers(self, flowerbed: List[int], n: int) -> bool:\n",
    "        if len(flowerbed) == 0:\n",
    "            return False\n",
    "        i = 0\n",
    "        flowerbed.insert(0,0)\n",
    "        flowerbed.append(0)\n",
    "        while i+2 < len(flowerbed):\n",
    "            if sum(flowerbed[i:i+3])==0:\n",
    "                n = n -1\n",
    "                i = i + 2\n",
    "            else:\n",
    "                i = i + 1\n",
    "        return n <= 0\n",
    "if __name__ == '__main__':\n",
    "    s = Solution()\n",
    "    print(s.canPlaceFlowers([1,0,0,0,1],2))          "
   ]
  },
  {
   "cell_type": "code",
   "execution_count": 48,
   "metadata": {},
   "outputs": [
    {
     "data": {
      "text/plain": [
       "'#### 大佬C语言版本 思路差不多\\npublic boolean canPlaceFlowers(int[] flowerbed, int n) {\\n    int len = flowerbed.length;\\n    int cnt = 0;\\n    for (int i = 0; i < len && cnt < n; i++) {\\n        if (flowerbed[i] == 1) {\\n            continue;\\n        }\\n        int pre = i == 0 ? 0 : flowerbed[i - 1];\\n        int next = i == len - 1 ? 0 : flowerbed[i + 1];\\n        if (pre == 0 && next == 0) {\\n            cnt++;\\n            flowerbed[i] = 1;\\n        }\\n    }\\n    return cnt >= n;\\n}\\n'"
      ]
     },
     "execution_count": 48,
     "metadata": {},
     "output_type": "execute_result"
    }
   ],
   "source": [
    "'''#### 大佬C语言版本 思路差不多\n",
    "public boolean canPlaceFlowers(int[] flowerbed, int n) {\n",
    "    int len = flowerbed.length;\n",
    "    int cnt = 0;\n",
    "    for (int i = 0; i < len && cnt < n; i++) {\n",
    "        if (flowerbed[i] == 1) {\n",
    "            continue;\n",
    "        }\n",
    "        int pre = i == 0 ? 0 : flowerbed[i - 1];\n",
    "        int next = i == len - 1 ? 0 : flowerbed[i + 1];\n",
    "        if (pre == 0 && next == 0) {\n",
    "            cnt++;\n",
    "            flowerbed[i] = 1;\n",
    "        }\n",
    "    }\n",
    "    return cnt >= n;\n",
    "}\n",
    "'''"
   ]
  },
  {
   "cell_type": "markdown",
   "metadata": {},
   "source": [
    "### 392. Is Subsequence (Medium)\n",
    "给定字符串 s 和 t ，判断 s 是否为 t 的子序列。\n",
    "\n",
    "你可以认为 s 和 t 中仅包含英文小写字母。字符串 t 可能会很长（长度 ~= 500,000），而 s 是个短字符串（长度 <=100）。\n",
    "\n",
    "字符串的一个子序列是原始字符串删除一些（也可以不删除）字符而不改变剩余字符相对位置形成的新字符串。（例如，\"ace\"是\"abcde\"的一个子序列，而\"aec\"不是）。\n",
    "\n",
    "示例 1:\n",
    "s = \"abc\", t = \"ahbgdc\"\n",
    "\n",
    "返回 true.\n",
    "\n",
    "示例 2:\n",
    "s = \"axc\", t = \"ahbgdc\"\n",
    "\n",
    "返回 false.\n",
    "\n",
    "后续挑战 :\n",
    "\n",
    "如果有大量输入的 S，称作S1, S2, ... , Sk 其中 k >= 10亿，你需要依次检查它们是否为 T 的子序列。在这种情况下，你会怎样改变代码？"
   ]
  },
  {
   "cell_type": "code",
   "execution_count": 58,
   "metadata": {},
   "outputs": [
    {
     "name": "stdout",
     "output_type": "stream",
     "text": [
      "False\n"
     ]
    }
   ],
   "source": [
    "class Solution:\n",
    "    def isSubsequence(self, s: str, t: str) -> bool:\n",
    "        i = 0\n",
    "        j = 0\n",
    "        while i<len(s) and j < len(t):\n",
    "            if s[i] == t[j]:\n",
    "                i = i + 1\n",
    "                j = j + 1\n",
    "            else:\n",
    "                j = j + 1\n",
    "        return i==len(s) and j <= len(t)\n",
    "\n",
    "if __name__ == '__main__':\n",
    "    s = Solution()\n",
    "    print(s.isSubsequence(s = \"axc\", t = \"ahbgdc\"))       "
   ]
  },
  {
   "cell_type": "markdown",
   "metadata": {},
   "source": [
    "### 665. Non-decreasing Array\n",
    "给定一个长度为 n 的整数数组，你的任务是判断在最多改变 1 个元素的情况下，该数组能否变成一个非递减数列。\n",
    "\n",
    "我们是这样定义一个非递减数列的： 对于数组中所有的 i (1 <= i < n)，满足 array[i] <= array[i + 1]。\n",
    "\n",
    "示例 1:\n",
    "\n",
    "输入: [4,2,3]\n",
    "输出: True\n",
    "解释: 你可以通过把第一个4变成1来使得它成为一个非递减数列。\n",
    "示例 2:\n",
    "\n",
    "输入: [4,2,1]\n",
    "输出: False\n",
    "解释: 你不能在只改变一个元素的情况下将其变为非递减数列。\n",
    "说明:  n 的范围为 [1, 10,000]。"
   ]
  },
  {
   "cell_type": "code",
   "execution_count": 15,
   "metadata": {},
   "outputs": [
    {
     "name": "stdout",
     "output_type": "stream",
     "text": [
      "[1, 3, 2]\n",
      "True\n"
     ]
    }
   ],
   "source": [
    "### 和种花一样，每次必须考虑三个数\n",
    "from typing import List\n",
    "class Solution:\n",
    "    def checkPossibility(self, nums: List[int]) -> bool:\n",
    "        print(nums)\n",
    "        if len(nums) <= 2:\n",
    "            return True\n",
    "        i = 0\n",
    "        cnt = 0\n",
    "        while i < len(nums)-1:\n",
    "            if nums[i+1]>=nums[i]:\n",
    "                i = i + 1\n",
    "            elif i-1>=0 and nums[i+1] < nums[i-1]:  # [3,4,2]\n",
    "                nums[i+1] =nums[i]\n",
    "                i = i + 1\n",
    "                cnt = cnt + 1\n",
    "            else:\n",
    "                nums[i] = nums[i+1]  #[1,4,2] [3,1,4] [4,1,3]\n",
    "                i = i + 1\n",
    "                cnt = cnt + 1\n",
    "            if cnt > 1:\n",
    "                return False\n",
    "        return True\n",
    "if __name__ == '__main__':\n",
    "    s = Solution()\n",
    "    nums = [1,3,2]\n",
    "    print(s.checkPossibility(nums))"
   ]
  },
  {
   "cell_type": "markdown",
   "metadata": {},
   "source": [
    "### 53. Maximum Subarray (Easy)\n",
    "\n",
    "给定一个整数数组 nums ，找到一个具有最大和的连续子数组（子数组最少包含一个元素），返回其最大和。\n",
    "\n",
    "示例:\n",
    "\n",
    "输入: [-2,1,-3,4,-1,2,1,-5,4],\n",
    "输出: 6\n",
    "解释: 连续子数组 [4,-1,2,1] 的和最大，为 6。\n",
    "进阶:\n",
    "\n",
    "如果你已经实现复杂度为 O(n) 的解法，尝试使用更为精妙的分治法求解。"
   ]
  },
  {
   "cell_type": "code",
   "execution_count": 29,
   "metadata": {},
   "outputs": [
    {
     "name": "stdout",
     "output_type": "stream",
     "text": [
      "0 -2 -2\n",
      "1 1 1\n",
      "2 -2 1\n",
      "3 4 4\n",
      "4 3 4\n",
      "5\n"
     ]
    }
   ],
   "source": [
    "### 只要前面的累加和是大于0的，就可以把放弃\n",
    "class Solution:\n",
    "    def maxSubArray(self, nums: List[int]) -> int:\n",
    "        if len(nums)<=1:\n",
    "            return sum(nums)\n",
    "        i = 0\n",
    "        maximum = nums[0]\n",
    "        presum = nums[0]\n",
    "        while i < len(nums)-1:\n",
    "            print(i,presum,maximum)\n",
    "            if presum > 0:\n",
    "                presum = presum+nums[i+1]\n",
    "            else:\n",
    "                presum = nums[i+1]\n",
    "            maximum = max(maximum,presum)\n",
    "            i = i + 1\n",
    "        return maximum\n",
    "if __name__ == '__main__':\n",
    "    s = Solution()\n",
    "    nums = [-2,1,-3,4,-1,2]\n",
    "    print(s.maxSubArray(nums))"
   ]
  },
  {
   "cell_type": "markdown",
   "metadata": {},
   "source": [
    "### 763. Partition Labels (Medium)\n",
    "字符串 S 由小写字母组成。我们要把这个字符串划分为尽可能多的片段，同一个字母只会出现在其中的一个片段。返回一个表示每个字符串片段的长度的列表。\n",
    "\n",
    "示例 1:\n",
    "\n",
    "输入: S = \"ababcbacadefegdehijhklij\"\n",
    "输出: [9,7,8]\n",
    "解释:\n",
    "划分结果为 \"ababcbaca\", \"defegde\", \"hijhklij\"。\n",
    "每个字母最多出现在一个片段中。\n",
    "像 \"ababcbacadefegde\", \"hijhklij\" 的划分是错误的，因为划分的片段数较少。\n",
    "注意:\n",
    "\n",
    "S的长度在[1, 500]之间。\n",
    "S只包含小写字母'a'到'z'。"
   ]
  },
  {
   "cell_type": "code",
   "execution_count": 43,
   "metadata": {},
   "outputs": [
    {
     "name": "stdout",
     "output_type": "stream",
     "text": [
      "[1, 9]\n"
     ]
    }
   ],
   "source": [
    "class Solution:\n",
    "    def partitionLabels(self, S: str) -> List[int]:\n",
    "        i = 0\n",
    "        res = []\n",
    "        while i < len(S):\n",
    "            start = i\n",
    "            end = S.rindex(S[i])\n",
    "            for j in range(i,len(S)):\n",
    "                last = S.rindex(S[j])\n",
    "                if last > end:\n",
    "                    end = last\n",
    "                elif j == end:  ### 满足这个提条件切断 并更新start\n",
    "                    res.append(end-start + 1)\n",
    "                    i = end + 1\n",
    "                    break\n",
    "#                 else:\n",
    "#                     pass\n",
    "        return res\n",
    "if __name__ == '__main__':\n",
    "    s = Solution()\n",
    "    S = \"caedbdedda\"\n",
    "    print(s.partitionLabels(S))"
   ]
  }
 ],
 "metadata": {
  "kernelspec": {
   "display_name": "Python 3",
   "language": "python",
   "name": "python3"
  },
  "language_info": {
   "codemirror_mode": {
    "name": "ipython",
    "version": 3
   },
   "file_extension": ".py",
   "mimetype": "text/x-python",
   "name": "python",
   "nbconvert_exporter": "python",
   "pygments_lexer": "ipython3",
   "version": "3.6.8"
  }
 },
 "nbformat": 4,
 "nbformat_minor": 2
}
