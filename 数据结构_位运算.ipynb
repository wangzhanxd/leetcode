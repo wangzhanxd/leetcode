{
 "cells": [
  {
   "cell_type": "markdown",
   "metadata": {},
   "source": [
    "### 461. Hamming Distance\n",
    "The Hamming distance between two integers is the number of positions at which the corresponding bits are different.\n",
    "\n",
    "Given two integers x and y, calculate the Hamming distance."
   ]
  },
  {
   "cell_type": "code",
   "execution_count": null,
   "metadata": {},
   "outputs": [],
   "source": [
    "class Solution:\n",
    "    def hammingDistance(self, x: int, y: int) -> int:\n",
    "        cnt = 0\n",
    "        n = x^y\n",
    "        while n>0:\n",
    "            temp = n&1  ###不用temp会报错 原因未知\n",
    "            cnt = cnt + temp\n",
    "            n = n>>1\n",
    "        return cnt"
   ]
  },
  {
   "cell_type": "markdown",
   "metadata": {},
   "source": [
    "### 136. Single Number\n",
    "Given a non-empty array of integers nums, every element appears twice except for one. Find that single one.\n",
    "\n",
    "Follow up: Could you implement a solution with a linear runtime complexity and without using extra memory?\n",
    "\n",
    " \n",
    "\n",
    "Example 1:\n",
    "\n",
    "Input: nums = [2,2,1]<br>\n",
    "Output: 1"
   ]
  },
  {
   "cell_type": "code",
   "execution_count": 39,
   "metadata": {},
   "outputs": [],
   "source": [
    "from typing import List\n",
    "class Solution:\n",
    "    def singleNumber(self, nums: List[int]) -> int:\n",
    "        ret = 0\n",
    "        for ele in nums:\n",
    "            ret = ret^ele\n",
    "        return ret"
   ]
  },
  {
   "cell_type": "markdown",
   "metadata": {},
   "source": [
    "### 268. Missing Number\n",
    "Given an array nums containing n distinct numbers in the range [0, n], return the only number in the range that is missing from the array.\n",
    "\n",
    "Follow up: Could you implement a solution using only O(1) extra space complexity and O(n) runtime complexity?"
   ]
  },
  {
   "cell_type": "code",
   "execution_count": null,
   "metadata": {},
   "outputs": [],
   "source": [
    "# Example 1:\n",
    "\n",
    "# Input: nums = [3,0,1]\n",
    "# Output: 2\n",
    "# Explanation: n = 3 since there are 3 numbers, so all numbers are in the range [0,3]. 2 is the missing number in the range since it does not appear in nums.\n",
    "\n",
    "\n",
    "# Example 2:\n",
    "\n",
    "# Input: nums = [0,1]\n",
    "# Output: 2\n",
    "# Explanation: n = 2 since there are 2 numbers, so all numbers are in the range [0,2]. 2 is the missing number in the range since it does not appear in nums."
   ]
  },
  {
   "cell_type": "code",
   "execution_count": null,
   "metadata": {},
   "outputs": [],
   "source": [
    "class Solution:\n",
    "    def missingNumber(self, nums: List[int]) -> int:\n",
    "        n = len(nums)\n",
    "        return int(n*(n+1)/2-sum(nums))\n",
    "\n",
    "## 参考的java代码比较奇怪 看不懂\n",
    "# public int missingNumber(int[] nums) {\n",
    "#     int ret = 0;\n",
    "#     for (int i = 0; i < nums.length; i++) {\n",
    "#         ret = ret ^ i ^ nums[i];\n",
    "#     }\n",
    "#     return ret ^ nums.length;\n",
    "# }\n"
   ]
  },
  {
   "cell_type": "markdown",
   "metadata": {},
   "source": [
    "### 260. Single Number III\n",
    "Given an integer array nums, in which exactly two elements appear only once and all the other elements appear exactly twice. Find the two elements that appear only once. You can return the answer in any order.\n",
    "\n",
    "Follow up: Your algorithm should run in linear runtime complexity. Could you implement it using only constant space complexity?\n",
    "\n",
    " \n",
    "\n",
    "Example 1:<br>\n",
    "\n",
    "Input: nums = [1,2,1,3,2,5]<br>\n",
    "Output: [3,5]<br>\n",
    "Explanation:  [5, 3] is also a valid answer<br>."
   ]
  },
  {
   "cell_type": "code",
   "execution_count": null,
   "metadata": {},
   "outputs": [],
   "source": [
    "class Solution:\n",
    "    def singleNumber(self, nums: List[int]) -> List[int]:\n",
    "        diff = 0 \n",
    "        ### 相同元素异或等于0\n",
    "        for ele in nums:\n",
    "            diff = diff^ele\n",
    "        ### 取出最低位的1，利用这一位区分不同的两个元素\n",
    "        diff = diff&(-diff)\n",
    "        ret = [0,0]\n",
    "        for ele in nums:\n",
    "            if diff&ele ==0:\n",
    "                ret[0] = ret[0]^ele\n",
    "            else:\n",
    "                ret[1] = ret[1]^ele\n",
    "        return ret"
   ]
  },
  {
   "cell_type": "markdown",
   "metadata": {},
   "source": [
    "### 190. Reverse Bits\n",
    "Reverse bits of a given 32 bits unsigned integer.\n",
    "\n",
    "Note:\n",
    "\n",
    "Note that in some languages such as Java, there is no unsigned integer type. In this case, both input and output will be given as a signed integer type. They should not affect your implementation, as the integer's internal binary representation is the same, whether it is signed or unsigned.\n",
    "In Java, the compiler represents the signed integers using 2's complement notation. Therefore, in Example 2 above, the input represents the signed integer -3 and the output represents the signed integer -1073741825.\n",
    "Follow up:\n",
    "\n",
    "If this function is called many times, how would you optimize it?"
   ]
  },
  {
   "cell_type": "code",
   "execution_count": null,
   "metadata": {},
   "outputs": [],
   "source": [
    "n = 11\n",
    "ret = 0\n",
    "for i in range(32):\n",
    "    ret = ret<<1\n",
    "    ret = ret|(n&1)\n",
    "    n = n>>1"
   ]
  },
  {
   "cell_type": "markdown",
   "metadata": {},
   "source": [
    "### 6. 不用额外变量交换两个整数\n",
    "程序员代码面试指南 ：P317\n",
    "\n",
    "a = a ^ b;<br>\n",
    "b = a ^ b;<br>\n",
    "a = a ^ b;<br>"
   ]
  },
  {
   "cell_type": "markdown",
   "metadata": {},
   "source": [
    "### 231. Power of Two\n",
    "Given an integer n, return true if it is a power of two. Otherwise, return false.\n",
    "\n",
    "An integer n is a power of two, if there exists an integer x such that n == 2x.\n",
    "\n",
    " \n",
    "\n",
    "Example 1:<br>\n",
    "\n",
    "Input: n = 1<br>\n",
    "Output: true<br>\n",
    "Explanation: 20 = 1<br>"
   ]
  },
  {
   "cell_type": "code",
   "execution_count": null,
   "metadata": {},
   "outputs": [],
   "source": [
    "class Solution:\n",
    "    def isPowerOfTwo(self, n: int) -> bool:\n",
    "        cnt = 0\n",
    "        while n>0:\n",
    "            temp = n&1\n",
    "            n = n>>1\n",
    "            cnt = cnt + temp\n",
    "            if cnt>1:\n",
    "                return False\n",
    "        return cnt==1"
   ]
  },
  {
   "cell_type": "code",
   "execution_count": null,
   "metadata": {},
   "outputs": [],
   "source": [
    "### 或者利用 1000&0111=0\n",
    "class Solution:\n",
    "    def isPowerOfTwo(self, n: int) -> bool:\n",
    "        return n>0 and n&(n-1)==0"
   ]
  },
  {
   "cell_type": "markdown",
   "metadata": {},
   "source": [
    "### 342. Power of Four\n",
    "\n",
    "Given an integer n, return true if it is a power of four. Otherwise, return false.\n",
    "\n",
    "An integer n is a power of four, if there exists an integer x such that n == 4x.\n",
    "\n",
    " \n",
    "\n",
    "Example 1:\n",
    "\n",
    "Input: n = 16<br>\n",
    "Output: true"
   ]
  },
  {
   "cell_type": "code",
   "execution_count": null,
   "metadata": {},
   "outputs": [],
   "source": [
    "### 只有最高为1且是奇数位为1\n",
    "class Solution:\n",
    "    def isPowerOfFour(self, n: int) -> bool:\n",
    "        cnt = 0\n",
    "        cnt1 = 0\n",
    "        while n>0:\n",
    "            cnt1 += 1\n",
    "            temp = n&1\n",
    "            n = n>>1\n",
    "            cnt = cnt + temp\n",
    "            if cnt>1:\n",
    "                return False\n",
    "        return cnt==1 and cnt1%2==1"
   ]
  },
  {
   "cell_type": "markdown",
   "metadata": {},
   "source": [
    "### 693. 交替位二进制数\n",
    "给定一个正整数，检查它的二进制表示是否总是 0、1 交替出现：换句话说，就是二进制表示中相邻两位的数字永不相同。\n",
    "\n",
    " \n",
    "\n",
    "示例 1：\n",
    "\n",
    "输入：n = 5<br>\n",
    "输出：true<br>\n",
    "解释：5 的二进制表示是：101<br>"
   ]
  },
  {
   "cell_type": "code",
   "execution_count": null,
   "metadata": {},
   "outputs": [],
   "source": [
    "class Solution:\n",
    "    def hasAlternatingBits(self, n: int) -> bool:\n",
    "        while n>0:\n",
    "            a = n&1\n",
    "            n=n>>1\n",
    "            b = n&1\n",
    "            if a^b==0:\n",
    "                return False\n",
    "        return True\n",
    "### 参考解法\n",
    "# public boolean hasAlternatingBits(int n) {\n",
    "#     int a = (n ^ (n >> 1));\n",
    "#     return (a & (a + 1)) == 0;\n",
    "# }"
   ]
  },
  {
   "cell_type": "markdown",
   "metadata": {},
   "source": [
    "### 476. Number Complement\n",
    "\n",
    "Given a positive integer num, output its complement number. The complement strategy is to flip the bits of its binary representation.\n",
    "\n",
    " \n",
    "\n",
    "Example 1:\n",
    "\n",
    "Input: num = 5<br>\n",
    "Output: 2<br>\n",
    "Explanation: The binary representation of 5 is 101 (no leading zero bits), and its complement is 010. So you need to output 2.<br>"
   ]
  },
  {
   "cell_type": "code",
   "execution_count": null,
   "metadata": {},
   "outputs": [],
   "source": [
    "## 参考\n",
    "# public int findComplement(int num) {\n",
    "#     if (num == 0) return 1;\n",
    "#     int mask = 1 << 30;\n",
    "#     while ((num & mask) == 0) mask >>= 1;\n",
    "#     mask = (mask << 1) - 1;\n",
    "#     return num ^ mask;\n",
    "# }\n",
    "\n",
    "### 其实是求反码，但是前面的0不管\n",
    "class Solution:\n",
    "    def findComplement(self, num: int) -> int:\n",
    "        ret = 0\n",
    "        temp = 1\n",
    "        if num == 0:\n",
    "            return 1\n",
    "        while num>0:\n",
    "            last = (num&1)^1\n",
    "            ret = ret + last*temp\n",
    "            temp = temp<<1\n",
    "            num = num>>1\n",
    "        return ret"
   ]
  },
  {
   "cell_type": "markdown",
   "metadata": {},
   "source": [
    "### 371. Sum of Two Integers\n",
    "Given two integers a and b, return the sum of the two integers without using the operators + and -.\n",
    "\n",
    " \n",
    "\n",
    "Example 1:\n",
    "\n",
    "Input: a = 1, b = 2<br>\n",
    "Output: 3<br>"
   ]
  },
  {
   "cell_type": "code",
   "execution_count": 15,
   "metadata": {},
   "outputs": [],
   "source": [
    "# class Solution:\n",
    "#     def getSum(self, a: int, b: int) -> int:"
   ]
  },
  {
   "cell_type": "code",
   "execution_count": 22,
   "metadata": {},
   "outputs": [],
   "source": [
    "## 加法其实就是异或 每一位需要考虑加数、被加数、进位\n",
    "## 有误 负数的加法会报错\n",
    "# def getSum(a: int, b: int) -> int:\n",
    "#     mov = 1\n",
    "#     _sum = 0\n",
    "#     if a<b:\n",
    "#         a,b= b,a\n",
    "#     ## 进位\n",
    "#     temp = 0\n",
    "#     while a>0:\n",
    "#         a_l = a&1\n",
    "#         b_l = b&1\n",
    "#         print(mov*(a_l^b_l^temp),mov,(a_l,b_l,temp))\n",
    "#         _sum = _sum + mov*(a_l^b_l^temp)\n",
    "#         a = a>>1\n",
    "#         b = b>>1\n",
    "#         mov = mov<<1\n",
    "#         temp = 1 if (a_l==b_l==temp==1) or (a_l==1 and b_l==1 and temp==0) or (a_l==1 and b_l==0 and temp==1) or (a_l==0 and b_l==1 and temp==1) else 0\n",
    "#     return _sum+mov if temp==1 else _sum"
   ]
  },
  {
   "cell_type": "code",
   "execution_count": 31,
   "metadata": {},
   "outputs": [],
   "source": [
    "### 参考方法同样没有解决负数的问题\n",
    "### a^b是没有进位的加法 (a&b)<<1是进位\n",
    "# def getSum(a: int, b: int) -> int:\n",
    "#     if b==0:\n",
    "#         return a\n",
    "#     else:\n",
    "#         return getSum((a^b),(a&b)<<1)"
   ]
  },
  {
   "cell_type": "markdown",
   "metadata": {},
   "source": [
    "### 318. Maximum Product of Word Lengths\n",
    "Given a string array words, return the maximum value of length(word[i]) * length(word[j]) where the two words do not share common letters. If no such two words exist, return 0.\n",
    "\n",
    " \n",
    "\n",
    "Example 1:\n",
    "\n",
    "Input: words = [\"abcw\",\"baz\",\"foo\",\"bar\",\"xtfn\",\"abcdef\"]<br>\n",
    "Output: 16<br>\n",
    "Explanation: The two words can be \"abcw\", \"xtfn\".<br>"
   ]
  },
  {
   "cell_type": "code",
   "execution_count": 41,
   "metadata": {},
   "outputs": [],
   "source": [
    "### 用32bit存放字符的有误状态 通过&操作来判断有误重复\n",
    "### 简单粗暴的set就不写了\n",
    "class Solution:\n",
    "    def maxProduct(self, words: List[str]) -> int:\n",
    "        ret = 0\n",
    "        n = len(words)\n",
    "        val = [0]*n\n",
    "        for i in range(n):\n",
    "            for ele in words[i]:\n",
    "                val[i] = val[i]|(1<<(ord(ele)-ord('a')))### 用|的好处是重复元素也只算一次\n",
    "        for i in range(n):\n",
    "            for j in range(n):\n",
    "                if val[i]&val[j]==0:\n",
    "                    ret = max(ret,len(words[i])*len(words[j]))\n",
    "        return ret"
   ]
  },
  {
   "cell_type": "code",
   "execution_count": null,
   "metadata": {},
   "outputs": [],
   "source": []
  },
  {
   "cell_type": "markdown",
   "metadata": {},
   "source": [
    "### 338. Counting Bits\n",
    "Given an integer num, return an array of the number of 1's in the binary representation of every number in the range [0, num].\n",
    "\n",
    " \n",
    "\n",
    "Example 1:\n",
    "\n",
    "Input: num = 2<br>\n",
    "Output: [0,1,1]<br>\n",
    "Explanation:<br>\n",
    "0 --> 0<br>\n",
    "1 --> 1<br>\n",
    "2 --> 10<br>"
   ]
  },
  {
   "cell_type": "code",
   "execution_count": 44,
   "metadata": {},
   "outputs": [],
   "source": [
    "### n&(n-1) 去除 n 的位级表示中最低的那一位 1\n",
    "### 对于数字6（110）可以看成4（100）加上2（10）实现\n",
    "### fun(6) = fun(6&5) + 1\n",
    "class Solution:\n",
    "    def countBits(self, num: int) -> List[int]:\n",
    "        ret = [0]*(num+1)\n",
    "        for i in range(1,num+1):\n",
    "            ret[i] = ret[i&(i-1)]+1\n",
    "        return ret"
   ]
  },
  {
   "cell_type": "code",
   "execution_count": null,
   "metadata": {},
   "outputs": [],
   "source": []
  }
 ],
 "metadata": {
  "kernelspec": {
   "display_name": "Python 3",
   "language": "python",
   "name": "python3"
  },
  "language_info": {
   "codemirror_mode": {
    "name": "ipython",
    "version": 3
   },
   "file_extension": ".py",
   "mimetype": "text/x-python",
   "name": "python",
   "nbconvert_exporter": "python",
   "pygments_lexer": "ipython3",
   "version": "3.7.0"
  }
 },
 "nbformat": 4,
 "nbformat_minor": 2
}
