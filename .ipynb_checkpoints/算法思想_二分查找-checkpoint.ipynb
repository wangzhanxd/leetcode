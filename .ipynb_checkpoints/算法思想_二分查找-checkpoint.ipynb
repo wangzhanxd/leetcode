{
 "cells": [
  {
   "cell_type": "markdown",
   "metadata": {},
   "source": [
    "### 二分查找\n",
    "    69. Sqrt(x) (Easy)\n",
    "    744. Find Smallest Letter Greater Than Target (Easy)\n",
    "    540. Single Element in a Sorted Array (Medium)\n",
    "    278. First Bad Version (Easy)\n",
    "    153. Find Minimum in Rotated Sorted Array (Medium)\n",
    "    34. Find First and Last Position of Element in Sorted Array"
   ]
  },
  {
   "cell_type": "markdown",
   "metadata": {},
   "source": [
    "### 69. Sqrt(x) (Easy)\n",
    "实现 int sqrt(int x) 函数。\n",
    "\n",
    "计算并返回 x 的平方根，其中 x 是非负整数。\n",
    "\n",
    "由于返回类型是整数，结果只保留整数的部分，小数部分将被舍去。\n",
    "\n",
    "示例 1:\n",
    "\n",
    "输入: 4\n",
    "输出: 2\n",
    "示例 2:\n",
    "\n",
    "输入: 8\n",
    "输出: 2\n",
    "说明: 8 的平方根是 2.82842..., \n",
    "     由于返回类型是整数，小数部分将被舍去。"
   ]
  },
  {
   "cell_type": "code",
   "execution_count": null,
   "metadata": {},
   "outputs": [],
   "source": [
    "from typing import List\n",
    "class Solution:\n",
    "    def mySqrt(self, x: int) -> int:\n",
    "        l = 0\n",
    "        r = x\n",
    "        while l<=r:\n",
    "            mid = (l+r)//2\n",
    "            if mid*mid<= x and (mid+1)*(mid+1)>x:\n",
    "                return mid\n",
    "            elif x<mid*mid:\n",
    "                r = mid-1\n",
    "            else:\n",
    "                l = mid + 1\n",
    "if __name__ == '__main__':\n",
    "    s = Solution()\n",
    "    print(s.mySqrt(4))"
   ]
  },
  {
   "cell_type": "markdown",
   "metadata": {},
   "source": [
    "### 744. Find Smallest Letter Greater Than Target\n",
    "给定一个只包含小写字母的有序数组letters 和一个目标字母 target，寻找有序数组里面比目标字母大的最小字母。\n",
    "数组里字母的顺序是循环的。举个例子，如果目标字母target = 'z' 并且有序数组为 letters = ['a', 'b']，则答案返回 'a'。\n",
    "\n",
    "示例:\n",
    "\n",
    "输入:\n",
    "letters = [\"c\", \"f\", \"j\"]\n",
    "target = \"a\"\n",
    "输出: \"c\"\n",
    "\n",
    "输入:\n",
    "letters = [\"c\", \"f\", \"j\"]\n",
    "target = \"c\"\n",
    "输出: \"f\"\n",
    "\n",
    "输入:\n",
    "letters = [\"c\", \"f\", \"j\"]\n",
    "target = \"d\"\n",
    "输出: \"f\"\n",
    "\n",
    "输入:\n",
    "letters = [\"c\", \"f\", \"j\"]\n",
    "target = \"g\"\n",
    "输出: \"j\"\n",
    "\n",
    "输入:\n",
    "letters = [\"c\", \"f\", \"j\"]\n",
    "target = \"j\"\n",
    "输出: \"c\"\n",
    "\n",
    "输入:\n",
    "letters = [\"c\", \"f\", \"j\"]\n",
    "target = \"k\"\n",
    "输出: \"c\""
   ]
  },
  {
   "cell_type": "code",
   "execution_count": null,
   "metadata": {},
   "outputs": [],
   "source": [
    "class Solution:\n",
    "    def nextGreatestLetter(self, letters: List[str], target: str) -> str:\n",
    "        letter_list = [chr(i) for i in range(97,123)]\n",
    "        l = 0\n",
    "        r = len(letters)-1\n",
    "        t_index = \n",
    "        while l <= r:\n",
    "            mid = (l+r)//2\n",
    "            if tagrt > letters[mid-1] and target < letters[mid]"
   ]
  },
  {
   "cell_type": "code",
   "execution_count": null,
   "metadata": {},
   "outputs": [],
   "source": [
    "a = ['a','a','a','b']"
   ]
  },
  {
   "cell_type": "code",
   "execution_count": null,
   "metadata": {},
   "outputs": [],
   "source": [
    "a.reverse()"
   ]
  },
  {
   "cell_type": "code",
   "execution_count": null,
   "metadata": {},
   "outputs": [],
   "source": [
    "a"
   ]
  },
  {
   "cell_type": "code",
   "execution_count": null,
   "metadata": {},
   "outputs": [],
   "source": [
    "a.index('a')"
   ]
  },
  {
   "cell_type": "code",
   "execution_count": null,
   "metadata": {},
   "outputs": [],
   "source": [
    "13%7"
   ]
  },
  {
   "cell_type": "code",
   "execution_count": null,
   "metadata": {},
   "outputs": [],
   "source": [
    "from typing import List"
   ]
  },
  {
   "cell_type": "markdown",
   "metadata": {
    "collapsed": true
   },
   "source": [
    "### 540. Single Element in a Sorted Array (Medium)\n",
    "给定一个只包含整数的有序数组，每个元素都会出现两次，唯有一个数只会出现一次，找出这个数。\n",
    "\n",
    "示例 1:\n",
    "\n",
    "输入: [1,1,2,3,3,4,4,8,8]\n",
    "输出: 2\n",
    "示例 2:\n",
    "\n",
    "输入: [3,3,7,7,10,11,11]\n",
    "输出: 10\n",
    "注意: 您的方案应该在 O(log n)时间复杂度和 O(1)空间复杂度中运行。"
   ]
  },
  {
   "cell_type": "code",
   "execution_count": null,
   "metadata": {},
   "outputs": [],
   "source": [
    "class Solution:\n",
    "    def singleNonDuplicate(self, nums: List[int]) -> int:\n",
    "        l =0\n",
    "        r = len(nums)-1\n",
    "        if r==0:\n",
    "            return nums[0]\n",
    "        elif nums[r]>nums[r-1]:\n",
    "            return nums[r]\n",
    "        elif nums[1]>nums[0]:\n",
    "            return nums[0]\n",
    "        else:\n",
    "            while (l<=r):\n",
    "                mid = (l+r)//2\n",
    "                if nums[mid]>nums[mid-1] and nums[mid]<nums[mid+1]:\n",
    "                    return nums[mid]\n",
    "                elif mid%2 == 0:\n",
    "                    if nums[mid]==nums[mid+1]:\n",
    "                        l = mid + 2\n",
    "                    else:\n",
    "                        r = mid\n",
    "                else:\n",
    "                    if nums[mid]!=nums[mid+1]:\n",
    "                        l = mid + 1\n",
    "                    else:\n",
    "                        r = mid - 1"
   ]
  },
  {
   "cell_type": "code",
   "execution_count": null,
   "metadata": {},
   "outputs": [],
   "source": [
    "if __name__ == '__main__':\n",
    "    s = Solution()\n",
    "    print(s.singleNonDuplicate([1,2,2]))"
   ]
  },
  {
   "cell_type": "markdown",
   "metadata": {},
   "source": [
    "### 278. First Bad Version (Easy)\n",
    "你是产品经理，目前正在带领一个团队开发新的产品。不幸的是，你的产品的最新版本没有通过质量检测。由于每个版本都是基于之前的版本开发的，所以错误的版本之后的所有版本都是错的。\n",
    "\n",
    "假设你有 n 个版本 [1, 2, ..., n]，你想找出导致之后所有版本出错的第一个错误的版本。\n",
    "\n",
    "你可以通过调用 bool isBadVersion(version) 接口来判断版本号 version 是否在单元测试中出错。实现一个函数来查找第一个错误的版本。你应该尽量减少对调用 API 的次数。\n",
    "\n",
    "示例:\n",
    "\n",
    "给定 n = 5，并且 version = 4 是第一个错误的版本。\n",
    "\n",
    "调用 isBadVersion(3) -> false\n",
    "调用 isBadVersion(5) -> true\n",
    "调用 isBadVersion(4) -> true\n",
    "\n",
    "所以，4 是第一个错误的版本。 "
   ]
  },
  {
   "cell_type": "code",
   "execution_count": null,
   "metadata": {},
   "outputs": [],
   "source": [
    "# The isBadVersion API is already defined for you.\n",
    "# @param version, an integer\n",
    "# @return a bool\n",
    "# def isBadVersion(version):\n",
    "def isBadVersion(version):\n",
    "    if version>=3:\n",
    "        return True\n",
    "    else:\n",
    "        return False\n",
    "\n",
    "class Solution:\n",
    "    def firstBadVersion(self, n):\n",
    "        \"\"\"\n",
    "        :type n: int\n",
    "        :rtype: int\n",
    "        \"\"\"\n",
    "        l = 1\n",
    "        r = n\n",
    "        if r == 1:\n",
    "            return 1\n",
    "        while l<=r:\n",
    "            mid = (r+l)//2\n",
    "            if not isBadVersion(mid-1) and isBadVersion(mid):\n",
    "                return mid\n",
    "            elif isBadVersion(mid):\n",
    "                r = mid\n",
    "            else:\n",
    "                l = mid+1"
   ]
  },
  {
   "cell_type": "code",
   "execution_count": null,
   "metadata": {},
   "outputs": [],
   "source": [
    "if __name__ == '__main__':\n",
    "    s = Solution()\n",
    "    print(s.firstBadVersion(5))"
   ]
  },
  {
   "cell_type": "markdown",
   "metadata": {},
   "source": [
    "### 153. Find Minimum in Rotated Sorted Array (Medium)\n",
    "假设按照升序排序的数组在预先未知的某个点上进行了旋转。\n",
    "\n",
    "( 例如，数组 [0,1,2,4,5,6,7] 可能变为 [4,5,6,7,0,1,2] )。\n",
    "\n",
    "请找出其中最小的元素。\n",
    "\n",
    "你可以假设数组中不存在重复元素。\n",
    "\n",
    "示例 1:\n",
    "\n",
    "输入: [3,4,5,1,2]\n",
    "输出: 1\n",
    "示例 2:\n",
    "\n",
    "输入: [4,5,6,7,0,1,2]\n",
    "输出: 0"
   ]
  },
  {
   "cell_type": "code",
   "execution_count": null,
   "metadata": {},
   "outputs": [],
   "source": [
    "class Solution:\n",
    "    def findMin(self, nums: List[int]) -> int:\n",
    "        l = 0\n",
    "        r = len(nums)-1\n",
    "        if r <=1:\n",
    "            return min(nums)\n",
    "        while l<=r:\n",
    "            mid = l + (r-l)//2\n",
    "            if nums[mid]<nums[mid-1]:\n",
    "                return nums[mid]\n",
    "            elif nums[mid]>nums[0]:\n",
    "                l = mid + 1\n",
    "            else:\n",
    "                r = mid\n",
    "        return nums[0]"
   ]
  },
  {
   "cell_type": "code",
   "execution_count": null,
   "metadata": {},
   "outputs": [],
   "source": [
    "if __name__ == '__main__':\n",
    "    s = Solution()\n",
    "    print(s.findMin([2,1]))"
   ]
  },
  {
   "cell_type": "markdown",
   "metadata": {},
   "source": [
    "### 34. Find First and Last Position of Element in Sorted Array\n",
    "给定一个按照升序排列的整数数组 nums，和一个目标值 target。找出给定目标值在数组中的开始位置和结束位置。\n",
    "\n",
    "你的算法时间复杂度必须是 O(log n) 级别。\n",
    "\n",
    "如果数组中不存在目标值，返回 [-1, -1]。\n",
    "\n",
    "示例 1:\n",
    "\n",
    "输入: nums = [5,7,7,8,8,10], target = 8\n",
    "输出: [3,4]\n",
    "示例 2:\n",
    "\n",
    "输入: nums = [5,7,7,8,8,10], target = 6\n",
    "输出: [-1,-1]"
   ]
  },
  {
   "cell_type": "code",
   "execution_count": 5,
   "metadata": {},
   "outputs": [],
   "source": [
    "from typing import List\n",
    "class Solution:\n",
    "    def searchRange(self, nums: List[int], target: int) -> List[int]:\n",
    "        l = 0\n",
    "        r = len(nums)-1\n",
    "        t_l = -1\n",
    "        t_r = -1\n",
    "        if r == -1 or target>nums[r] or target<nums[l] or (r==1 and target>nums[l] and target<nums[r]):\n",
    "            return [t_l,t_r]\n",
    "        if nums[l]==target and  nums[r]==target:\n",
    "            return [l,r]\n",
    "        if nums[l]==target:\n",
    "            t_l = l\n",
    "        else:\n",
    "            while l<=r:\n",
    "                mid = l+(r-l)//2\n",
    "                ### 处理边界条件 target不在nums中\n",
    "                if mid < len(nums)-1 and (target>nums[mid] and target<nums[mid+1]):\n",
    "                    break\n",
    "                elif nums[mid]==target and nums[mid]>nums[mid-1]:\n",
    "                    t_l = mid\n",
    "                    break\n",
    "                elif nums[mid]<target:\n",
    "                    l = mid + 1\n",
    "                else:\n",
    "                    r = mid\n",
    "        if t_l == -1:\n",
    "            return [t_l,t_r]\n",
    "        \n",
    "        if nums[len(nums)-1]==target:\n",
    "            t_r = len(nums)-1\n",
    "        else:\n",
    "            l = t_l\n",
    "            r = len(nums)-1\n",
    "            while l<=r:\n",
    "                mid = l+(r-l)//2\n",
    "                if nums[mid]==target and nums[mid]<nums[mid+1]:\n",
    "                    t_r = mid\n",
    "                    break\n",
    "                elif nums[mid]>target:\n",
    "                    r = mid -1\n",
    "                    ### 这里有一个边界条件处理 否则 [0,0,1,2,2] 0 不通过\n",
    "                    if nums[r]==target and nums[r]<nums[r+1]:\n",
    "                        t_r = r\n",
    "                        break\n",
    "                else:\n",
    "                    l = mid\n",
    "        return [t_l,t_r] "
   ]
  },
  {
   "cell_type": "code",
   "execution_count": 6,
   "metadata": {},
   "outputs": [
    {
     "name": "stdout",
     "output_type": "stream",
     "text": [
      "[0, 1]\n"
     ]
    }
   ],
   "source": [
    "if __name__ == '__main__':\n",
    "    s = Solution()\n",
    "    print(s.searchRange([1,2,3],1))"
   ]
  },
  {
   "cell_type": "code",
   "execution_count": null,
   "metadata": {},
   "outputs": [],
   "source": [
    "from typing import List\n",
    "class Solution:\n",
    "    def searchRange(self, nums: List[int], target: int) -> List[int]:\n",
    "        l = 0\n",
    "        r = len(nums)-1\n",
    "        while l<=r:\n",
    "            print(l,r)\n",
    "            mid = l+(r-l)//2\n",
    "            if target>nums[mid] and target<nums[mid+1]:\n",
    "                return \n",
    "            elif nums[mid]==target and nums[mid]>nums[mid-1]:\n",
    "                t_l = mid\n",
    "                return mid\n",
    "            elif nums[mid]<target:\n",
    "                l = mid + 1\n",
    "            else:\n",
    "                r = mid\n",
    "if __name__ == '__main__':\n",
    "    s = Solution()\n",
    "    print(s.searchRange([-1,0,0,1,2,2],0))"
   ]
  },
  {
   "cell_type": "code",
   "execution_count": null,
   "metadata": {},
   "outputs": [],
   "source": []
  },
  {
   "cell_type": "code",
   "execution_count": 2,
   "metadata": {},
   "outputs": [
    {
     "name": "stdout",
     "output_type": "stream",
     "text": [
      "1\n"
     ]
    }
   ],
   "source": [
    "from typing import List\n",
    "class Solution:\n",
    "    def searchRange(self, nums: List[int], target: int) -> List[int]:\n",
    "        l = 0\n",
    "        r = len(nums)\n",
    "        while l<r:\n",
    "            mid = l+(r-l)//2\n",
    "            if nums[mid]==target and nums[mid]<nums[mid+1]:\n",
    "                return mid\n",
    "            elif nums[mid]>target:\n",
    "                r = mid -1\n",
    "                if nums[r]==target and nums[r]<nums[r+1]:\n",
    "                    return r\n",
    "            else:\n",
    "                l = mid\n",
    "if __name__ == '__main__':\n",
    "    s = Solution()\n",
    "    print(s.searchRange([0,0,1,2,2],0))"
   ]
  },
  {
   "cell_type": "code",
   "execution_count": null,
   "metadata": {},
   "outputs": [],
   "source": []
  }
 ],
 "metadata": {
  "kernelspec": {
   "display_name": "Python 3",
   "language": "python",
   "name": "python3"
  },
  "language_info": {
   "codemirror_mode": {
    "name": "ipython",
    "version": 3
   },
   "file_extension": ".py",
   "mimetype": "text/x-python",
   "name": "python",
   "nbconvert_exporter": "python",
   "pygments_lexer": "ipython3",
   "version": "3.7.0"
  }
 },
 "nbformat": 4,
 "nbformat_minor": 2
}
