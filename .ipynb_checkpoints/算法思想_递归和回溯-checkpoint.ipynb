{
 "cells": [
  {
   "cell_type": "markdown",
   "metadata": {},
   "source": [
    "# 递归和回溯\n",
    "    17.Letter Combinations of a Phone Number \n",
    "    93.Restore IP Addresses\n",
    "    77.Combinations\n",
    "    46.Permutation"
   ]
  },
  {
   "cell_type": "markdown",
   "metadata": {},
   "source": [
    "### part1 分治\n",
    "    241. Different Ways to Add Parentheses (Medium)\n",
    "    95. Unique Binary Search Trees II (Medium)"
   ]
  },
  {
   "cell_type": "markdown",
   "metadata": {},
   "source": [
    "### 241 Different Ways to Add Parentheses (Medium)\n",
    "\n",
    "\n",
    "给定一个含有数字和运算符的字符串，为表达式添加括号，改变其运算优先级以求出不同的结果。你需要给出所有可能的组合的结果。有效的运算符号包含 +, - 以及 * 。\n",
    "\n",
    "示例 1:\n",
    "\n",
    "输入: \"2-1-1\"\n",
    "输出: [0, 2]\n",
    "解释: \n",
    "((2-1)-1) = 0 \n",
    "(2-(1-1)) = 2\n",
    "示例 2:\n",
    "\n",
    "输入: \"2\\*3-4\\*5\"\n",
    "输出: [-34, -14, -10, -10, 10]\n",
    "解释: \n",
    "(2\\*(3-(4\\*5))) = -34 \n",
    "((2\\*3)-(4\\*5)) = -14 \n",
    "((2\\*(3-4))\\*5) = -10 \n",
    "(2\\*((3-4)\\*5)) = -10 \n",
    "(((2\\*3)-4)\\*5) = 10"
   ]
  },
  {
   "cell_type": "code",
   "execution_count": 7,
   "metadata": {},
   "outputs": [],
   "source": [
    "from typing import List\n",
    "class Solution:\n",
    "    def diffWaysToCompute(self, input: str) -> List[int]:\n",
    "        ret = []\n",
    "        for i in range(len(input)):\n",
    "            c = input[i]\n",
    "            if c==\"+\" or c == \"-\" or c==\"*\":\n",
    "                left = self.diffWaysToCompute(input[:i])\n",
    "                right = self.diffWaysToCompute(input[(i+1):])\n",
    "                for ele1 in left:\n",
    "                    for ele2 in right:\n",
    "                        ## 没有运算符的视时候，ret是[]\n",
    "                        if c == \"+\":\n",
    "                            ret.append(ele1+ele2)\n",
    "                        elif c== \"-\":\n",
    "                            ret.append(ele1-ele2)\n",
    "                        elif c==\"*\":\n",
    "                            ret.append(ele1*ele2)\n",
    "        if len(ret)==0:\n",
    "            ret.append(int(input))\n",
    "        ##递归的return条件是input遍历结束\n",
    "        return ret"
   ]
  },
  {
   "cell_type": "code",
   "execution_count": 8,
   "metadata": {},
   "outputs": [
    {
     "data": {
      "text/plain": [
       "[-5, -4]"
      ]
     },
     "execution_count": 8,
     "metadata": {},
     "output_type": "execute_result"
    }
   ],
   "source": [
    "Solution().diffWaysToCompute(\"1-3*2\")"
   ]
  },
  {
   "cell_type": "markdown",
   "metadata": {},
   "source": [
    "### 95. 不同的二叉搜索树 II\n",
    "给定一个整数 n，生成所有由 1 ... n 为节点所组成的二叉搜索树。\n",
    "\n",
    "示例:\n",
    "\n",
    "输入: 3<br>\n",
    "输出:<br>\n",
    "[<br>\n",
    "  [1,null,3,2],<br>\n",
    "  [3,2,null,1],<br>\n",
    "  [3,1,null,null,2],<br>\n",
    "  [2,1,3],<br>\n",
    "  [1,null,2,null,3]<br>\n",
    "]<br>\n",
    "解释:\n",
    "以上的输出对应以下 5 种不同结构的二叉搜索树："
   ]
  },
  {
   "cell_type": "code",
   "execution_count": 9,
   "metadata": {},
   "outputs": [],
   "source": [
    "#   1         3     3      2      1\n",
    "#    \\       /     /      / \\      \\\n",
    "#     3     2     1      1   3      2\n",
    "#    /     /       \\                 \\\n",
    "#   2     1         2                 3"
   ]
  },
  {
   "cell_type": "code",
   "execution_count": 10,
   "metadata": {},
   "outputs": [],
   "source": [
    "## 输出结果数的中序遍历\n",
    "class TreeNode:\n",
    "    def __init__(self, x):\n",
    "        self.val = x\n",
    "        self.left = None\n",
    "        self.right = None\n",
    "# Definition for a binary tree node.\n",
    "# class TreeNode:\n",
    "#     def __init__(self, x):\n",
    "#         self.val = x\n",
    "#         self.left = None\n",
    "#         self.right = None\n",
    "\n",
    "class Solution:\n",
    "    def generateTrees(self, n: int) -> List[TreeNode]:\n",
    "        if n==0:\n",
    "            return []\n",
    "        def generateSubtrees(s,e):\n",
    "            ret = []\n",
    "            if (s>e):  ## 递归终止条件\n",
    "                return [None]\n",
    "            for i in range(s,e+1):\n",
    "                left = generateSubtrees(s,i-1)\n",
    "                right = generateSubtrees(i+1,e)\n",
    "                for l in left:\n",
    "                    for r in right:\n",
    "                        root = TreeNode(i)\n",
    "                        root.left = l\n",
    "                        root.right = r\n",
    "                        ret.append(root)\n",
    "            return ret\n",
    "        return generateSubtrees(1,n)"
   ]
  },
  {
   "cell_type": "code",
   "execution_count": 11,
   "metadata": {},
   "outputs": [
    {
     "data": {
      "text/plain": [
       "[<__main__.TreeNode at 0x138558fa4a8>,\n",
       " <__main__.TreeNode at 0x138558fa390>,\n",
       " <__main__.TreeNode at 0x138558faa90>,\n",
       " <__main__.TreeNode at 0x138558fa8d0>,\n",
       " <__main__.TreeNode at 0x138558fa9e8>]"
      ]
     },
     "execution_count": 11,
     "metadata": {},
     "output_type": "execute_result"
    }
   ],
   "source": [
    "Solution().generateTrees(3)\n",
    "## 返回结果的每个ele都是一个树的root节点"
   ]
  },
  {
   "cell_type": "markdown",
   "metadata": {},
   "source": [
    "### 17 Letter Combinations of a Phone Number\n",
    "给定一个仅包含数字 2-9 的字符串，返回所有它能表示的字母组合。\n",
    "\n",
    "给出数字到字母的映射如下（与电话按键相同）。注意 1 不对应任何字母。\n",
    "\n",
    "<img src=\"./17_telephone_keypad.png\">\n",
    "\n",
    "示例:\n",
    "\n",
    "输入：\"23\"\n",
    "输出：[\"ad\", \"ae\", \"af\", \"bd\", \"be\", \"bf\", \"cd\", \"ce\", \"cf\"]."
   ]
  },
  {
   "cell_type": "code",
   "execution_count": 12,
   "metadata": {},
   "outputs": [
    {
     "name": "stdout",
     "output_type": "stream",
     "text": [
      "['ad', 'ae', 'af', 'bd', 'be', 'bf', 'cd', 'ce', 'cf']\n"
     ]
    }
   ],
   "source": [
    "from typing import List\n",
    "class Solution:\n",
    "    def __init__(self):\n",
    "        self.letterMap = [\" \",\"\",\"abc\",\"def\",\"ghi\",\"jkl\",\"mno\",\"pqrs\",\"tuv\",\"wxyz\"]\n",
    "        self.ret = []\n",
    "    ## S中保存了digits[0:index] 组合得到的一个字母字符串\n",
    "    ## index 从0开始变量到len(digits)-1\n",
    "    def findCOmbination(self,digits,index,s):\n",
    "        if index == len(digits):\n",
    "            self.ret.append(s)\n",
    "            return\n",
    "        cur_char = digits[index]\n",
    "        cur_letter = self.letterMap[int(cur_char)]\n",
    "        for ele in cur_letter:\n",
    "            self.findCOmbination(digits,index+1,s+ele)\n",
    "    def letterCombinations(self, digits: str) -> List[str]: \n",
    "        if len(digits)==0:\n",
    "            return []\n",
    "        self.findCOmbination(digits, 0, \"\")\n",
    "        return self.ret\n",
    "if __name__ == '__main__':\n",
    "    s = Solution()\n",
    "    print(s.letterCombinations(\"23\"))"
   ]
  },
  {
   "cell_type": "markdown",
   "metadata": {},
   "source": [
    "### 93 Restore IP Addresses\n",
    "给定一个只包含数字的字符串，复原它并返回所有可能的 IP 地址格式。\n",
    "\n",
    "示例:\n",
    "\n",
    "输入: \"25525511135\"\n",
    "输出: [\"255.255.11.135\", \"255.255.111.35\"]"
   ]
  },
  {
   "cell_type": "code",
   "execution_count": 13,
   "metadata": {},
   "outputs": [
    {
     "name": "stdout",
     "output_type": "stream",
     "text": [
      "['255.255.11.135', '255.255.111.35']\n"
     ]
    }
   ],
   "source": [
    "from typing import List\n",
    "class Solution:\n",
    "    def __init__(self):\n",
    "        self.ret = []\n",
    "    def isright(self,s):\n",
    "            if len(s)>3 or len(s)==0 or (s[0]=='0' and len(s)>1) or int(s)>255:\n",
    "                return False\n",
    "            return True\n",
    "    def isrightIp(self,s):\n",
    "        s_l = s.split('.')\n",
    "        for ele in s_l:\n",
    "            if not self.isright(ele):\n",
    "                return False\n",
    "        return True\n",
    "    ### 采用求组合的办法 C(N-1,3) 求的IP切分的索引\n",
    "    def getCombination(self,s,start,index):\n",
    "        N = len(s)\n",
    "        ll = [i for i in range(1,N)]\n",
    "        if 3 == len(index):\n",
    "            self.ret.append(list(index))\n",
    "            return\n",
    "        for i in range(start,N-1):\n",
    "            index.append(ll[i])\n",
    "            self.getCombination(s,i+1,index)\n",
    "            index.pop()\n",
    "    def restoreIpAddresses(self, s: str) -> List[str]:\n",
    "        if len(s)>12 or len(s)<4:\n",
    "            return []\n",
    "        self.getCombination(s,0,[])\n",
    "        ret_temp = []\n",
    "        for ele in self.ret:\n",
    "            ip = '.'.join([s[:ele[0]],s[ele[0]:ele[1]],s[ele[1]:ele[2]],s[ele[2]:]])\n",
    "            if self.isrightIp(ip):\n",
    "                ret_temp.append(ip)\n",
    "        return ret_temp\n",
    "if __name__ == '__main__':\n",
    "    s = Solution()\n",
    "    print(s.restoreIpAddresses(\"25525511135\"))"
   ]
  },
  {
   "cell_type": "markdown",
   "metadata": {},
   "source": [
    "### 77. Combinations \n",
    "给定两个整数 n 和 k，返回 1 ... n 中所有可能的 k 个数的组合。\n",
    "\n",
    "示例:\n",
    "\n",
    "输入: n = 4, k = 2\n",
    "输出:\n",
    "[\n",
    "  [2,4],\n",
    "  [3,4],\n",
    "  [2,3],\n",
    "  [1,2],\n",
    "  [1,3],\n",
    "  [1,4],\n",
    "]"
   ]
  },
  {
   "cell_type": "code",
   "execution_count": 14,
   "metadata": {},
   "outputs": [
    {
     "name": "stdout",
     "output_type": "stream",
     "text": [
      "[[1, 2], [1, 3], [1, 4], [2, 3], [2, 4], [3, 4]]\n"
     ]
    }
   ],
   "source": [
    "class Solution:\n",
    "    def __init__(self):\n",
    "        self.ret = []\n",
    "    def getCombination(self,n,k,start,res_temp):\n",
    "        n_list = [i for i in range(1,n+1)]\n",
    "        if len(res_temp) == k:\n",
    "            self.ret.append(list(res_temp))\n",
    "            return\n",
    "        for i in range(start,n):\n",
    "            res_temp.append(n_list[i])\n",
    "            self.getCombination(n,k,i+1,res_temp)\n",
    "            res_temp.pop()\n",
    "    def combine(self, n: int, k: int) -> List[List[int]]:\n",
    "        self.getCombination(n,k,0,[])\n",
    "        return self.ret\n",
    "if __name__ == '__main__':\n",
    "    s = Solution()\n",
    "    print(s.combine(4,2))"
   ]
  },
  {
   "cell_type": "markdown",
   "metadata": {},
   "source": [
    "### 46 Permutations\n",
    "给定一个 没有重复 数字的序列，返回其所有可能的全排列。\n",
    "\n",
    "示例:\n",
    "\n",
    "输入: [1,2,3]\n",
    "输出:\n",
    "[\n",
    "  [1,2,3],\n",
    "  [1,3,2],\n",
    "  [2,1,3],\n",
    "  [2,3,1],\n",
    "  [3,1,2],\n",
    "  [3,2,1]\n",
    "]"
   ]
  },
  {
   "cell_type": "code",
   "execution_count": 15,
   "metadata": {},
   "outputs": [
    {
     "name": "stdout",
     "output_type": "stream",
     "text": [
      "[[1, 2, 3], [1, 3, 2], [2, 1, 3], [2, 3, 1], [3, 1, 2], [3, 2, 1]]\n"
     ]
    }
   ],
   "source": [
    "class Solution:\n",
    "    def __init__(self):\n",
    "        self.ret = []\n",
    "        self.used =[]\n",
    "        self.p = []\n",
    "    def getPermute(self,start,nums,p):\n",
    "        if len(p)==len(nums):\n",
    "            self.ret.append(list(p))\n",
    "        for i in range(len(nums)):\n",
    "            if not self.used[i]:\n",
    "                self.used[i] = True\n",
    "                p.append(nums[i])\n",
    "                self.getPermute(i+1,nums,p)\n",
    "                p.pop()\n",
    "                self.used[i] = False\n",
    "    def permute(self, nums: List[int]) -> List[List[int]]:\n",
    "        self.used = [False]*len(nums)\n",
    "        self.getPermute(0,nums,self.p)\n",
    "        return self.ret\n",
    "if __name__ == '__main__':\n",
    "    s = Solution()\n",
    "    print(s.permute([1,2,3]))"
   ]
  },
  {
   "cell_type": "markdown",
   "metadata": {},
   "source": [
    "### 1091. Shortest Path in Binary Matrix(Medium)\n",
    "在一个 N × N 的方形网格中，每个单元格有两种状态：空（0）或者阻塞（1）。<br>\n",
    "\n",
    "一条从左上角到右下角、长度为 k 的畅通路径，由满足下述条件的单元格 C_1, C_2, ..., C_k 组成：<br>\n",
    "\n",
    "相邻单元格 C_i 和 C_{i+1} 在八个方向之一上连通（此时，C_i 和 C_{i+1} 不同且共享边或角）<br>\n",
    "C_1 位于 (0, 0)（即，值为 grid[0][0]）<br>\n",
    "C_k 位于 (N-1, N-1)（即，值为 grid[N-1][N-1]）<br>\n",
    "如果 C_i 位于 (r, c)，则 grid[r][c] 为空（即，grid[r][c] == 0）<br>\n",
    "返回这条从左上角到右下角的最短畅通路径的长度。如果不存在这样的路径，返回 -1 。<br>\n",
    "[[1,1,0,1],<br>\n",
    " [1,0,1,0],<br>\n",
    " [1,1,1,1],<br>\n",
    " [1,0,1,1]]"
   ]
  },
  {
   "cell_type": "markdown",
   "metadata": {},
   "source": [
    "### part2 广度优先和深度优先\n",
    "    1091. Shortest Path in Binary Matrix(Medium)"
   ]
  },
  {
   "cell_type": "code",
   "execution_count": 88,
   "metadata": {},
   "outputs": [],
   "source": [
    "#广度优先\n",
    "class Solution:\n",
    "    def shortestPathBinaryMatrix(self, grid: List[List[int]]) -> int:\n",
    "        if grid == None or len(grid)==0 or len(grid[0])==0:\n",
    "            return -1\n",
    "        direction = [[-1,0],[1,0],[0,-1],[0,1],[-1,-1],[1,-1],[-1,1],[1,1]]\n",
    "        m = len(grid)\n",
    "        n = len(grid[0])\n",
    "        queue = []\n",
    "        queue.append([0,0])\n",
    "        length = 0\n",
    "        while(len(queue)>0):\n",
    "            size = len(queue)\n",
    "            length = length+1\n",
    "            while(size>0):\n",
    "                cur = queue.pop() #出队\n",
    "                size = size-1\n",
    "                x = cur[0]\n",
    "                y = cur[1]\n",
    "                if grid[x][y] == 1:\n",
    "                    continue\n",
    "                if x == (m-1) and y == (n-1):\n",
    "                    return length\n",
    "                grid[x][y] = 1 #标记\n",
    "                for ele in direction:\n",
    "                    nx = x+ele[0]\n",
    "                    ny = y+ele[1]\n",
    "                    if nx < 0 or nx > (m-1) or ny < 0  or ny > (n-1):\n",
    "                        continue\n",
    "                    else:\n",
    "                        queue.insert(0,[nx,ny]) ## 入队\n",
    "        return -1"
   ]
  },
  {
   "cell_type": "markdown",
   "metadata": {},
   "source": [
    "### 297. 二叉树的序列化与反序列化\n",
    "序列化是将一个数据结构或者对象转换为连续的比特位的操作，进而可以将转换后的数据存储在一个文件或者内存中，同时也可以通过网络传输到另一个计算机环境，采取相反方式重构得到原数据。\n",
    "\n",
    "请设计一个算法来实现二叉树的序列化与反序列化。这里不限定你的序列 / 反序列化算法执行逻辑，你只需要保证一个二叉树可以被序列化为一个字符串并且将这个字符串反序列化为原始的树结构。"
   ]
  },
  {
   "cell_type": "code",
   "execution_count": 1,
   "metadata": {},
   "outputs": [],
   "source": [
    "# 示例: \n",
    "\n",
    "# 你可以将以下二叉树：\n",
    "\n",
    "#     1\n",
    "#    / \\\n",
    "#   2   3\n",
    "#      / \\\n",
    "#     4   5\n",
    "\n",
    "# 序列化为 \"[1,2,3,null,null,4,5]\""
   ]
  },
  {
   "cell_type": "code",
   "execution_count": 2,
   "metadata": {},
   "outputs": [],
   "source": [
    "### 层序遍历 广度优先\n",
    "class TreeNode(object):\n",
    "    def __init__(self, x):\n",
    "        self.val = x\n",
    "        self.left = None\n",
    "        self.right = None\n",
    "\n",
    "class Codec:\n",
    "\n",
    "    def serialize(self, root):\n",
    "        \"\"\"Encodes a tree to a single string.\n",
    "        \n",
    "        :type root: TreeNode\n",
    "        :rtype: str\n",
    "        \"\"\"\n",
    "        \n",
    "\n",
    "    def deserialize(self, data):\n",
    "        \"\"\"Decodes your encoded data to tree.\n",
    "        \n",
    "        :type data: str\n",
    "        :rtype: TreeNode\n",
    "        \"\"\""
   ]
  },
  {
   "cell_type": "code",
   "execution_count": null,
   "metadata": {},
   "outputs": [],
   "source": []
  }
 ],
 "metadata": {
  "kernelspec": {
   "display_name": "Python 3",
   "language": "python",
   "name": "python3"
  },
  "language_info": {
   "codemirror_mode": {
    "name": "ipython",
    "version": 3
   },
   "file_extension": ".py",
   "mimetype": "text/x-python",
   "name": "python",
   "nbconvert_exporter": "python",
   "pygments_lexer": "ipython3",
   "version": "3.7.0"
  }
 },
 "nbformat": 4,
 "nbformat_minor": 2
}
