{
 "cells": [
  {
   "cell_type": "code",
   "execution_count": 9,
   "metadata": {},
   "outputs": [
    {
     "name": "stdout",
     "output_type": "stream",
     "text": [
      "{'z': 1, 'o': 3, 'w': 1, 't': 1, 'u': 0, 'f': 0, 'x': 0, 's': 0, 'g': 0, 'i': 0}\n",
      "{'z': 1, 'o': 1, 'w': 1, 't': 0, 'u': 0, 'f': 0, 'x': 0, 's': 0, 'g': 0, 'i': 0}\n",
      "0 1\n",
      "1 1\n",
      "2 1\n",
      "3 0\n",
      "4 0\n",
      "5 0\n",
      "6 0\n",
      "7 0\n",
      "8 0\n",
      "9 0\n"
     ]
    },
    {
     "data": {
      "text/plain": [
       "'012'"
      ]
     },
     "execution_count": 9,
     "metadata": {},
     "output_type": "execute_result"
    }
   ],
   "source": [
    "## leetcode 423\n",
    "def originalDigits(s: str) -> str:\n",
    "\t\n",
    "    lst = {'z':0, 'o':0, 'w':0, 't':0, 'u':0, 'f':0, 'x':0, 's':0, 'g':0, 'i':0}\n",
    "    for i in s:\n",
    "        if i in lst:\n",
    "            lst[i] += 1\n",
    "    print(lst)\n",
    "    lst['o'] -= (lst['z'] + lst['w'] + lst['u'])\n",
    "    lst['t'] -= (lst['w'] + lst['g']) \n",
    "    lst['f'] -= lst['u']\n",
    "    lst['s'] -= lst['x']\n",
    "    lst['i'] -= (lst['f'] + lst['x'] + lst['g'])\n",
    "    print(lst)\n",
    "    answer = \"\"\n",
    "    for i, x in enumerate(lst.values()):\n",
    "        print(i,x)\n",
    "        answer += (str(i) * x)\n",
    "    return answer\n",
    "originalDigits(\"owoztneoer\")"
   ]
  },
  {
   "cell_type": "code",
   "execution_count": 6,
   "metadata": {},
   "outputs": [
    {
     "name": "stdout",
     "output_type": "stream",
     "text": [
      "{'z': 1, 'o': 3, 'w': 1, 't': 1, 'u': 0, 'f': 0, 'x': 0, 's': 0, 'g': 0, 'i': 0}\n"
     ]
    },
    {
     "data": {
      "text/plain": [
       "'012'"
      ]
     },
     "execution_count": 6,
     "metadata": {},
     "output_type": "execute_result"
    }
   ],
   "source": []
  }
 ],
 "metadata": {
  "interpreter": {
   "hash": "b231c61f6d7dac621484ee50057a55e7aa739bcbb91e573d28ea70d6cb0179b7"
  },
  "kernelspec": {
   "display_name": "Python 3.7.2 64-bit ('base': conda)",
   "name": "python3"
  },
  "language_info": {
   "codemirror_mode": {
    "name": "ipython",
    "version": 3
   },
   "file_extension": ".py",
   "mimetype": "text/x-python",
   "name": "python",
   "nbconvert_exporter": "python",
   "pygments_lexer": "ipython3",
   "version": "3.7.2"
  },
  "orig_nbformat": 4
 },
 "nbformat": 4,
 "nbformat_minor": 2
}
