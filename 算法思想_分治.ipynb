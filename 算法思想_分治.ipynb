{
 "cells": [
  {
   "cell_type": "markdown",
   "metadata": {},
   "source": [
    "241. Different Ways to Add Parentheses (Medium)\n",
    "95. Unique Binary Search Trees II (Medium)"
   ]
  },
  {
   "cell_type": "markdown",
   "metadata": {},
   "source": [
    "### 241 Different Ways to Add Parentheses (Medium)\n",
    "\n",
    "\n",
    "给定一个含有数字和运算符的字符串，为表达式添加括号，改变其运算优先级以求出不同的结果。你需要给出所有可能的组合的结果。有效的运算符号包含 +, - 以及 * 。\n",
    "\n",
    "示例 1:\n",
    "\n",
    "输入: \"2-1-1\"\n",
    "输出: [0, 2]\n",
    "解释: \n",
    "((2-1)-1) = 0 \n",
    "(2-(1-1)) = 2\n",
    "示例 2:\n",
    "\n",
    "输入: \"2\\*3-4\\*5\"\n",
    "输出: [-34, -14, -10, -10, 10]\n",
    "解释: \n",
    "(2\\*(3-(4\\*5))) = -34 \n",
    "((2\\*3)-(4\\*5)) = -14 \n",
    "((2\\*(3-4))\\*5) = -10 \n",
    "(2\\*((3-4)\\*5)) = -10 \n",
    "(((2\\*3)-4)\\*5) = 10"
   ]
  },
  {
   "cell_type": "code",
   "execution_count": null,
   "metadata": {},
   "outputs": [],
   "source": [
    "class Solution:\n",
    "    def diffWaysToCompute(self, input: str) -> List[int]:"
   ]
  },
  {
   "cell_type": "code",
   "execution_count": 1,
   "metadata": {},
   "outputs": [
    {
     "data": {
      "text/plain": [
       "2"
      ]
     },
     "execution_count": 1,
     "metadata": {},
     "output_type": "execute_result"
    }
   ],
   "source": [
    "eval(\"(1+1)\")"
   ]
  },
  {
   "cell_type": "code",
   "execution_count": null,
   "metadata": {},
   "outputs": [],
   "source": []
  }
 ],
 "metadata": {
  "kernelspec": {
   "display_name": "Python 3",
   "language": "python",
   "name": "python3"
  },
  "language_info": {
   "codemirror_mode": {
    "name": "ipython",
    "version": 3
   },
   "file_extension": ".py",
   "mimetype": "text/x-python",
   "name": "python",
   "nbconvert_exporter": "python",
   "pygments_lexer": "ipython3",
   "version": "3.7.0"
  }
 },
 "nbformat": 4,
 "nbformat_minor": 2
}
