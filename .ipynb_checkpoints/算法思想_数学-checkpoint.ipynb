{
 "cells": [
  {
   "cell_type": "markdown",
   "metadata": {},
   "source": [
    "# 最大公约数最小公倍数"
   ]
  },
  {
   "cell_type": "code",
   "execution_count": 13,
   "metadata": {},
   "outputs": [],
   "source": [
    "###最大公约数\n",
    "def gcd(a,b):\n",
    "    return a if b==0 else gcd(b,a%b)\n",
    "\n",
    "###最小公倍数为两数的乘积除以最大公约数。\n",
    "def lcm(a,b):\n",
    "    return int(a * b / gcd(a, b))"
   ]
  },
  {
   "cell_type": "markdown",
   "metadata": {},
   "source": [
    "### 204. 计数质数\n",
    "统计所有小于非负整数 n 的质数的数量。\n",
    "\n",
    "示例:\n",
    "\n",
    "输入: 10\n",
    "输出: 4\n",
    "解释: 小于 10 的质数一共有 4 个, 它们是 2, 3, 5, 7 。"
   ]
  },
  {
   "cell_type": "code",
   "execution_count": 3,
   "metadata": {},
   "outputs": [
    {
     "data": {
      "text/plain": [
       "4"
      ]
     },
     "execution_count": 3,
     "metadata": {},
     "output_type": "execute_result"
    }
   ],
   "source": [
    "##埃拉托斯特尼筛法在每次找到一个素数时，将能被素数整除的数排除掉。\n",
    "class Solution:\n",
    "    def countPrimes(self, n: int) -> int:\n",
    "        cnt = 0\n",
    "        notPrimes = [False]*(n)\n",
    "        for i in range(2,n):\n",
    "            if notPrimes[i]:\n",
    "                continue\n",
    "            cnt = cnt + 1\n",
    "            #for j in range(i*i,n,i):##优化 i*i之前的k*i都已经剔除\n",
    "            for j in range(0,n,i):\n",
    "                notPrimes[j] = True\n",
    "        return cnt\n",
    "Solution().countPrimes(10)"
   ]
  },
  {
   "cell_type": "markdown",
   "metadata": {},
   "source": [
    "### 504. 七进制数\n",
    "给定一个整数，将其转化为7进制，并以字符串形式输出。\n",
    "\n",
    "示例 1:\n",
    "\n",
    "输入: 100\n",
    "输出: \"202\"\n",
    "示例 2:\n",
    "\n",
    "输入: -7\n",
    "输出: \"-10\""
   ]
  },
  {
   "cell_type": "code",
   "execution_count": 24,
   "metadata": {},
   "outputs": [
    {
     "data": {
      "text/plain": [
       "'-10'"
      ]
     },
     "execution_count": 24,
     "metadata": {},
     "output_type": "execute_result"
    }
   ],
   "source": [
    "class Solution:\n",
    "    def convertToBase7(self, num: int) -> str:\n",
    "        if num == 0:\n",
    "            return \"0\"\n",
    "        flag = True if num>=0 else False\n",
    "        num = abs(num)\n",
    "        ret = \"\"\n",
    "        while(num!=0):\n",
    "            ret = str(num%7) + ret\n",
    "            num = int(num/7)\n",
    "        return ret if flag else \"-\"+ret\n",
    "Solution().convertToBase7(-7)"
   ]
  },
  {
   "cell_type": "code",
   "execution_count": 28,
   "metadata": {},
   "outputs": [
    {
     "data": {
      "text/plain": [
       "3"
      ]
     },
     "execution_count": 28,
     "metadata": {},
     "output_type": "execute_result"
    }
   ],
   "source": [
    "101%7"
   ]
  },
  {
   "cell_type": "markdown",
   "metadata": {},
   "source": [
    "### 405. 数字转换为十六进制数\n",
    "给定一个整数，编写一个算法将这个数转换为十六进制数。对于负整数，我们通常使用 补码运算 方法。\n",
    "\n",
    "注意:\n",
    "\n",
    "十六进制中所有字母(a-f)都必须是小写。\n",
    "十六进制字符串中不能包含多余的前导零。如果要转化的数为0，那么以单个字符'0'来表示；对于其他情况，十六进制字符串中的第一个字符将不会是0字符。 \n",
    "给定的数确保在32位有符号整数范围内。\n",
    "不能使用任何由库提供的将数字直接转换或格式化为十六进制的方法。<br><br>\n",
    "示例 1：\n",
    "\n",
    "输入:\n",
    "26\n",
    "\n",
    "输出:\n",
    "\"1a\"\n",
    "示例 2：\n",
    "\n",
    "输入:\n",
    "-1\n",
    "\n",
    "输出:\n",
    "\"ffffffff\""
   ]
  },
  {
   "cell_type": "code",
   "execution_count": 36,
   "metadata": {},
   "outputs": [
    {
     "ename": "SyntaxError",
     "evalue": "invalid syntax (<ipython-input-36-a2407c9959f6>, line 11)",
     "output_type": "error",
     "traceback": [
      "\u001b[1;36m  File \u001b[1;32m\"<ipython-input-36-a2407c9959f6>\"\u001b[1;36m, line \u001b[1;32m11\u001b[0m\n\u001b[1;33m    num = num>>>4\u001b[0m\n\u001b[1;37m               ^\u001b[0m\n\u001b[1;31mSyntaxError\u001b[0m\u001b[1;31m:\u001b[0m invalid syntax\n"
     ]
    }
   ],
   "source": [
    "#暂未解决\n",
    "##python没有无符号右移操作 实现\n",
    "class Solution:\n",
    "    def toHex(self, num: int) -> str:\n",
    "        if num==0:\n",
    "            return \"0\"\n",
    "        ret = \"\"\n",
    "        _dict = ['0', '1', '2', '3', '4', '5', '6', '7', '8', '9', 'a', 'b', 'c', 'd', 'e', 'f']\n",
    "        while num!=0:\n",
    "            ret = _dict(nums&(0b1111))+ret  ### 位与运算 取余\n",
    "            num = num>>>4\n",
    "        return ret"
   ]
  },
  {
   "cell_type": "markdown",
   "metadata": {},
   "source": [
    "### 168. Excel表列名称\n",
    "给定一个正整数，返回它在 Excel 表中相对应的列名称。\n",
    "\n",
    "例如，\n",
    "\n",
    "    1 -> A\n",
    "    2 -> B\n",
    "    3 -> C\n",
    "    ...\n",
    "    26 -> Z\n",
    "    27 -> AA\n",
    "    28 -> AB \n",
    "    ...\n",
    "示例 1:\n",
    "\n",
    "输入: 1\n",
    "输出: \"A\"\n",
    "示例 2:\n",
    "\n",
    "输入: 28\n",
    "输出: \"AB\""
   ]
  },
  {
   "cell_type": "code",
   "execution_count": 43,
   "metadata": {},
   "outputs": [],
   "source": [
    "class Solution:\n",
    "    def convertToTitle(self, n: int) -> str:\n",
    "        if n==0:\n",
    "            return \"\"\n",
    "        n = n-1 ##因为+ord('A')\n",
    "        return self.convertToTitle(int(n/26)) + chr(n%26+ord('A'))\n",
    "#ASCII码与字符相互转换 chr(ord('A')+1)"
   ]
  },
  {
   "cell_type": "markdown",
   "metadata": {},
   "source": [
    "### 172. 阶乘后的零\n",
    "给定一个整数 n，返回 n! 结果尾数中零的数量。\n",
    "\n",
    "示例 1:\n",
    "\n",
    "输入: 3\n",
    "输出: 0\n",
    "解释: 3! = 6, 尾数中没有零。\n",
    "示例 2:\n",
    "\n",
    "输入: 5\n",
    "输出: 1\n",
    "解释: 5! = 120, 尾数中有 1 个零.\n",
    "说明: 你算法的时间复杂度应为 O(log n) 。"
   ]
  },
  {
   "cell_type": "code",
   "execution_count": 44,
   "metadata": {},
   "outputs": [],
   "source": [
    "##2*5 产生0 1-n中2的个数多于5，统计5的个数\n",
    "class Solution:\n",
    "    def trailingZeroes(self, n: int) -> int:\n",
    "        ##25 = 5*5 有两个5\n",
    "        return 0 if n==0 else trailingZeroes(int(n/5))+ int(n/5)"
   ]
  },
  {
   "cell_type": "markdown",
   "metadata": {},
   "source": [
    "### 67. 二进制求和\n",
    "给你两个二进制字符串，返回它们的和（用二进制表示）。\n",
    "\n",
    "输入为 非空 字符串且只包含数字 1 和 0。\n",
    "\n",
    " \n",
    "\n",
    "示例 1:\n",
    "\n",
    "输入: a = \"11\", b = \"1\"\n",
    "输出: \"100\"\n",
    "示例 2:\n",
    "\n",
    "输入: a = \"1010\", b = \"1011\"\n",
    "输出: \"10101\"\n",
    " \n",
    "\n",
    "提示：\n",
    "\n",
    "每个字符串仅由字符 '0' 或 '1' 组成。\n",
    "1 <= a.length, b.length <= 10^4\n",
    "字符串如果不是 \"0\" ，就都不含前导零。"
   ]
  },
  {
   "cell_type": "code",
   "execution_count": 47,
   "metadata": {},
   "outputs": [],
   "source": [
    "#i,j当前位 carray进位\n",
    "class Solution:\n",
    "    def addBinary(self, a: str, b: str) -> str:\n",
    "        i = len(a)-1\n",
    "        j = len(b)-1\n",
    "        carry = 0\n",
    "        ret = \"\"\n",
    "        while carry==1 or i>=0 or j>=0:\n",
    "            x = int(a[i]) if i>=0 else 0\n",
    "            y = int(b[j]) if j>=0 else 0\n",
    "            i = i-1\n",
    "            j = j-1\n",
    "            ret = str((x+y+carry)%2) + ret\n",
    "            carry = int((x+y+carry)/2)\n",
    "        return ret"
   ]
  },
  {
   "cell_type": "markdown",
   "metadata": {},
   "source": [
    "### 415. 字符串相加\n",
    "给定两个字符串形式的非负整数 num1 和num2 ，计算它们的和。\n",
    "\n",
    "注意：\n",
    "\n",
    "num1 和num2 的长度都小于 5100.\n",
    "num1 和num2 都只包含数字 0-9.\n",
    "num1 和num2 都不包含任何前导零。\n",
    "你不能使用任何內建 BigInteger 库， 也不能直接将输入的字符串转换为整数形式。"
   ]
  },
  {
   "cell_type": "code",
   "execution_count": 48,
   "metadata": {},
   "outputs": [],
   "source": [
    "#i,j当前位 carray进位\n",
    "class Solution:\n",
    "    def addStrings(self, a: str, b: str) -> str:\n",
    "        i = len(a)-1\n",
    "        j = len(b)-1\n",
    "        carry = 0\n",
    "        ret = \"\"\n",
    "        while carry==1 or i>=0 or j>=0:\n",
    "            x = int(a[i]) if i>=0 else 0\n",
    "            y = int(b[j]) if j>=0 else 0\n",
    "            i = i-1\n",
    "            j = j-1\n",
    "            ret = str((x+y+carry)%10) + ret\n",
    "            carry = int((x+y+carry)/10)\n",
    "        return ret"
   ]
  },
  {
   "cell_type": "markdown",
   "metadata": {},
   "source": [
    "### 462. 最少移动次数使数组元素相等 II\n",
    "给定一个非空整数数组，找到使所有数组元素相等所需的最小移动数，其中每次移动可将选定的一个元素加1或减1。 您可以假设数组的长度最多为10000。\n",
    "\n",
    "例如:\n",
    "\n",
    "输入:\n",
    "[1,2,3]\n",
    "\n",
    "输出:\n",
    "2\n",
    "\n",
    "说明：\n",
    "只有两个动作是必要的（记得每一步仅可使其中一个元素加1或减1）： \n",
    "\n",
    "[1,2,3]  =>  [2,2,3]  =>  [2,2,2]"
   ]
  },
  {
   "cell_type": "code",
   "execution_count": 57,
   "metadata": {},
   "outputs": [],
   "source": [
    "###找到中位数 所有的元素都移动到中位数\n",
    "###直接排序 O(NlogN)\n",
    "###或者 找到第K大的数 O(N) 表示怀疑 感觉是O(NlogK) 待解决\n",
    "##这里直接排序\n",
    "from typing import List\n",
    "class Solution:\n",
    "    def minMoves2(self, nums: List[int]) -> int:\n",
    "        nums.sort()\n",
    "        move = 0\n",
    "        l = 0\n",
    "        r = len(nums)-1\n",
    "        while l<=r:\n",
    "            move += nums[r] - nums[l] ##(nums[r] - mid) + (mid - nums[l])\n",
    "        return move"
   ]
  },
  {
   "cell_type": "markdown",
   "metadata": {},
   "source": [
    "### 169. 多数元素\n",
    "给定一个大小为 n 的数组，找到其中的多数元素。多数元素是指在数组中出现次数大于 ⌊ n/2 ⌋ 的元素。\n",
    "\n",
    "你可以假设数组是非空的，并且给定的数组总是存在多数元素。\n",
    "\n",
    " \n",
    "\n",
    "示例 1:\n",
    "\n",
    "输入: [3,2,3]\n",
    "输出: 3\n",
    "示例 2:\n",
    "\n",
    "输入: [2,2,1,1,1,2,2]\n",
    "输出: 2"
   ]
  },
  {
   "cell_type": "code",
   "execution_count": 59,
   "metadata": {},
   "outputs": [],
   "source": [
    "##排序 最中间的元素一定是多数元素\n",
    "class Solution:\n",
    "    def majorityElement(self, nums: List[int]) -> int:\n",
    "        nums.sort()\n",
    "        return nums[int(len(nums)/2)]"
   ]
  },
  {
   "cell_type": "code",
   "execution_count": 60,
   "metadata": {},
   "outputs": [],
   "source": [
    "## 方法二 Boyer-Moore Majority Vote Algorithm\n",
    "## 时间复杂度 O(N)\n",
    "## 存在多数元素 那么cnt一定最终大于0的\n",
    "class Solution:\n",
    "    def majorityElement(self, nums: List[int]) -> int:\n",
    "        cnt =0\n",
    "        majority = nums[0]\n",
    "        for ele in nums:\n",
    "            majority = ele if cnt==0 else majority\n",
    "            cnt = cnt + 1 if ele == majority else cnt - 1\n",
    "        return majority"
   ]
  },
  {
   "cell_type": "markdown",
   "metadata": {},
   "source": [
    "### 367. 有效的完全平方数\n",
    "给定一个正整数 num，编写一个函数，如果 num 是一个完全平方数，则返回 True，否则返回 False。\n",
    "\n",
    "说明：不要使用任何内置的库函数，如  sqrt。\n",
    "\n",
    "示例 1：\n",
    "\n",
    "输入：16\n",
    "输出：True\n",
    "示例 2：\n",
    "\n",
    "输入：14\n",
    "输出：False"
   ]
  },
  {
   "cell_type": "code",
   "execution_count": null,
   "metadata": {},
   "outputs": [],
   "source": [
    "# 平方序列：1,4,9,16,..\n",
    "# 间隔：3,5,7,...\n",
    "# 间隔为等差数列，使用这个特性可以得到从 1 开始的平方序列\n",
    "## 时间复杂度sqrt(n)\n",
    "class Solution:\n",
    "    def isPerfectSquare(self, num: int) -> bool:\n",
    "        subNum = 1\n",
    "        while(num>0):\n",
    "            num -= subNum\n",
    "            subNum += 2\n",
    "        return  num == 0"
   ]
  },
  {
   "cell_type": "markdown",
   "metadata": {},
   "source": [
    "### 326. 3的幂\n",
    "给定一个整数，写一个函数来判断它是否是 3 的幂次方。\n",
    "\n",
    "示例 1:\n",
    "\n",
    "输入: 27\n",
    "输出: true\n",
    "示例 2:\n",
    "\n",
    "输入: 0\n",
    "输出: false\n",
    "示例 3:\n",
    "\n",
    "输入: 9\n",
    "输出: true\n",
    "示例 4:\n",
    "\n",
    "输入: 45\n",
    "输出: false"
   ]
  },
  {
   "cell_type": "code",
   "execution_count": 70,
   "metadata": {},
   "outputs": [
    {
     "data": {
      "text/plain": [
       "True"
      ]
     },
     "execution_count": 70,
     "metadata": {},
     "output_type": "execute_result"
    }
   ],
   "source": [
    "## 方法一 非递归\n",
    "class Solution:\n",
    "    def isPowerOfThree(self, n: int) -> bool:\n",
    "        while n>1:\n",
    "            if n%3!=0:\n",
    "                return False\n",
    "            n = int(n/3)\n",
    "        return n==1\n",
    "Solution().isPowerOfThree(27)"
   ]
  },
  {
   "cell_type": "code",
   "execution_count": 74,
   "metadata": {},
   "outputs": [],
   "source": [
    "## 方法二 递归\n",
    "class Solution:\n",
    "    def isPowerOfThree(self, n: int) -> bool:\n",
    "        if n==1:\n",
    "            return True\n",
    "        if n%3!=0 or n==0:##特殊情况0单独考虑\n",
    "            return False\n",
    "        return self.isPowerOfThree(int(n/3))"
   ]
  },
  {
   "cell_type": "markdown",
   "metadata": {},
   "source": [
    "### 238. 除自身以外数组的乘积\n",
    "给你一个长度为 n 的整数数组 nums，其中 n > 1，返回输出数组 output ，其中 output[i] 等于 nums 中除 nums[i] 之外其余各元素的乘积。\n",
    "\n",
    " \n",
    "\n",
    "示例:\n",
    "\n",
    "输入: [1,2,3,4]\n",
    "输出: [24,12,8,6]\n",
    " \n",
    "\n",
    "提示：题目数据保证数组之中任意元素的全部前缀元素和后缀（甚至是整个数组）的乘积都在 32 位整数范围内。\n",
    "\n",
    "说明: 请不要使用除法，且在 O(n) 时间复杂度内完成此题。\n",
    "\n",
    "进阶：\n",
    "你可以在常数空间复杂度内完成这个题目吗？（ 出于对空间复杂度分析的目的，输出数组不被视为额外空间。）"
   ]
  },
  {
   "cell_type": "code",
   "execution_count": 82,
   "metadata": {},
   "outputs": [
    {
     "data": {
      "text/plain": [
       "[24, 12, 8, 6]"
      ]
     },
     "execution_count": 82,
     "metadata": {},
     "output_type": "execute_result"
    }
   ],
   "source": [
    "class Solution:\n",
    "    def productExceptSelf(self, nums: List[int]) -> List[int]:\n",
    "        n = len(nums)\n",
    "        output = [1]*n\n",
    "        left = 1\n",
    "        for i in range(1,n):###计算1-(i-1)的乘积\n",
    "            left *= nums[i-1]\n",
    "            output[i] *= left\n",
    "        right = 1\n",
    "        for i in range(n-2,-1,-1):###计算（i+1）- n的乘积\n",
    "            right *= nums[i+1]\n",
    "            output[i] *= right\n",
    "        return output\n",
    "Solution().productExceptSelf([1,2,3,4])"
   ]
  },
  {
   "cell_type": "markdown",
   "metadata": {},
   "source": [
    "### 628. 三个数的最大乘积\n",
    "给定一个整型数组，在数组中找出由三个数组成的最大乘积，并输出这个乘积。\n",
    "\n",
    "示例 1:\n",
    "\n",
    "输入: [1,2,3]\n",
    "输出: 6\n",
    "示例 2:\n",
    "\n",
    "输入: [1,2,3,4]\n",
    "输出: 24\n",
    "注意:\n",
    "\n",
    "给定的整型数组长度范围是[3,104]，数组中所有的元素范围是[-1000, 1000]。\n",
    "输入的数组中任意三个数的乘积不会超出32位有符号整数的范围。\n",
    "通过次数19,819提交次数39,582"
   ]
  },
  {
   "cell_type": "code",
   "execution_count": 97,
   "metadata": {},
   "outputs": [
    {
     "name": "stdout",
     "output_type": "stream",
     "text": [
      "60 -1 -2 ---- 60 -4 -3\n"
     ]
    },
    {
     "data": {
      "text/plain": [
       "720"
      ]
     },
     "execution_count": 97,
     "metadata": {},
     "output_type": "execute_result"
    }
   ],
   "source": [
    "### 需要考虑有负数的情况\n",
    "import sys\n",
    "class Solution:\n",
    "    def maximumProduct(self, nums: List[int]) -> int:\n",
    "        max1 = -sys.maxsize-1  ## 最大\n",
    "        max2 = -sys.maxsize-1  ## 次大\n",
    "        max3 = -sys.maxsize-1  ## 次次大\n",
    "        min1 = sys.maxsize     ##最小\n",
    "        min2 = sys.maxsize     ##次小\n",
    "        for n in nums:\n",
    "            if n > max1:\n",
    "                max3 = max2\n",
    "                max2 = max1\n",
    "                max1 = n\n",
    "            elif n>max2:\n",
    "                max3 = max2\n",
    "                max2 = n\n",
    "            elif n>max3:\n",
    "                max3 = n\n",
    "            \n",
    "            if n<min1:\n",
    "                min2 = min1\n",
    "                min1 = n\n",
    "            elif n<min2:\n",
    "                min2 = n\n",
    "        print(max1,max2,max3,\"----\",max1,min1,min2)\n",
    "        return max(max1*max2*max3, max1*min1*min2)\n",
    "Solution().maximumProduct([-4,-3,-2,-1,60])"
   ]
  },
  {
   "cell_type": "code",
   "execution_count": 89,
   "metadata": {},
   "outputs": [
    {
     "data": {
      "text/plain": [
       "9223372036854775807"
      ]
     },
     "execution_count": 89,
     "metadata": {},
     "output_type": "execute_result"
    }
   ],
   "source": [
    "import sys\n",
    "sys.maxsize"
   ]
  },
  {
   "cell_type": "code",
   "execution_count": null,
   "metadata": {},
   "outputs": [],
   "source": [
    "public int maximumProduct(int[] nums) {\n",
    "    int max1 = Integer.MIN_VALUE, max2 = Integer.MIN_VALUE, max3 = Integer.MIN_VALUE, min1 = Integer.MAX_VALUE, min2 = Integer.MAX_VALUE;\n",
    "    for (int n : nums) {\n",
    "        if (n > max1) {\n",
    "            max3 = max2;\n",
    "            max2 = max1;\n",
    "            max1 = n;\n",
    "        } else if (n > max2) {\n",
    "            max3 = max2;\n",
    "            max2 = n;\n",
    "        } else if (n > max3) {\n",
    "            max3 = n;\n",
    "        }\n",
    "\n",
    "        if (n < min1) {\n",
    "            min2 = min1;\n",
    "            min1 = n;\n",
    "        } else if (n < min2) {\n",
    "            min2 = n;\n",
    "        }\n",
    "    }\n",
    "    return Math.max(max1*max2*max3, max1*min1*min2);\n",
    "}\n"
   ]
  }
 ],
 "metadata": {
  "kernelspec": {
   "display_name": "Python 3",
   "language": "python",
   "name": "python3"
  },
  "language_info": {
   "codemirror_mode": {
    "name": "ipython",
    "version": 3
   },
   "file_extension": ".py",
   "mimetype": "text/x-python",
   "name": "python",
   "nbconvert_exporter": "python",
   "pygments_lexer": "ipython3",
   "version": "3.7.0"
  }
 },
 "nbformat": 4,
 "nbformat_minor": 2
}
