{
 "cells": [
  {
   "cell_type": "markdown",
   "metadata": {},
   "source": [
    "### 17 电话号码的字母组合"
   ]
  },
  {
   "cell_type": "markdown",
   "metadata": {},
   "source": [
    "### 17 电话号码的字母组合\n",
    "给定一个仅包含数字 2-9 的字符串，返回所有它能表示的字母组合。\n",
    "\n",
    "给出数字到字母的映射如下（与电话按键相同）。注意 1 不对应任何字母。\n",
    "\n",
    "<img src=\"./17_telephone_keypad.png\">\n",
    "\n",
    "示例:\n",
    "\n",
    "输入：\"23\"\n",
    "输出：[\"ad\", \"ae\", \"af\", \"bd\", \"be\", \"bf\", \"cd\", \"ce\", \"cf\"]."
   ]
  },
  {
   "cell_type": "code",
   "execution_count": null,
   "metadata": {},
   "outputs": [],
   "source": [
    "from typing import List\n",
    "class Solution:\n",
    "    def __init__(self):\n",
    "        self.letterMap = [\" \",\"\",\"abc\",\"def\",\"ghi\",\"jkl\",\"mno\",\"pqrs\",\"tuv\",\"wxyz\"]\n",
    "        self.ret = []\n",
    "    ## S中保存了digits[0:index] 组合得到的一个字母字符串\n",
    "    ## index 从0开始变量到len(digits)-1\n",
    "    def findCOmbination(self,digits,index,s):\n",
    "        if index == len(digits):\n",
    "            self.ret.append(s)\n",
    "            return\n",
    "        cur_char = digits[index]\n",
    "        cur_letter = self.letterMap[int(cur_char)]\n",
    "        for ele in cur_letter:\n",
    "            self.findCOmbination(digits,index+1,s+ele)\n",
    "    def letterCombinations(self, digits: str) -> List[str]: \n",
    "        if len(digits)==0:\n",
    "            return []\n",
    "        self.findCOmbination(digits, 0, \"\")\n",
    "        return self.ret\n",
    "if __name__ == '__main__':\n",
    "    s = Solution()\n",
    "    print(s.letterCombinations(\"23\"))"
   ]
  },
  {
   "cell_type": "markdown",
   "metadata": {},
   "source": [
    "### 93 复原IP地址\n",
    "给定一个只包含数字的字符串，复原它并返回所有可能的 IP 地址格式。\n",
    "\n",
    "示例:\n",
    "\n",
    "输入: \"25525511135\"\n",
    "输出: [\"255.255.11.135\", \"255.255.111.35\"]"
   ]
  },
  {
   "cell_type": "code",
   "execution_count": 26,
   "metadata": {},
   "outputs": [
    {
     "name": "stdout",
     "output_type": "stream",
     "text": [
      "['255.255.11.135', '255.255.111.35']\n"
     ]
    }
   ],
   "source": [
    "from typing import List\n",
    "class Solution:\n",
    "    def __init__(self):\n",
    "        self.ret = []\n",
    "    def isright(self,s):\n",
    "            if len(s)>3 or len(s)==0 or (s[0]=='0' and len(s)>1) or int(s)>255:\n",
    "                return False\n",
    "            return True\n",
    "    def isrightIp(self,s):\n",
    "        s_l = s.split('.')\n",
    "        for ele in s_l:\n",
    "            if not self.isright(ele):\n",
    "                return False\n",
    "        return True\n",
    "    ### 采用求组合的办法 C(N-1,3) 求的IP切分的索引\n",
    "    def getCombination(self,s,start,index):\n",
    "        N = len(s)\n",
    "        ll = [i for i in range(1,N)]\n",
    "        if 3 == len(index):\n",
    "            self.ret.append(list(index))\n",
    "            return\n",
    "        for i in range(start,N-1):\n",
    "            index.append(ll[i])\n",
    "            self.getCombination(s,i+1,index)\n",
    "            index.pop()\n",
    "    def restoreIpAddresses(self, s: str) -> List[str]:\n",
    "        if len(s)>12 or len(s)<4:\n",
    "            return []\n",
    "        self.getCombination(s,0,[])\n",
    "        ret_temp = []\n",
    "        for ele in self.ret:\n",
    "            ip = '.'.join([s[:ele[0]],s[ele[0]:ele[1]],s[ele[1]:ele[2]],s[ele[2]:]])\n",
    "            if self.isrightIp(ip):\n",
    "                ret_temp.append(ip)\n",
    "        return ret_temp\n",
    "if __name__ == '__main__':\n",
    "    s = Solution()\n",
    "    print(s.restoreIpAddresses(\"25525511135\"))"
   ]
  },
  {
   "cell_type": "code",
   "execution_count": 19,
   "metadata": {},
   "outputs": [
    {
     "data": {
      "text/plain": [
       "'a.b.c'"
      ]
     },
     "execution_count": 19,
     "metadata": {},
     "output_type": "execute_result"
    }
   ],
   "source": [
    "a = ['a','b','c']\n",
    "'.'.join(a)"
   ]
  },
  {
   "cell_type": "code",
   "execution_count": 18,
   "metadata": {},
   "outputs": [
    {
     "name": "stdout",
     "output_type": "stream",
     "text": [
      "a-b-c\n"
     ]
    }
   ],
   "source": [
    "s = \"-\";\n",
    "seq = [\"a\", \"b\", \"c\"]; # This is sequence of strings.\n",
    "print(s.join( seq ))"
   ]
  },
  {
   "cell_type": "code",
   "execution_count": null,
   "metadata": {},
   "outputs": [],
   "source": []
  },
  {
   "cell_type": "code",
   "execution_count": null,
   "metadata": {},
   "outputs": [],
   "source": []
  },
  {
   "cell_type": "code",
   "execution_count": null,
   "metadata": {},
   "outputs": [],
   "source": [
    "a = []\n",
    "a.append([1,2,3])"
   ]
  },
  {
   "cell_type": "code",
   "execution_count": null,
   "metadata": {},
   "outputs": [],
   "source": [
    "a.append()"
   ]
  },
  {
   "cell_type": "code",
   "execution_count": null,
   "metadata": {},
   "outputs": [],
   "source": []
  },
  {
   "cell_type": "code",
   "execution_count": null,
   "metadata": {},
   "outputs": [],
   "source": []
  },
  {
   "cell_type": "code",
   "execution_count": null,
   "metadata": {},
   "outputs": [],
   "source": [
    "## 直接\n",
    "from typing import List\n",
    "class Solution:\n",
    "    def __init__(self):\n",
    "        self.ret = []\n",
    "    def isright(self,s):\n",
    "            if len(s)>3 or len(s)==0 or (s[0]=='0' and len(s)>1) or int(s)>255:\n",
    "                return False\n",
    "            return True\n",
    "    def getCombination(N,start,ret):\n",
    "        s = [i for i in range(1,N)]\n",
    "        n = len(s)\n",
    "        if 3 == len(ret):\n",
    "            print(ret)\n",
    "            return\n",
    "        for i in range(start,n):\n",
    "            ret.append(s[i])\n",
    "            getCombination(N,i+1,ret)\n",
    "            ret.pop()\n",
    "#         if len(res_temp)>4:  ### 剪枝\n",
    "#             return\n",
    "#         for ele in res_temp: ### 剪枝\n",
    "#             if not self.isright(ele):\n",
    "#                 return\n",
    "        self.getCombination(index+1,res_temp+[s[index]],s)\n",
    "        #self.getCombination(index+1,res_temp+[s[:index+1]],s)\n",
    "    def restoreIpAddresses(self, s: str) -> List[str]:\n",
    "        self.getCombination(0,[],s)\n",
    "        return self.ret\n",
    "if __name__ == '__main__':\n",
    "    s = Solution()\n",
    "    print(s.restoreIpAddresses(\"25525511135\"))"
   ]
  },
  {
   "cell_type": "code",
   "execution_count": null,
   "metadata": {},
   "outputs": [],
   "source": [
    "def getCombination(N,start,ret):\n",
    "    s = [i for i in range(1,N)]\n",
    "    n = len(s)\n",
    "    if 3 == len(ret):\n",
    "        print(ret)\n",
    "        return\n",
    "    for i in range(start,n):\n",
    "        ret.append(s[i])\n",
    "        getCombination(N,i+1,ret)\n",
    "        ret.pop()"
   ]
  },
  {
   "cell_type": "code",
   "execution_count": null,
   "metadata": {},
   "outputs": [],
   "source": [
    "getCombination(5,0,[])"
   ]
  },
  {
   "cell_type": "code",
   "execution_count": null,
   "metadata": {},
   "outputs": [],
   "source": []
  }
 ],
 "metadata": {
  "kernelspec": {
   "display_name": "Python 3",
   "language": "python",
   "name": "python3"
  },
  "language_info": {
   "codemirror_mode": {
    "name": "ipython",
    "version": 3
   },
   "file_extension": ".py",
   "mimetype": "text/x-python",
   "name": "python",
   "nbconvert_exporter": "python",
   "pygments_lexer": "ipython3",
   "version": "3.7.0"
  }
 },
 "nbformat": 4,
 "nbformat_minor": 2
}
