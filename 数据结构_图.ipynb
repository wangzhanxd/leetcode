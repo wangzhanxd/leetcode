{
 "cells": [
  {
   "cell_type": "markdown",
   "metadata": {},
   "source": [
    "### 785. 判断二分图\n",
    "给定一个无向图graph，当这个图为二分图时返回true。\n",
    "\n",
    "如果我们能将一个图的节点集合分割成两个独立的子集A和B，并使图中的每一条边的两个节点一个来自A集合，一个来自B集合，我们就将这个图称为二分图。\n",
    "\n",
    "graph将会以邻接表方式给出，graph[i]表示图中与节点i相连的所有节点。每个节点都是一个在0到graph.length-1之间的整数。这图中没有自环和平行边： graph[i] 中不存在i，并且graph[i]中没有重复的值。\n"
   ]
  },
  {
   "cell_type": "code",
   "execution_count": 24,
   "metadata": {},
   "outputs": [],
   "source": [
    "# 示例 1:\n",
    "# 输入: [[1,3], [0,2], [1,3], [0,2]]\n",
    "# 输出: true\n",
    "# 解释: \n",
    "# 无向图如下:\n",
    "# 0----1\n",
    "# |    |\n",
    "# |    |\n",
    "# 3----2\n",
    "# 我们可以将节点分成两组: {0, 2} 和 {1, 3}。\n",
    "\n",
    "# 示例 2:\n",
    "# 输入: [[1,2,3], [0,2], [0,1,3], [0,2]]\n",
    "# 输出: false\n",
    "# 解释: \n",
    "# 无向图如下:\n",
    "# 0----1\n",
    "# | \\  |\n",
    "# |  \\ |\n",
    "# 3----2\n",
    "# 我们不能将节点分割成两个独立的子集。\n",
    "# 注意:\n",
    "\n",
    "# graph 的长度范围为 [1, 100]。\n",
    "# graph[i] 中的元素的范围为 [0, graph.length - 1]。\n",
    "# graph[i] 不会包含 i 或者有重复的值。\n",
    "# 图是无向的: 如果j 在 graph[i]里边, 那么 i 也会在 graph[j]里边。\n",
    "from typing import List"
   ]
  },
  {
   "cell_type": "code",
   "execution_count": null,
   "metadata": {},
   "outputs": [],
   "source": [
    "##按照集合内部的的点没有连接（需要考虑集合间的点以及不连通的情况） 递归\n",
    "class Solution:\n",
    "    def isBipartite(self, graph: List[List[int]]) -> bool:\n",
    "        n = len(graph)\n",
    "        colors = [-1]*n\n",
    "        for i in range(n)"
   ]
  },
  {
   "cell_type": "code",
   "execution_count": 25,
   "metadata": {},
   "outputs": [],
   "source": [
    "graph = [[1,2,3], [0,2], [0,1,3], [0,2]]"
   ]
  },
  {
   "cell_type": "code",
   "execution_count": 18,
   "metadata": {},
   "outputs": [
    {
     "data": {
      "text/plain": [
       "[[1, 2, 3], [0, 2], [0, 1, 3], [0, 2]]"
      ]
     },
     "execution_count": 18,
     "metadata": {},
     "output_type": "execute_result"
    }
   ],
   "source": [
    "graph"
   ]
  },
  {
   "cell_type": "code",
   "execution_count": 20,
   "metadata": {},
   "outputs": [],
   "source": [
    "n = len(graph)\n",
    "node = [i for i in range(n)]\n",
    "visited = [0]*n"
   ]
  },
  {
   "cell_type": "code",
   "execution_count": 1,
   "metadata": {},
   "outputs": [
    {
     "data": {
      "text/plain": [
       "43"
      ]
     },
     "execution_count": 1,
     "metadata": {},
     "output_type": "execute_result"
    }
   ],
   "source": []
  },
  {
   "cell_type": "code",
   "execution_count": null,
   "metadata": {},
   "outputs": [],
   "source": []
  }
 ],
 "metadata": {
  "kernelspec": {
   "display_name": "Python 3",
   "language": "python",
   "name": "python3"
  },
  "language_info": {
   "codemirror_mode": {
    "name": "ipython",
    "version": 3
   },
   "file_extension": ".py",
   "mimetype": "text/x-python",
   "name": "python",
   "nbconvert_exporter": "python",
   "pygments_lexer": "ipython3",
   "version": "3.7.0"
  }
 },
 "nbformat": 4,
 "nbformat_minor": 2
}
