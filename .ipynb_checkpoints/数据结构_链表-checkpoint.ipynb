{
 "cells": [
  {
   "cell_type": "markdown",
   "metadata": {},
   "source": [
    "### 160. 相交链表\n",
    "编写一个程序，找到两个单链表相交的起始节点。"
   ]
  },
  {
   "cell_type": "code",
   "execution_count": 7,
   "metadata": {},
   "outputs": [],
   "source": [
    "##将连个链表收尾相连,如果没有相交，最后返回None\n",
    "##l1->l2\n",
    "##l2->l1\n",
    "# Definition for singly-linked list.\n",
    "class ListNode:\n",
    "    def __init__(self, x):\n",
    "        self.val = x\n",
    "        self.next = None\n",
    "\n",
    "class Solution:\n",
    "    def getIntersectionNode(self, headA: ListNode, headB: ListNode) -> ListNode:\n",
    "        l1 = headA\n",
    "        l2 = headB\n",
    "        while l1!=l2:\n",
    "            l1 = l1.next if l1!=None else headB\n",
    "            l2 = l2.next if l2!=None else headA\n",
    "        return l1\n",
    "# 如果只是判断是否存在交点，那么就是另一个问题，即 编程之美 3.6 的问题。有两种解法：\n",
    "\n",
    "# 把第一个链表的结尾连接到第二个链表的开头，看第二个链表是否存在环；\n",
    "# 或者直接比较两个链表的最后一个节点是否相同。"
   ]
  },
  {
   "cell_type": "code",
   "execution_count": 9,
   "metadata": {},
   "outputs": [
    {
     "data": {
      "text/plain": [
       "False"
      ]
     },
     "execution_count": 9,
     "metadata": {},
     "output_type": "execute_result"
    }
   ],
   "source": [
    "## 两个Node相等是指同一Node，而不是链表的值相等\n",
    "l1 = ListNode(1)\n",
    "l2 = ListNode(1)\n",
    "l1==l2"
   ]
  },
  {
   "cell_type": "markdown",
   "metadata": {},
   "source": [
    "### 206. 反转链表\n",
    "反转一个单链表。\n",
    "\n",
    "示例:\n",
    "\n",
    "输入: 1->2->3->4->5->NULL\n",
    "输出: 5->4->3->2->1->NULL\n"
   ]
  },
  {
   "cell_type": "code",
   "execution_count": 29,
   "metadata": {},
   "outputs": [],
   "source": [
    "class ListNode:\n",
    "    def __init__(self,x):\n",
    "        self.val = x\n",
    "        self.next = None\n",
    "class Solution:\n",
    "    def reverseList(self, head: ListNode) -> ListNode:\n",
    "        if head==None:\n",
    "            return head\n",
    "        cur = head\n",
    "        cur_next = cur.next\n",
    "        pre = None\n",
    "        while cur!=None:\n",
    "            cur_next = cur.next\n",
    "            cur.next = pre\n",
    "            pre = cur\n",
    "            cur = cur_next\n",
    "        return pre"
   ]
  },
  {
   "cell_type": "code",
   "execution_count": 32,
   "metadata": {},
   "outputs": [
    {
     "data": {
      "text/plain": [
       "5"
      ]
     },
     "execution_count": 32,
     "metadata": {},
     "output_type": "execute_result"
    }
   ],
   "source": [
    "l1 = ListNode(1)\n",
    "l2 = ListNode(2)\n",
    "l3 = ListNode(3)\n",
    "l4 = ListNode(4)\n",
    "l5 = ListNode(5)\n",
    "l1.next = l2\n",
    "l2.next = l3\n",
    "l3.next = l4\n",
    "l4.next = l5\n",
    "Solution().reverseList(l1).val"
   ]
  },
  {
   "cell_type": "markdown",
   "metadata": {},
   "source": [
    "### 21. 合并两个有序链表\n",
    "将两个升序链表合并为一个新的升序链表并返回。新链表是通过拼接给定的两个链表的所有节点组成的。 \n",
    "\n",
    "示例：\n",
    "\n",
    "输入：1->2->4, 1->3->4\n",
    "输出：1->1->2->3->4->4"
   ]
  },
  {
   "cell_type": "code",
   "execution_count": 40,
   "metadata": {},
   "outputs": [],
   "source": [
    "## 递归\n",
    "# Definition for singly-linked list.\n",
    "class ListNode:\n",
    "    def __init__(self, val=0, next=None):\n",
    "        self.val = val\n",
    "        self.next = next\n",
    "class Solution:\n",
    "    def mergeTwoLists(self, l1: ListNode, l2: ListNode) -> ListNode:\n",
    "        if l1==None:\n",
    "            return l2\n",
    "        if l2==None:\n",
    "            return l1\n",
    "        if l1.val>=l2.val:\n",
    "            l2.next = self.mergeTwoLists(l1,l2.next)\n",
    "            return l2\n",
    "        else:\n",
    "            l1.next = self.mergeTwoLists(l1.next,l2)\n",
    "            return l1"
   ]
  },
  {
   "cell_type": "markdown",
   "metadata": {},
   "source": [
    "### 83. 删除排序链表中的重复元素\n",
    "给定一个排序链表，删除所有重复的元素，使得每个元素只出现一次。\n",
    "\n",
    "示例 1:\n",
    "\n",
    "输入: 1->1->2\n",
    "输出: 1->2\n",
    "示例 2:\n",
    "\n",
    "输入: 1->1->2->3->3\n",
    "输出: 1->2->3\n",
    "通过次数103,297提交次数204,972"
   ]
  },
  {
   "cell_type": "code",
   "execution_count": 42,
   "metadata": {},
   "outputs": [],
   "source": [
    "### 方法一\n",
    "# Definition for singly-linked list.\n",
    "class ListNode:\n",
    "    def __init__(self, x):\n",
    "        self.val = x\n",
    "        self.next = None\n",
    "\n",
    "class Solution:\n",
    "    def deleteDuplicates(self, head: ListNode) -> ListNode:\n",
    "        if head==None or head.next==None:\n",
    "            return head\n",
    "        cur = head\n",
    "        while cur.next!=None:\n",
    "            if cur.next.val == cur.val:\n",
    "                cur_next_next = cur.next.next\n",
    "                cur.next = cur_next_next\n",
    "            else:\n",
    "                cur = cur.next\n",
    "            if cur == None:\n",
    "                break\n",
    "        return head"
   ]
  },
  {
   "cell_type": "code",
   "execution_count": 43,
   "metadata": {},
   "outputs": [],
   "source": [
    "### 方法二 递归"
   ]
  },
  {
   "cell_type": "code",
   "execution_count": null,
   "metadata": {},
   "outputs": [],
   "source": []
  }
 ],
 "metadata": {
  "kernelspec": {
   "display_name": "Python 3",
   "language": "python",
   "name": "python3"
  },
  "language_info": {
   "codemirror_mode": {
    "name": "ipython",
    "version": 3
   },
   "file_extension": ".py",
   "mimetype": "text/x-python",
   "name": "python",
   "nbconvert_exporter": "python",
   "pygments_lexer": "ipython3",
   "version": "3.7.0"
  }
 },
 "nbformat": 4,
 "nbformat_minor": 2
}
