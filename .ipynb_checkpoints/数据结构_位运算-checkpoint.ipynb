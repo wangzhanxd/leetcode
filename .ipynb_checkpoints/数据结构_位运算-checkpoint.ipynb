{
 "cells": [
  {
   "cell_type": "markdown",
   "metadata": {},
   "source": [
    "### 461. Hamming Distance\n",
    "The Hamming distance between two integers is the number of positions at which the corresponding bits are different.\n",
    "\n",
    "Given two integers x and y, calculate the Hamming distance."
   ]
  },
  {
   "cell_type": "code",
   "execution_count": 2,
   "metadata": {},
   "outputs": [
    {
     "data": {
      "text/plain": [
       "3"
      ]
     },
     "execution_count": 2,
     "metadata": {},
     "output_type": "execute_result"
    }
   ],
   "source": [
    "class Solution:\n",
    "    def hammingDistance(self, x: int, y: int) -> int:\n",
    "        cnt = 0\n",
    "        n = x^y\n",
    "        while n>0:\n",
    "            temp = n&1  ###不用temp会报错 原因未知\n",
    "            cnt = cnt + temp\n",
    "            n = n>>1\n",
    "        return cnt"
   ]
  },
  {
   "cell_type": "markdown",
   "metadata": {},
   "source": [
    "### 136. Single Number\n",
    "Given a non-empty array of integers nums, every element appears twice except for one. Find that single one.\n",
    "\n",
    "Follow up: Could you implement a solution with a linear runtime complexity and without using extra memory?\n",
    "\n",
    " \n",
    "\n",
    "Example 1:\n",
    "\n",
    "Input: nums = [2,2,1]<br>\n",
    "Output: 1"
   ]
  },
  {
   "cell_type": "code",
   "execution_count": 51,
   "metadata": {},
   "outputs": [],
   "source": [
    "from typing import List\n",
    "class Solution:\n",
    "    def singleNumber(self, nums: List[int]) -> int:\n",
    "        ret = 0\n",
    "        for ele in nums:\n",
    "            ret = ret^ele\n",
    "        return ret"
   ]
  },
  {
   "cell_type": "markdown",
   "metadata": {},
   "source": [
    "### 268. Missing Number\n",
    "Given an array nums containing n distinct numbers in the range [0, n], return the only number in the range that is missing from the array.\n",
    "\n",
    "Follow up: Could you implement a solution using only O(1) extra space complexity and O(n) runtime complexity?"
   ]
  },
  {
   "cell_type": "code",
   "execution_count": 55,
   "metadata": {},
   "outputs": [],
   "source": [
    "# Example 1:\n",
    "\n",
    "# Input: nums = [3,0,1]\n",
    "# Output: 2\n",
    "# Explanation: n = 3 since there are 3 numbers, so all numbers are in the range [0,3]. 2 is the missing number in the range since it does not appear in nums.\n",
    "\n",
    "\n",
    "# Example 2:\n",
    "\n",
    "# Input: nums = [0,1]\n",
    "# Output: 2\n",
    "# Explanation: n = 2 since there are 2 numbers, so all numbers are in the range [0,2]. 2 is the missing number in the range since it does not appear in nums."
   ]
  },
  {
   "cell_type": "code",
   "execution_count": 61,
   "metadata": {},
   "outputs": [],
   "source": [
    "class Solution:\n",
    "    def missingNumber(self, nums: List[int]) -> int:\n",
    "        n = len(nums)\n",
    "        return int(n*(n+1)/2-sum(nums))\n",
    "\n",
    "## 参考的java代码比较奇怪 看不懂\n",
    "# public int missingNumber(int[] nums) {\n",
    "#     int ret = 0;\n",
    "#     for (int i = 0; i < nums.length; i++) {\n",
    "#         ret = ret ^ i ^ nums[i];\n",
    "#     }\n",
    "#     return ret ^ nums.length;\n",
    "# }\n"
   ]
  },
  {
   "cell_type": "markdown",
   "metadata": {},
   "source": [
    "### 260. Single Number III\n",
    "Given an integer array nums, in which exactly two elements appear only once and all the other elements appear exactly twice. Find the two elements that appear only once. You can return the answer in any order.\n",
    "\n",
    "Follow up: Your algorithm should run in linear runtime complexity. Could you implement it using only constant space complexity?\n",
    "\n",
    " \n",
    "\n",
    "Example 1:<br>\n",
    "\n",
    "Input: nums = [1,2,1,3,2,5]<br>\n",
    "Output: [3,5]<br>\n",
    "Explanation:  [5, 3] is also a valid answer<br>."
   ]
  },
  {
   "cell_type": "code",
   "execution_count": 70,
   "metadata": {},
   "outputs": [],
   "source": [
    "class Solution:\n",
    "    def singleNumber(self, nums: List[int]) -> List[int]:\n",
    "        diff = 0 \n",
    "        ### 相同元素异或等于0\n",
    "        for ele in nums:\n",
    "            diff = diff^ele\n",
    "        ### 取出最低位的1，利用这一位区分不同的两个元素\n",
    "        diff = diff&(-diff)\n",
    "        ret = [0,0]\n",
    "        for ele in nums:\n",
    "            if diff&ele ==0:\n",
    "                ret[0] = ret[0]^ele\n",
    "            else:\n",
    "                ret[1] = ret[1]^ele\n",
    "        return ret"
   ]
  },
  {
   "cell_type": "markdown",
   "metadata": {},
   "source": [
    "### 190. Reverse Bits\n",
    "Reverse bits of a given 32 bits unsigned integer.\n",
    "\n",
    "Note:\n",
    "\n",
    "Note that in some languages such as Java, there is no unsigned integer type. In this case, both input and output will be given as a signed integer type. They should not affect your implementation, as the integer's internal binary representation is the same, whether it is signed or unsigned.\n",
    "In Java, the compiler represents the signed integers using 2's complement notation. Therefore, in Example 2 above, the input represents the signed integer -3 and the output represents the signed integer -1073741825.\n",
    "Follow up:\n",
    "\n",
    "If this function is called many times, how would you optimize it?"
   ]
  },
  {
   "cell_type": "code",
   "execution_count": null,
   "metadata": {},
   "outputs": [],
   "source": [
    "n = 11\n",
    "ret = 0\n",
    "for i in range(32):\n",
    "    ret = ret<<1\n",
    "    ret = ret|(n&1)\n",
    "    n = n>>1"
   ]
  },
  {
   "cell_type": "markdown",
   "metadata": {},
   "source": [
    "### 6. 不用额外变量交换两个整数\n",
    "程序员代码面试指南 ：P317\n",
    "\n",
    "a = a ^ b;<br>\n",
    "b = a ^ b;<br>\n",
    "a = a ^ b;<br>"
   ]
  },
  {
   "cell_type": "markdown",
   "metadata": {},
   "source": [
    "### 231. Power of Two\n",
    "Given an integer n, return true if it is a power of two. Otherwise, return false.\n",
    "\n",
    "An integer n is a power of two, if there exists an integer x such that n == 2x.\n",
    "\n",
    " \n",
    "\n",
    "Example 1:<br>\n",
    "\n",
    "Input: n = 1<br>\n",
    "Output: true<br>\n",
    "Explanation: 20 = 1<br>"
   ]
  },
  {
   "cell_type": "code",
   "execution_count": 73,
   "metadata": {},
   "outputs": [],
   "source": [
    "class Solution:\n",
    "    def isPowerOfTwo(self, n: int) -> bool:\n",
    "        cnt = 0\n",
    "        while n>0:\n",
    "            temp = n&1\n",
    "            n = n>>1\n",
    "            cnt = cnt + temp\n",
    "            if cnt>1:\n",
    "                return False\n",
    "        return cnt==1"
   ]
  },
  {
   "cell_type": "code",
   "execution_count": 76,
   "metadata": {},
   "outputs": [],
   "source": [
    "### 或者利用 1000&0111=0\n",
    "class Solution:\n",
    "    def isPowerOfTwo(self, n: int) -> bool:\n",
    "        return n>0 and n&(n-1)==0"
   ]
  },
  {
   "cell_type": "markdown",
   "metadata": {},
   "source": [
    "### 342. Power of Four\n",
    "\n",
    "Given an integer n, return true if it is a power of four. Otherwise, return false.\n",
    "\n",
    "An integer n is a power of four, if there exists an integer x such that n == 4x.\n",
    "\n",
    " \n",
    "\n",
    "Example 1:\n",
    "\n",
    "Input: n = 16<br>\n",
    "Output: true"
   ]
  },
  {
   "cell_type": "code",
   "execution_count": 83,
   "metadata": {},
   "outputs": [],
   "source": [
    "### 只有最高为1且是奇数位为1\n",
    "class Solution:\n",
    "    def isPowerOfFour(self, n: int) -> bool:\n",
    "        cnt = 0\n",
    "        cnt1 = 0\n",
    "        while n>0:\n",
    "            cnt1 += 1\n",
    "            temp = n&1\n",
    "            n = n>>1\n",
    "            cnt = cnt + temp\n",
    "            if cnt>1:\n",
    "                return False\n",
    "        return cnt==1 and cnt1%2==1"
   ]
  },
  {
   "cell_type": "markdown",
   "metadata": {},
   "source": [
    "### 693. 交替位二进制数\n",
    "给定一个正整数，检查它的二进制表示是否总是 0、1 交替出现：换句话说，就是二进制表示中相邻两位的数字永不相同。\n",
    "\n",
    " \n",
    "\n",
    "示例 1：\n",
    "\n",
    "输入：n = 5<br>\n",
    "输出：true<br>\n",
    "解释：5 的二进制表示是：101<br>"
   ]
  },
  {
   "cell_type": "code",
   "execution_count": 84,
   "metadata": {},
   "outputs": [],
   "source": [
    "class Solution:\n",
    "    def hasAlternatingBits(self, n: int) -> bool:\n",
    "        while n>0:\n",
    "            a = n&1\n",
    "            n=n>>1\n",
    "            b = n&1\n",
    "            if a^b==0:\n",
    "                return False\n",
    "        return True\n",
    "### 参考解法\n",
    "# public boolean hasAlternatingBits(int n) {\n",
    "#     int a = (n ^ (n >> 1));\n",
    "#     return (a & (a + 1)) == 0;\n",
    "# }"
   ]
  },
  {
   "cell_type": "markdown",
   "metadata": {},
   "source": [
    "### 476. Number Complement\n",
    "\n",
    "Given a positive integer num, output its complement number. The complement strategy is to flip the bits of its binary representation.\n",
    "\n",
    " \n",
    "\n",
    "Example 1:\n",
    "\n",
    "Input: num = 5<br>\n",
    "Output: 2<br>\n",
    "Explanation: The binary representation of 5 is 101 (no leading zero bits), and its complement is 010. So you need to output 2.<br>"
   ]
  },
  {
   "cell_type": "code",
   "execution_count": 88,
   "metadata": {},
   "outputs": [
    {
     "name": "stdout",
     "output_type": "stream",
     "text": [
      "0b111\n",
      "0b0\n"
     ]
    }
   ],
   "source": [
    "## 参考\n",
    "# public int findComplement(int num) {\n",
    "#     if (num == 0) return 1;\n",
    "#     int mask = 1 << 30;\n",
    "#     while ((num & mask) == 0) mask >>= 1;\n",
    "#     mask = (mask << 1) - 1;\n",
    "#     return num ^ mask;\n",
    "# }\n",
    "\n",
    "### 其实是求反码，但是前面的0不管\n",
    "class Solution:\n",
    "    def findComplement(self, num: int) -> int:\n",
    "        ret = 0\n",
    "        temp = 1\n",
    "        if num == 0:\n",
    "            return 1\n",
    "        while num>0:\n",
    "            last = (num&1)^1\n",
    "            ret = ret + last*temp\n",
    "            temp = temp<<1\n",
    "            num = num>>1\n",
    "        return ret"
   ]
  },
  {
   "cell_type": "code",
   "execution_count": 96,
   "metadata": {},
   "outputs": [
    {
     "name": "stdout",
     "output_type": "stream",
     "text": [
      "0b10\n"
     ]
    }
   ],
   "source": [
    "num =5\n",
    "ret = 0\n",
    "temp = 1\n",
    "while num>0:\n",
    "    last = (num&1)^1\n",
    "    ret = ret + last*temp\n",
    "    temp = temp<<1\n",
    "    num = num>>1\n",
    "print(bin(ret))"
   ]
  },
  {
   "cell_type": "code",
   "execution_count": null,
   "metadata": {},
   "outputs": [],
   "source": []
  }
 ],
 "metadata": {
  "kernelspec": {
   "display_name": "Python 3",
   "language": "python",
   "name": "python3"
  },
  "language_info": {
   "codemirror_mode": {
    "name": "ipython",
    "version": 3
   },
   "file_extension": ".py",
   "mimetype": "text/x-python",
   "name": "python",
   "nbconvert_exporter": "python",
   "pygments_lexer": "ipython3",
   "version": "3.7.0"
  }
 },
 "nbformat": 4,
 "nbformat_minor": 2
}
