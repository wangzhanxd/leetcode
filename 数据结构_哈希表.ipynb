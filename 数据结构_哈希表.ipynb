{
 "cells": [
  {
   "cell_type": "markdown",
   "metadata": {},
   "source": [
    "### 1. 两数之和\n",
    "给定一个整数数组 nums 和一个目标值 target，请你在该数组中找出和为目标值的那 两个 整数，并返回他们的数组下标。\n",
    "\n",
    "你可以假设每种输入只会对应一个答案。但是，数组中同一个元素不能使用两遍。\n",
    "\n",
    " \n",
    "\n",
    "示例:\n",
    "\n",
    "给定 nums = [2, 7, 11, 15], target = 9\n",
    "\n",
    "因为 nums[0] + nums[1] = 2 + 7 = 9\n",
    "所以返回 [0, 1]"
   ]
  },
  {
   "cell_type": "code",
   "execution_count": 10,
   "metadata": {},
   "outputs": [],
   "source": [
    "from typing import List\n",
    "class Solution:\n",
    "    def twoSum(self, nums: List[int], target: int) -> List[int]:\n",
    "        hashmap = {}\n",
    "        for i in range(len(nums)):\n",
    "            if target-nums[i] in hashmap.keys():\n",
    "                return [hashmap[target-nums[i]],i]\n",
    "            else:\n",
    "                hashmap[nums[i]] = i\n",
    "        return []"
   ]
  },
  {
   "cell_type": "markdown",
   "metadata": {},
   "source": [
    "### 217. 存在重复元素\n",
    "给定一个整数数组，判断是否存在重复元素。\n",
    "\n",
    "如果任意一值在数组中出现至少两次，函数返回 true 。如果数组中每个元素都不相同，则返回 false 。\n",
    "\n",
    " \n",
    "\n",
    "示例 1:\n",
    "\n",
    "输入: [1,2,3,1]\n",
    "输出: true\n",
    "示例 2:\n",
    "\n",
    "输入: [1,2,3,4]\n",
    "输出: false\n",
    "示例 3:\n",
    "\n",
    "输入: [1,1,1,3,3,4,3,2,4,2]\n",
    "输出: true"
   ]
  },
  {
   "cell_type": "code",
   "execution_count": 9,
   "metadata": {},
   "outputs": [],
   "source": [
    "class Solution:\n",
    "    def containsDuplicate(self, nums: List[int]) -> bool:\n",
    "        nums_set = set(nums)\n",
    "        return not len(nums) == len(nums_set)"
   ]
  },
  {
   "cell_type": "markdown",
   "metadata": {},
   "source": [
    "### 594. 最长和谐子序列\n",
    "和谐数组是指一个数组里元素的最大值和最小值之间的差别正好是1。\n",
    "\n",
    "现在，给定一个整数数组，你需要在所有可能的子序列中找到最长的和谐子序列的长度。\n",
    "\n",
    "示例 1:\n",
    "\n",
    "输入: [1,3,2,2,5,2,3,7]\n",
    "输出: 5\n",
    "原因: 最长的和谐数组是：[3,2,2,2,3]."
   ]
  },
  {
   "cell_type": "code",
   "execution_count": 22,
   "metadata": {},
   "outputs": [],
   "source": [
    "class Solution:\n",
    "    def findLHS(self, nums: List[int]) -> int:\n",
    "        hashmap = {}\n",
    "        longest = 0\n",
    "        for ele in nums:\n",
    "            hashmap[ele] = hashmap.get(ele,0) + 1\n",
    "        for ele in hashmap.keys():\n",
    "            if ele+1 in hashmap.keys():\n",
    "                longest = max(longest,hashmap.get(ele,0)+hashmap.get(ele+1,0))\n",
    "        return longest"
   ]
  },
  {
   "cell_type": "markdown",
   "metadata": {},
   "source": [
    "### 128. 最长连续序列\n",
    "给定一个未排序的整数数组，找出最长连续序列的长度。\n",
    "\n",
    "要求算法的时间复杂度为 O(n)。\n",
    "\n",
    "示例:\n",
    "\n",
    "输入: [100, 4, 200, 1, 3, 2]\n",
    "输出: 4\n",
    "解释: 最长连续序列是 [1, 2, 3, 4]。它的长度为 4。"
   ]
  },
  {
   "cell_type": "code",
   "execution_count": 45,
   "metadata": {},
   "outputs": [],
   "source": [
    "class Solution:\n",
    "    def __int__(self):\n",
    "        self.nums = []\n",
    "        self.hashmap = {}\n",
    "    def foward(self,num,hashmap):###计算以某个元素开始的最长连续子序列\n",
    "        cnt = hashmap.get(num,0)\n",
    "        if cnt == 0:\n",
    "            return 0\n",
    "        if cnt > 1:###已经计算过 直接return\n",
    "            return cnt\n",
    "        cnt = self.foward(num+1,hashmap) + 1\n",
    "        hashmap[num] = cnt\n",
    "        return cnt\n",
    "    def longestConsecutive(self, nums: List[int]) -> int:\n",
    "        self.nums = nums\n",
    "        self.hashmap = dict([(ele,1) for ele in self.nums])\n",
    "        for num in self.nums:\n",
    "            self.foward(num,self.hashmap)\n",
    "        ### hashmap {100: 1, 4: 1, 200: 1, 1: 4, 3: 2, 2: 3}\n",
    "        return max(self.hashmap.values())"
   ]
  },
  {
   "cell_type": "code",
   "execution_count": null,
   "metadata": {},
   "outputs": [],
   "source": []
  }
 ],
 "metadata": {
  "kernelspec": {
   "display_name": "Python 3",
   "language": "python",
   "name": "python3"
  },
  "language_info": {
   "codemirror_mode": {
    "name": "ipython",
    "version": 3
   },
   "file_extension": ".py",
   "mimetype": "text/x-python",
   "name": "python",
   "nbconvert_exporter": "python",
   "pygments_lexer": "ipython3",
   "version": "3.7.0"
  }
 },
 "nbformat": 4,
 "nbformat_minor": 2
}
