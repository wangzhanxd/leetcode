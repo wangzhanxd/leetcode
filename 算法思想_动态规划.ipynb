{
 "cells": [
  {
   "cell_type": "markdown",
   "metadata": {},
   "source": [
    "# 斐波那契数列"
   ]
  },
  {
   "cell_type": "markdown",
   "metadata": {},
   "source": [
    "### 70. 爬楼梯\n",
    "假设你正在爬楼梯。需要 n 阶你才能到达楼顶。\n",
    "\n",
    "每次你可以爬 1 或 2 个台阶。你有多少种不同的方法可以爬到楼顶呢？\n",
    "\n",
    "注意：给定 n 是一个正整数。\n",
    "\n",
    "示例 1：\n",
    "\n",
    "输入： 2\n",
    "输出： 2\n",
    "解释： 有两种方法可以爬到楼顶。\n",
    "1.  1 阶 + 1 阶\n",
    "2.  2 阶\n",
    "示例 2：\n",
    "\n",
    "输入： 3\n",
    "输出： 3\n",
    "解释： 有三种方法可以爬到楼顶。\n",
    "1.  1 阶 + 1 阶 + 1 阶\n",
    "2.  1 阶 + 2 阶\n",
    "3.  2 阶 + 1 阶"
   ]
  },
  {
   "cell_type": "code",
   "execution_count": 31,
   "metadata": {},
   "outputs": [],
   "source": [
    "'''\n",
    "class Solution:\n",
    "    def climbStairs(self, n: int) -> int:\n",
    "        if n<=2:\n",
    "            return n\n",
    "        f1 = 1\n",
    "        f2 = 2\n",
    "        for i in range(n-2):\n",
    "            f3 = f1 + f2\n",
    "            f1 = f2\n",
    "            f2 = f3\n",
    "        return f3\n",
    "'''\n",
    "class Solution:\n",
    "    def climbStairs(self, n: int) -> int:\n",
    "        if n<=2:\n",
    "            return n\n",
    "        f1 = 1\n",
    "        f2 = 2\n",
    "        for i in range(n-2):\n",
    "            f1,f2 = f2,f1+f2         \n",
    "        return f2"
   ]
  },
  {
   "cell_type": "code",
   "execution_count": 29,
   "metadata": {},
   "outputs": [
    {
     "data": {
      "text/plain": [
       "8"
      ]
     },
     "execution_count": 29,
     "metadata": {},
     "output_type": "execute_result"
    }
   ],
   "source": [
    "s = Solution()\n",
    "s.climbStairs(5)"
   ]
  },
  {
   "cell_type": "markdown",
   "metadata": {},
   "source": [
    "### 198. 打家劫舍\n",
    "你是一个专业的小偷，计划偷窃沿街的房屋。每间房内都藏有一定的现金，影响你偷窃的唯一制约因素就是相邻的房屋装有相互连通的防盗系统，如果两间相邻的房屋在同一晚上被小偷闯入，系统会自动报警。\n",
    "\n",
    "给定一个代表每个房屋存放金额的非负整数数组，计算你在不触动警报装置的情况下，能够偷窃到的最高金额。\n",
    "\n",
    "示例 1:\n",
    "\n",
    "输入: [1,2,3,1]\n",
    "输出: 4\n",
    "解释: 偷窃 1 号房屋 (金额 = 1) ，然后偷窃 3 号房屋 (金额 = 3)。\n",
    "     偷窃到的最高金额 = 1 + 3 = 4 。\n",
    "示例 2:\n",
    "\n",
    "输入: [2,7,9,3,1]\n",
    "输出: 12\n",
    "解释: 偷窃 1 号房屋 (金额 = 2), 偷窃 3 号房屋 (金额 = 9)，接着偷窃 5 号房屋 (金额 = 1)。\n",
    "     偷窃到的最高金额 = 2 + 9 + 1 = 12 。"
   ]
  },
  {
   "cell_type": "code",
   "execution_count": 49,
   "metadata": {},
   "outputs": [],
   "source": [
    "## f(n) = max(f(n-1)+(nums[n]+f(n-2))\n",
    "from typing import List\n",
    "\"\"\"\n",
    "class Solution:\n",
    "    def rob(self, nums: List[int]) -> int:\n",
    "        if nums==None or len(nums)==0:\n",
    "            return 0\n",
    "        if len(nums)<=2:\n",
    "            return max(nums)\n",
    "        f1 = nums[0]\n",
    "        f2 = max(nums[0],nums[1])\n",
    "        for i in range(2,len(nums)):\n",
    "            f3 = max(f2,f1+nums[i])\n",
    "            f1 = f2\n",
    "            f2 = f3\n",
    "        return f3\n",
    "\"\"\"\n",
    "class Solution:\n",
    "    def rob(self, nums: List[int]) -> int:\n",
    "        if nums==None or len(nums)==0:\n",
    "            return 0\n",
    "        f1 = 0\n",
    "        f2 = 0\n",
    "        for i in range(len(nums)):\n",
    "            f3 = max(f2,f1+nums[i])\n",
    "            f1 = f2\n",
    "            f2 = f3\n",
    "        return f3"
   ]
  },
  {
   "cell_type": "code",
   "execution_count": 50,
   "metadata": {},
   "outputs": [
    {
     "data": {
      "text/plain": [
       "12"
      ]
     },
     "execution_count": 50,
     "metadata": {},
     "output_type": "execute_result"
    }
   ],
   "source": [
    "nums = [2,7,9,3,1]\n",
    "s =Solution()\n",
    "s.rob(nums)"
   ]
  },
  {
   "cell_type": "markdown",
   "metadata": {},
   "source": [
    "### 213. 打家劫舍 II\n",
    "你是一个专业的小偷，计划偷窃沿街的房屋，每间房内都藏有一定的现金。这个地方所有的房屋都围成一圈，这意味着第一个房屋和最后一个房屋是紧挨着的。同时，相邻的房屋装有相互连通的防盗系统，如果两间相邻的房屋在同一晚上被小偷闯入，系统会自动报警。\n",
    "\n",
    "给定一个代表每个房屋存放金额的非负整数数组，计算你在不触动警报装置的情况下，能够偷窃到的最高金额。\n",
    "\n",
    "示例 1:\n",
    "\n",
    "输入: [2,3,2]\n",
    "输出: 3\n",
    "解释: 你不能先偷窃 1 号房屋（金额 = 2），然后偷窃 3 号房屋（金额 = 2）, 因为他们是相邻的。\n",
    "示例 2:\n",
    "\n",
    "输入: [1,2,3,1]\n",
    "输出: 4\n",
    "解释: 你可以先偷窃 1 号房屋（金额 = 1），然后偷窃 3 号房屋（金额 = 3）。\n",
    "     偷窃到的最高金额 = 1 + 3 = 4 。"
   ]
  },
  {
   "cell_type": "code",
   "execution_count": 61,
   "metadata": {},
   "outputs": [],
   "source": [
    "## 考虑打劫范围是0-(n-2) 或者 1-(n-1)\n",
    "class Solution:\n",
    "    def rob(self, nums: List[int]) -> int:\n",
    "        if nums == None or len(nums) == 0:\n",
    "            return 0\n",
    "        len(nums)==1:\n",
    "        #if len(nums)<=3:\n",
    "            return max(nums)\n",
    "        return max(self.helper(0,len(nums)-2,nums),self.helper(1,len(nums)-1,nums))\n",
    "    def helper(self,first,last,nums):\n",
    "        f1 = 0\n",
    "        f2 = 0\n",
    "        for i in range(first,last+1):\n",
    "            f3 = max(f2,f1+nums[i])\n",
    "            f1 = f2\n",
    "            f2 = f3\n",
    "        return f3"
   ]
  },
  {
   "cell_type": "code",
   "execution_count": 62,
   "metadata": {},
   "outputs": [
    {
     "data": {
      "text/plain": [
       "4"
      ]
     },
     "execution_count": 62,
     "metadata": {},
     "output_type": "execute_result"
    }
   ],
   "source": [
    "s = Solution()\n",
    "s.rob([1,2,3,1])"
   ]
  },
  {
   "cell_type": "markdown",
   "metadata": {},
   "source": [
    "# 矩阵路径"
   ]
  },
  {
   "cell_type": "markdown",
   "metadata": {},
   "source": [
    "### 64. 最小路径和\n",
    "给定一个包含非负整数的 m x n 网格，请找出一条从左上角到右下角的路径，使得路径上的数字总和为最小。\n",
    "\n",
    "说明：每次只能向下或者向右移动一步。\n",
    "\n",
    "示例:\n",
    "\n",
    "输入:\n",
    "[<br>\n",
    "  [1,3,1],<br>\n",
    "  [1,5,1],<br>\n",
    "  [4,2,1]<br>\n",
    "]<br>\n",
    "输出: 7\n",
    "解释: 因为路径 1→3→1→1→1 的总和最小。"
   ]
  },
  {
   "cell_type": "code",
   "execution_count": 75,
   "metadata": {},
   "outputs": [],
   "source": [
    "class Solution:\n",
    "    def minPathSum(self, grid: List[List[int]]) -> int:\n",
    "        if grid==None or len(grid)==0:\n",
    "            return 0\n",
    "        m = len(grid)\n",
    "        n = len(grid[0])\n",
    "        for i in range(1,m):\n",
    "            grid[i][0] = grid[i][0] + grid[i-1][0]\n",
    "        for j in range(1,n):\n",
    "            grid[0][j] = grid[0][j] + grid[0][j-1]\n",
    "        for i in range(1,m):\n",
    "            for j in range(1,n):\n",
    "                grid[i][j] = grid[i][j] + min(grid[i-1][j],grid[i][j-1])\n",
    "        return grid[m-1][n-1]"
   ]
  },
  {
   "cell_type": "code",
   "execution_count": 76,
   "metadata": {},
   "outputs": [
    {
     "data": {
      "text/plain": [
       "7"
      ]
     },
     "execution_count": 76,
     "metadata": {},
     "output_type": "execute_result"
    }
   ],
   "source": [
    "k = [\n",
    "[1,3,1],\n",
    "[1,5,1],\n",
    "[4,2,1]\n",
    "]\n",
    "s = Solution()\n",
    "s.minPathSum(k)"
   ]
  },
  {
   "cell_type": "markdown",
   "metadata": {},
   "source": [
    "### 62. 不同路径\n",
    "一个机器人位于一个 m x n 网格的左上角 （起始点在下图中标记为“Start” ）。\n",
    "\n",
    "机器人每次只能向下或者向右移动一步。机器人试图达到网格的右下角（在下图中标记为“Finish”）。\n",
    "\n",
    "问总共有多少条不同的路径？\n",
    "\n",
    "\n",
    "\n",
    "例如，上图是一个7 x 3 的网格。有多少可能的路径？\n",
    "\n",
    " \n",
    "\n",
    "示例 1:\n",
    "\n",
    "输入: m = 3, n = 2\n",
    "输出: 3\n",
    "解释:\n",
    "从左上角开始，总共有 3 条路径可以到达右下角。\n",
    "1. 向右 -> 向右 -> 向下\n",
    "2. 向右 -> 向下 -> 向右\n",
    "3. 向下 -> 向右 -> 向右\n",
    "示例 2:\n",
    "\n",
    "输入: m = 7, n = 3\n",
    "输出: 28\n",
    " \n",
    "\n",
    "提示：\n",
    "\n",
    "1 <= m, n <= 100\n",
    "题目数据保证答案小于等于 2 * 10 ^ 9\n"
   ]
  },
  {
   "cell_type": "code",
   "execution_count": 113,
   "metadata": {},
   "outputs": [],
   "source": [
    "## 方法一：直接使用排列组合公式\n",
    "### 阶乘数字计算太大，会导致结果出错\n",
    "# A（m,n）= factorial(m)/factoial(m-1)\n",
    "# C（m,n）= factorial(m)/(factorial(m-n)*factorial(n))\n",
    "class Solution:\n",
    "    def Permutation(self,m,n):\n",
    "        f0 = m-n+1\n",
    "        if n==1:\n",
    "            return f0\n",
    "        for i in range(m-n+2,m+1):\n",
    "            f1 = i*f0\n",
    "            f0 = f1\n",
    "        return f1\n",
    "    def factorial(self,n):\n",
    "        f0 =1\n",
    "        for i in range(1,n+1):\n",
    "            f1 = i*f0\n",
    "            f0 = f1\n",
    "        return f1\n",
    "    def uniquePaths(self, m: int, n: int) -> int:\n",
    "        if m<=0 or n <=0:\n",
    "            return 0\n",
    "        if m==1 or n==1:\n",
    "            return 1\n",
    "        ## C（m+m-1,n-1）\n",
    "        return int(self.Permutation(m+n-2,n-1)/self.Permutation(n-1,n-1))"
   ]
  },
  {
   "cell_type": "code",
   "execution_count": 117,
   "metadata": {},
   "outputs": [],
   "source": [
    "###方法二 使用动态规划\n",
    "class Solution:\n",
    "    def uniquePaths(self, m: int, n: int) -> int:\n",
    "        if m<=0 or n <=0:\n",
    "            return 0\n",
    "        if m==1 or n==1:\n",
    "            return 1\n",
    "        grid = [[0]*n for _ in range(m)]\n",
    "        for i in range(m):\n",
    "            grid[i][0]=1\n",
    "        for j in range(n):\n",
    "            grid[0][j]=1\n",
    "        for i in range(1,m):\n",
    "            for j in range(1,n):\n",
    "                grid[i][j] = grid[i-1][j]+grid[i][j-1]\n",
    "        return grid[m-1][n-1]"
   ]
  },
  {
   "cell_type": "code",
   "execution_count": 116,
   "metadata": {},
   "outputs": [
    {
     "data": {
      "text/plain": [
       "3"
      ]
     },
     "execution_count": 116,
     "metadata": {},
     "output_type": "execute_result"
    }
   ],
   "source": [
    "s = Solution()\n",
    "s.uniquePaths(3,2)"
   ]
  },
  {
   "cell_type": "markdown",
   "metadata": {},
   "source": [
    "### 给定一个整数数组  nums，求出数组从索引 i 到 j  (i ≤ j) 范围内元素的总和，包含 i,  j 两点。\n",
    "\n",
    "示例：\n",
    "\n",
    "给定 nums = [-2, 0, 3, -5, 2, -1]，求和函数为 sumRange()\n",
    "\n",
    "sumRange(0, 2) -> 1\n",
    "sumRange(2, 5) -> -1\n",
    "sumRange(0, 5) -> -3\n",
    "说明:\n",
    "\n",
    "你可以假设数组不可变。\n",
    "会多次调用 sumRange 方法。"
   ]
  },
  {
   "cell_type": "code",
   "execution_count": 127,
   "metadata": {},
   "outputs": [
    {
     "data": {
      "text/plain": [
       "-1"
      ]
     },
     "execution_count": 127,
     "metadata": {},
     "output_type": "execute_result"
    }
   ],
   "source": [
    "### 方法一 多次调用，没有存储中间结果，导致超时\n",
    "class NumArray:\n",
    "    def __init__(self, nums: List[int]):\n",
    "        self.nums = nums\n",
    "        self.f1 = 0\n",
    "        self.f2 = 0\n",
    "    def sumRange(self, i: int, j: int) -> int:\n",
    "        if len(self.nums)==0 or self.nums == None or i>j:\n",
    "            return 0\n",
    "        if i==j:\n",
    "            return self.nums[i]\n",
    "        self.f1 = self.nums[i]\n",
    "        for index in range(i+1,j+1):\n",
    "            self.f2 = self.nums[index] + self.f1\n",
    "            self.f1 = self.f2\n",
    "        return self.f2\n",
    "nums = [-1]\n",
    "s = NumArray(nums)\n",
    "s.sumRange(0,0)"
   ]
  },
  {
   "cell_type": "code",
   "execution_count": 154,
   "metadata": {},
   "outputs": [
    {
     "name": "stdout",
     "output_type": "stream",
     "text": [
      "0 -3\n"
     ]
    },
    {
     "data": {
      "text/plain": [
       "-3"
      ]
     },
     "execution_count": 154,
     "metadata": {},
     "output_type": "execute_result"
    }
   ],
   "source": [
    "### 方法二 存储计算的中间结果，方便多次调用\n",
    "class NumArray:\n",
    "    ### 相当于构造方法\n",
    "    def __init__(self, nums: List[int]):\n",
    "        self.nums = nums\n",
    "        if len(self.nums)==0 or self.nums == None:\n",
    "            self.sums = []\n",
    "        else:\n",
    "            self.sums= [0]*len(self.nums)\n",
    "            self.sums[0] = self.nums[0]\n",
    "            for index in range(1,len(self.nums)):\n",
    "                self.sums[index] = self.sums[index-1] + self.nums[index]\n",
    "    def sumRange(self, i: int, j: int) -> int:\n",
    "        if len(self.nums)==0 or self.nums == None:\n",
    "            return 0\n",
    "        if i==0:\n",
    "            return self.sums[j]\n",
    "        else:\n",
    "            return self.sums[j]-self.sums[i-1]\n",
    "nums =[-2, 0, 3, -5, 2, -1]\n",
    "s = NumArray(nums)\n",
    "s.NumArray()\n",
    "s.sumRange(0,5)"
   ]
  },
  {
   "cell_type": "markdown",
   "metadata": {},
   "source": [
    "### 413. 等差数列划分\n",
    "如果一个数列至少有三个元素，并且任意两个相邻元素之差相同，则称该数列为等差数列。\n",
    "\n",
    "例如，以下数列为等差数列:\n",
    "\n",
    "1, 3, 5, 7, 9\n",
    "7, 7, 7, 7\n",
    "3, -1, -5, -9\n",
    "以下数列不是等差数列。\n",
    "\n",
    "1, 1, 2, 5, 7\n",
    " \n",
    "\n",
    "数组 A 包含 N 个数，且索引从0开始。数组 A 的一个子数组划分为数组 (P, Q)，P 与 Q 是整数且满足 0<=P<Q<N 。\n",
    "\n",
    "如果满足以下条件，则称子数组(P, Q)为等差数组：\n",
    "\n",
    "元素 A[P], A[p + 1], ..., A[Q - 1], A[Q] 是等差的。并且 P + 1 < Q 。\n",
    "\n",
    "函数要返回数组 A 中所有为等差数组的子数组个数。\n",
    "\n",
    " \n",
    "\n",
    "示例:\n",
    "\n",
    "A = [1, 2, 3, 4]\n",
    "\n",
    "返回: 3, A 中有三个子等差数组: [1, 2, 3], [2, 3, 4] 以及自身 [1, 2, 3, 4]。"
   ]
  },
  {
   "cell_type": "code",
   "execution_count": 160,
   "metadata": {},
   "outputs": [
    {
     "data": {
      "text/plain": [
       "4"
      ]
     },
     "execution_count": 160,
     "metadata": {},
     "output_type": "execute_result"
    }
   ],
   "source": [
    "##以i结尾的等差数列的个数等于0或者等于以i-1的等差数列的个数加一\n",
    "class Solution:\n",
    "    def numberOfArithmeticSlices(self, A: List[int]) -> int:\n",
    "        if len(A)<3 or A==None:\n",
    "            return 0\n",
    "        dp = [0]*len(A)\n",
    "        for i in range(2,len(A)):\n",
    "            if A[i]-A[i-1]==A[i-1]-A[i-2]:\n",
    "                dp[i] = dp[i-1] + 1\n",
    "        return sum(dp)\n",
    "s = Solution()\n",
    "A = [1,2,4,6,7,8,9]\n",
    "s.numberOfArithmeticSlices(A)"
   ]
  },
  {
   "cell_type": "markdown",
   "metadata": {},
   "source": [
    "### 343. 整数拆分\n",
    "给定一个正整数 n，将其拆分为至少两个正整数的和，并使这些整数的乘积最大化。 返回你可以获得的最大乘积。\n",
    "\n",
    "示例 1:\n",
    "\n",
    "输入: 2\n",
    "输出: 1\n",
    "解释: 2 = 1 + 1, 1 × 1 = 1。\n",
    "示例 2:\n",
    "\n",
    "输入: 10\n",
    "输出: 36\n",
    "解释: 10 = 3 + 3 + 4, 3 × 3 × 4 = 36。"
   ]
  },
  {
   "cell_type": "code",
   "execution_count": 163,
   "metadata": {},
   "outputs": [],
   "source": [
    "##输入2  1 1\n",
    "##输入3  1 1 1    1 2     2 1  \n",
    "##输入4  1 1 1 1  1 2 1   2 1 1  1 3  2 2  3 1\n",
    "###拆分成二元是新增的\n",
    "class Solution:\n",
    "    def integerBreak(self, n: int) -> int:\n",
    "        if n==0 or n==None:\n",
    "            return 0\n",
    "        dp = [0]*(n+1)\n",
    "        dp[1] = 1\n",
    "        for i in range(2,n+1):\n",
    "            for j in range(1,i):\n",
    "                dp[i] = max(dp[i],j*dp[i-j],j*(i-j))###枚举了所有情况 求最大\n",
    "        return dp[n]"
   ]
  },
  {
   "cell_type": "markdown",
   "metadata": {},
   "source": [
    "### 279. 完全平方数\n",
    "给定正整数 n，找到若干个完全平方数（比如 1, 4, 9, 16, ...）使得它们的和等于 n。你需要让组成和的完全平方数的个数最少。\n",
    "\n",
    "示例 1:\n",
    "\n",
    "输入: n = 12\n",
    "输出: 3 \n",
    "解释: 12 = 4 + 4 + 4.\n",
    "示例 2:\n",
    "\n",
    "输入: n = 13\n",
    "输出: 2\n",
    "解释: 13 = 4 + 9."
   ]
  },
  {
   "cell_type": "code",
   "execution_count": 218,
   "metadata": {},
   "outputs": [
    {
     "data": {
      "text/plain": [
       "3"
      ]
     },
     "execution_count": 218,
     "metadata": {},
     "output_type": "execute_result"
    }
   ],
   "source": [
    "###方法1 不好的方法 超时\n",
    "class Solution:\n",
    "    def __init__(self):\n",
    "        self.dp = []\n",
    "    def numSquares(self, n: int) -> int:\n",
    "        if n==0 or n==None:\n",
    "            return 0\n",
    "        self.dp = [n]*(n+1)\n",
    "        temp = [i*i for i in range(1,n+1) if i*i<=n]\n",
    "        for ele in temp:\n",
    "            self.dp[ele] = 1\n",
    "        \n",
    "        self.dp[1] = 1\n",
    "        for i in range(2,n+1):\n",
    "            if i in temp:\n",
    "                continue\n",
    "            for j in range(1,int(i/2)+1):\n",
    "                self.dp[i] = min(self.dp[i],self.dp[j]+self.dp[i-j])\n",
    "        return self.dp[n]\n",
    "s = Solution()\n",
    "s.numSquares(3)"
   ]
  },
  {
   "cell_type": "code",
   "execution_count": 232,
   "metadata": {},
   "outputs": [],
   "source": [
    "### 方法2\n",
    "class Solution:\n",
    "    def __init__(self):\n",
    "        self.dp = []\n",
    "    def numSquares(self, n: int) -> int:\n",
    "        if n==0 or n==None:\n",
    "            return 0\n",
    "        self.dp = [n]*(n+1)\n",
    "        temp = [i*i for i in range(1,n+1) if i*i<=n]\n",
    "        for ele in temp:\n",
    "            self.dp[ele] = 1\n",
    "        self.dp[1] = 1\n",
    "        for i in range(2,n+1):\n",
    "            if i in temp:\n",
    "                continue\n",
    "            for ele in temp:\n",
    "                if i>ele:\n",
    "                    self.dp[i] = min(self.dp[i],self.dp[i-ele]+1)\n",
    "        return self.dp[n]"
   ]
  },
  {
   "cell_type": "code",
   "execution_count": 233,
   "metadata": {},
   "outputs": [
    {
     "data": {
      "text/plain": [
       "4"
      ]
     },
     "execution_count": 233,
     "metadata": {},
     "output_type": "execute_result"
    }
   ],
   "source": [
    "s = Solution()\n",
    "s.numSquares(28)"
   ]
  },
  {
   "cell_type": "markdown",
   "metadata": {},
   "source": [
    "### 300. 最长上升子序列\n",
    "给定一个无序的整数数组，找到其中最长上升子序列的长度。\n",
    "\n",
    "示例:\n",
    "\n",
    "输入: [10,9,2,5,3,7,101,18]\n",
    "输出: 4 \n",
    "解释: 最长的上升子序列是 [2,3,7,101]，它的长度是 4。\n",
    "说明:\n",
    "\n",
    "可能会有多种最长上升子序列的组合，你只需要输出对应的长度即可。\n",
    "你算法的时间复杂度应该为 O(n2) 。\n",
    "进阶: 你能将算法的时间复杂度降低到 O(n log n) 吗?"
   ]
  },
  {
   "cell_type": "code",
   "execution_count": 245,
   "metadata": {},
   "outputs": [
    {
     "name": "stdout",
     "output_type": "stream",
     "text": [
      "[1, 2, 3, 4, 5, 3, 6, 4, 5]\n"
     ]
    },
    {
     "data": {
      "text/plain": [
       "6"
      ]
     },
     "execution_count": 245,
     "metadata": {},
     "output_type": "execute_result"
    }
   ],
   "source": [
    "class Solution:\n",
    "    def lengthOfLIS(self, nums: List[int]) -> int:\n",
    "        if nums==None or len(nums) == 0:\n",
    "            return 0\n",
    "        n = len(nums)\n",
    "        dp = [1]*n\n",
    "        for i in range(1,n):\n",
    "            for j in range(i):\n",
    "                if nums[i]>nums[j]:\n",
    "                    dp[i] = max(dp[i],dp[j]+1)\n",
    "        print(dp)\n",
    "        return max(dp)\n",
    "s = Solution()\n",
    "s.lengthOfLIS([1,3,6,7,9,4,10,5,6])"
   ]
  },
  {
   "cell_type": "markdown",
   "metadata": {},
   "source": [
    "### 646. 最长数对链\n",
    "给出 n 个数对。 在每一个数对中，第一个数字总是比第二个数字小。\n",
    "\n",
    "现在，我们定义一种跟随关系，当且仅当 b < c 时，数对(c, d) 才可以跟在 (a, b) 后面。我们用这种形式来构造一个数对链。\n",
    "\n",
    "给定一个对数集合，找出能够形成的最长数对链的长度。你不需要用到所有的数对，你可以以任何顺序选择其中的一些数对来构造。\n",
    "\n",
    "示例 :\n",
    "\n",
    "输入: [[1,2], [2,3], [3,4]]\n",
    "输出: 2\n",
    "解释: 最长的数对链是 [1,2] -> [3,4]\n",
    "注意：\n",
    "\n",
    "给出数对的个数在 [1, 1000] 范围内。"
   ]
  },
  {
   "cell_type": "code",
   "execution_count": 248,
   "metadata": {},
   "outputs": [],
   "source": [
    "class Solution:\n",
    "    def findLongestChain(self, pairs: List[List[int]]) -> int:\n",
    "        if pairs==None or len(pairs)==0 or len(pairs[0])==0:\n",
    "            return 0\n",
    "        n = len(pairs)\n",
    "        dp = [1]*n\n",
    "        pairs.sort(key=lambda x:(x[0]))####需要排序 按照第一个元素升序排列\n",
    "        for i in range(n):\n",
    "            for j in range(n):\n",
    "                if pairs[i][0]>pairs[j][1]:\n",
    "                    dp[i] = max(dp[i],dp[j]+1)\n",
    "        return max(dp)"
   ]
  },
  {
   "cell_type": "markdown",
   "metadata": {},
   "source": [
    "### 376. 摆动序列\n",
    "如果连续数字之间的差严格地在正数和负数之间交替，则数字序列称为摆动序列。第一个差（如果存在的话）可能是正数或负数。少于两个元素的序列也是摆动序列。\n",
    "\n",
    "例如， [1,7,4,9,2,5] 是一个摆动序列，因为差值 (6,-3,5,-7,3) 是正负交替出现的。相反, [1,4,7,2,5] 和 [1,7,4,5,5] 不是摆动序列，第一个序列是因为它的前两个差值都是正数，第二个序列是因为它的最后一个差值为零。\n",
    "\n",
    "给定一个整数序列，返回作为摆动序列的最长子序列的长度。 通过从原始序列中删除一些（也可以不删除）元素来获得子序列，剩下的元素保持其原始顺序。\n",
    "<br>\n",
    "示例 1:\n",
    "输入: [1,7,4,9,2,5]\n",
    "输出: 6 \n",
    "解释: 整个序列均为摆动序列。\n",
    "<br>\n",
    "示例 2:\n",
    "输入: [1,17,5,10,13,15,10,5,16,8]\n",
    "输出: 7\n",
    "解释: 这个序列包含几个长度为 7 摆动序列，其中一个可为[1,17,10,13,10,16,8]。\n",
    "<br>\n",
    "示例 3:\n",
    "输入: [1,2,3,4,5,6,7,8,9]\n",
    "输出: 2\n",
    "<br>\n",
    "进阶:\n",
    "你能否用 O(n) 时间复杂度完成此题?"
   ]
  },
  {
   "cell_type": "code",
   "execution_count": 265,
   "metadata": {},
   "outputs": [
    {
     "data": {
      "text/plain": [
       "7"
      ]
     },
     "execution_count": 265,
     "metadata": {},
     "output_type": "execute_result"
    }
   ],
   "source": [
    "class Solution:\n",
    "    def wiggleMaxLength(self, nums: List[int]) -> int:\n",
    "        if nums==None or len(nums)==0:\n",
    "            return 0\n",
    "        n = len(nums)\n",
    "        up = 1\n",
    "        down = 1\n",
    "        for i in range(1,n):\n",
    "            if nums[i]>nums[i-1]:\n",
    "                up = down + 1\n",
    "            if nums[i]<nums[i-1]:\n",
    "                down = up + 1\n",
    "        return max(up,down)\n",
    "s = Solution()\n",
    "s.wiggleMaxLength( [1,17,5,10,13,15,10,5,16,8] )"
   ]
  },
  {
   "cell_type": "markdown",
   "metadata": {},
   "source": [
    "# 最长公共子序列"
   ]
  },
  {
   "cell_type": "markdown",
   "metadata": {},
   "source": [
    "### 1143. 最长公共子序列\n",
    "给定两个字符串 text1 和 text2，返回这两个字符串的最长公共子序列的长度。\n",
    "\n",
    "一个字符串的 子序列 是指这样一个新的字符串：它是由原字符串在不改变字符的相对顺序的情况下删除某些字符（也可以不删除任何字符）后组成的新字符串。\n",
    "例如，\"ace\" 是 \"abcde\" 的子序列，但 \"aec\" 不是 \"abcde\" 的子序列。两个字符串的「公共子序列」是这两个字符串所共同拥有的子序列。\n",
    "\n",
    "若这两个字符串没有公共子序列，则返回 0。\n",
    "\n",
    " \n",
    "\n",
    "示例 1:\n",
    "\n",
    "输入：text1 = \"abcde\", text2 = \"ace\" \n",
    "输出：3  \n",
    "解释：最长公共子序列是 \"ace\"，它的长度为 3。\n",
    "<br>\n",
    "<br>\n",
    "示例 2:\n",
    "\n",
    "输入：text1 = \"abc\", text2 = \"abc\"\n",
    "输出：3\n",
    "解释：最长公共子序列是 \"abc\"，它的长度为 3。\n",
    "\n",
    "<br>\n",
    "<br>\n",
    "示例 3:\n",
    "\n",
    "输入：text1 = \"abc\", text2 = \"def\"\n",
    "输出：0\n",
    "解释：两个字符串没有公共子序列，返回 0。\n",
    " \n",
    "<br>\n",
    "<br>\n",
    "提示:\n",
    "\n",
    "1 <= text1.length <= 1000\n",
    "1 <= text2.length <= 1000\n",
    "输入的字符串只含有小写英文字符。"
   ]
  },
  {
   "cell_type": "code",
   "execution_count": 288,
   "metadata": {},
   "outputs": [
    {
     "data": {
      "text/plain": [
       "2"
      ]
     },
     "execution_count": 288,
     "metadata": {},
     "output_type": "execute_result"
    }
   ],
   "source": [
    "class Solution:\n",
    "    ##d[i][j]含义表示 tex1[:i]和tex1[:j]公共子序列个数\n",
    "    #d[0][j] 表示text1取0个元素 公共子序列是初始值0\n",
    "    #d[i][0] 表示text2取0个元素 公共子序列是初始值0\n",
    "    #通过一个二维dp矩阵枚举多有情况，进行递推求解\n",
    "    def longestCommonSubsequence(self, text1: str, text2: str) -> int:\n",
    "        m = len(text1)\n",
    "        n = len(text2)\n",
    "        if m==0 or m ==0:\n",
    "            return 0\n",
    "        dp =[[0]*(n+1) for _ in range(m+1)]\n",
    "        for i in range(1,m+1):\n",
    "            for j in range(1,n+1):\n",
    "                if text1[i-1]==text2[j-1]:\n",
    "                    dp[i][j] = dp[i-1][j-1]+1\n",
    "                else:\n",
    "                    dp[i][j] = max(dp[i-1][j],dp[i][j-1])\n",
    "        return dp[m][n]\n",
    "\n",
    "\n",
    "\n",
    "text1 = \"oxcpqrsvwf\"\n",
    "text2 = \"shmtulqrypy\"\n",
    "s = Solution()\n",
    "s.longestCommonSubsequence(text1,text2)"
   ]
  },
  {
   "cell_type": "markdown",
   "metadata": {},
   "source": [
    "# 0-1背包问题"
   ]
  },
  {
   "cell_type": "markdown",
   "metadata": {},
   "source": [
    "### 416. 分割等和子集\n",
    "给定一个只包含正整数的非空数组。是否可以将这个数组分割成两个子集，使得两个子集的元素和相等。\n",
    "\n",
    "注意:\n",
    "\n",
    "每个数组中的元素不会超过 100\n",
    "数组的大小不会超过 200\n",
    "<br>\n",
    "<br>\n",
    "示例 1:\n",
    "\n",
    "输入: [1, 5, 11, 5]\n",
    "\n",
    "输出: true\n",
    "\n",
    "解释: 数组可以分割成 [1, 5, 5] 和 [11].\n",
    " \n",
    "<br>\n",
    "<br>\n",
    "示例 2:\n",
    "\n",
    "输入: [1, 2, 3, 5]\n",
    "\n",
    "输出: false\n",
    "\n",
    "解释: 数组不能分割成两个元素和相等的子集."
   ]
  },
  {
   "cell_type": "code",
   "execution_count": 301,
   "metadata": {},
   "outputs": [
    {
     "name": "stdout",
     "output_type": "stream",
     "text": [
      "[0, 0, 0, 0, 0, 0, 0, 0, 0, 0, 0, 0, 0, 0, 0, 0, 0, 0, 0, 0, 0, 0, 0, 0, 0, 0, 0, 0, 0, 0, 0, 0, 0, 0, 0, 0]\n",
      "[0, 0, 0, 0, 0, 0, 0, 0, 0, 0, 0, 0, 0, 0, 0, 0, 0, 0, 0, 0, 0, 0, 0, 23, 23, 23, 23, 23, 23, 23, 23, 23, 23, 23, 23, 23]\n",
      "[0, 0, 0, 0, 0, 0, 0, 0, 0, 0, 0, 0, 0, 13, 13, 13, 13, 13, 13, 13, 13, 13, 13, 23, 23, 23, 23, 23, 23, 23, 23, 23, 23, 23, 23, 23]\n",
      "[0, 0, 0, 0, 0, 0, 0, 0, 0, 0, 0, 11, 11, 13, 13, 13, 13, 13, 13, 13, 13, 13, 13, 23, 24, 24, 24, 24, 24, 24, 24, 24, 24, 24, 34, 34]\n",
      "[0, 0, 0, 0, 0, 0, 0, 7, 7, 7, 7, 11, 11, 13, 13, 13, 13, 13, 18, 18, 20, 20, 20, 23, 24, 24, 24, 24, 24, 24, 30, 31, 31, 31, 34, 34]\n",
      "[0, 0, 0, 0, 0, 0, 6, 7, 7, 7, 7, 11, 11, 13, 13, 13, 13, 17, 18, 19, 20, 20, 20, 23, 24, 24, 26, 26, 26, 29, 30, 31, 31, 31, 34, 34]\n",
      "[0, 0, 0, 0, 0, 5, 6, 7, 7, 7, 7, 11, 12, 13, 13, 13, 16, 17, 18, 19, 20, 20, 22, 23, 24, 25, 26, 26, 28, 29, 30, 31, 31, 31, 34, 35]\n",
      "[0, 0, 0, 0, 0, 5, 6, 7, 7, 7, 10, 11, 12, 13, 13, 13, 16, 17, 18, 19, 20, 21, 22, 23, 24, 25, 26, 27, 28, 29, 30, 31, 31, 33, 34, 35]\n"
     ]
    },
    {
     "data": {
      "text/plain": [
       "35"
      ]
     },
     "execution_count": 301,
     "metadata": {},
     "output_type": "execute_result"
    }
   ],
   "source": [
    "class Solution:\n",
    "    ##dp[i][j]表示背包容量为j时面对第i个物品时的最大价值（i有可能不能放入背包）\n",
    "    ## 物品的容量和价值相同 w表容量 v表价值\n",
    "    def canPartition(self, nums: List[int]) -> bool:\n",
    "        if len(nums)==0 or nums==None or sum(nums)%2!=0:\n",
    "            return False\n",
    "        W = int(sum(nums)/2) ##背包总容量\n",
    "        N = len(nums)  ##物品个数\n",
    "        dp = [[0]*(W+1) for _ in range(N+1)]\n",
    "        for i in range(1,N+1):\n",
    "            w = nums[i-1]\n",
    "            v = nums[i-1]\n",
    "            for j in range(1,W+1):\n",
    "                if j>=w:\n",
    "                    dp[i][j] = max(dp[i-1][j],dp[i-1][j-w]+v)\n",
    "                else:\n",
    "                    dp[i][j] = dp[i-1][j]\n",
    "        return dp[N][W]==W\n",
    "\n",
    "s = Solution()\n",
    "s.canPartition([23,13,11,7,6,5,5])"
   ]
  },
  {
   "cell_type": "code",
   "execution_count": 303,
   "metadata": {},
   "outputs": [
    {
     "data": {
      "text/plain": [
       "True"
      ]
     },
     "execution_count": 303,
     "metadata": {},
     "output_type": "execute_result"
    }
   ],
   "source": [
    "## 方法二 空间优化  原地覆盖 dp[i][j] 与只与dp[i-1][j],dp[i-1][j-w]有关系\n",
    "class Solution:\n",
    "    ##dp[i][j]表示背包容量为j时面对第i个物品时的最大价值（i有可能不能放入背包）\n",
    "    ## 物品的容量和价值相同 w表容量 v表价值\n",
    "    def canPartition(self, nums: List[int]) -> bool:\n",
    "        if len(nums)==0 or nums==None or sum(nums)%2!=0:\n",
    "            return False\n",
    "        W = int(sum(nums)/2) ##背包总容量\n",
    "        N = len(nums)  ##物品个数\n",
    "        dp = [0]*(W+1)\n",
    "        for i in range(1,N+1):\n",
    "            w = nums[i-1]\n",
    "            v = nums[i-1]\n",
    "            ### 为防止覆盖dp[i-1][j-w] 先计算dp[i][j],j从大到小计算\n",
    "            for j in range(W,0,-1):\n",
    "                if j>=w:\n",
    "                    dp[j] = max(dp[j],dp[j-w]+v)\n",
    "        return dp[W]==W\n",
    "\n",
    "s = Solution()\n",
    "s.canPartition([23,13,11,7,6,5,5])"
   ]
  },
  {
   "cell_type": "markdown",
   "metadata": {},
   "source": [
    "### 494. 目标和\n",
    "给定一个非负整数数组，a1, a2, ..., an, 和一个目标数，S。现在你有两个符号 + 和 -。对于数组中的任意一个整数，你都可以从 + 或 -中选择一个符号添加在前面。\n",
    "\n",
    "返回可以使最终数组和为目标数 S 的所有添加符号的方法数。\n",
    "\n",
    "示例 1:\n",
    "\n",
    "输入: nums: [1, 1, 1, 1, 1], S: 3<br>\n",
    "输出: 5<br>\n",
    "解释: <br>\n",
    "\n",
    "-1+1+1+1+1 = 3<br>\n",
    "+1-1+1+1+1 = 3<br>\n",
    "+1+1-1+1+1 = 3<br>\n",
    "+1+1+1-1+1 = 3<br>\n",
    "+1+1+1+1-1 = 3<br>\n",
    "\n",
    "一共有5种方法让最终目标和为3。\n",
    "注意:\n",
    "\n",
    "数组非空，且长度不会超过20。\n",
    "初始的数组的和不会超过1000。\n",
    "保证返回的最终结果能被32位整数存下。"
   ]
  },
  {
   "cell_type": "code",
   "execution_count": 345,
   "metadata": {},
   "outputs": [
    {
     "data": {
      "text/plain": [
       "256"
      ]
     },
     "execution_count": 345,
     "metadata": {},
     "output_type": "execute_result"
    }
   ],
   "source": [
    "# sum(p)-sum(n)=S\n",
    "# sum(p)-sum(n) + sum(p)+sum(n) = S + sum(p)+sum(n)\n",
    "# 2*sum(p) = S + sum(nums)\n",
    "# sum(p) = int((S + sum(nums))/2)\n",
    "####转变成subset sum的0-1背包问题\n",
    "class Solution:\n",
    "    def findTargetSumWays(self, nums: List[int], S: int) -> int:\n",
    "        if nums==None or len(nums)==0 or (S+sum(nums))%2==1 or S>sum(nums):\n",
    "            return 0\n",
    "        W = int((S + sum(nums))/2)\n",
    "        N = len(nums)\n",
    "        dp = [0]*(W+1)\n",
    "        dp[0]  = 1  ###容量为0 面对任何元素 表明此时空间被刚好占满 一种方法\n",
    "        for ele in nums:\n",
    "            for j in range(W,ele-1,-1):\n",
    "                    dp[j] = dp[j] + dp[j-ele]\n",
    "        return dp[W]\n",
    "Solution(). findTargetSumWays([0,0,0,0,0,0,0,0,1],1)          "
   ]
  },
  {
   "cell_type": "code",
   "execution_count": 328,
   "metadata": {},
   "outputs": [
    {
     "name": "stdout",
     "output_type": "stream",
     "text": [
      "[[1, 1], [0, 2], [0, 4], [0, 8], [0, 16], [0, 32], [0, 64], [0, 128], [0, 256], [0, 256]]\n"
     ]
    },
    {
     "data": {
      "text/plain": [
       "256"
      ]
     },
     "execution_count": 328,
     "metadata": {},
     "output_type": "execute_result"
    }
   ],
   "source": [
    "##########错误方法 待解决\n",
    "# sum(p)-sum(n)=S\n",
    "# sum(p)-sum(n) + sum(p)+sum(n) = S + sum(p)+sum(n)\n",
    "# 2*sum(p) = S + sum(nums)\n",
    "# sum(p) = int((S + sum(nums))/2)\n",
    "####转变成subset sum的0-1背包问题\n",
    "class Solution:\n",
    "    def findTargetSumWays(self, nums: List[int], S: int) -> int:\n",
    "        if nums==None or len(nums)==0 or (S+sum(nums))%2==1 or S>sum(nums):\n",
    "            return 0\n",
    "        W = int((S + sum(nums))/2)\n",
    "        N = len(nums)\n",
    "        dp = [[0]*(W+1) for _ in range(N+1)]\n",
    "        dp[0] = [1]*(W+1)  ##容量为0 面对任何元素 表明此时空间被刚好占满 一种方法\n",
    "        for i in range(1,N+1):\n",
    "            for j in range(1,W+1):\n",
    "                if j>=nums[i-1]:\n",
    "                    dp[i][j] = dp[i-1][j] + dp[i-1][j-nums[i-1]]\n",
    "                else:\n",
    "                    dp[i][j] = dp[i-1][j]\n",
    "        print(dp)\n",
    "        return dp[N][W]\n",
    "Solution(). findTargetSumWays([0,0,0,0,0,0,0,0,1],1)             "
   ]
  },
  {
   "cell_type": "code",
   "execution_count": 346,
   "metadata": {},
   "outputs": [
    {
     "data": {
      "text/plain": [
       "256"
      ]
     },
     "execution_count": 346,
     "metadata": {},
     "output_type": "execute_result"
    }
   ],
   "source": [
    "# sum(p)-sum(n)=S\n",
    "# sum(p)-sum(n) + sum(p)+sum(n) = S + sum(p)+sum(n)\n",
    "# 2*sum(p) = S + sum(nums)\n",
    "# sum(p) = int((S + sum(nums))/2)\n",
    "####转变成subset sum的0-1背包问题\n",
    "class Solution:\n",
    "    def findTargetSumWays(self, nums: List[int], S: int) -> int:\n",
    "        if nums==None or len(nums)==0 or (S+sum(nums))%2==1 or S>sum(nums):\n",
    "            return 0\n",
    "        W = int((S + sum(nums))/2)\n",
    "        N = len(nums)\n",
    "        dp = [0]*(W+1)\n",
    "        dp[0]  = 1  ###容量为0 面对任何元素 表明此时空间被刚好占满 一种方法\n",
    "        for ele in nums:\n",
    "            for j in range(W,-1,-1):### 注意这里是(W,-1,-1)\n",
    "                if j>=ele:\n",
    "                    dp[j] = dp[j] + dp[j-ele]\n",
    "        return dp[W]\n",
    "Solution(). findTargetSumWays([0,0,0,0,0,0,0,0,1],1)"
   ]
  },
  {
   "cell_type": "code",
   "execution_count": 352,
   "metadata": {},
   "outputs": [
    {
     "data": {
      "text/plain": [
       "256"
      ]
     },
     "execution_count": 352,
     "metadata": {},
     "output_type": "execute_result"
    }
   ],
   "source": [
    "### 暴力 dfs方法 枚举每个元素是加或者减法 二叉树 先序遍历 超时了\n",
    "class Solution:\n",
    "    def findTargetSumWays(self, nums: List[int], S: int) -> int:\n",
    "        if nums==None or len(nums)==0 or S>sum(nums):\n",
    "            return 0\n",
    "        return self.dfs(nums,0,S)\n",
    "    def dfs(self,nums,start,S):\n",
    "        if len(nums)==start:\n",
    "            return 1 if S==0 else 0\n",
    "        return self.dfs(nums,start+1,S-nums[start])+self.dfs(nums,start+1,S+nums[start])\n",
    "Solution(). findTargetSumWays([0,0,0,0,0,0,0,0,1],1)"
   ]
  },
  {
   "cell_type": "markdown",
   "metadata": {},
   "source": [
    "### 474. 一和零\n",
    "在计算机界中，我们总是追求用有限的资源获取最大的收益。\n",
    "\n",
    "现在，假设你分别支配着 m 个 0 和 n 个 1。另外，还有一个仅包含 0 和 1 字符串的数组。\n",
    "\n",
    "你的任务是使用给定的 m 个 0 和 n 个 1 ，找到能拼出存在于数组中的字符串的最大数量。每个 0 和 1 至多被使用一次。\n",
    "\n",
    "注意:\n",
    "\n",
    "给定 0 和 1 的数量都不会超过 100。\n",
    "给定字符串数组的长度不会超过 600。\n",
    "<br>\n",
    "<br>\n",
    "示例 1:\n",
    "\n",
    "输入: Array = {\"10\", \"0001\", \"111001\", \"1\", \"0\"}, m = 5, n = 3\n",
    "输出: 4\n",
    "\n",
    "解释: 总共 4 个字符串可以通过 5 个 0 和 3 个 1 拼出，即 \"10\",\"0001\",\"1\",\"0\" 。\n",
    "<br>\n",
    "<br>\n",
    "示例 2:\n",
    "\n",
    "输入: Array = {\"10\", \"0\", \"1\"}, m = 1, n = 1\n",
    "输出: 2\n",
    "\n",
    "解释: 你可以拼出 \"10\"，但之后就没有剩余数字了。更好的选择是拼出 \"0\" 和 \"1\" "
   ]
  },
  {
   "cell_type": "code",
   "execution_count": 356,
   "metadata": {},
   "outputs": [
    {
     "data": {
      "text/plain": [
       "4"
      ]
     },
     "execution_count": 356,
     "metadata": {},
     "output_type": "execute_result"
    }
   ],
   "source": [
    "### 多维度背包\n",
    "### dp[i][j]表示i个0和j个1可以拼出的最大数量\n",
    "###每个物品有两个维度的容量 即0的个数和1的个数\n",
    "###背包的容量也是两个维度 0的个数m 1的个数n\n",
    "class Solution:\n",
    "    def findMaxForm(self, strs: List[str], m: int, n: int) -> int:\n",
    "        if len(strs)==0:\n",
    "            return 0\n",
    "        dp = [[0]*(n+1) for _ in range(m+1)]\n",
    "        \n",
    "        for ele in strs:\n",
    "            zeros = 0\n",
    "            ones = 0\n",
    "            for ele1 in ele:\n",
    "                if ele1 == \"0\":\n",
    "                    zeros = zeros + 1\n",
    "                else:\n",
    "                    ones = ones + 1\n",
    "            for i in range(m,zeros-1,-1):\n",
    "                for j in range(n,ones-1,-1):\n",
    "                    dp[i][j] = max(dp[i][j],dp[i-zeros][j-ones]+1)\n",
    "            \n",
    "        return dp[m][n]\n",
    "strs = [\"10\", \"0001\", \"111001\", \"1\", \"0\"]\n",
    "m = 5\n",
    "n = 3 \n",
    "Solution().findMaxForm(strs,m,n)"
   ]
  },
  {
   "cell_type": "markdown",
   "metadata": {},
   "source": [
    "### 322. 零钱兑换\n",
    "给定不同面额的硬币 coins 和一个总金额 amount。编写一个函数来计算可以凑成总金额所需的最少的硬币个数。如果没有任何一种硬币组合能组成总金额，返回 -1。\n",
    "\n",
    " \n",
    "<br>\n",
    "<br>\n",
    "示例 1:\n",
    "\n",
    "输入: coins = [1, 2, 5], amount = 11\n",
    "输出: 3 \n",
    "解释: 11 = 5 + 5 + 1\n",
    "<br>\n",
    "<br>\n",
    "示例 2:\n",
    "\n",
    "输入: coins = [2], amount = 3\n",
    "输出: -1"
   ]
  },
  {
   "cell_type": "code",
   "execution_count": 393,
   "metadata": {},
   "outputs": [
    {
     "data": {
      "text/plain": [
       "20"
      ]
     },
     "execution_count": 393,
     "metadata": {},
     "output_type": "execute_result"
    }
   ],
   "source": [
    "## 未解决 不优化空间复杂度的方法\n",
    "##完全0-1背包问题\n",
    "##https://blog.csdn.net/hhl895937794/article/details/78151301\n",
    "## 硬币面额可以重复使用  无限的\n",
    "## dp[j]表示当前可以占满的最少硬币数目 值为0表示没有可以组合的硬币可以占满\n",
    "class Solution:\n",
    "    def coinChange(self, coins: List[int], amount: int) -> int:\n",
    "        if len(coins)==0 or amount<0:\n",
    "            return -1\n",
    "        if amount==0:\n",
    "            return 0\n",
    "        m = len(coins)\n",
    "        n = amount\n",
    "        dp = [0]*(n+1)\n",
    "        for i in range(1,m+1):\n",
    "            for j in range(1,n+1):\n",
    "                if j>=coins[i-1]:\n",
    "                    if j==coins[i-1]:##硬币i-1刚好可以占满容量j\n",
    "                        dp[j] = 1\n",
    "                    elif dp[j]==0 and dp[j-coins[i-1]]!=0:## dp[j]之前没有计算的状态或者没有满足要求\n",
    "                        dp[j] = dp[j-coins[i-1]]+1\n",
    "                    elif dp[j-coins[i-1]]!=0: ##dp[j]之前有计算满足要求的状态\n",
    "                        dp[j] = min(dp[j],dp[j-coins[i-1]]+1)\n",
    "        return -1 if dp[n] == 0 else dp[n]\n",
    "coins = [186,419,83,408]\n",
    "amount = 6249\n",
    "Solution().coinChange(coins,amount)"
   ]
  },
  {
   "cell_type": "markdown",
   "metadata": {},
   "source": [
    "### 518. 零钱兑换 II\n",
    "给定不同面额的硬币和一个总金额。写出函数来计算可以凑成总金额的硬币组合数。假设每一种面额的硬币有无限个。 \n",
    "\n",
    " \n",
    "<br><br>\n",
    "示例 1:\n",
    "\n",
    "输入: amount = 5, coins = [1, 2, 5]\n",
    "输出: 4\n",
    "解释: 有四种方式可以凑成总金额:\n",
    "5=5\n",
    "5=2+2+1\n",
    "5=2+1+1+1\n",
    "5=1+1+1+1+1\n",
    "\n",
    "<br><br>\n",
    "示例 2:\n",
    "\n",
    "输入: amount = 3, coins = [2]\n",
    "输出: 0\n",
    "解释: 只用面额2的硬币不能凑成总金额3。\n",
    "\n",
    "<br><br>\n",
    "示例 3:\n",
    "\n",
    "输入: amount = 10, coins = [10] \n",
    "输出: 1\n",
    " \n",
    "<br><br>\n",
    "注意:\n",
    "\n",
    "你可以假设：\n",
    "\n",
    "0 <= amount (总金额) <= 5000\n",
    "1 <= coin (硬币面额) <= 5000\n",
    "硬币种类不超过 500 种\n",
    "结果符合 32 位符号整数"
   ]
  },
  {
   "cell_type": "code",
   "execution_count": 436,
   "metadata": {},
   "outputs": [
    {
     "data": {
      "text/plain": [
       "4"
      ]
     },
     "execution_count": 436,
     "metadata": {},
     "output_type": "execute_result"
    }
   ],
   "source": [
    "class Solution:\n",
    "    def change(self, amount: int, coins: List[int]) -> int:\n",
    "        if amount!=0 and len(coins)==0:\n",
    "            return 0\n",
    "        if amount==0 or len(coins)==0:\n",
    "            return 1\n",
    "        m = len(coins)\n",
    "        n = amount\n",
    "        dp = [0]*(n+1)\n",
    "        dp[0] = 1##容量为0时，不放是一种方法\n",
    "        for coin in coins:\n",
    "            for j in range(1,n+1):\n",
    "                if j>=coin:\n",
    "                    dp[j] = dp[j] + dp[j-coin]  ###d[j]表可以重复使用\n",
    "        return dp[n]\n",
    "    \n",
    "amount = 5\n",
    "coins = [1, 2, 5] \n",
    "Solution().change(amount,coins)"
   ]
  },
  {
   "cell_type": "markdown",
   "metadata": {},
   "source": [
    "### 139. 单词拆分\n",
    "给定一个非空字符串 s 和一个包含非空单词列表的字典 wordDict，判定 s 是否可以被空格拆分为一个或多个在字典中出现的单词。\n",
    "\n",
    "说明：\n",
    "\n",
    "拆分时可以重复使用字典中的单词。\n",
    "你可以假设字典中没有重复的单词。\n",
    "\n",
    "<br><br>\n",
    "示例 1：\n",
    "\n",
    "输入: s = \"leetcode\", wordDict = [\"leet\", \"code\"]\n",
    "输出: true\n",
    "解释: 返回 true 因为 \"leetcode\" 可以被拆分成 \"leet code\"。\n",
    "<br><br>\n",
    "示例 2：\n",
    "\n",
    "输入: s = \"applepenapple\", wordDict = [\"apple\", \"pen\"]\n",
    "输出: true\n",
    "解释: 返回 true 因为 \"applepenapple\" 可以被拆分成 \"apple pen apple\"。\n",
    "     注意你可以重复使用字典中的单词。\n",
    "<br><br>\n",
    "示例 3：\n",
    "\n",
    "输入: s = \"catsandog\", wordDict = [\"cats\", \"dog\", \"sand\", \"and\", \"cat\"]\n",
    "输出: false"
   ]
  },
  {
   "cell_type": "code",
   "execution_count": 437,
   "metadata": {},
   "outputs": [],
   "source": [
    "### 涉及顺序的完全问题\n",
    "class Solution:\n",
    "    def wordBreak(self, s: str, wordDict: List[str]) -> bool:\n",
    "        n = len(s)\n",
    "        dp = [False]*(n+1)\n",
    "        dp[0] = True ###背包容量为0时，不取物品满足要求\n",
    "        for i in range(1,n+1):\n",
    "            for ele in wordDict:###物品的循环在里层，满足顺序要求\n",
    "                if i>=len(ele) and ele == s[i-len(ele):i]:\n",
    "                    dp[i] = dp[i] | dp[i-len(ele)]###dp[i]表可以重复多次\n",
    "        return dp[n]"
   ]
  },
  {
   "cell_type": "markdown",
   "metadata": {},
   "source": [
    "### 377. 组合总和 Ⅳ\n",
    "给定一个由正整数组成且不存在重复数字的数组，找出和为给定目标正整数的组合的个数。\n",
    "\n",
    "示例:\n",
    "\n",
    "nums = [1, 2, 3]\n",
    "target = 4\n",
    "\n",
    "所有可能的组合为：\n",
    "(1, 1, 1, 1)\n",
    "(1, 1, 2)\n",
    "(1, 2, 1)\n",
    "(1, 3)\n",
    "(2, 1, 1)\n",
    "(2, 2)\n",
    "(3, 1)\n",
    "\n",
    "请注意，顺序不同的序列被视作不同的组合。\n",
    "\n",
    "因此输出为 7。"
   ]
  },
  {
   "cell_type": "code",
   "execution_count": 442,
   "metadata": {},
   "outputs": [
    {
     "data": {
      "text/plain": [
       "7"
      ]
     },
     "execution_count": 442,
     "metadata": {},
     "output_type": "execute_result"
    }
   ],
   "source": [
    "class Solution:\n",
    "    def combinationSum4(self, nums: List[int], target: int) -> int:\n",
    "        if len(nums)==0 or target == 0:\n",
    "            return 0\n",
    "        dp = [0]*(target+1)\n",
    "        dp[0] = 1\n",
    "        for i in range(1,target+1):\n",
    "            for ele in nums:\n",
    "                if i>=ele:\n",
    "                    dp[i] = dp[i] + dp[i-ele]\n",
    "        return dp[target]\n",
    "nums = [1, 3,2]\n",
    "target = 4\n",
    "Solution().combinationSum4(nums,target)"
   ]
  },
  {
   "cell_type": "markdown",
   "metadata": {},
   "source": [
    "# 股票交易"
   ]
  },
  {
   "cell_type": "markdown",
   "metadata": {},
   "source": [
    "### 309. 最佳买卖股票时机含冷冻期\n",
    "给定一个整数数组，其中第 i 个元素代表了第 i 天的股票价格 。​\n",
    "\n",
    "设计一个算法计算出最大利润。在满足以下约束条件下，你可以尽可能地完成更多的交易（多次买卖一支股票）:\n",
    "\n",
    "你不能同时参与多笔交易（你必须在再次购买前出售掉之前的股票）。\n",
    "卖出股票后，你无法在第二天买入股票 (即冷冻期为 1 天)。\n",
    "示例:\n",
    "\n",
    "输入: [1,2,3,0,2]\n",
    "输出: 3 \n",
    "解释: 对应的交易状态为: [买入, 卖出, 冷冻期, 买入, 卖出]\n",
    "\n",
    "<img src=\"股票交易状态转移图.png\">"
   ]
  },
  {
   "cell_type": "code",
   "execution_count": 451,
   "metadata": {},
   "outputs": [
    {
     "data": {
      "text/plain": [
       "3"
      ]
     },
     "execution_count": 451,
     "metadata": {},
     "output_type": "execute_result"
    }
   ],
   "source": [
    "##卖完之后冻结一天 s2状态\n",
    "class Solution:\n",
    "    def maxProfit(self, prices: List[int]) -> int:\n",
    "        if len(prices)<=1:\n",
    "            return 0\n",
    "        N = len(prices)\n",
    "        buy = [0]*N\n",
    "        s1 = [0]*N\n",
    "        sell = [0]*N\n",
    "        s2 = [0]*N\n",
    "        buy[0] = s1[0] = -prices[0]\n",
    "        for i in range(1,N):\n",
    "            buy[i] = s2[i-1]-prices[i]\n",
    "            s1[i] = max(buy[i-1],s1[i-1])\n",
    "            sell[i] = max(buy[i-1],s1[i-1]) + prices[i]\n",
    "            s2[i] = max(sell[i-1],s2[i-1]) ##包含冻结状态和什么也不操作状态\n",
    "        return max(sell[N-1],s2[N-1])\n",
    "Solution().maxProfit([1,2,3,0,2])"
   ]
  },
  {
   "cell_type": "markdown",
   "metadata": {},
   "source": [
    "### 714. 买卖股票的最佳时机含手续费\n",
    "给定一个整数数组 prices，其中第 i 个元素代表了第 i 天的股票价格 ；非负整数 fee 代表了交易股票的手续费用。\n",
    "\n",
    "你可以无限次地完成交易，但是你每笔交易都需要付手续费。如果你已经购买了一个股票，在卖出它之前你就不能再继续购买股票了。\n",
    "\n",
    "返回获得利润的最大值。\n",
    "\n",
    "注意：这里的一笔交易指买入持有并卖出股票的整个过程，每笔交易你只需要为支付一次手续费。\n",
    "\n",
    "示例 1:\n",
    "\n",
    "输入: prices = [1, 3, 2, 8, 4, 9], fee = 2\n",
    "输出: 8\n",
    "解释: 能够达到的最大利润:  \n",
    "在此处买入 prices[0] = 1\n",
    "在此处卖出 prices[3] = 8\n",
    "在此处买入 prices[4] = 4\n",
    "在此处卖出 prices[5] = 9\n",
    "总利润: ((8 - 1) - 2) + ((9 - 4) - 2) = 8.\n",
    "注意:\n",
    "\n",
    "0 < prices.length <= 50000.\n",
    "0 < prices[i] < 50000.\n",
    "0 <= fee < 50000.\n",
    "<img src=\"股票交易状态图_需要交易费.png\">"
   ]
  },
  {
   "cell_type": "code",
   "execution_count": 460,
   "metadata": {},
   "outputs": [
    {
     "data": {
      "text/plain": [
       "8"
      ]
     },
     "execution_count": 460,
     "metadata": {},
     "output_type": "execute_result"
    }
   ],
   "source": [
    "## 可以无限次交易 sell状态可以直接转移到buy状态\n",
    "class Solution:\n",
    "    def maxProfit(self, prices: List[int], fee: int) -> int:\n",
    "        if len(prices)<=1:\n",
    "            return 0\n",
    "        N = len(prices)\n",
    "        buy = [0]*N\n",
    "        s1 = [0]*N\n",
    "        sell = [0]*N\n",
    "        s2 = [0]*N\n",
    "        buy[0] = s1[0] = -prices[0]\n",
    "        for i in range(1,N):\n",
    "            buy[i] = max(s2[i-1],sell[i-1]) - prices[i]\n",
    "            s1[i] = max(buy[i-1],s1[i-1])\n",
    "            sell[i] = max(buy[i-1],s1[i-1])+prices[i]-fee\n",
    "            s2[i] = max(sell[i-1],s2[i-1])\n",
    "        return max(sell[N-1],s2[N-1])\n",
    "prices = [1, 3, 2, 8, 4, 9]\n",
    "fee = 2\n",
    "Solution().maxProfit(prices,fee)"
   ]
  },
  {
   "cell_type": "markdown",
   "metadata": {},
   "source": [
    "### 123. 买卖股票的最佳时机 III\n",
    "给定一个数组，它的第 i 个元素是一支给定的股票在第 i 天的价格。\n",
    "\n",
    "设计一个算法来计算你所能获取的最大利润。你最多可以完成 两笔 交易。\n",
    "\n",
    "注意: 你不能同时参与多笔交易（你必须在再次购买前出售掉之前的股票）。\n",
    "<br><br>\n",
    "示例 1:\n",
    "\n",
    "输入: [3,3,5,0,0,3,1,4]\n",
    "输出: 6\n",
    "解释: 在第 4 天（股票价格 = 0）的时候买入，在第 6 天（股票价格 = 3）的时候卖出，这笔交易所能获得利润 = 3-0 = 3 。\n",
    "     随后，在第 7 天（股票价格 = 1）的时候买入，在第 8 天 （股票价格 = 4）的时候卖出，这笔交易所能获得利润 = 4-1 = 3 。\n",
    "\n",
    "<br><br>\n",
    "示例 2:\n",
    "\n",
    "输入: [1,2,3,4,5]\n",
    "输出: 4\n",
    "解释: 在第 1 天（股票价格 = 1）的时候买入，在第 5 天 （股票价格 = 5）的时候卖出, 这笔交易所能获得利润 = 5-1 = 4 。   \n",
    "     注意你不能在第 1 天和第 2 天接连购买股票，之后再将它们卖出。   \n",
    "     因为这样属于同时参与了多笔交易，你必须在再次购买前出售掉之前的股票。\n",
    "<br><br>\n",
    "示例 3:\n",
    "\n",
    "输入: [7,6,4,3,1] \n",
    "输出: 0 \n",
    "解释: 在这个情况下, 没有交易完成, 所以最大利润为 0。"
   ]
  },
  {
   "cell_type": "code",
   "execution_count": 468,
   "metadata": {},
   "outputs": [
    {
     "name": "stdout",
     "output_type": "stream",
     "text": [
      "-3 0 -3 0\n",
      "-3 0 -3 0\n",
      "-3 2 -3 2\n",
      "0 2 2 2\n",
      "0 2 2 2\n",
      "0 3 2 5\n",
      "0 3 2 5\n",
      "0 4 2 6\n"
     ]
    },
    {
     "data": {
      "text/plain": [
       "6"
      ]
     },
     "execution_count": 468,
     "metadata": {},
     "output_type": "execute_result"
    }
   ],
   "source": [
    "## 不是很理解 暂时按照状态转移去理解 未解决\n",
    "##最多买卖两次\n",
    "import sys\n",
    "class Solution:\n",
    "    def maxProfit(self, prices: List[int]) -> int:\n",
    "        min_value = -sys.maxsize\n",
    "        first_buy = second_buy =  min_value\n",
    "        first_sell = second_sell = 0\n",
    "        if len(prices)<=1:\n",
    "            return 0\n",
    "        for cur_price in prices:\n",
    "            if first_buy < -cur_price:\n",
    "                first_buy = -cur_price\n",
    "            if first_sell < first_buy + cur_price:\n",
    "                first_sell = first_buy + cur_price\n",
    "            if second_buy < first_sell - cur_price:\n",
    "                second_buy = first_sell - cur_price\n",
    "            if second_sell < second_buy + cur_price:\n",
    "                second_sell = second_buy + cur_price\n",
    "            print(first_buy,first_sell,second_buy,second_sell)\n",
    "        return second_sell\n",
    "Solution().maxProfit([3,3,5,0,0,3,1,4])"
   ]
  },
  {
   "cell_type": "markdown",
   "metadata": {},
   "source": [
    "### 188. 买卖股票的最佳时机 IV\n",
    "给定一个数组，它的第 i 个元素是一支给定的股票在第 i 天的价格。\n",
    "\n",
    "设计一个算法来计算你所能获取的最大利润。你最多可以完成 k 笔交易。\n",
    "\n",
    "注意: 你不能同时参与多笔交易（你必须在再次购买前出售掉之前的股票）。\n",
    "\n",
    "<br><br>\n",
    "示例 1:\n",
    "\n",
    "输入: [2,4,1], k = 2<br>\n",
    "输出: 2<br>\n",
    "解释: 在第 1 天 (股票价格 = 2) 的时候买入，在第 2 天 (股票价格 = 4) 的时候卖出，这笔交易所能获得利润 = 4-2 = 2 。\n",
    "\n",
    "<br><br>\n",
    "示例 2:\n",
    "\n",
    "输入: [3,2,6,5,0,3], k = 2<br>\n",
    "输出: 7<br>\n",
    "解释: 在第 2 天 (股票价格 = 2) 的时候买入，在第 3 天 (股票价格 = 6) 的时候卖出, 这笔交易所能获得利润 = 6-2 = 4 。\n",
    "     随后，在第 5 天 (股票价格 = 0) 的时候买入，在第 6 天 (股票价格 = 3) 的时候卖出, 这笔交易所能获得利润 = 3-0 = 3 。"
   ]
  },
  {
   "cell_type": "code",
   "execution_count": 472,
   "metadata": {},
   "outputs": [
    {
     "data": {
      "text/plain": [
       "7"
      ]
     },
     "execution_count": 472,
     "metadata": {},
     "output_type": "execute_result"
    }
   ],
   "source": [
    "###不是很理解 未解决\n",
    "class Solution:\n",
    "    def maxProfit(self, k: int, prices: List[int]) -> int:\n",
    "        if k==0 or len(prices)<=1:\n",
    "            return 0\n",
    "        n = len(prices)\n",
    "        profit = 0\n",
    "        if k>=int(n/2):##普通股票交易问题\n",
    "            for i in range(1,n):\n",
    "                if prices[i]>prices[i-1]:\n",
    "                    profit += (prices[i]-prices[i-1])\n",
    "            return profit\n",
    "        profit = [[0]*n for _ in range(k+1)]\n",
    "        for i in range(1,k+1):\n",
    "            local_max = profit[i-1][0]-prices[0]\n",
    "            for j in range(1,n):\n",
    "                profit[i][j] = max(profit[i][j-1],prices[j]+local_max)\n",
    "                local_max = max(local_max,profit[i-1][j]-prices[j])\n",
    "        return profit[k][n-1]\n",
    "prices = [3,2,6,5,0,3]\n",
    "k = 2\n",
    "Solution().maxProfit(k,prices)"
   ]
  },
  {
   "cell_type": "markdown",
   "metadata": {},
   "source": [
    "# 字符串编辑"
   ]
  },
  {
   "cell_type": "code",
   "execution_count": 475,
   "metadata": {},
   "outputs": [],
   "source": [
    "## 转换成求最大公共子序列问题\n",
    "class Solution:\n",
    "    def minDistance(self, word1: str, word2: str) -> int:\n",
    "        m = len(word1)\n",
    "        n = len(word2)\n",
    "        dp = [[0]*(n+1) for _ in range(m+1)]\n",
    "        for i in range(1,m+1):\n",
    "            for j in range(1,n+1):\n",
    "                if word1[i-1] == word2[j-1]:\n",
    "                    dp[i][j] = dp[i-1][j-1]+1\n",
    "                else:\n",
    "                    dp[i][j] = max(dp[i-1][j],dp[i][j-1])\n",
    "        return m+n-2*dp[m][n]"
   ]
  },
  {
   "cell_type": "markdown",
   "metadata": {},
   "source": [
    "### 72. 编辑距离\n",
    "给你两个单词 word1 和 word2，请你计算出将 word1 转换成 word2 所使用的最少操作数 。\n",
    "\n",
    "你可以对一个单词进行如下三种操作：\n",
    "\n",
    "插入一个字符<br>\n",
    "删除一个字符<br>\n",
    "替换一个字符<br>\n",
    " \n",
    "\n",
    "示例 1：\n",
    "\n",
    "输入：word1 = \"horse\", word2 = \"ros\"<br>\n",
    "输出：3<br>\n",
    "解释：<br>\n",
    "horse -> rorse (将 'h' 替换为 'r')<br>\n",
    "rorse -> rose (删除 'r')<br>\n",
    "rose -> ros (删除 'e')<br>\n",
    "<br><br>\n",
    "示例 2：\n",
    "\n",
    "输入：word1 = \"intention\", word2 = \"execution\"<br>\n",
    "输出：5<br>\n",
    "解释：<br>\n",
    "intention -> inention (删除 't')<br>\n",
    "inention -> enention (将 'i' 替换为 'e')<br>\n",
    "enention -> exention (将 'n' 替换为 'x')<br>\n",
    "exention -> exection (将 'n' 替换为 'c')<br>\n",
    "exection -> execution (插入 'u')<br>"
   ]
  },
  {
   "cell_type": "code",
   "execution_count": 479,
   "metadata": {},
   "outputs": [
    {
     "data": {
      "text/plain": [
       "3"
      ]
     },
     "execution_count": 479,
     "metadata": {},
     "output_type": "execute_result"
    }
   ],
   "source": [
    "class Solution:\n",
    "    def minDistance(self, word1: str, word2: str) -> int:\n",
    "        if word1==None or word2==None:\n",
    "            return 0\n",
    "        m  = len(word1)\n",
    "        n = len(word2)\n",
    "        dp = [[0]*(n+1) for _ in range(m+1)]\n",
    "        dp[0] = [i for i in range(n+1)]\n",
    "        for i in range(m+1):\n",
    "            dp[i][0] = i\n",
    "        for i in range(1,m+1):\n",
    "            for j in range(1,n+1):\n",
    "                if word1[i-1]==word2[j-1]:\n",
    "                    dp[i][j] = dp[i-1][j-1]\n",
    "                else:###################替换##########删除######插入###\n",
    "                    dp[i][j] = min([dp[i-1][j-1],dp[i-1][j],dp[i][j-1]])+1\n",
    "        return dp[m][n]\n",
    "word1 = \"horse\"\n",
    "word2 = \"ros\"\n",
    "Solution().minDistance(word1,word2)"
   ]
  },
  {
   "cell_type": "markdown",
   "metadata": {},
   "source": [
    "### 650. 只有两个键的键盘\n",
    "最初在一个记事本上只有一个字符 'A'。你每次可以对这个记事本进行两种操作：\n",
    "\n",
    "Copy All (复制全部) : 你可以复制这个记事本中的所有字符(部分的复制是不允许的)。<br>\n",
    "Paste (粘贴) : 你可以粘贴你上一次复制的字符。<br>\n",
    "给定一个数字 n 。你需要使用最少的操作次数，在记事本中打印出恰好 n 个 'A'。输出能够打印出 n 个 'A' 的最少操作次数。\n",
    "\n",
    "示例 1:\n",
    "\n",
    "输入: 3<br>\n",
    "输出: 3<br>\n",
    "解释:<br>\n",
    "最初, 我们只有一个字符 'A'。<br>\n",
    "第 1 步, 我们使用 Copy All 操作。<br>\n",
    "第 2 步, 我们使用 Paste 操作来获得 'AA'。<br>\n",
    "第 3 步, 我们使用 Paste 操作来获得 'AAA'。<br>\n",
    "说明:\n",
    "\n",
    "n 的取值范围是 [1, 1000] 。"
   ]
  },
  {
   "cell_type": "code",
   "execution_count": 483,
   "metadata": {},
   "outputs": [],
   "source": [
    "## 以9为例 粘贴3A之后又9/3=3 此时在粘贴3个A，复制两次即可\n",
    "## dp[i]表示粘贴i个（A*）需要的次数  粘贴的内容可以是多个A\n",
    "import math\n",
    "class Solution:\n",
    "    def minSteps(self, n: int) -> int:\n",
    "        if n<=1:\n",
    "            return 0\n",
    "        dp = [0]*(n+1)\n",
    "        h = int(math.sqrt(n))\n",
    "        ## i = 1时，1个A不用操作\n",
    "        for i in range(2,n+1):\n",
    "            dp[i] = i\n",
    "            #h = int(math.sqrt(i))\n",
    "            for j in range(2,h+1):\n",
    "                if i%j==0:\n",
    "                    dp[i] = dp[j]+dp[int(i/j)]\n",
    "                    break\n",
    "        return dp[n]"
   ]
  },
  {
   "cell_type": "code",
   "execution_count": null,
   "metadata": {},
   "outputs": [],
   "source": []
  }
 ],
 "metadata": {
  "kernelspec": {
   "display_name": "Python 3",
   "language": "python",
   "name": "python3"
  },
  "language_info": {
   "codemirror_mode": {
    "name": "ipython",
    "version": 3
   },
   "file_extension": ".py",
   "mimetype": "text/x-python",
   "name": "python",
   "nbconvert_exporter": "python",
   "pygments_lexer": "ipython3",
   "version": "3.7.0"
  }
 },
 "nbformat": 4,
 "nbformat_minor": 2
}
