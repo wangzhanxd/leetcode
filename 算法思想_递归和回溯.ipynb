{
 "cells": [
  {
   "cell_type": "markdown",
   "metadata": {},
   "source": [
    "## 递归和回溯\n",
    "    17.Letter Combinations of a Phone Number \n",
    "    93.Restore IP Addresses\n",
    "    77.Combinations\n",
    "    46.Permutation"
   ]
  },
  {
   "cell_type": "markdown",
   "metadata": {},
   "source": [
    "### 17 Letter Combinations of a Phone Number\n",
    "给定一个仅包含数字 2-9 的字符串，返回所有它能表示的字母组合。\n",
    "\n",
    "给出数字到字母的映射如下（与电话按键相同）。注意 1 不对应任何字母。\n",
    "\n",
    "<img src=\"./17_telephone_keypad.png\">\n",
    "\n",
    "示例:\n",
    "\n",
    "输入：\"23\"\n",
    "输出：[\"ad\", \"ae\", \"af\", \"bd\", \"be\", \"bf\", \"cd\", \"ce\", \"cf\"]."
   ]
  },
  {
   "cell_type": "code",
   "execution_count": 32,
   "metadata": {},
   "outputs": [
    {
     "name": "stdout",
     "output_type": "stream",
     "text": [
      "['ad', 'ae', 'af', 'bd', 'be', 'bf', 'cd', 'ce', 'cf']\n"
     ]
    }
   ],
   "source": [
    "from typing import List\n",
    "class Solution:\n",
    "    def __init__(self):\n",
    "        self.letterMap = [\" \",\"\",\"abc\",\"def\",\"ghi\",\"jkl\",\"mno\",\"pqrs\",\"tuv\",\"wxyz\"]\n",
    "        self.ret = []\n",
    "    ## S中保存了digits[0:index] 组合得到的一个字母字符串\n",
    "    ## index 从0开始变量到len(digits)-1\n",
    "    def findCOmbination(self,digits,index,s):\n",
    "        if index == len(digits):\n",
    "            self.ret.append(s)\n",
    "            return\n",
    "        cur_char = digits[index]\n",
    "        cur_letter = self.letterMap[int(cur_char)]\n",
    "        for ele in cur_letter:\n",
    "            self.findCOmbination(digits,index+1,s+ele)\n",
    "    def letterCombinations(self, digits: str) -> List[str]: \n",
    "        if len(digits)==0:\n",
    "            return []\n",
    "        self.findCOmbination(digits, 0, \"\")\n",
    "        return self.ret\n",
    "if __name__ == '__main__':\n",
    "    s = Solution()\n",
    "    print(s.letterCombinations(\"23\"))"
   ]
  },
  {
   "cell_type": "markdown",
   "metadata": {},
   "source": [
    "### 93 Restore IP Addresses\n",
    "给定一个只包含数字的字符串，复原它并返回所有可能的 IP 地址格式。\n",
    "\n",
    "示例:\n",
    "\n",
    "输入: \"25525511135\"\n",
    "输出: [\"255.255.11.135\", \"255.255.111.35\"]"
   ]
  },
  {
   "cell_type": "code",
   "execution_count": 26,
   "metadata": {},
   "outputs": [
    {
     "name": "stdout",
     "output_type": "stream",
     "text": [
      "['255.255.11.135', '255.255.111.35']\n"
     ]
    }
   ],
   "source": [
    "from typing import List\n",
    "class Solution:\n",
    "    def __init__(self):\n",
    "        self.ret = []\n",
    "    def isright(self,s):\n",
    "            if len(s)>3 or len(s)==0 or (s[0]=='0' and len(s)>1) or int(s)>255:\n",
    "                return False\n",
    "            return True\n",
    "    def isrightIp(self,s):\n",
    "        s_l = s.split('.')\n",
    "        for ele in s_l:\n",
    "            if not self.isright(ele):\n",
    "                return False\n",
    "        return True\n",
    "    ### 采用求组合的办法 C(N-1,3) 求的IP切分的索引\n",
    "    def getCombination(self,s,start,index):\n",
    "        N = len(s)\n",
    "        ll = [i for i in range(1,N)]\n",
    "        if 3 == len(index):\n",
    "            self.ret.append(list(index))\n",
    "            return\n",
    "        for i in range(start,N-1):\n",
    "            index.append(ll[i])\n",
    "            self.getCombination(s,i+1,index)\n",
    "            index.pop()\n",
    "    def restoreIpAddresses(self, s: str) -> List[str]:\n",
    "        if len(s)>12 or len(s)<4:\n",
    "            return []\n",
    "        self.getCombination(s,0,[])\n",
    "        ret_temp = []\n",
    "        for ele in self.ret:\n",
    "            ip = '.'.join([s[:ele[0]],s[ele[0]:ele[1]],s[ele[1]:ele[2]],s[ele[2]:]])\n",
    "            if self.isrightIp(ip):\n",
    "                ret_temp.append(ip)\n",
    "        return ret_temp\n",
    "if __name__ == '__main__':\n",
    "    s = Solution()\n",
    "    print(s.restoreIpAddresses(\"25525511135\"))"
   ]
  },
  {
   "cell_type": "markdown",
   "metadata": {},
   "source": [
    "### 77. Combinations \n",
    "给定两个整数 n 和 k，返回 1 ... n 中所有可能的 k 个数的组合。\n",
    "\n",
    "示例:\n",
    "\n",
    "输入: n = 4, k = 2\n",
    "输出:\n",
    "[\n",
    "  [2,4],\n",
    "  [3,4],\n",
    "  [2,3],\n",
    "  [1,2],\n",
    "  [1,3],\n",
    "  [1,4],\n",
    "]"
   ]
  },
  {
   "cell_type": "code",
   "execution_count": 45,
   "metadata": {},
   "outputs": [
    {
     "name": "stdout",
     "output_type": "stream",
     "text": [
      "[[1, 2], [1, 3], [1, 4], [2, 3], [2, 4], [3, 4]]\n"
     ]
    }
   ],
   "source": [
    "class Solution:\n",
    "    def __init__(self):\n",
    "        self.ret = []\n",
    "    def getCombination(self,n,k,start,res_temp):\n",
    "        n_list = [i for i in range(1,n+1)]\n",
    "        if len(res_temp) == k:\n",
    "            self.ret.append(list(res_temp))\n",
    "            return\n",
    "        for i in range(start,n):\n",
    "            res_temp.append(n_list[i])\n",
    "            self.getCombination(n,k,i+1,res_temp)\n",
    "            res_temp.pop()\n",
    "    def combine(self, n: int, k: int) -> List[List[int]]:\n",
    "        self.getCombination(n,k,0,[])\n",
    "        return self.ret\n",
    "if __name__ == '__main__':\n",
    "    s = Solution()\n",
    "    print(s.combine(4,2))"
   ]
  },
  {
   "cell_type": "markdown",
   "metadata": {},
   "source": [
    "### 46 Permutations\n",
    "给定一个 没有重复 数字的序列，返回其所有可能的全排列。\n",
    "\n",
    "示例:\n",
    "\n",
    "输入: [1,2,3]\n",
    "输出:\n",
    "[\n",
    "  [1,2,3],\n",
    "  [1,3,2],\n",
    "  [2,1,3],\n",
    "  [2,3,1],\n",
    "  [3,1,2],\n",
    "  [3,2,1]\n",
    "]"
   ]
  },
  {
   "cell_type": "code",
   "execution_count": 58,
   "metadata": {},
   "outputs": [
    {
     "name": "stdout",
     "output_type": "stream",
     "text": [
      "[[1, 2, 3], [1, 3, 2], [2, 1, 3], [2, 3, 1], [3, 1, 2], [3, 2, 1]]\n"
     ]
    }
   ],
   "source": [
    "class Solution:\n",
    "    def __init__(self):\n",
    "        self.ret = []\n",
    "        self.used =[]\n",
    "        self.p = []\n",
    "    def getPermute(self,start,nums,p):\n",
    "        if len(p)==len(nums):\n",
    "            self.ret.append(list(p))\n",
    "        for i in range(len(nums)):\n",
    "            if not self.used[i]:\n",
    "                self.used[i] = True\n",
    "                p.append(nums[i])\n",
    "                self.getPermute(i+1,nums,p)\n",
    "                p.pop()\n",
    "                self.used[i] = False\n",
    "    def permute(self, nums: List[int]) -> List[List[int]]:\n",
    "        self.used = [False]*len(nums)\n",
    "        self.getPermute(0,nums,self.p)\n",
    "        return self.ret\n",
    "if __name__ == '__main__':\n",
    "    s = Solution()\n",
    "    print(s.permute([1,2,3]))"
   ]
  }
 ],
 "metadata": {
  "kernelspec": {
   "display_name": "Python 3",
   "language": "python",
   "name": "python3"
  },
  "language_info": {
   "codemirror_mode": {
    "name": "ipython",
    "version": 3
   },
   "file_extension": ".py",
   "mimetype": "text/x-python",
   "name": "python",
   "nbconvert_exporter": "python",
   "pygments_lexer": "ipython3",
   "version": "3.7.0"
  }
 },
 "nbformat": 4,
 "nbformat_minor": 2
}
