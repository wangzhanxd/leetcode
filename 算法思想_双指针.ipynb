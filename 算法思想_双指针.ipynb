{
 "cells": [
  {
   "cell_type": "markdown",
   "metadata": {},
   "source": [
    "<a href=\"https://github.com/CyC2018/CS-Notes/blob/master/notes/Leetcode%20%E9%A2%98%E8%A7%A3%20-%20%E5%8F%8C%E6%8C%87%E9%92%88.md\">github 链接</a>\n",
    "    167. Two Sum II - Input array is sorted (Easy)\n",
    "    633. Sum of Square Numbers (Easy)\n",
    "    345. Reverse Vowels of a String (Easy)\n",
    "    680. Valid Palindrome II (Easy)\n",
    "    88. Merge Sorted Array (Easy)\n",
    "    141. Linked List Cycle (Easy)\n",
    "    524. Longest Word in Dictionary through Deleting (Medium)"
   ]
  },
  {
   "cell_type": "markdown",
   "metadata": {},
   "source": [
    "### 167. Two Sum II - Input array is sorted (Easy)\n",
    "\n",
    "给定一个已按照升序排列 的有序数组，找到两个数使得它们相加之和等于目标数。\n",
    "\n",
    "函数应该返回这两个下标值 index1 和 index2，其中 index1 必须小于 index2。\n",
    "\n",
    "说明:\n",
    "\n",
    "返回的下标值（index1 和 index2）不是从零开始的。\n",
    "你可以假设每个输入只对应唯一的答案，而且你不可以重复使用相同的元素。\n",
    "\n",
    "\n",
    "示例:\n",
    "输入: numbers = [2, 7, 11, 15], target = 9\n",
    "输出: [1,2]\n",
    "解释: 2 与 7 之和等于目标数 9 。因此 index1 = 1, index2 = 2 。\n",
    "\n",
    "来源：力扣（LeetCode）\n",
    "链接：https://leetcode-cn.com/problems/two-sum-ii-input-array-is-sorted\n",
    "著作权归领扣网络所有。商业转载请联系官方授权，非商业转载请注明出处。"
   ]
  },
  {
   "cell_type": "code",
   "execution_count": 1,
   "metadata": {
    "collapsed": true
   },
   "outputs": [],
   "source": [
    "class Solution:\n",
    "    def twoSum(self, numbers, target):\n",
    "        i = 0\n",
    "        j = len(numbers)-1\n",
    "        while 1:\n",
    "            if numbers[i]+numbers[j] == target:\n",
    "                return [i+1,j+1]\n",
    "            elif numbers[i]+numbers[j] < target:\n",
    "                i = i + 1\n",
    "            else:\n",
    "                j = j-1"
   ]
  },
  {
   "cell_type": "code",
   "execution_count": 2,
   "metadata": {},
   "outputs": [
    {
     "name": "stdout",
     "output_type": "stream",
     "text": [
      "[1, 2]\n"
     ]
    }
   ],
   "source": [
    "if __name__ == '__main__':\n",
    "    s = Solution()\n",
    "    numbers = [2, 7, 11, 15]\n",
    "    target = 9\n",
    "    print(s.twoSum(numbers,target))"
   ]
  },
  {
   "cell_type": "markdown",
   "metadata": {},
   "source": [
    "### 633. Sum of Square Numbers (Easy)\n",
    "给定一个非负整数 c ，你要判断是否存在两个整数 a 和 b，使得 a2 + b2 = c。\n",
    "\n",
    "示例1:\n",
    "\n",
    "输入: 5\n",
    "输出: True\n",
    "解释: 1 * 1 + 2 * 2 = 5\n",
    " \n",
    "\n",
    "示例2:\n",
    "\n",
    "输入: 3\n",
    "输出: False\n",
    "\n",
    "来源：力扣（LeetCode）\n",
    "链接：https://leetcode-cn.com/problems/sum-of-square-numbers\n",
    "著作权归领扣网络所有。商业转载请联系官方授权，非商业转载请注明出处。"
   ]
  },
  {
   "cell_type": "code",
   "execution_count": 3,
   "metadata": {},
   "outputs": [
    {
     "name": "stdout",
     "output_type": "stream",
     "text": [
      "True\n"
     ]
    }
   ],
   "source": [
    "import math\n",
    "class Solution:\n",
    "    def judgeSquareSum(self, target):\n",
    "        i = 0\n",
    "        j = int(math.sqrt(target))\n",
    "        while i<=j:\n",
    "            _sum = i*i + j*j\n",
    "            if _sum == target:\n",
    "                return True\n",
    "            elif _sum < target:\n",
    "                i = i + 1\n",
    "            else:\n",
    "                j = j-1\n",
    "        return False\n",
    "\n",
    "if __name__ == '__main__':\n",
    "    s = Solution()\n",
    "    target = 8\n",
    "    print(s.judgeSquareSum(target))"
   ]
  },
  {
   "cell_type": "markdown",
   "metadata": {},
   "source": [
    "### 345. Reverse VowT\n",
    "\n",
    "输入: \"leetcode\"\n",
    "输出: \"leotcede\"\n",
    "说明:\n",
    "元音字母不包含字母\"y\""
   ]
  },
  {
   "cell_type": "code",
   "execution_count": 5,
   "metadata": {},
   "outputs": [
    {
     "name": "stdout",
     "output_type": "stream",
     "text": [
      "holle\n"
     ]
    }
   ],
   "source": [
    "class Solution:\n",
    "    def isVowel(self,letter):\n",
    "        return letter in 'aeiouAEIOU'\n",
    "    \n",
    "    \n",
    "    def reverseVowels(self,s):\n",
    "        s_list = list(s)\n",
    "        i = 0\n",
    "        j = len(s)-1\n",
    "        while i<j:\n",
    "            if self.isVowel(s[i]) and self.isVowel(s[j]):\n",
    "                s_list[i],s_list[j] = s_list[j],s_list[i]\n",
    "                i = i + 1\n",
    "                j = j -1\n",
    "            elif not self.isVowel(s[i]):\n",
    "                i = i+1\n",
    "            else:\n",
    "                j = j - 1\n",
    "        return ''.join(s_list)\n",
    "    \n",
    "if __name__ == '__main__':\n",
    "    s = Solution()\n",
    "    print(s.reverseVowels('hello'))"
   ]
  },
  {
   "cell_type": "markdown",
   "metadata": {},
   "source": [
    "### 680. Valid Palindrome II (Easy)\n",
    "\n",
    "给定一个非空字符串 s，最多删除一个字符。判断是否能成为回文字符串。\n",
    "\n",
    "示例 1:\n",
    "\n",
    "输入: \"aba\"\n",
    "输出: True\n",
    "示例 2:\n",
    "\n",
    "输入: \"abca\"\n",
    "输出: True\n",
    "解释: 你可以删除c字符。\n",
    "注意:\n",
    "\n",
    "字符串只包含从 a-z 的小写字母。字符串的最大长度是50000。"
   ]
  },
  {
   "cell_type": "code",
   "execution_count": 6,
   "metadata": {},
   "outputs": [
    {
     "name": "stdout",
     "output_type": "stream",
     "text": [
      "False\n"
     ]
    }
   ],
   "source": [
    "class Solution:\n",
    "    def validPalindrome(self, s):\n",
    "        if len(s)<3:\n",
    "            return True\n",
    "        i = 0\n",
    "        j = len(s)-1\n",
    "        flag = 0\n",
    "        while i<j:\n",
    "            if flag > 1:\n",
    "                return False\n",
    "            if s[i] == s[j]:\n",
    "                i = i + 1\n",
    "                j = j -1\n",
    "            else:\n",
    "                if s[i+1]==s[j]:# and s[i+2]==s[j-1]:\n",
    "                    i=i+1\n",
    "                elif s[i]==s[j-1]:\n",
    "                    j = j -1\n",
    "                else:\n",
    "                    return False\n",
    "                flag = flag + 1\n",
    "        return True\n",
    "\n",
    "if __name__ == '__main__':\n",
    "    s = Solution()\n",
    "    a = 'cupuuffuupucu'\n",
    "    print(s.validPalindrome(a))"
   ]
  },
  {
   "cell_type": "markdown",
   "metadata": {},
   "source": [
    "### 88. Merge Sorted Array (Easy)\n",
    "给定两个有序整数数组 nums1 和 nums2，将 nums2 合并到 nums1 中，使得 num1 成为一个有序数组。\n",
    "\n",
    "说明:\n",
    "\n",
    "初始化 nums1 和 nums2 的元素数量分别为 m 和 n。\n",
    "你可以假设 nums1 有足够的空间（空间大小大于或等于 m + n）来保存 nums2 中的元素。\n",
    "示例:\n",
    "\n",
    "输入:\n",
    "nums1 = [1,2,3,0,0,0], m = 3\n",
    "nums2 = [2,5,6],       n = 3\n",
    "\n",
    "输出: [1,2,2,3,5,6]"
   ]
  },
  {
   "cell_type": "code",
   "execution_count": 7,
   "metadata": {
    "collapsed": true
   },
   "outputs": [],
   "source": [
    "### 原地修改nums1\n",
    "class Solution:\n",
    "    def merge(self, nums1, m, nums2, n):\n",
    "        \"\"\"\n",
    "        Do not return anything, modify nums1 in-place instead\n",
    "        \"\"\"\n",
    "        i = m -1\n",
    "        j = n -1\n",
    "        k = m+n-1\n",
    "        while j>=0:\n",
    "            if i < 0 and j >= 0:\n",
    "                break\n",
    "#             if i==0 and j==0 and k==1:        ### 这种情况包括在i < 0 and j>=0内\n",
    "#                 a = min(nums1[0],nums2[0])\n",
    "#                 b = max(nums1[0],nums2[0])\n",
    "#                 nums1[0] = a\n",
    "#                 nums1[1] = b\n",
    "#                 return\n",
    "            if nums2[j]>=nums1[i]:\n",
    "                nums1[k] = nums2[j]\n",
    "                k = k -1\n",
    "                j = j -1\n",
    "            else:\n",
    "                nums1[k] = nums1[i]\n",
    "                k = k -1\n",
    "                i = i -1\n",
    "        if i < 0 and j >= 0:\n",
    "            for index in range(j+1):\n",
    "                nums1[index] = nums2[index]"
   ]
  },
  {
   "cell_type": "code",
   "execution_count": 8,
   "metadata": {},
   "outputs": [
    {
     "name": "stdout",
     "output_type": "stream",
     "text": [
      "[1, 2]\n"
     ]
    }
   ],
   "source": [
    "if __name__ == '__main__':\n",
    "    s = Solution()\n",
    "    nums1 = [2,0]\n",
    "    m = 1\n",
    "    nums2 = [1]\n",
    "    n = 1\n",
    "    s.merge(nums1, m, nums2, n)\n",
    "    print(nums1)"
   ]
  },
  {
   "cell_type": "code",
   "execution_count": 9,
   "metadata": {},
   "outputs": [
    {
     "name": "stdout",
     "output_type": "stream",
     "text": [
      "[1, 2, 2, 3, 5, 6]\n"
     ]
    }
   ],
   "source": [
    "if __name__ == '__main__':\n",
    "    s = Solution()\n",
    "    nums1 = [2,5,6,0,0,0]\n",
    "    m = 3\n",
    "    nums2 = [1,2,3]\n",
    "    n = 3\n",
    "    s.merge(nums1, m, nums2, n)\n",
    "    print(nums1)"
   ]
  },
  {
   "cell_type": "code",
   "execution_count": 10,
   "metadata": {},
   "outputs": [
    {
     "name": "stdout",
     "output_type": "stream",
     "text": [
      "[1, 2, 2, 3, 5, 6]\n"
     ]
    }
   ],
   "source": [
    "if __name__ == '__main__':\n",
    "    s = Solution()\n",
    "    nums1 = [2,5,6,0,0,0]\n",
    "    m = 3\n",
    "    nums2 = [1,2,3]\n",
    "    n = 3\n",
    "    s.merge(nums1, m, nums2, n)\n",
    "    print(nums1)"
   ]
  },
  {
   "cell_type": "code",
   "execution_count": 11,
   "metadata": {},
   "outputs": [
    {
     "name": "stdout",
     "output_type": "stream",
     "text": [
      "[1, 2, 3, 4, 5, 6]\n"
     ]
    }
   ],
   "source": [
    "if __name__ == '__main__':\n",
    "    s = Solution()\n",
    "    nums1 = [4,5,6,0,0,0]\n",
    "    m = 3\n",
    "    nums2 = [1,2,3]\n",
    "    n = 3\n",
    "    s.merge(nums1, m, nums2, n)\n",
    "    print(nums1)"
   ]
  },
  {
   "cell_type": "markdown",
   "metadata": {},
   "source": [
    "### 141. Linked List Cycle (Easy)\n",
    "给定一个链表，判断链表中是否有环。\n",
    "\n",
    "为了表示给定链表中的环，我们使用整数 pos 来表示链表尾连接到链表中的位置（索引从 0 开始）。 如果 pos 是 -1，则在该链表中没有环。\n",
    "\n",
    " \n",
    "\n",
    "示例 1：\n",
    "\n",
    "输入：head = [3,2,0,-4], pos = 1\n",
    "输出：true\n",
    "解释：链表中有一个环，其尾部连接到第二个节点。\n",
    "\n",
    "\n",
    "示例 2：\n",
    "\n",
    "输入：head = [1,2], pos = 0\n",
    "输出：true\n",
    "解释：链表中有一个环，其尾部连接到第一个节点。\n",
    "\n",
    "\n",
    "示例 3：\n",
    "\n",
    "输入：head = [1], pos = -1\n",
    "输出：false\n",
    "解释：链表中没有环。\n",
    "\n",
    "\n",
    " \n",
    "\n",
    "进阶：\n",
    "\n",
    "你能用 O(1)（即，常量）内存解决此问题吗？"
   ]
  },
  {
   "cell_type": "code",
   "execution_count": 25,
   "metadata": {},
   "outputs": [],
   "source": [
    "# Definition for singly-linked list.\n",
    "class ListNode:\n",
    "    def __init__(self, x):\n",
    "        self.val = x\n",
    "        self.next = None\n",
    "\n",
    "class Solution:\n",
    "    def hasCycle(self, head: ListNode) -> bool:\n",
    "        if head == None:\n",
    "            return False\n",
    "        fast = head\n",
    "        slow = head  \n",
    "        while fast.next != None:\n",
    "            fast = fast.next.next\n",
    "            slow = slow.next\n",
    "            if fast == slow:\n",
    "                return True\n",
    "            if fast == None:\n",
    "                return False\n",
    "        return False     "
   ]
  },
  {
   "cell_type": "code",
   "execution_count": 26,
   "metadata": {},
   "outputs": [
    {
     "name": "stdout",
     "output_type": "stream",
     "text": [
      "False\n"
     ]
    }
   ],
   "source": [
    "head = ListNode(3)\n",
    "head.next = ListNode(2)\n",
    "head.next.next = ListNode(0)\n",
    "head.next.next.next = ListNode(-4)\n",
    "head.next.next.next.next = None\n",
    "#head.next.next.next.next = head.next\n",
    "\n",
    "if __name__ == '__main__':\n",
    "    s = Solution()\n",
    "    print(s.hasCycle(head))"
   ]
  },
  {
   "cell_type": "code",
   "execution_count": 27,
   "metadata": {},
   "outputs": [
    {
     "name": "stdout",
     "output_type": "stream",
     "text": [
      "False\n"
     ]
    }
   ],
   "source": [
    "head = ListNode(3)\n",
    "head.next = None\n",
    "\n",
    "if __name__ == '__main__':\n",
    "    s = Solution()\n",
    "    print(s.hasCycle(head))"
   ]
  },
  {
   "cell_type": "markdown",
   "metadata": {
    "collapsed": true
   },
   "source": [
    "### 524. Longest Word in Dictionary through Deleting (Medium)\n",
    "给定一个字符串和一个字符串字典，找到字典里面最长的字符串，该字符串可以通过删除给定字符串的某些字符来得到。如果答案不止一个，返回长度最长且字典顺序最小的字符串。如果答案不存在，则返回空字符串。\n",
    "\n",
    "示例 1:\n",
    "\n",
    "输入:\n",
    "s = \"abpcplea\", d = [\"ale\",\"apple\",\"monkey\",\"plea\"]\n",
    "\n",
    "输出: \n",
    "\"apple\"\n",
    "示例 2:\n",
    "\n",
    "输入:\n",
    "s = \"abpcplea\", d = [\"a\",\"b\",\"c\"]\n",
    "\n",
    "输出: \n",
    "\"a\"\n",
    "说明:\n",
    "\n",
    "所有输入的字符串只包含小写字母。\n",
    "字典的大小不会超过 1000。\n",
    "所有输入的字符串长度不会超过 1000。"
   ]
  },
  {
   "cell_type": "code",
   "execution_count": null,
   "metadata": {
    "collapsed": true
   },
   "outputs": [],
   "source": []
  },
  {
   "cell_type": "code",
   "execution_count": 93,
   "metadata": {
    "collapsed": true
   },
   "outputs": [],
   "source": [
    "class Solution:\n",
    "    def helper(self,s1,s2):\n",
    "        i = 0\n",
    "        j = 0\n",
    "        while i < len(s1):\n",
    "            if s1[i]==s2[j]:\n",
    "                i = i + 1\n",
    "                j = j + 1\n",
    "            else:\n",
    "                i = i + 1\n",
    "            if j == len(s2):\n",
    "                return j\n",
    "        return -1\n",
    "    def findLongestWord(self, s, d):\n",
    "        if len(d) == 0:\n",
    "            return ''\n",
    "        len_list = []\n",
    "        for ele in d:\n",
    "            len_list.append(self.helper(s,ele))\n",
    "        if max(len_list)==-1:\n",
    "            return ''\n",
    "        else:\n",
    "            len_arr = np.array(len_list)\n",
    "            d_arr = np.array(d)\n",
    "            return min(list(d_arr[np.where(len_arr == np.max(len_arr))]))"
   ]
  },
  {
   "cell_type": "code",
   "execution_count": 94,
   "metadata": {},
   "outputs": [
    {
     "name": "stdout",
     "output_type": "stream",
     "text": [
      "apple\n"
     ]
    }
   ],
   "source": [
    "if __name__ == '__main__':\n",
    "    s = Solution()\n",
    "    s_temp = \"abpcplea\"\n",
    "    d = [\"ale\",\"apple\",\"monkey\",\"plea\"]\n",
    "    print(s.findLongestWord(s_temp,d))"
   ]
  }
 ],
 "metadata": {
  "kernelspec": {
   "display_name": "Python 3",
   "language": "python",
   "name": "python3"
  },
  "language_info": {
   "codemirror_mode": {
    "name": "ipython",
    "version": 3
   },
   "file_extension": ".py",
   "mimetype": "text/x-python",
   "name": "python",
   "nbconvert_exporter": "python",
   "pygments_lexer": "ipython3",
   "version": "3.6.8"
  }
 },
 "nbformat": 4,
 "nbformat_minor": 2
}
