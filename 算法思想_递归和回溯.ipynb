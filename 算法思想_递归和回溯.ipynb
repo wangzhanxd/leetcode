{
 "cells": [
  {
   "cell_type": "markdown",
   "metadata": {},
   "source": [
    "# part1 分治"
   ]
  },
  {
   "cell_type": "markdown",
   "metadata": {},
   "source": [
    "### 241 Different Ways to Add Parentheses (Medium)\n",
    "\n",
    "\n",
    "给定一个含有数字和运算符的字符串，为表达式添加括号，改变其运算优先级以求出不同的结果。你需要给出所有可能的组合的结果。有效的运算符号包含 +, - 以及 * 。\n",
    "\n",
    "示例 1:\n",
    "\n",
    "输入: \"2-1-1\"\n",
    "输出: [0, 2]\n",
    "解释: \n",
    "((2-1)-1) = 0 \n",
    "(2-(1-1)) = 2\n",
    "示例 2:\n",
    "\n",
    "输入: \"2\\*3-4\\*5\"\n",
    "输出: [-34, -14, -10, -10, 10]\n",
    "解释: \n",
    "(2\\*(3-(4\\*5))) = -34 \n",
    "((2\\*3)-(4\\*5)) = -14 \n",
    "((2\\*(3-4))\\*5) = -10 \n",
    "(2\\*((3-4)\\*5)) = -10 \n",
    "(((2\\*3)-4)\\*5) = 10"
   ]
  },
  {
   "cell_type": "code",
   "execution_count": null,
   "metadata": {},
   "outputs": [],
   "source": [
    "from typing import List\n",
    "class Solution:\n",
    "    def diffWaysToCompute(self, input: str) -> List[int]:\n",
    "        ret = []\n",
    "        for i in range(len(input)):\n",
    "            c = input[i]\n",
    "            if c==\"+\" or c == \"-\" or c==\"*\":\n",
    "                left = self.diffWaysToCompute(input[:i])\n",
    "                right = self.diffWaysToCompute(input[(i+1):])\n",
    "                for ele1 in left:\n",
    "                    for ele2 in right:\n",
    "                        ## 没有运算符的视时候，ret是[]\n",
    "                        if c == \"+\":\n",
    "                            ret.append(ele1+ele2)\n",
    "                        elif c== \"-\":\n",
    "                            ret.append(ele1-ele2)\n",
    "                        elif c==\"*\":\n",
    "                            ret.append(ele1*ele2)\n",
    "        if len(ret)==0:\n",
    "            ret.append(int(input))\n",
    "        ##递归的return条件是input遍历结束\n",
    "        return ret"
   ]
  },
  {
   "cell_type": "code",
   "execution_count": null,
   "metadata": {},
   "outputs": [],
   "source": [
    "Solution().diffWaysToCompute(\"1-3*2\")"
   ]
  },
  {
   "cell_type": "markdown",
   "metadata": {},
   "source": [
    "### 95. 不同的二叉搜索树 II\n",
    "给定一个整数 n，生成所有由 1 ... n 为节点所组成的二叉搜索树。\n",
    "\n",
    "示例:\n",
    "\n",
    "输入: 3<br>\n",
    "输出:<br>\n",
    "[<br>\n",
    "  [1,null,3,2],<br>\n",
    "  [3,2,null,1],<br>\n",
    "  [3,1,null,null,2],<br>\n",
    "  [2,1,3],<br>\n",
    "  [1,null,2,null,3]<br>\n",
    "]<br>\n",
    "解释:\n",
    "以上的输出对应以下 5 种不同结构的二叉搜索树："
   ]
  },
  {
   "cell_type": "code",
   "execution_count": null,
   "metadata": {},
   "outputs": [],
   "source": [
    "#   1         3     3      2      1\n",
    "#    \\       /     /      / \\      \\\n",
    "#     3     2     1      1   3      2\n",
    "#    /     /       \\                 \\\n",
    "#   2     1         2                 3"
   ]
  },
  {
   "cell_type": "code",
   "execution_count": null,
   "metadata": {},
   "outputs": [],
   "source": [
    "## 输出结果数的中序遍历\n",
    "class TreeNode:\n",
    "    def __init__(self, x):\n",
    "        self.val = x\n",
    "        self.left = None\n",
    "        self.right = None\n",
    "# Definition for a binary tree node.\n",
    "# class TreeNode:\n",
    "#     def __init__(self, x):\n",
    "#         self.val = x\n",
    "#         self.left = None\n",
    "#         self.right = None\n",
    "\n",
    "class Solution:\n",
    "    def generateTrees(self, n: int) -> List[TreeNode]:\n",
    "        if n==0:\n",
    "            return []\n",
    "        def generateSubtrees(s,e):\n",
    "            ret = []\n",
    "            if (s>e):  ## 递归终止条件\n",
    "                return [None]\n",
    "            for i in range(s,e+1):\n",
    "                left = generateSubtrees(s,i-1)\n",
    "                right = generateSubtrees(i+1,e)\n",
    "                for l in left:\n",
    "                    for r in right:\n",
    "                        root = TreeNode(i)\n",
    "                        root.left = l\n",
    "                        root.right = r\n",
    "                        ret.append(root)\n",
    "            return ret\n",
    "        return generateSubtrees(1,n)"
   ]
  },
  {
   "cell_type": "code",
   "execution_count": null,
   "metadata": {},
   "outputs": [],
   "source": [
    "Solution().generateTrees(3)\n",
    "## 返回结果的每个ele都是一个树的root节点"
   ]
  },
  {
   "cell_type": "markdown",
   "metadata": {},
   "source": [
    "# part2 广度优先"
   ]
  },
  {
   "cell_type": "markdown",
   "metadata": {},
   "source": [
    "### 1091. Shortest Path in Binary Matrix(Medium)\n",
    "在一个 N × N 的方形网格中，每个单元格有两种状态：空（0）或者阻塞（1）。<br>\n",
    "\n",
    "一条从左上角到右下角、长度为 k 的畅通路径，由满足下述条件的单元格 C_1, C_2, ..., C_k 组成：<br>\n",
    "\n",
    "相邻单元格 C_i 和 C_{i+1} 在八个方向之一上连通（此时，C_i 和 C_{i+1} 不同且共享边或角）<br>\n",
    "C_1 位于 (0, 0)（即，值为 grid[0][0]）<br>\n",
    "C_k 位于 (N-1, N-1)（即，值为 grid[N-1][N-1]）<br>\n",
    "如果 C_i 位于 (r, c)，则 grid[r][c] 为空（即，grid[r][c] == 0）<br>\n",
    "返回这条从左上角到右下角的最短畅通路径的长度。如果不存在这样的路径，返回 -1 。<br>\n",
    "[[1,1,0,1],<br>\n",
    " [1,0,1,0],<br>\n",
    " [1,1,1,1],<br>\n",
    " [1,0,1,1]]"
   ]
  },
  {
   "cell_type": "code",
   "execution_count": null,
   "metadata": {},
   "outputs": [],
   "source": [
    "#广度优先\n",
    "class Solution:\n",
    "    def shortestPathBinaryMatrix(self, grid: List[List[int]]) -> int:\n",
    "        if grid == None or len(grid)==0 or len(grid[0])==0:\n",
    "            return -1\n",
    "        direction = [[-1,0],[1,0],[0,-1],[0,1],[-1,-1],[1,-1],[-1,1],[1,1]]\n",
    "        m = len(grid)\n",
    "        n = len(grid[0])\n",
    "        queue = []\n",
    "        queue.append([0,0])\n",
    "        length = 0\n",
    "        while(len(queue)>0):\n",
    "            size = len(queue)\n",
    "            length = length+1\n",
    "            while(size>0):\n",
    "                cur = queue.pop() #出队\n",
    "                size = size-1\n",
    "                x = cur[0]\n",
    "                y = cur[1]\n",
    "                if grid[x][y] == 1:\n",
    "                    continue\n",
    "                if x == (m-1) and y == (n-1):\n",
    "                    return length\n",
    "                grid[x][y] = 1 #标记\n",
    "                for ele in direction:\n",
    "                    nx = x+ele[0]\n",
    "                    ny = y+ele[1]\n",
    "                    if nx < 0 or nx > (m-1) or ny < 0  or ny > (n-1):\n",
    "                        continue\n",
    "                    else:\n",
    "                        queue.insert(0,[nx,ny]) ## 入队\n",
    "        return -1"
   ]
  },
  {
   "cell_type": "markdown",
   "metadata": {},
   "source": [
    "### 279. 完全平方数\n",
    "给定正整数 n，找到若干个完全平方数（比如 1, 4, 9, 16, ...）使得它们的和等于 n。你需要让组成和的完全平方数的个数最少。\n",
    "\n",
    "示例 1:\n",
    "\n",
    "输入: n = 12\n",
    "输出: 3 \n",
    "解释: 12 = 4 + 4 + 4.\n",
    "示例 2:\n",
    "\n",
    "输入: n = 13\n",
    "输出: 2\n",
    "解释: 13 = 4 + 9."
   ]
  },
  {
   "cell_type": "code",
   "execution_count": null,
   "metadata": {},
   "outputs": [],
   "source": [
    "from typing import List"
   ]
  },
  {
   "cell_type": "code",
   "execution_count": null,
   "metadata": {},
   "outputs": [],
   "source": [
    "class Solution:\n",
    "    def numSquares(self, n: int) -> int:\n",
    "        mark = [False]*(n+1)\n",
    "        mark[n] = True\n",
    "        seq = [i*i for i in range(1,n+1) if i*i<=n]\n",
    "        queue = collections.deque()\n",
    "        queue.insert(0,n)\n",
    "        level = 0\n",
    "        while(len(queue)>0):\n",
    "            level += 1\n",
    "            size = len(queue)\n",
    "            while(size>0):\n",
    "                cur = queue.pop()\n",
    "                size -= 1\n",
    "                for ele in seq:\n",
    "                    next_node = cur-ele\n",
    "                    if next_node == 0:\n",
    "                        return level\n",
    "                    if next_node < 0:\n",
    "                        break\n",
    "                    if mark[next_node]==True:\n",
    "                        continue\n",
    "                    queue.insert(0,next_node)\n",
    "                    mark[next_node] = True"
   ]
  },
  {
   "cell_type": "code",
   "execution_count": null,
   "metadata": {},
   "outputs": [],
   "source": [
    "### 使用List提交未通过 使用collections.deque()提交通过\n",
    "s = Solution()\n",
    "print(s.numSquares(7168))"
   ]
  },
  {
   "cell_type": "markdown",
   "metadata": {},
   "source": [
    "### 127. 单词接龙\n",
    "\n",
    "给定两个单词（beginWord 和 endWord）和一个字典，找到从 beginWord 到 endWord 的最短转换序列的长度。转换需遵循如下规则：\n",
    "\n",
    "每次转换只能改变一个字母。\n",
    "转换过程中的中间单词必须是字典中的单词。\n",
    "说明:\n",
    "\n",
    "如果不存在这样的转换序列，返回 0。\n",
    "所有单词具有相同的长度。\n",
    "所有单词只由小写字母组成。\n",
    "字典中不存在重复的单词。\n",
    "你可以假设 beginWord 和 endWord 是非空的，且二者不相同。\n",
    "示例 1:\n",
    "\n",
    "输入:\n",
    "beginWord = \"hit\",\n",
    "endWord = \"cog\",\n",
    "wordList = [\"hot\",\"dot\",\"dog\",\"lot\",\"log\",\"cog\"]\n",
    "\n",
    "输出: 5\n",
    "\n",
    "解释: 一个最短转换序列是 \"hit\" -> \"hot\" -> \"dot\" -> \"dog\" -> \"cog\",\n",
    "     返回它的长度 5。\n",
    "示例 2:\n",
    "\n",
    "输入:\n",
    "beginWord = \"hit\"\n",
    "endWord = \"cog\"\n",
    "wordList = [\"hot\",\"dot\",\"dog\",\"lot\",\"log\"]\n",
    "\n",
    "输出: 0\n",
    "\n",
    "解释: endWord \"cog\" 不在字典中，所以无法进行转换。"
   ]
  },
  {
   "cell_type": "code",
   "execution_count": null,
   "metadata": {},
   "outputs": [],
   "source": [
    "class Solution:\n",
    "    def ladderLength(self, beginWord: str, endWord: str, wordList: List[str]) -> int:\n",
    "        if endWord not in wordList:\n",
    "            return 0\n",
    "        ### 创建word_list的字段，便于搜索当前单词距离为1的单词 解决word_list过长，导致超时\n",
    "        all_combo_dict = collections.defaultdict(list)\n",
    "        for word in wordList:\n",
    "            for i in range(len(beginWord)):\n",
    "                all_combo_dict[word[:i] + \"*\" + word[i+1:]].append(word)\n",
    "        flag_dict = dict(zip(wordList,[False]*len(wordList)))\n",
    "        flag_dict[beginWord] = True\n",
    "        queue = collections.deque()\n",
    "        queue.insert(0,beginWord)\n",
    "        level = 1\n",
    "        while(len(queue)>0):\n",
    "            level += 1\n",
    "            size = len(queue)\n",
    "            while(size>0):\n",
    "                cur = queue.pop()\n",
    "                size -= 1\n",
    "                w_l = []\n",
    "                for i in range(len(beginWord)):\n",
    "                    w_l = w_l + all_combo_dict[cur[:i] + \"*\" + cur[i+1:]]\n",
    "                for ele in w_l:\n",
    "                    if flag_dict[ele]:\n",
    "                        continue\n",
    "                    if ele == endWord:\n",
    "                        return level\n",
    "                    queue.insert(0,ele)\n",
    "                    flag_dict[ele] = True\n",
    "        return 0"
   ]
  },
  {
   "cell_type": "markdown",
   "metadata": {},
   "source": [
    "# part3 深度优先"
   ]
  },
  {
   "cell_type": "markdown",
   "metadata": {},
   "source": [
    "### 695. 岛屿的最大面积\n",
    "给定一个包含了一些 0 和 1 的非空二维数组 grid 。\n",
    "\n",
    "一个 岛屿 是由一些相邻的 1 (代表土地) 构成的组合，这里的「相邻」要求两个 1 必须在水平或者竖直方向上相邻。你可以假设 grid 的四个边缘都被 0（代表水）包围着。\n",
    "\n",
    "找到给定的二维数组中最大的岛屿面积。(如果没有岛屿，则返回面积为 0 。)\n",
    "\n",
    " \n",
    "\n",
    "示例 1:\n",
    "\n",
    "[[0,0,1,0,0,0,0,1,0,0,0,0,0],<br>\n",
    " [0,0,0,0,0,0,0,1,1,1,0,0,0],<br>\n",
    " [0,1,1,0,1,0,0,0,0,0,0,0,0],<br>\n",
    " [0,1,0,0,1,1,0,0,1,0,1,0,0],<br>\n",
    " [0,1,0,0,1,1,0,0,1,1,1,0,0],<br>\n",
    " [0,0,0,0,0,0,0,0,0,0,1,0,0],<br>\n",
    " [0,0,0,0,0,0,0,1,1,1,0,0,0],<br>\n",
    " [0,0,0,0,0,0,0,1,1,0,0,0,0]]<br>\n",
    "对于上面这个给定矩阵应返回 6。注意答案不应该是 11 ，因为岛屿只能包含水平或垂直的四个方向的 1 。\n",
    "\n",
    "示例 2:\n",
    "\n",
    "[[0,0,0,0,0,0,0,0]]<br>\n",
    "对于上面这个给定的矩阵, 返回 0。"
   ]
  },
  {
   "cell_type": "code",
   "execution_count": null,
   "metadata": {},
   "outputs": [],
   "source": [
    "class Solution:\n",
    "    def __init__(self):\n",
    "        self.m = 0\n",
    "        self.n = 0\n",
    "        self.direction = [[0, 1], [0, -1], [1, 0], [-1, 0]]\n",
    "    def maxAreaOfIsland(self, grid: List[List[int]]) -> int:\n",
    "        if len(grid)==0 or len(grid[0])==0:\n",
    "            return 0\n",
    "        self.m = len(grid)\n",
    "        self.n = len(grid[0])\n",
    "        maxArea = 0\n",
    "        for i in range(self.m):\n",
    "            for j in range(self.n):\n",
    "                maxArea = max(maxArea,self.dfs(grid,i,j))\n",
    "        return maxArea\n",
    "    def dfs(self,grid,i,j):\n",
    "        if i<0 or i>=self.m or j<0 or j>=self.n or grid[i][j]==0:\n",
    "            return 0\n",
    "        grid[i][j] = 0\n",
    "        area = 1\n",
    "        for k in range(4):\n",
    "            area += self.dfs(grid,i+self.direction[k][0],j+self.direction[k][1])\n",
    "        return area"
   ]
  },
  {
   "cell_type": "code",
   "execution_count": null,
   "metadata": {},
   "outputs": [],
   "source": [
    "l = [[0,0,1,0,0,0,0,1,0,0,0,0,0],\n",
    "[0,0,0,0,0,0,0,1,1,1,0,0,0],\n",
    "[0,1,1,0,1,0,0,0,0,0,0,0,0],\n",
    "[0,1,0,0,1,1,0,0,1,0,1,0,0],\n",
    "[0,1,0,0,1,1,0,0,1,1,1,0,0],\n",
    "[0,0,0,0,0,0,0,0,0,0,1,0,0],\n",
    "[0,0,0,0,0,0,0,1,1,1,0,0,0],\n",
    "[0,0,0,0,0,0,0,1,1,0,0,0,0]]\n",
    "s = Solution()\n",
    "s.maxAreaOfIsland(l)"
   ]
  },
  {
   "cell_type": "markdown",
   "metadata": {},
   "source": [
    "### 200. 岛屿数量\n",
    "\n",
    "给你一个由 '1'（陆地）和 '0'（水）组成的的二维网格，请你计算网格中岛屿的数量。\n",
    "\n",
    "岛屿总是被水包围，并且每座岛屿只能由水平方向或竖直方向上相邻的陆地连接形成。\n",
    "\n",
    "此外，你可以假设该网格的四条边均被水包围。\n",
    "\n",
    " \n",
    "\n",
    "示例 1:\n",
    "\n",
    "输入:<br>\n",
    "11110<br>\n",
    "11010<br>\n",
    "11000<br>\n",
    "00000<br>\n",
    "输出: 1<br>\n",
    "示例 2:<br>\n",
    "\n",
    "输入:<br>\n",
    "11000<br>\n",
    "11000<br>\n",
    "00100<br>\n",
    "00011<br>\n",
    "输出: 3<br>\n",
    "解释: 每座岛屿只能由水平和/或竖直方向上相邻的陆地连接而成。"
   ]
  },
  {
   "cell_type": "code",
   "execution_count": null,
   "metadata": {},
   "outputs": [],
   "source": [
    "from typing import *\n",
    "class Solution:\n",
    "    def __init__(self):\n",
    "        self.m = 0\n",
    "        self.n = 0\n",
    "        self.direction = [[0, 1], [0, -1], [1, 0], [-1, 0]]\n",
    "        self.cnt = 0\n",
    "    def numIslands(self, grid: List[List[int]]) -> int:\n",
    "        if len(grid)==0 or len(grid[0])==0:\n",
    "            return 0\n",
    "        self.m = len(grid)\n",
    "        self.n = len(grid[0])\n",
    "        for i in range(self.m):\n",
    "            for j in range(self.n):\n",
    "                if grid[i][j]==\"1\":\n",
    "                    self.cnt += 1\n",
    "                    self.dfs(grid,i,j)\n",
    "        return self.cnt\n",
    "    def dfs(self,grid,i,j):\n",
    "        if i<0 or i>=self.m or j<0 or j>=self.n or grid[i][j]==\"0\":\n",
    "            return\n",
    "        grid[i][j] = \"0\"\n",
    "        for k in range(4):\n",
    "            self.dfs(grid,i+self.direction[k][0],j+self.direction[k][1])"
   ]
  },
  {
   "cell_type": "code",
   "execution_count": null,
   "metadata": {},
   "outputs": [],
   "source": [
    "l = [[\"1\",\"1\",\"0\",\"0\",\"0\"],\n",
    "     [\"1\",\"1\",\"0\",\"0\",\"0\"],\n",
    "     [\"0\",\"0\",\"1\",\"0\",\"0\"],\n",
    "     [\"0\",\"0\",\"0\",\"1\",\"1\"]]\n",
    "s = Solution()\n",
    "s.numIslands(l)"
   ]
  },
  {
   "cell_type": "code",
   "execution_count": null,
   "metadata": {},
   "outputs": [],
   "source": [
    "##[[1,0,0,1],[0,1,1,0],[0,1,1,1],[1,0,1,1]]"
   ]
  },
  {
   "cell_type": "markdown",
   "metadata": {},
   "source": [
    "### 547.朋友圈\n",
    "班上有 N 名学生。其中有些人是朋友，有些则不是。他们的友谊具有是传递性。如果已知 A 是 B 的朋友，B 是 C 的朋友，那么我们可以认为 A 也是 C 的朋友。所谓的朋友圈，是指所有朋友的集合。\n",
    "\n",
    "给定一个 N * N 的矩阵 M，表示班级中学生之间的朋友关系。如果M[i][j] = 1，表示已知第 i 个和 j 个学生互为朋友关系，否则为不知道。你必须输出所有学生中的已知的朋友圈总数。\n",
    "\n",
    "示例 1:\n",
    "\n",
    "输入: <br>\n",
    "[[1,1,0],<br>\n",
    " [1,1,0],<br>\n",
    " [0,0,1]]<br>\n",
    "输出: 2 \n",
    "说明：已知学生0和学生1互为朋友，他们在一个朋友圈。\n",
    "第2个学生自己在一个朋友圈。所以返回2。\n",
    "示例 2:\n",
    "\n",
    "输入: <br>\n",
    "[[1,1,0],<br>\n",
    " [1,1,1],<br>\n",
    " [0,1,1]]<br>\n",
    "输出: 1<br>\n",
    "说明：已知学生0和学生1互为朋友，学生1和学生2互为朋友，所以学生0和学生2也是朋友，所以他们三个在一个朋友圈，返回1。\n",
    "注意：\n",
    "\n",
    "N 在[1,200]的范围内。\n",
    "对于所有学生，有M[i][i] = 1。\n",
    "如果有M[i][j] = 1，则有M[j][i] = 1。"
   ]
  },
  {
   "cell_type": "code",
   "execution_count": null,
   "metadata": {},
   "outputs": [],
   "source": [
    "class Solution:\n",
    "    def __init__(self):\n",
    "        self.m = 0\n",
    "        self.visited = []\n",
    "        self.cnt = 0\n",
    "    def findCircleNum(self, grid: List[List[int]]) -> int:\n",
    "        if len(grid)==0 or len(grid[0])==0:\n",
    "            return 0\n",
    "        self.m = len(grid)\n",
    "        self.visited = [False]*self.m\n",
    "        for i in range(self.m):\n",
    "            if not self.visited[i]:\n",
    "                self.cnt += 1\n",
    "                self.dfs(grid,i)\n",
    "        return self.cnt\n",
    "    def dfs(self,grid,i):###将学生i相关的朋友visited状态置True\n",
    "        self.visited[i] = True\n",
    "        for j in range(self.m):\n",
    "            if grid[i][j]==1 and not self.visited[j]:### 递归终止条件\n",
    "                self.dfs(grid,j)"
   ]
  },
  {
   "cell_type": "markdown",
   "metadata": {},
   "source": [
    "### 130. 被围绕的区域\n",
    "给定一个二维的矩阵，包含 'X' 和 'O'（字母 O）。\n",
    "\n",
    "找到所有被 'X' 围绕的区域，并将这些区域里所有的 'O' 用 'X' 填充。\n",
    "\n",
    "示例:<br>\n",
    "\n",
    "X X X X<br>\n",
    "X O O X<br>\n",
    "X X O X<br>\n",
    "X O X X<br>\n",
    "运行你的函数后，矩阵变为：<br>\n",
    "\n",
    "X X X X<br>\n",
    "X X X X<br>\n",
    "X X X X<br>\n",
    "X O X X<br>\n",
    "解释:<br>\n",
    "\n",
    "被围绕的区间不会存在于边界上，换句话说，任何边界上的 'O' 都不会被填充为 'X'。 任何不在边界上，或不与边界上的 'O' 相连的 'O' 最终都会被填充为 'X'。如果两个元素在水平或垂直方向相邻，则称它们是“相连”的。"
   ]
  },
  {
   "cell_type": "code",
   "execution_count": null,
   "metadata": {},
   "outputs": [],
   "source": [
    "##主要是处理边界的‘O’,剩下中间的部分肯定是被X包围的‘O’\n",
    "class Solution:\n",
    "    def __init__(self):\n",
    "        self.m = 0\n",
    "        self.n = 0\n",
    "        self.direction=[[-1,0],[1,0],[0,-1],[0,1]]\n",
    "    def solve(self, board: List[List[str]]) -> None:\n",
    "        if board==None or len(board)==0 or len(board[0])==0:\n",
    "            return\n",
    "        self.m = len(board)\n",
    "        self.n = len(board[0])\n",
    "        for i in range(self.m):\n",
    "            self.dfs(board,i,0)## 第一列\n",
    "            self.dfs(board,i,self.n-1)## 最后一列\n",
    "        for i in range(self.n):\n",
    "            self.dfs(board,0,i)## 第一行\n",
    "            self.dfs(board,self.m-1,i)## 最后一行\n",
    "        for i in range(self.m):\n",
    "            for j in range(self.n):\n",
    "                if board[i][j] == \"T\":\n",
    "                    board[i][j]=\"O\"\n",
    "                elif board[i][j] == \"O\":\n",
    "                    board[i][j]= \"X\"\n",
    "    def dfs(self,board,i,j):\n",
    "        if i<0 or i>=self.m or j<0 or j>= self.n or board[i][j]!=\"O\":\n",
    "            return\n",
    "        board[i][j]=\"T\"\n",
    "        for ele in self.direction:\n",
    "            self.dfs(board,i+ele[0],j+ele[1])"
   ]
  },
  {
   "cell_type": "code",
   "execution_count": null,
   "metadata": {},
   "outputs": [],
   "source": [
    "l = [[\"X\",\"X\",\"X\",\"X\"],\n",
    "     [\"X\",\"O\",\"O\",\"X\"],\n",
    "     [\"X\",\"X\",\"O\",\"X\"],\n",
    "     [\"X\",\"O\",\"X\",\"X\"]]\n",
    "s = Solution()\n",
    "s.solve(l)\n",
    "print(l)"
   ]
  },
  {
   "cell_type": "markdown",
   "metadata": {},
   "source": [
    "### 417. 太平洋大西洋水流问题\n",
    "给定一个 m x n 的非负整数矩阵来表示一片大陆上各个单元格的高度。“太平洋”处于大陆的左边界和上边界，而“大西洋”处于大陆的右边界和下边界。\n",
    "\n",
    "规定水流只能按照上、下、左、右四个方向流动，且只能从高到低或者在同等高度上流动。\n",
    "\n",
    "请找出那些水流既可以流动到“太平洋”，又能流动到“大西洋”的陆地单元的坐标。\n",
    "\n",
    " \n",
    "\n",
    "提示：\n",
    "\n",
    "输出坐标的顺序不重要\n",
    "m 和 n 都小于150"
   ]
  },
  {
   "cell_type": "code",
   "execution_count": null,
   "metadata": {},
   "outputs": [],
   "source": [
    "# 示例：\n",
    "\n",
    " \n",
    "\n",
    "# 给定下面的 5x5 矩阵:\n",
    "\n",
    "#   太平洋 ~   ~   ~   ~   ~ \n",
    "#        ~  1   2   2   3  (5) *\n",
    "#        ~  3   2   3  (4) (4) *\n",
    "#        ~  2   4  (5)  3   1  *\n",
    "#        ~ (6) (7)  1   4   5  *\n",
    "#        ~ (5)  1   1   2   4  *\n",
    "#           *   *   *   *   * 大西洋\n",
    "\n",
    "# 返回:\n",
    "\n",
    "# [[0, 4], [1, 3], [1, 4], [2, 2], [3, 0], [3, 1], [4, 0]] (上图中带括号的单元)."
   ]
  },
  {
   "cell_type": "code",
   "execution_count": null,
   "metadata": {},
   "outputs": [],
   "source": [
    "class Solution:\n",
    "    def __init__(self):\n",
    "        self.m=0\n",
    "        self.n=0\n",
    "        self.res = []\n",
    "        self.direction=[[-1,0],[1,0],[0,-1],[0,1]]\n",
    "        self.matrix =[]\n",
    "    def pacificAtlantic(self, matrix: List[List[int]]) -> List[List[int]]:\n",
    "        if matrix == None or len(matrix)==0 or len(matrix[0])==0:\n",
    "            return self.res\n",
    "        self.m = len(matrix)\n",
    "        self.n = len(matrix[0])\n",
    "        self.matrix = matrix\n",
    "        ###千万不要用[[False] * self.n]* self.m，给（0,0）复制，结果修改了第0列\n",
    "        canReachP = [[False] * self.n for row in range(self.m)]\n",
    "        canReachA = [[False] * self.n for row in range(self.m)]       \n",
    "        for ii in range(self.m):\n",
    "            self.dfs(ii,0,canReachP)#第一列 太平洋\n",
    "            self.dfs(ii,self.n-1,canReachA)#最后一列 大西洋\n",
    "        for jj in range(self.n):\n",
    "            self.dfs(0,jj,canReachP)#第一行 太平洋\n",
    "            self.dfs(self.m-1,jj,canReachA)#最后一行 大西洋\n",
    "        for i in range(self.m):\n",
    "            for j in range(self.n):\n",
    "                if canReachP[i][j] and canReachA[i][j]:\n",
    "                    self.res.append([i,j])\n",
    "        return self.res\n",
    "    def dfs(self,i,j,canReach):\n",
    "        if canReach[i][j]:\n",
    "            return\n",
    "        canReach[i][j] = True\n",
    "        for ele in self.direction:\n",
    "            next_i = i+ele[0]\n",
    "            next_j = j+ele[1]\n",
    "            if next_i<0 or next_i>=self.m or next_j<0 or next_j>=self.n or self.matrix[i][j]>self.matrix[next_i][next_j]:\n",
    "                continue\n",
    "            self.dfs(next_i,next_j,canReach)"
   ]
  },
  {
   "cell_type": "code",
   "execution_count": null,
   "metadata": {},
   "outputs": [],
   "source": [
    "l = [[2,2,2],\n",
    "     [2,1,2],\n",
    "     [2,2,2]]\n",
    "s = Solution()\n",
    "s.pacificAtlantic(l)"
   ]
  },
  {
   "cell_type": "markdown",
   "metadata": {},
   "source": [
    "# Part3 回溯"
   ]
  },
  {
   "cell_type": "markdown",
   "metadata": {},
   "source": [
    "### 17 Letter Combinations of a Phone Number\n",
    "给定一个仅包含数字 2-9 的字符串，返回所有它能表示的字母组合。\n",
    "\n",
    "给出数字到字母的映射如下（与电话按键相同）。注意 1 不对应任何字母。\n",
    "\n",
    "<img src=\"./17_telephone_keypad.png\">\n",
    "\n",
    "示例:\n",
    "\n",
    "输入：\"23\"\n",
    "输出：[\"ad\", \"ae\", \"af\", \"bd\", \"be\", \"bf\", \"cd\", \"ce\", \"cf\"]."
   ]
  },
  {
   "cell_type": "code",
   "execution_count": null,
   "metadata": {},
   "outputs": [],
   "source": [
    "'''\n",
    "from typing import List\n",
    "class Solution:\n",
    "    def __init__(self):\n",
    "        self.letterMap = [\" \",\"\",\"abc\",\"def\",\"ghi\",\"jkl\",\"mno\",\"pqrs\",\"tuv\",\"wxyz\"]\n",
    "        self.ret = []\n",
    "    ## S中保存了digits[0:index] 组合得到的一个字母字符串\n",
    "    ## index 从0开始变量到len(digits)-1\n",
    "    def findCOmbination(self,digits,index,s):\n",
    "        if index == len(digits):\n",
    "            self.ret.append(s)\n",
    "            return\n",
    "        cur_char = digits[index]\n",
    "        cur_letter = self.letterMap[int(cur_char)]\n",
    "        for ele in cur_letter:\n",
    "            self.findCOmbination(digits,index+1,s+ele)\n",
    "    def letterCombinations(self, digits: str) -> List[str]: \n",
    "        if len(digits)==0:\n",
    "            return []\n",
    "        self.findCOmbination(digits, 0, \"\")\n",
    "        return self.ret\n",
    "if __name__ == '__main__':\n",
    "    s = Solution()\n",
    "    print(s.letterCombinations(\"23\"))\n",
    "'''\n",
    "class Solution:\n",
    "    def __init__(self):\n",
    "        self.letterMap = [\" \",\"\",\"abc\",\"def\",\"ghi\",\"jkl\",\"mno\",\"pqrs\",\"tuv\",\"wxyz\"]\n",
    "        self.ret = []\n",
    "    def findCOmbination(self,digits,temp_ret):\n",
    "        if len(temp_ret) == len(digits):\n",
    "            self.ret.append(''.join(temp_ret))\n",
    "            return\n",
    "        cur_char = digits[len(temp_ret)]\n",
    "        cur_letter = self.letterMap[int(cur_char)]\n",
    "        for ele in cur_letter:\n",
    "            temp_ret.append(ele)\n",
    "            self.findCOmbination(digits,temp_ret)\n",
    "            temp_ret.pop()##暂时理解是return到上次层递归就会执行改行代码 恢复状态\n",
    "    def letterCombinations(self, digits: str) -> List[str]: \n",
    "        if len(digits)==0:\n",
    "            return []\n",
    "        self.findCOmbination(digits,[])\n",
    "        return self.ret"
   ]
  },
  {
   "cell_type": "markdown",
   "metadata": {},
   "source": [
    "### 93 Restore IP Addresses\n",
    "给定一个只包含数字的字符串，复原它并返回所有可能的 IP 地址格式。\n",
    "\n",
    "示例:\n",
    "\n",
    "输入: \"25525511135\"\n",
    "输出: [\"255.255.11.135\", \"255.255.111.35\"]"
   ]
  },
  {
   "cell_type": "code",
   "execution_count": null,
   "metadata": {},
   "outputs": [],
   "source": [
    "\"\"\"\n",
    "from typing import List\n",
    "class Solution:\n",
    "    def __init__(self):\n",
    "        self.ret = []\n",
    "    def isright(self,s):\n",
    "            if len(s)>3 or len(s)==0 or (s[0]=='0' and len(s)>1) or int(s)>255:\n",
    "                return False\n",
    "            return True\n",
    "    def isrightIp(self,s):\n",
    "        s_l = s.split('.')\n",
    "        for ele in s_l:\n",
    "            if not self.isright(ele):\n",
    "                return False\n",
    "        return True\n",
    "    ### 采用求组合的办法 C(N-1,3) 求的IP切分的索引\n",
    "    def getCombination(self,s,start,index):\n",
    "        N = len(s)\n",
    "        ll = [i for i in range(1,N)]\n",
    "        if 3 == len(index):\n",
    "            self.ret.append(list(index))\n",
    "            return\n",
    "        for i in range(start,N-1):\n",
    "            index.append(ll[i])\n",
    "            self.getCombination(s,i+1,index)\n",
    "            index.pop()\n",
    "    def restoreIpAddresses(self, s: str) -> List[str]:\n",
    "        if len(s)>12 or len(s)<4:\n",
    "            return []\n",
    "        self.getCombination(s,0,[])\n",
    "        ret_temp = []\n",
    "        for ele in self.ret:\n",
    "            ip = '.'.join([s[:ele[0]],s[ele[0]:ele[1]],s[ele[1]:ele[2]],s[ele[2]:]])\n",
    "            if self.isrightIp(ip):\n",
    "                ret_temp.append(ip)\n",
    "        return ret_temp\n",
    "\"\"\"\n",
    "from typing import List\n",
    "class Solution:\n",
    "    def restoreIpAddresses(self, s: str) -> List[str]:\n",
    "        temp_addr = []\n",
    "        addr = []\n",
    "        if len(s)>12 or len(s)<4:\n",
    "            return addr\n",
    "        self.doRestore(0,temp_addr,addr,s)\n",
    "        return addr\n",
    "    def doRestore(self,k,temp_addr,addr,s):\n",
    "        if k==4 or len(s)==0:\n",
    "            if k==4 and len(s)==0:\n",
    "                addr.append('.'.join(temp_addr))\n",
    "            return\n",
    "        for i in range(len(s)):##必须是len(s) 不能是3，s的长度有可能是1、2，写成3造重复执行\n",
    "            if i<=2:\n",
    "                if i!=0 and s[0]==\"0\":### 避免如012这种情况存在，单独一个0可以的\n",
    "                    break\n",
    "                s_part = s[:i+1]\n",
    "                if int(s_part)<=255:## 限制了长度和大小\n",
    "                    temp_addr.append(s_part)\n",
    "                    self.doRestore(k+1,temp_addr,addr,s[i+1:])\n",
    "                    temp_addr.pop()"
   ]
  },
  {
   "cell_type": "code",
   "execution_count": null,
   "metadata": {},
   "outputs": [],
   "source": [
    "s = Solution()\n",
    "##\"010010\"\n",
    "print(s.restoreIpAddresses(\"25525511135\"))"
   ]
  },
  {
   "cell_type": "markdown",
   "metadata": {},
   "source": [
    "### 79. 单词搜索\n",
    "给定一个二维网格和一个单词，找出该单词是否存在于网格中。\n",
    "\n",
    "单词必须按照字母顺序，通过相邻的单元格内的字母构成，其中“相邻”单元格是那些水平相邻或垂直相邻的单元格。同一个单元格内的字母不允许被重复使用。\n",
    "\n",
    " \n",
    "\n",
    "示例:\n",
    "\n",
    "board =<br>\n",
    "[<br>\n",
    "  ['A','B','C','E'],<br>\n",
    "  ['S','F','C','S'],<br>\n",
    "  ['A','D','E','E']<br>\n",
    "]<br>\n",
    "\n",
    "给定 word = \"ABCCED\", 返回 true\n",
    "给定 word = \"SEE\", 返回 true\n",
    "给定 word = \"ABCB\", 返回 false\n",
    " \n",
    "\n",
    "提示：<br>\n",
    "\n",
    "board 和 word 中只包含大写和小写英文字母。<br>\n",
    "1 <= board.length <= 200<br>\n",
    "1 <= board[i].length <= 200<br>\n",
    "1 <= word.length <= 10^3<br>"
   ]
  },
  {
   "cell_type": "code",
   "execution_count": 68,
   "metadata": {},
   "outputs": [],
   "source": [
    "from typing import List\n",
    "class Solution:\n",
    "    def __init__(self):\n",
    "        self.m = 0\n",
    "        self.n = 0\n",
    "        self.direction = [[-1,0],[1,0],[0,1],[0,-1]]\n",
    "        self.visited = []\n",
    "    def exist(self, board: List[List[str]], word: str) -> bool:\n",
    "        if board==None or len(board)==0 or len(board[0])==0:\n",
    "            return False\n",
    "        self.m = len(board)\n",
    "        self.n = len(board[0])\n",
    "        self.visited = [[False] * self.n for row in range(self.m)]\n",
    "        for i in range(self.m):\n",
    "            for j in range(self.n):\n",
    "                if self.helper(0,board,word,i,j):\n",
    "                    return True\n",
    "        return False\n",
    "    def helper(self,k,board,word,i,j):\n",
    "        if k==len(word):\n",
    "            return True\n",
    "        if i<0 or i>=self.m or j<0 or j>=self.n or board[i][j]!=word[k] or self.visited[i][j]:\n",
    "            return False\n",
    "        self.visited[i][j] = True\n",
    "        for ele in self.direction:\n",
    "            if self.helper(k+1,board,word,i+ele[0],j+ele[1]):\n",
    "                return True\n",
    "        self.visited[i][j] = False\n",
    "        return False"
   ]
  },
  {
   "cell_type": "code",
   "execution_count": 69,
   "metadata": {},
   "outputs": [
    {
     "data": {
      "text/plain": [
       "True"
      ]
     },
     "execution_count": 69,
     "metadata": {},
     "output_type": "execute_result"
    }
   ],
   "source": [
    "board =[\n",
    "['A']]\n",
    "word = \"A\"\n",
    "#\"ABCB\"\n",
    "s =Solution()\n",
    "s.exist(board,word)"
   ]
  },
  {
   "cell_type": "code",
   "execution_count": 70,
   "metadata": {},
   "outputs": [
    {
     "data": {
      "text/plain": [
       "True"
      ]
     },
     "execution_count": 70,
     "metadata": {},
     "output_type": "execute_result"
    }
   ],
   "source": [
    "board =[\n",
    "['A','B','C','E'],\n",
    "['S','F','C','S'],\n",
    "['A','D','E','E']]\n",
    "word = \"ABCCE\"\n",
    "#\"ABCB\"\n",
    "s =Solution()\n",
    "s.exist(board,word)"
   ]
  },
  {
   "cell_type": "code",
   "execution_count": 71,
   "metadata": {},
   "outputs": [
    {
     "data": {
      "text/plain": [
       "True"
      ]
     },
     "execution_count": 71,
     "metadata": {},
     "output_type": "execute_result"
    }
   ],
   "source": [
    "board = [[\"a\",\"a\",\"a\",\"a\",\"a\",\"a\",\"a\",\"a\",\"a\",\"a\",\"a\",\"a\",\"a\",\"a\",\"a\",\"a\",\"a\",\"a\",\"a\",\"a\",\"a\",\"a\",\"a\",\"a\",\"a\",\"a\",\"a\",\"a\",\"a\",\"a\"],[\"a\",\"a\",\"a\",\"a\",\"a\",\"a\",\"a\",\"a\",\"a\",\"a\",\"a\",\"a\",\"a\",\"a\",\"a\",\"a\",\"a\",\"a\",\"a\",\"a\",\"a\",\"a\",\"a\",\"a\",\"a\",\"a\",\"a\",\"a\",\"a\",\"a\"],[\"a\",\"a\",\"a\",\"a\",\"a\",\"a\",\"a\",\"a\",\"a\",\"a\",\"a\",\"a\",\"a\",\"a\",\"a\",\"a\",\"a\",\"a\",\"a\",\"a\",\"a\",\"a\",\"a\",\"a\",\"a\",\"a\",\"a\",\"a\",\"a\",\"a\"],[\"a\",\"a\",\"a\",\"a\",\"a\",\"a\",\"a\",\"a\",\"a\",\"a\",\"a\",\"a\",\"a\",\"a\",\"a\",\"a\",\"a\",\"a\",\"a\",\"a\",\"a\",\"a\",\"a\",\"a\",\"a\",\"a\",\"a\",\"a\",\"a\",\"a\"],[\"a\",\"a\",\"a\",\"a\",\"a\",\"a\",\"a\",\"a\",\"a\",\"a\",\"a\",\"a\",\"a\",\"a\",\"a\",\"a\",\"a\",\"a\",\"a\",\"a\",\"a\",\"a\",\"a\",\"a\",\"a\",\"a\",\"a\",\"a\",\"a\",\"a\"],[\"a\",\"a\",\"a\",\"a\",\"a\",\"a\",\"a\",\"a\",\"a\",\"a\",\"a\",\"a\",\"a\",\"a\",\"a\",\"a\",\"a\",\"a\",\"a\",\"a\",\"a\",\"a\",\"a\",\"a\",\"a\",\"a\",\"a\",\"a\",\"a\",\"a\"],[\"a\",\"a\",\"a\",\"a\",\"a\",\"a\",\"a\",\"a\",\"a\",\"a\",\"a\",\"a\",\"a\",\"a\",\"a\",\"a\",\"a\",\"a\",\"a\",\"a\",\"a\",\"a\",\"a\",\"a\",\"a\",\"a\",\"a\",\"a\",\"a\",\"a\"],[\"a\",\"a\",\"a\",\"a\",\"a\",\"a\",\"a\",\"a\",\"a\",\"a\",\"a\",\"a\",\"a\",\"a\",\"a\",\"a\",\"a\",\"a\",\"a\",\"a\",\"a\",\"a\",\"a\",\"a\",\"a\",\"a\",\"a\",\"a\",\"a\",\"a\"],[\"a\",\"a\",\"a\",\"a\",\"a\",\"a\",\"a\",\"a\",\"a\",\"a\",\"a\",\"a\",\"a\",\"a\",\"a\",\"a\",\"a\",\"a\",\"a\",\"a\",\"a\",\"a\",\"a\",\"a\",\"a\",\"a\",\"a\",\"a\",\"a\",\"a\"],[\"a\",\"a\",\"a\",\"a\",\"a\",\"a\",\"a\",\"a\",\"a\",\"a\",\"a\",\"a\",\"a\",\"a\",\"a\",\"a\",\"a\",\"a\",\"a\",\"a\",\"a\",\"a\",\"a\",\"a\",\"a\",\"a\",\"a\",\"a\",\"a\",\"a\"],[\"a\",\"a\",\"a\",\"a\",\"a\",\"a\",\"a\",\"a\",\"a\",\"a\",\"a\",\"a\",\"a\",\"a\",\"a\",\"a\",\"a\",\"a\",\"a\",\"a\",\"a\",\"a\",\"a\",\"a\",\"a\",\"a\",\"a\",\"a\",\"a\",\"a\"],[\"a\",\"a\",\"a\",\"a\",\"a\",\"a\",\"a\",\"a\",\"a\",\"a\",\"a\",\"a\",\"a\",\"a\",\"a\",\"a\",\"a\",\"a\",\"a\",\"a\",\"a\",\"a\",\"a\",\"a\",\"a\",\"a\",\"a\",\"a\",\"a\",\"a\"],[\"a\",\"a\",\"a\",\"a\",\"a\",\"a\",\"a\",\"a\",\"a\",\"a\",\"a\",\"a\",\"a\",\"a\",\"a\",\"a\",\"a\",\"a\",\"a\",\"a\",\"a\",\"a\",\"a\",\"a\",\"a\",\"a\",\"a\",\"a\",\"a\",\"a\"],[\"a\",\"a\",\"a\",\"a\",\"a\",\"a\",\"a\",\"a\",\"a\",\"a\",\"a\",\"a\",\"a\",\"a\",\"a\",\"a\",\"a\",\"a\",\"a\",\"a\",\"a\",\"a\",\"a\",\"a\",\"a\",\"a\",\"a\",\"a\",\"a\",\"a\"],[\"a\",\"a\",\"a\",\"a\",\"a\",\"a\",\"a\",\"a\",\"a\",\"a\",\"a\",\"a\",\"a\",\"a\",\"a\",\"a\",\"a\",\"a\",\"a\",\"a\",\"a\",\"a\",\"a\",\"a\",\"a\",\"a\",\"a\",\"a\",\"a\",\"a\"],[\"a\",\"a\",\"a\",\"a\",\"a\",\"a\",\"a\",\"a\",\"a\",\"a\",\"a\",\"a\",\"a\",\"a\",\"a\",\"a\",\"a\",\"a\",\"a\",\"a\",\"a\",\"a\",\"a\",\"a\",\"a\",\"a\",\"a\",\"a\",\"a\",\"a\"],[\"a\",\"a\",\"a\",\"a\",\"a\",\"a\",\"a\",\"a\",\"a\",\"a\",\"a\",\"a\",\"a\",\"a\",\"a\",\"a\",\"a\",\"a\",\"a\",\"a\",\"a\",\"a\",\"a\",\"a\",\"a\",\"a\",\"a\",\"a\",\"a\",\"a\"],[\"a\",\"a\",\"a\",\"a\",\"a\",\"a\",\"a\",\"a\",\"a\",\"a\",\"a\",\"a\",\"a\",\"a\",\"a\",\"a\",\"a\",\"a\",\"a\",\"a\",\"a\",\"a\",\"a\",\"a\",\"a\",\"a\",\"a\",\"a\",\"a\",\"a\"],[\"a\",\"a\",\"a\",\"a\",\"a\",\"a\",\"a\",\"a\",\"a\",\"a\",\"a\",\"a\",\"a\",\"a\",\"a\",\"a\",\"a\",\"a\",\"a\",\"a\",\"a\",\"a\",\"a\",\"a\",\"a\",\"a\",\"a\",\"a\",\"a\",\"a\"],[\"a\",\"a\",\"a\",\"a\",\"a\",\"a\",\"a\",\"a\",\"a\",\"a\",\"a\",\"a\",\"a\",\"a\",\"a\",\"a\",\"a\",\"a\",\"a\",\"a\",\"a\",\"a\",\"a\",\"a\",\"a\",\"a\",\"a\",\"a\",\"a\",\"a\"],[\"a\",\"a\",\"a\",\"a\",\"a\",\"a\",\"a\",\"a\",\"a\",\"a\",\"a\",\"a\",\"a\",\"a\",\"a\",\"a\",\"a\",\"a\",\"a\",\"a\",\"a\",\"a\",\"a\",\"a\",\"a\",\"a\",\"a\",\"a\",\"a\",\"a\"],[\"a\",\"a\",\"a\",\"a\",\"a\",\"a\",\"a\",\"a\",\"a\",\"a\",\"a\",\"a\",\"a\",\"a\",\"a\",\"a\",\"a\",\"a\",\"a\",\"a\",\"a\",\"a\",\"a\",\"a\",\"a\",\"a\",\"a\",\"a\",\"a\",\"a\"],[\"a\",\"a\",\"a\",\"a\",\"a\",\"a\",\"a\",\"a\",\"a\",\"a\",\"a\",\"a\",\"a\",\"a\",\"a\",\"a\",\"a\",\"a\",\"a\",\"a\",\"a\",\"a\",\"a\",\"a\",\"a\",\"a\",\"a\",\"a\",\"a\",\"a\"],[\"a\",\"a\",\"a\",\"a\",\"a\",\"a\",\"a\",\"a\",\"a\",\"a\",\"a\",\"a\",\"a\",\"a\",\"a\",\"a\",\"a\",\"a\",\"a\",\"a\",\"a\",\"a\",\"a\",\"a\",\"a\",\"a\",\"a\",\"a\",\"a\",\"a\"],[\"a\",\"a\",\"a\",\"a\",\"a\",\"a\",\"a\",\"a\",\"a\",\"a\",\"a\",\"a\",\"a\",\"a\",\"a\",\"a\",\"a\",\"a\",\"a\",\"a\",\"a\",\"a\",\"a\",\"a\",\"a\",\"a\",\"a\",\"a\",\"a\",\"a\"],[\"a\",\"a\",\"a\",\"a\",\"a\",\"a\",\"a\",\"a\",\"a\",\"a\",\"a\",\"a\",\"a\",\"a\",\"a\",\"a\",\"a\",\"a\",\"a\",\"a\",\"a\",\"a\",\"a\",\"a\",\"a\",\"a\",\"a\",\"a\",\"a\",\"a\"],[\"a\",\"a\",\"a\",\"a\",\"a\",\"a\",\"a\",\"a\",\"a\",\"a\",\"a\",\"a\",\"a\",\"a\",\"a\",\"a\",\"a\",\"a\",\"a\",\"a\",\"a\",\"a\",\"a\",\"a\",\"a\",\"a\",\"a\",\"a\",\"a\",\"a\"],[\"a\",\"a\",\"a\",\"a\",\"a\",\"a\",\"a\",\"a\",\"a\",\"a\",\"a\",\"a\",\"a\",\"a\",\"a\",\"a\",\"a\",\"a\",\"a\",\"a\",\"a\",\"a\",\"a\",\"a\",\"a\",\"a\",\"a\",\"a\",\"a\",\"a\"],[\"a\",\"a\",\"a\",\"a\",\"a\",\"a\",\"a\",\"a\",\"a\",\"a\",\"a\",\"a\",\"a\",\"a\",\"a\",\"a\",\"a\",\"a\",\"a\",\"a\",\"a\",\"a\",\"a\",\"a\",\"a\",\"a\",\"a\",\"a\",\"a\",\"a\"],[\"a\",\"a\",\"a\",\"a\",\"a\",\"a\",\"a\",\"a\",\"a\",\"a\",\"a\",\"a\",\"a\",\"a\",\"a\",\"a\",\"a\",\"a\",\"a\",\"a\",\"a\",\"a\",\"a\",\"a\",\"a\",\"a\",\"a\",\"a\",\"a\",\"b\"]]\n",
    "word = \"baaaaaaaaaaaaaaaaaaaaaaaaaaaaaaaaaaaaaaaaaaaaaaaaaaaaaaaaaaaaaaaaaaaaaaaaaaaaaaaaaaaaaaaaaaaaaaaaaaaaaaaaaaaaaaaaaaaaaaaaaaaaaaaaaaaaaaaaaaaaaaaaaaaaaaaaaaaaaaaaaaaaaaaaaaaaaaaaaaaaaaaaaaaaaaaaaaaaaaaaaaaaaaaaaaaaaaaaaaaaaaaaaaaaaaaaaaaaaaaaaaaaaaaaaaaaaaaaaaaaaaaaaaaaaaaaaaaaaaaaaaaaaaaaaaaaaaaaaaaaaaaaaaaaaaaaaaaaaaaaaaaaaaaaaaaaaaaaaaaaaaaaaaaaaaaaaaaaaaaaaaaaaaaaaaaaaaaaaaaaaaaaaaaaaaaaaaaaaaaaaaaaaaaaaaaaaaaaaaaaaaaaaaaaaaaaaaaaaaaaaaaaaaaaaaaaaaaaaaaaaaaaaaaaaaaaaaaaaaaaaaaaaaaaaaaaaaaaaaaaaaaaaaaaaaaaaaaaaaaaaaaaaaaaaaaaaaaaaaaaaaaaaaaaaaaaaaaaaaaaaaaaaaaaaaaaaaaaaaaaaaaaaaaaaaaaaaaaaaaaaaaaaaaaaaaaaaaaaaaaaaaaaaaaaaaaaaaaaaaaaaaaaaaaaaaaaaaaaaaaaaaaaaaaaaaaaaaaaaaaaaaaaaaaaaaaaaaaaaaaaaaaaaaaaaaaaaaaaaaaaaaaaaaaaaaaaaaaaaaaaaaaaaaaaaaaaaaaaaaaaaaaaaaaaaaaaaaaaaaaaaaaaaaaaaaaaaaaaaaaaaaaaaaaaaaaaaaaaaaaaaaaaaaaaaaaaaaaaaaaaaaaaaaaaaaaaaaaaaaaaaaaaaaaaaaaaaaaaaaaaaaaaaaaaaaaaaaaaaa\"\n",
    "s =Solution()\n",
    "s.exist(board,word)"
   ]
  },
  {
   "cell_type": "markdown",
   "metadata": {},
   "source": [
    "### 257. 二叉树的所有路径\n",
    "给定一个二叉树，返回所有从根节点到叶子节点的路径。\n",
    "\n",
    "说明: 叶子节点是指没有子节点的节点。"
   ]
  },
  {
   "cell_type": "code",
   "execution_count": 72,
   "metadata": {},
   "outputs": [],
   "source": [
    "# 示例:\n",
    "\n",
    "# 输入:\n",
    "\n",
    "#    1\n",
    "#  /   \\\n",
    "# 2     3\n",
    "#  \\\n",
    "#   5\n",
    "\n",
    "# 输出: [\"1->2->5\", \"1->3\"]\n",
    "\n",
    "# 解释: 所有根节点到叶子节点的路径为: 1->2->5, 1->3"
   ]
  },
  {
   "cell_type": "code",
   "execution_count": 205,
   "metadata": {},
   "outputs": [],
   "source": [
    "class TreeNode:\n",
    "    def __init__(self, x):\n",
    "        self.val = x\n",
    "        self.left = None\n",
    "        self.right = None\n",
    "\n",
    "class Solution:\n",
    "    def __init__(self):\n",
    "        self.ret = []\n",
    "        self.temp = []\n",
    "    def isLeaf(self,node):\n",
    "        if node.left==None and node.right==None:\n",
    "            return True\n",
    "    def helper(self,root) -> List[str]:\n",
    "        if root == None:\n",
    "            return\n",
    "        self.temp.append(str(root.val))\n",
    "        if self.isLeaf(root):\n",
    "            ##self.ret.append(self.temp) 返回结果是空 未解决\n",
    "            self.ret.append(\"->\".join(self.temp))\n",
    "        else:\n",
    "            self.helper(root.left)\n",
    "            self.helper(root.right)\n",
    "        self.temp.pop()\n",
    "    def binaryTreePaths(self, root: TreeNode) -> List[str]:\n",
    "        if root == None:\n",
    "            return self.ret()\n",
    "        self.helper(root)\n",
    "        return self.ret"
   ]
  },
  {
   "cell_type": "code",
   "execution_count": 209,
   "metadata": {},
   "outputs": [],
   "source": [
    "class TreeNode:\n",
    "    def __init__(self, x):\n",
    "        self.val = x\n",
    "        self.left = None\n",
    "        self.right = None\n",
    "\n",
    "class Solution:\n",
    "    def __init__(self):\n",
    "        self.ret = []\n",
    "        self.temp = []\n",
    "    def isLeaf(self,node):\n",
    "        if node.left==None and node.right==None:\n",
    "            return True\n",
    "    def helper(self,root) -> List[str]:\n",
    "        if root == None:\n",
    "            return\n",
    "        self.temp.append(str(root.val))\n",
    "        if self.isLeaf(root):\n",
    "            ##self.ret.append(self.temp) 返回结果是空 未解决\n",
    "            self.ret.append(\"->\".join(self.temp))\n",
    "            return\n",
    "        self.helper(root.left)\n",
    "        self.helper(root.right)\n",
    "        self.temp.pop()\n",
    "    def binaryTreePaths(self, root: TreeNode) -> List[str]:\n",
    "        if root == None:\n",
    "            return self.ret()\n",
    "        self.helper(root)\n",
    "        return self.ret"
   ]
  },
  {
   "cell_type": "code",
   "execution_count": 210,
   "metadata": {},
   "outputs": [
    {
     "name": "stdout",
     "output_type": "stream",
     "text": [
      "['1->2->5', '1->2->3']\n"
     ]
    }
   ],
   "source": [
    "node = TreeNode(1)\n",
    "node.left = TreeNode(2)\n",
    "node.left.right = TreeNode(5)\n",
    "node.right = TreeNode(3)\n",
    "s =Solution()\n",
    "print(s.binaryTreePaths(node))"
   ]
  },
  {
   "cell_type": "markdown",
   "metadata": {},
   "source": [
    "### 46 Permutations\n",
    "给定一个 没有重复 数字的序列，返回其所有可能的全排列。\n",
    "\n",
    "示例:\n",
    "\n",
    "输入: [1,2,3]\n",
    "输出:<br>\n",
    "[\n",
    "  [1,2,3],<br>\n",
    "  [1,3,2],<br>\n",
    "  [2,1,3],<br>\n",
    "  [2,3,1],<br>\n",
    "  [3,1,2],<br>\n",
    "  [3,2,1]]"
   ]
  },
  {
   "cell_type": "code",
   "execution_count": 248,
   "metadata": {},
   "outputs": [
    {
     "name": "stdout",
     "output_type": "stream",
     "text": [
      "[[1, 2, 3], [1, 3, 2], [2, 1, 3], [2, 3, 1], [3, 1, 2], [3, 2, 1]]\n"
     ]
    }
   ],
   "source": [
    "## 排列问题 需要设置used的状态\n",
    "class Solution:\n",
    "    def __init__(self):\n",
    "        self.used = []\n",
    "        self.ret = []\n",
    "        self.temp = []\n",
    "    def helper(self,nums):\n",
    "        if len(self.temp) == len(nums):\n",
    "            self.ret.append(list(self.temp))### 不添加list强制转化，输出是空[]\n",
    "            return\n",
    "        for i in range(len(nums)):#### 遇到return 当前分支分叉的分支都执行pop和used[i] = False都执行\n",
    "            if not self.used[i]:\n",
    "                self.temp.append(nums[i])\n",
    "                self.used[i] = True\n",
    "                self.helper(nums)\n",
    "                self.temp.pop()\n",
    "                self.used[i] = False\n",
    "            \n",
    "    def permute(self, nums: List[int]) -> List[List[int]]:\n",
    "        if nums==None or len(nums)==0:\n",
    "            return []\n",
    "        self.used = [False]*len(nums)\n",
    "        self.helper(nums)\n",
    "        return self.ret\n",
    "        \n",
    "if __name__ == '__main__':\n",
    "    s = Solution()\n",
    "    print(s.permute([1,2,3]))"
   ]
  },
  {
   "cell_type": "markdown",
   "metadata": {},
   "source": [
    "### 47. 全排列 II\n",
    "给定一个可包含重复数字的序列，返回所有不重复的全排列。\n",
    "\n",
    "示例:\n",
    "\n",
    "输入: [1,1,2]\n",
    "输出:<br>\n",
    "[\n",
    "  [1,1,2],<br>\n",
    "  [1,2,1],<br>\n",
    "  [2,1,1]\n",
    "]"
   ]
  },
  {
   "cell_type": "code",
   "execution_count": 327,
   "metadata": {},
   "outputs": [
    {
     "name": "stdout",
     "output_type": "stream",
     "text": [
      "[[1, 1, 2], [1, 2, 1], [2, 1, 1]]\n"
     ]
    }
   ],
   "source": [
    "class Solution:\n",
    "    def __init__(self):\n",
    "        self.used = []\n",
    "        self.ret = []\n",
    "        self.temp = []\n",
    "    def helper(self,nums):\n",
    "        if len(self.temp) == len(nums):\n",
    "            self.ret.append(list(self.temp))### 不添加list强制转化，输出是空[]\n",
    "            return\n",
    "        for i in range(len(nums)):\n",
    "            if i!=0 and nums[i]==nums[i-1] and not self.used[i-1]: ## 当前元素等于前一元素，并且前一元素未被访问，跳过当前元素，防重复\n",
    "                continue\n",
    "            if not self.used[i]:\n",
    "                self.temp.append(nums[i])\n",
    "                self.used[i] = True\n",
    "                self.helper(nums)\n",
    "                self.temp.pop()\n",
    "                self.used[i] = False\n",
    "            \n",
    "    def permuteUnique(self, nums: List[int]) -> List[List[int]]:\n",
    "        if nums==None or len(nums)==0:\n",
    "            return []\n",
    "        self.used = [False]*len(nums)\n",
    "        nums.sort() ### 排序\n",
    "        self.helper(nums)\n",
    "        return self.ret\n",
    "        \n",
    "if __name__ == '__main__':\n",
    "    s = Solution()\n",
    "    print(s.permuteUnique([1,2,1]))"
   ]
  },
  {
   "cell_type": "markdown",
   "metadata": {},
   "source": [
    "### 77. Combinations \n",
    "给定两个整数 n 和 k，返回 1 ... n 中所有可能的 k 个数的组合。\n",
    "\n",
    "示例:\n",
    "\n",
    "输入: n = 4, k = 2、\n",
    "输出:\n",
    "[\n",
    "  [2,4],\n",
    "  [3,4],\n",
    "  [2,3],\n",
    "  [1,2],\n",
    "  [1,3],\n",
    "  [1,4],\n",
    "]"
   ]
  },
  {
   "cell_type": "code",
   "execution_count": 334,
   "metadata": {},
   "outputs": [],
   "source": [
    "## 无放回\n",
    "class Solution:\n",
    "    def __init__(self):\n",
    "        self.ret = []\n",
    "    def getCombination(self,n,k,start,res_temp):\n",
    "        n_list = [i for i in range(1,n+1)]\n",
    "        if len(res_temp) == k:\n",
    "            self.ret.append(list(res_temp))\n",
    "            return\n",
    "        ### 每个数只和其后面的数组合\n",
    "        ##for i in range(start,n) ##无剪枝\n",
    "        for i in range(start,n-(k-len(res_temp))+1):## 有剪枝\n",
    "            res_temp.append(n_list[i])\n",
    "            self.getCombination(n,k,i+1,res_temp)\n",
    "            res_temp.pop()\n",
    "    def combine(self, n: int, k: int) -> List[List[int]]:\n",
    "        self.getCombination(n,k,0,[])\n",
    "        return self.ret"
   ]
  },
  {
   "cell_type": "code",
   "execution_count": 335,
   "metadata": {},
   "outputs": [
    {
     "data": {
      "text/plain": [
       "[[1, 2], [1, 3], [1, 4], [2, 3], [2, 4], [3, 4]]"
      ]
     },
     "execution_count": 335,
     "metadata": {},
     "output_type": "execute_result"
    }
   ],
   "source": [
    "s = Solution()\n",
    "s.combine(4,2)"
   ]
  },
  {
   "cell_type": "code",
   "execution_count": 338,
   "metadata": {},
   "outputs": [],
   "source": [
    "## 无放回\n",
    "class Solution:\n",
    "    def __init__(self):\n",
    "        self.ret = []\n",
    "    def getCombination(self,n,k,start,res_temp):\n",
    "        n_list = [i for i in range(1,n+1)]\n",
    "        if k == 0:\n",
    "            self.ret.append(list(res_temp))\n",
    "            return\n",
    "        ### 每个数只和其后面的数组合\n",
    "        for i in range(start,n-k+1):### 有剪枝 假如还要取3个元素，但是后面但是下一层递归只有两个元素可以取，那应该return\n",
    "            res_temp.append(n_list[i])\n",
    "            self.getCombination(n,k-1,i+1,res_temp)\n",
    "            res_temp.pop()\n",
    "    def combine(self, n: int, k: int) -> List[List[int]]:\n",
    "        self.getCombination(n,k,0,[])\n",
    "        return self.ret"
   ]
  },
  {
   "cell_type": "code",
   "execution_count": 339,
   "metadata": {},
   "outputs": [
    {
     "data": {
      "text/plain": [
       "[[1, 2], [1, 3], [1, 4], [2, 3], [2, 4], [3, 4]]"
      ]
     },
     "execution_count": 339,
     "metadata": {},
     "output_type": "execute_result"
    }
   ],
   "source": [
    "s = Solution()\n",
    "s.combine(4,2)"
   ]
  },
  {
   "cell_type": "markdown",
   "metadata": {},
   "source": [
    "### 39. 组合总和\n",
    "给定一个无重复元素的数组 candidates 和一个目标数 target ，找出 candidates 中所有可以使数字和为 target 的组合。\n",
    "\n",
    "candidates 中的数字可以无限制重复被选取。\n",
    "\n",
    "说明：\n",
    "\n",
    "所有数字（包括 target）都是正整数。\n",
    "解集不能包含重复的组合。 \n",
    "示例 1:\n",
    "\n",
    "输入: candidates = [2,3,6,7], target = 7,\n",
    "所求解集为:\n",
    "[\n",
    "  [7],\n",
    "  [2,2,3]\n",
    "]\n",
    "示例 2:\n",
    "\n",
    "输入: candidates = [2,3,5], target = 8,\n",
    "所求解集为:\n",
    "[\n",
    "  [2,2,2,2],\n",
    "  [2,3,3],\n",
    "  [3,5]\n",
    "]"
   ]
  },
  {
   "cell_type": "code",
   "execution_count": 358,
   "metadata": {},
   "outputs": [
    {
     "data": {
      "text/plain": [
       "[[2, 2, 3], [7]]"
      ]
     },
     "execution_count": 358,
     "metadata": {},
     "output_type": "execute_result"
    }
   ],
   "source": [
    "## 有放回 不好的方法 需要设置最大递归层数\n",
    "class Solution:\n",
    "    def __init__(self):\n",
    "        self.temp  =[]\n",
    "        self.ret = []\n",
    "        \n",
    "    def helper(self,candidates,target,start,m):\n",
    "        if sum(self.temp)==target:\n",
    "            self.ret.append(list(self.temp))\n",
    "            return\n",
    "        if self.k == m:### 设置最大递归层数 否则递归不会停止 导致栈溢出\n",
    "            return\n",
    "        for i in range(start,len(candidates)):\n",
    "            self.temp.append(candidates[i])\n",
    "            self.helper(candidates,target,i,m+1) ##有放回 所以是i 不是i+1\n",
    "            self.temp.pop()\n",
    "    def combinationSum(self, candidates: List[int], target: int) -> List[List[int]]:\n",
    "        if len(candidates)==0 or candidates == None or target == None:\n",
    "            return []\n",
    "        self.k = int(target/min(candidates))\n",
    "        self.helper(candidates,target,0,0)\n",
    "        return self.ret\n",
    "s = Solution()\n",
    "candidates = [2,3,6,7]\n",
    "target = 7\n",
    "s.combinationSum(candidates,target)"
   ]
  },
  {
   "cell_type": "code",
   "execution_count": 360,
   "metadata": {},
   "outputs": [],
   "source": [
    "## 有放回\n",
    "class Solution:\n",
    "    def __init__(self):\n",
    "        self.temp  =[]\n",
    "        self.ret = []\n",
    "    def helper(self,candidates,target,start):\n",
    "        #print(target)\n",
    "        #print(self.temp)\n",
    "        if target==0:\n",
    "            self.ret.append(list(self.temp))\n",
    "            return\n",
    "        for i in range(start,len(candidates)):\n",
    "            if candidates[i]<=target:\n",
    "                self.temp.append(candidates[i])\n",
    "                self.helper(candidates,target - candidates[i],i)\n",
    "                self.temp.pop()\n",
    "    def combinationSum(self, candidates: List[int], target: int) -> List[List[int]]:\n",
    "        if len(candidates)==0 or candidates == None or target == None:\n",
    "            return []\n",
    "        self.helper(candidates,target,0)\n",
    "        return self.ret"
   ]
  },
  {
   "cell_type": "code",
   "execution_count": 361,
   "metadata": {},
   "outputs": [
    {
     "data": {
      "text/plain": [
       "[[2, 2, 3], [7]]"
      ]
     },
     "execution_count": 361,
     "metadata": {},
     "output_type": "execute_result"
    }
   ],
   "source": [
    "s = Solution()\n",
    "candidates = [2,3,6,7]\n",
    "target = 7\n",
    "s.combinationSum(candidates,target)"
   ]
  },
  {
   "cell_type": "markdown",
   "metadata": {},
   "source": [
    "### 40. 组合总和 II\n",
    "给定一个数组 candidates 和一个目标数 target ，找出 candidates 中所有可以使数字和为 target 的组合。\n",
    "\n",
    "candidates 中的每个数字在每个组合中只能使用一次。\n",
    "\n",
    "说明：\n",
    "\n",
    "所有数字（包括目标数）都是正整数。\n",
    "解集不能包含重复的组合。 \n",
    "示例 1:\n",
    "\n",
    "输入: candidates = [10,1,2,7,6,1,5], target = 8,\n",
    "所求解集为:\n",
    "[\n",
    "  [1, 7],\n",
    "  [1, 2, 5],\n",
    "  [2, 6],\n",
    "  [1, 1, 6]\n",
    "]\n",
    "示例 2:\n",
    "\n",
    "输入: candidates = [2,5,2,1,2], target = 5,\n",
    "所求解集为:\n",
    "[\n",
    "  [1,2,2],\n",
    "  [5]\n",
    "]"
   ]
  },
  {
   "cell_type": "code",
   "execution_count": 15,
   "metadata": {},
   "outputs": [
    {
     "data": {
      "text/plain": [
       "[[1, 2, 2], [5]]"
      ]
     },
     "execution_count": 15,
     "metadata": {},
     "output_type": "execute_result"
    }
   ],
   "source": [
    "## 无放回 下一层递归 i+1\n",
    "## 过滤排列元素，是一个排列问题，需要添加used状态\n",
    "class Solution:\n",
    "    def __init__(self):\n",
    "        self.ret = []\n",
    "        self.temp = []\n",
    "        self.used = []\n",
    "    def helper(self,candidates,target,start):\n",
    "        if target ==0:\n",
    "            self.ret.append(list(self.temp))\n",
    "            return\n",
    "        for i in range(start,len(candidates)):\n",
    "            if i!=0 and candidates[i]==candidates[i-1] and not self.used[i-1]:\n",
    "                continue\n",
    "            if candidates[i]<=target:\n",
    "                self.temp.append(candidates[i])\n",
    "                self.used[i] = True\n",
    "                self.helper(candidates,target-candidates[i],i+1)\n",
    "                self.used[i] = False\n",
    "                self.temp.pop()\n",
    "    def combinationSum2(self, candidates: List[int], target: int) -> List[List[int]]:\n",
    "        if candidates==None or len(candidates)==0 or target == 0:\n",
    "            return []\n",
    "        candidates.sort()\n",
    "        self.used = [False]*len(candidates)\n",
    "        self.helper(candidates,target,0)\n",
    "        return self.ret\n",
    "\n",
    "s = Solution()\n",
    "candidates = [2,5,2,1,2]\n",
    "target = 5\n",
    "s.combinationSum2(candidates,target)"
   ]
  },
  {
   "cell_type": "markdown",
   "metadata": {},
   "source": [
    "### 216. 组合总和 III\n",
    "找出所有相加之和为 n 的 k 个数的组合。组合中只允许含有 1 - 9 的正整数，并且每种组合中不存在重复的数字。\n",
    "\n",
    "说明：\n",
    "\n",
    "所有数字都是正整数。\n",
    "解集不能包含重复的组合。 \n",
    "示例 1:\n",
    "\n",
    "输入: k = 3, n = 7\n",
    "输出: [[1,2,4]]\n",
    "示例 2:\n",
    "\n",
    "输入: k = 3, n = 9\n",
    "输出: [[1,2,6], [1,3,5], [2,3,4]]"
   ]
  },
  {
   "cell_type": "code",
   "execution_count": 27,
   "metadata": {},
   "outputs": [],
   "source": [
    "from typing import List\n",
    "class Solution:\n",
    "    def __init__(self):\n",
    "        self.temp = []\n",
    "        self.ret = []\n",
    "        self.num_list = [ele for ele in range(1,10)]\n",
    "    def helper(self,k,n,start):\n",
    "        if len(self.temp)==k:\n",
    "            if sum(self.temp)==n:\n",
    "                self.ret.append(list(self.temp))\n",
    "                return\n",
    "            else:\n",
    "                return\n",
    "        ##for i in range(start,9-(k-len(self.temp))+1): 剪枝\n",
    "        for i in range(start,9):\n",
    "            self.temp.append(self.num_list[i])\n",
    "            self.helper(k,n,i+1)\n",
    "            self.temp.pop()\n",
    "    def combinationSum3(self, k: int, n: int) -> List[List[int]]:\n",
    "        if k<=0 or k == None or n <= 0 or  n == None:\n",
    "            return []\n",
    "        self.helper(k,n,0)\n",
    "        return self.ret"
   ]
  },
  {
   "cell_type": "code",
   "execution_count": 28,
   "metadata": {},
   "outputs": [
    {
     "data": {
      "text/plain": [
       "[[1, 5, 9],\n",
       " [1, 6, 8],\n",
       " [2, 4, 9],\n",
       " [2, 5, 8],\n",
       " [2, 6, 7],\n",
       " [3, 4, 8],\n",
       " [3, 5, 7],\n",
       " [4, 5, 6]]"
      ]
     },
     "execution_count": 28,
     "metadata": {},
     "output_type": "execute_result"
    }
   ],
   "source": [
    "s = Solution()\n",
    "s.combinationSum3(3,15)"
   ]
  },
  {
   "cell_type": "markdown",
   "metadata": {},
   "source": [
    "### 78. 子集\n",
    "给定一组不含重复元素的整数数组 nums，返回该数组所有可能的子集（幂集）。\n",
    "\n",
    "说明：解集不能包含重复的子集。\n",
    "\n",
    "示例:\n",
    "\n",
    "输入: nums = [1,2,3]\n",
    "输出:\n",
    "[\n",
    "  [3],\n",
    "  [1],\n",
    "  [2],\n",
    "  [1,2,3],\n",
    "  [1,3],\n",
    "  [2,3],\n",
    "  [1,2],\n",
    "  []\n",
    "]"
   ]
  },
  {
   "cell_type": "code",
   "execution_count": 36,
   "metadata": {},
   "outputs": [],
   "source": [
    "class Solution:\n",
    "    def __init__(self):\n",
    "        self.temp = []\n",
    "        self.ret = []\n",
    "    def helper(self,nums,start):\n",
    "        self.ret.append(list(self.temp))\n",
    "        for i in range(start,len(nums)):\n",
    "            self.temp.append(nums[i])\n",
    "            self.helper(nums,i+1)\n",
    "            self.temp.pop()\n",
    "    def subsets(self, nums: List[int]) -> List[List[int]]:\n",
    "        if nums==None or len(nums)==0:\n",
    "            return []\n",
    "        self.helper(nums,0)\n",
    "        return self.ret"
   ]
  },
  {
   "cell_type": "code",
   "execution_count": 37,
   "metadata": {},
   "outputs": [
    {
     "data": {
      "text/plain": [
       "[[], [1], [1, 2], [1, 2, 3], [1, 3], [2], [2, 3], [3]]"
      ]
     },
     "execution_count": 37,
     "metadata": {},
     "output_type": "execute_result"
    }
   ],
   "source": [
    "s = Solution()\n",
    "nums = [1,2,3]\n",
    "s.subsets(nums)"
   ]
  },
  {
   "cell_type": "markdown",
   "metadata": {},
   "source": [
    "### 90. 子集 II\n",
    "给定一个可能包含重复元素的整数数组 nums，返回该数组所有可能的子集（幂集）。\n",
    "\n",
    "说明：解集不能包含重复的子集。\n",
    "\n",
    "示例:\n",
    "\n",
    "输入: [1,2,2]\n",
    "输出:\n",
    "[\n",
    "  [2],\n",
    "  [1],\n",
    "  [1,2,2],\n",
    "  [2,2],\n",
    "  [1,2],\n",
    "  []\n",
    "]"
   ]
  },
  {
   "cell_type": "code",
   "execution_count": 54,
   "metadata": {},
   "outputs": [],
   "source": [
    "class Solution:\n",
    "    def __init__(self):\n",
    "        self.ret = []\n",
    "        self.temp = []\n",
    "        self.used = []\n",
    "    def helper(self,nums,start):\n",
    "        self.ret.append(list(self.temp))\n",
    "        for i in range(start,len(nums)):\n",
    "            if i!=0 and nums[i]==nums[i-1] and not self.used[i-1]:\n",
    "                continue\n",
    "            self.temp.append(nums[i])\n",
    "            self.used[i] = True\n",
    "            self.helper(nums,i+1)\n",
    "            self.used[i] = False\n",
    "            self.temp.pop()\n",
    "    def subsetsWithDup(self, nums: List[int]) -> List[List[int]]:\n",
    "        if nums==None or len(nums) == 0:\n",
    "            return []\n",
    "        self.used = [False]*len(nums)\n",
    "        nums.sort()\n",
    "        self.helper(nums,0)\n",
    "        return self.ret"
   ]
  },
  {
   "cell_type": "code",
   "execution_count": 55,
   "metadata": {},
   "outputs": [
    {
     "data": {
      "text/plain": [
       "[[], [1], [1, 2], [1, 2, 2], [2], [2, 2]]"
      ]
     },
     "execution_count": 55,
     "metadata": {},
     "output_type": "execute_result"
    }
   ],
   "source": [
    "s = Solution()\n",
    "nums = [1,2,2]\n",
    "s.subsetsWithDup(nums)"
   ]
  },
  {
   "cell_type": "markdown",
   "metadata": {},
   "source": [
    "### 131. 分割回文串\n",
    "给定一个字符串 s，将 s 分割成一些子串，使每个子串都是回文串。\n",
    "\n",
    "返回 s 所有可能的分割方案。\n",
    "\n",
    "示例:\n",
    "\n",
    "输入: \"aab\"\n",
    "输出:\n",
    "[\n",
    "  [\"aa\",\"b\"],\n",
    "  [\"a\",\"a\",\"b\"]\n",
    "]"
   ]
  },
  {
   "cell_type": "code",
   "execution_count": 72,
   "metadata": {},
   "outputs": [],
   "source": [
    "class Solution:\n",
    "    def __init__(self):\n",
    "        self.temp = []\n",
    "        self.ret = []\n",
    "    def isPalindrome(self,s):\n",
    "        for i in range(int(len(s)/2)):\n",
    "            if s[i]!=s[len(s)-1-i]:\n",
    "                return False\n",
    "        return True\n",
    "    def helper(self,s):\n",
    "        if len(s)==0:\n",
    "            self.ret.append(list(self.temp))\n",
    "            return\n",
    "        for i in range(len(s)):\n",
    "            s_part = s[:i+1]\n",
    "            if self.isPalindrome(s_part):\n",
    "                self.temp.append(s_part)\n",
    "                self.helper(s[i+1:])\n",
    "                self.temp.pop()\n",
    "    def partition(self, s: str) -> List[List[str]]:\n",
    "        if s==None or len(s)==0:\n",
    "            return []\n",
    "        self.helper(s)\n",
    "        return self.ret   "
   ]
  },
  {
   "cell_type": "code",
   "execution_count": 73,
   "metadata": {},
   "outputs": [
    {
     "data": {
      "text/plain": [
       "[['a', 'a', 'b'], ['aa', 'b']]"
      ]
     },
     "execution_count": 73,
     "metadata": {},
     "output_type": "execute_result"
    }
   ],
   "source": [
    "s = Solution()\n",
    "s.partition(\"aab\")"
   ]
  },
  {
   "cell_type": "markdown",
   "metadata": {},
   "source": [
    "### 37. 解数独\n",
    "编写一个程序，通过已填充的空格来解决数独问题。\n",
    "\n",
    "一个数独的解法需遵循如下规则：\n",
    "\n",
    "数字 1-9 在每一行只能出现一次。\n",
    "数字 1-9 在每一列只能出现一次。\n",
    "数字 1-9 在每一个以粗实线分隔的 3x3 宫内只能出现一次。"
   ]
  },
  {
   "cell_type": "code",
   "execution_count": 145,
   "metadata": {},
   "outputs": [],
   "source": [
    "## 当一个位置，所有的数都可能去填充，那么一层递归结束，就需要去恢复状态，等待去验证另一种情况\n",
    "class Solution:\n",
    "    def __init__(self):\n",
    "        rowUsed = []\n",
    "        colUsed = []\n",
    "    def cubeNum(self,i,j):\n",
    "        r = int(i/3)\n",
    "        c = int(j/3)\n",
    "        return r*3 + c\n",
    "    def solveSudoku(self, board: List[List[str]]) -> None:\n",
    "        self.rowUsed = [[False]*10 for i in range(9)]\n",
    "        self.colUsed = [[False]*10 for i in range(9)]\n",
    "        self.cubeUsed = [[False]*10 for i in range(9)]\n",
    "        for i in range(9):\n",
    "            for j in range(9):\n",
    "                if board[i][j]==\".\":\n",
    "                    continue\n",
    "                num = int(board[i][j])\n",
    "                self.rowUsed[i][num] = True\n",
    "                self.colUsed[j][num] = True\n",
    "                self.cubeUsed[self.cubeNum(i,j)][num] = True\n",
    "        self.helper(0,0,board)\n",
    "    def helper(self,row,col,board):\n",
    "        while row < 9 and board[row][col] != '.':\n",
    "            ### 按照行扫描 遇到“.”跳出循环 遍历1-9是否满足要求\n",
    "            row = row+1 if col == 8 else row\n",
    "            col = 0 if col == 8 else col + 1\n",
    "        if row == 9:\n",
    "            return True\n",
    "        for num in range(1,10):\n",
    "            if self.rowUsed[row][num] or self.colUsed[col][num] or self.cubeUsed[self.cubeNum(row,col)][num]:\n",
    "                continue\n",
    "            self.rowUsed[row][num] = self.colUsed[col][num] = self.cubeUsed[self.cubeNum(row,col)][num]=True\n",
    "            board[row][col] = str(num)\n",
    "            if self.helper(row,col,board):\n",
    "                return True\n",
    "            board[row][col] = \".\"\n",
    "            self.rowUsed[row][num] = self.colUsed[col][num] = self.cubeUsed[self.cubeNum(row,col)][num]=False\n",
    "        return False"
   ]
  },
  {
   "cell_type": "code",
   "execution_count": 149,
   "metadata": {},
   "outputs": [
    {
     "data": {
      "text/plain": [
       "[['5', '3', '4', '6', '7', '8', '9', '1', '2'],\n",
       " ['6', '7', '2', '1', '9', '5', '3', '4', '8'],\n",
       " ['1', '9', '8', '3', '4', '2', '5', '6', '7'],\n",
       " ['8', '5', '9', '7', '6', '1', '4', '2', '3'],\n",
       " ['4', '2', '6', '8', '5', '3', '7', '9', '1'],\n",
       " ['7', '1', '3', '9', '2', '4', '8', '5', '6'],\n",
       " ['9', '6', '1', '5', '3', '7', '2', '8', '4'],\n",
       " ['2', '8', '7', '4', '1', '9', '6', '3', '5'],\n",
       " ['3', '4', '5', '2', '8', '6', '1', '7', '9']]"
      ]
     },
     "execution_count": 149,
     "metadata": {},
     "output_type": "execute_result"
    }
   ],
   "source": [
    "board = [[\"5\",\"3\",\".\",\".\",\"7\",\".\",\".\",\".\",\".\"],[\"6\",\".\",\".\",\"1\",\"9\",\"5\",\".\",\".\",\".\"],[\".\",\"9\",\"8\",\".\",\".\",\".\",\".\",\"6\",\".\"],[\"8\",\".\",\".\",\".\",\"6\",\".\",\".\",\".\",\"3\"],[\"4\",\".\",\".\",\"8\",\".\",\"3\",\".\",\".\",\"1\"],[\"7\",\".\",\".\",\".\",\"2\",\".\",\".\",\".\",\"6\"],[\".\",\"6\",\".\",\".\",\".\",\".\",\"2\",\"8\",\".\"],[\".\",\".\",\".\",\"4\",\"1\",\"9\",\".\",\".\",\"5\"],[\".\",\".\",\".\",\".\",\"8\",\".\",\".\",\"7\",\"9\"]]\n",
    "s = Solution()\n",
    "s.solveSudoku(board)\n",
    "board"
   ]
  },
  {
   "cell_type": "markdown",
   "metadata": {},
   "source": [
    "### 51. N皇后\n",
    "n 皇后问题研究的是如何将 n 个皇后放置在 n×n 的棋盘上，并且使皇后彼此之间不能相互攻击。"
   ]
  },
  {
   "cell_type": "code",
   "execution_count": 164,
   "metadata": {},
   "outputs": [],
   "source": [
    "class Solution:\n",
    "    def __init__(self):\n",
    "        self.ret = []\n",
    "        self.nQueens = []\n",
    "        self.colUsed = []\n",
    "        self.diagonals45Used = []\n",
    "        self.diagonals135Used = []\n",
    "    def helper(self,row,n):\n",
    "        if row == n:\n",
    "            self.ret.append([\"\".join(ele) for ele in self.nQueens])\n",
    "            return\n",
    "        for col in range(n):\n",
    "            diagonals45_index = row+col\n",
    "            diagonals135_index = n-1-(row-col)\n",
    "            if self.colUsed[col] or self.diagonals45Used[diagonals45_index] or self.diagonals135Used[diagonals135_index]:\n",
    "                continue\n",
    "            self.nQueens[row][col] = \"Q\"\n",
    "            self.colUsed[col] = self.diagonals45Used[diagonals45_index] = self.diagonals135Used[diagonals135_index] = True\n",
    "            self.helper(row+1,n)\n",
    "            self.nQueens[row][col] = \".\"\n",
    "            self.colUsed[col] = self.diagonals45Used[diagonals45_index] = self.diagonals135Used[diagonals135_index] = False\n",
    "    def solveNQueens(self, n: int) -> List[List[str]]:\n",
    "        if n==None or n<=0:\n",
    "            return []\n",
    "        self.nQueens = [[\".\"]*n for i in range(n)]\n",
    "        self.colUsed = [False]*n\n",
    "        self.diagonals45Used = [False]*(2*n-1)\n",
    "        self.diagonals135Used = [False]*(2*n-1)\n",
    "        self.helper(0,n)\n",
    "        return self.ret"
   ]
  },
  {
   "cell_type": "code",
   "execution_count": 166,
   "metadata": {},
   "outputs": [
    {
     "data": {
      "text/plain": [
       "[]"
      ]
     },
     "execution_count": 166,
     "metadata": {},
     "output_type": "execute_result"
    }
   ],
   "source": [
    "s = Solution()\n",
    "s.solveNQueens(3)"
   ]
  }
 ],
 "metadata": {
  "kernelspec": {
   "display_name": "Python 3",
   "language": "python",
   "name": "python3"
  },
  "language_info": {
   "codemirror_mode": {
    "name": "ipython",
    "version": 3
   },
   "file_extension": ".py",
   "mimetype": "text/x-python",
   "name": "python",
   "nbconvert_exporter": "python",
   "pygments_lexer": "ipython3",
   "version": "3.7.0"
  }
 },
 "nbformat": 4,
 "nbformat_minor": 2
}
