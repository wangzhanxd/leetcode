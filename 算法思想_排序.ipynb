{
 "cells": [
  {
   "cell_type": "markdown",
   "metadata": {},
   "source": [
    "### 排序\n",
    "快排/堆排\n",
    "    215. Kth Largest Element in an Array (Medium)\n",
    "桶排序\n",
    "\t347. Top K Frequent Elements (Medium)\n",
    "\t451. Sort Characters By Frequency (Medium)\n",
    "荷兰国旗问题\n",
    "\t75. Sort Colors (Medium)"
   ]
  },
  {
   "cell_type": "markdown",
   "metadata": {},
   "source": [
    "### 215. Kth Largest Element in an Array (Medium)\n",
    "#####  todo 堆排 后面实现\n",
    "在未排序的数组中找到第 k 个最大的元素。请注意，你需要找的是数组排序后的第 k 个最大的元素，而不是第 k 个不同的元素。\n",
    "\n",
    "示例 1:\n",
    "\n",
    "输入: [3,2,1,5,6,4] 和 k = 2\n",
    "输出: 5\n",
    "示例 2:\n",
    "\n",
    "输入: [3,2,3,1,2,4,5,5,6] 和 k = 4\n",
    "输出: 4\n",
    "说明:\n",
    "\n",
    "你可以假设 k 总是有效的，且 1 ≤ k ≤ 数组的长度。"
   ]
  },
  {
   "cell_type": "code",
   "execution_count": 56,
   "metadata": {},
   "outputs": [
    {
     "name": "stdout",
     "output_type": "stream",
     "text": [
      "[6, 5, 4, 3, 2, 1]\n"
     ]
    }
   ],
   "source": [
    "### 快排 非递归\n",
    "from typing import List\n",
    "class Solution:\n",
    "    def partition(self,nums,left,right):\n",
    "        l = left + 1\n",
    "        r = right\n",
    "        povit = nums[left]\n",
    "        while l<=r:\n",
    "            if nums[l]<=povit and nums[r]>povit:\n",
    "                nums[l],nums[r] = nums[r],nums[l]\n",
    "                l = l + 1\n",
    "                r = r -1\n",
    "            elif nums[l] > povit and nums[r]>povit:\n",
    "                l = l + 1\n",
    "            elif nums[l] > povit and nums[r]<=povit:\n",
    "                l = l + 1\n",
    "                r = r -1\n",
    "            else:\n",
    "                r = r -1\n",
    "        nums[left],nums[r] = nums[r],nums[left]\n",
    "        return r\n",
    "        \n",
    "            \n",
    "    def QuikSort(self, nums: List[int]) -> List[int]:\n",
    "        stack = []\n",
    "        stack.append(0)\n",
    "        stack.append(len(nums)-1)\n",
    "        while len(stack) != 0:\n",
    "            r = stack.pop()\n",
    "            l = stack.pop()\n",
    "            m = self.partition(nums,l,r)\n",
    "            if l<m-1:\n",
    "                stack.append(l)\n",
    "                stack.append(m-1)\n",
    "            if r>m+1:\n",
    "                stack.append(m+1)\n",
    "                stack.append(r)\n",
    "        return nums\n",
    "if __name__ == '__main__':\n",
    "    s = Solution()\n",
    "    nums = [3,2,1,5,6,4]\n",
    "    print(s.QuikSort(nums))"
   ]
  },
  {
   "cell_type": "code",
   "execution_count": 57,
   "metadata": {},
   "outputs": [
    {
     "name": "stdout",
     "output_type": "stream",
     "text": [
      "4\n"
     ]
    }
   ],
   "source": [
    "from typing import List\n",
    "class Solution:\n",
    "    def partition(self,nums,left,right):\n",
    "        l = left + 1\n",
    "        r = right\n",
    "        povit = nums[left]\n",
    "        while l<=r:\n",
    "            if nums[l]<=povit and nums[r]>povit:\n",
    "                nums[l],nums[r] = nums[r],nums[l]\n",
    "                l = l + 1\n",
    "                r = r -1\n",
    "            elif nums[l] > povit and nums[r]>povit:\n",
    "                l = l + 1\n",
    "            elif nums[l] > povit and nums[r]<=povit:\n",
    "                l = l + 1\n",
    "                r = r -1\n",
    "            else:\n",
    "                r = r -1\n",
    "        nums[left],nums[r] = nums[r],nums[left]\n",
    "        return r\n",
    "        \n",
    "            \n",
    "    def findKthLargest(self, nums: List[int], k: int) -> int:\n",
    "        left = 0\n",
    "        right = len(nums)-1\n",
    "        while 1:\n",
    "            pos = self.partition(nums,left,right)\n",
    "            if k == pos+1:\n",
    "                return nums[pos]\n",
    "            elif k < pos+1:\n",
    "                right = pos - 1\n",
    "            else:\n",
    "                left = pos + 1\n",
    "                \n",
    "if __name__ == '__main__':\n",
    "    s = Solution()\n",
    "    nums = [3,2,1,5,6,4] \n",
    "    print(s.findKthLargest(nums,3))"
   ]
  },
  {
   "cell_type": "markdown",
   "metadata": {},
   "source": [
    "### 347. Top K Frequent Elements (Medium)\n",
    "##### todo 优先队列实现\n",
    "给定一个非空的整数数组，返回其中出现频率前 k 高的元素。\n",
    "\n",
    "示例 1:\n",
    "\n",
    "输入: nums = [1,1,1,2,2,3], k = 2\n",
    "输出: [1,2]\n",
    "示例 2:\n",
    "\n",
    "输入: nums = [1], k = 1\n",
    "输出: [1]\n",
    "说明：\n",
    "\n",
    "你可以假设给定的 k 总是合理的，且 1 ≤ k ≤ 数组中不相同的元素的个数。\n",
    "你的算法的时间复杂度必须优于 O(n log n) , n 是数组的大小。"
   ]
  },
  {
   "cell_type": "code",
   "execution_count": 107,
   "metadata": {
    "collapsed": true
   },
   "outputs": [],
   "source": [
    "######## 利用字典进行分桶 ################################\n",
    "class Solution:\n",
    "    def topKFrequent(self, nums: List[int], k: int) -> List[int]:\n",
    "        result = []\n",
    "        result_dict = {}\n",
    "        for ele in nums:\n",
    "            if ele not in result_dict:\n",
    "                result_dict[ele] = 1\n",
    "            else:\n",
    "                result_dict[ele] = result_dict[ele] + 1\n",
    "        for i in range(k):\n",
    "            m = max(result_dict, key=result_dict.get)\n",
    "            result.append(m)\n",
    "            del result_dict[m]\n",
    "        return result"
   ]
  },
  {
   "cell_type": "code",
   "execution_count": 117,
   "metadata": {
    "collapsed": true
   },
   "outputs": [],
   "source": [
    "#######作者题解 每个桶存储频率相同的数目\n",
    "class Solution(object):\n",
    "    def topKFrequent(self, nums, k):\n",
    "        data, res = {}, []\n",
    "        for i in nums:\n",
    "            data[i] = data[i] + 1 if i in data else 1\n",
    "        print(data)\n",
    "        bucket = [[] for i in range(len(nums)+1)]\n",
    "        for key in data:\n",
    "            bucket[data[key]].append(key)  ### 转化成按照频率分桶\n",
    "        for i in range(len(bucket)-1, -1, -1):\n",
    "            if bucket[i]:\n",
    "                res = res +bucket[i]\n",
    "            if len(res) >= k:\n",
    "                break\n",
    "        return res"
   ]
  },
  {
   "cell_type": "code",
   "execution_count": 118,
   "metadata": {},
   "outputs": [
    {
     "name": "stdout",
     "output_type": "stream",
     "text": [
      "{1: 3, 2: 2, 3: 1}\n",
      "[[], [3], [2], [1], [], [], []]\n",
      "[1, 2]\n"
     ]
    }
   ],
   "source": [
    "if __name__ == '__main__':\n",
    "    s = Solution()\n",
    "    nums = [1,1,1,2,2,3]\n",
    "    print(s.topKFrequent(nums,2))"
   ]
  },
  {
   "cell_type": "markdown",
   "metadata": {},
   "source": []
  },
  {
   "cell_type": "markdown",
   "metadata": {},
   "source": [
    "### 451. 根据字符出现频率排序\n",
    "给定一个字符串，请将字符串里的字符按照出现的频率降序排列。\n",
    "\n",
    "示例 1:\n",
    "\n",
    "输入:\n",
    "\"tree\"\n",
    "\n",
    "输出:\n",
    "\"eert\"\n",
    "\n",
    "解释:\n",
    "'e'出现两次，'r'和't'都只出现一次。\n",
    "因此'e'必须出现在'r'和't'之前。此外，\"eetr\"也是一个有效的答案。\n",
    "示例 2:\n",
    "\n",
    "输入:\n",
    "\"cccaaa\"\n",
    "\n",
    "输出:\n",
    "\"cccaaa\"\n",
    "\n",
    "解释:\n",
    "'c'和'a'都出现三次。此外，\"aaaccc\"也是有效的答案。\n",
    "注意\"cacaca\"是不正确的，因为相同的字母必须放在一起。\n",
    "示例 3:\n",
    "\n",
    "输入:\n",
    "\"Aabb\"\n",
    "\n",
    "输出:\n",
    "\"bbAa\"\n",
    "\n",
    "解释:\n",
    "此外，\"bbaA\"也是一个有效的答案，但\"Aabb\"是不正确的。\n",
    "注意'A'和'a'被认为是两种不同的字符。\n"
   ]
  },
  {
   "cell_type": "code",
   "execution_count": 146,
   "metadata": {
    "collapsed": true
   },
   "outputs": [],
   "source": [
    "from functools import reduce\n",
    "class Solution:\n",
    "    def frequencySort(self, s: str) -> str:\n",
    "        if len(s) <=1:  ### reduce遇到空[]会报错\n",
    "            return s\n",
    "        result_dict = {}\n",
    "        for ele in s:\n",
    "            if ele in result_dict:\n",
    "                result_dict[ele] = result_dict[ele] + 1\n",
    "            else:\n",
    "                result_dict[ele] = 1\n",
    "        data = [[] for ele in range(len(s)+1)]\n",
    "        for key in result_dict:\n",
    "            data[len(s)-result_dict[key]].append(key*result_dict[key]) ##倒序 频率高的排前面\n",
    "        return reduce(lambda x, y: x+y, reduce(lambda x, y: x+y,data)) ##  用reduce 代码看起来简洁"
   ]
  },
  {
   "cell_type": "code",
   "execution_count": 147,
   "metadata": {},
   "outputs": [
    {
     "name": "stdout",
     "output_type": "stream",
     "text": [
      "eetr\n"
     ]
    }
   ],
   "source": [
    "if __name__ == '__main__':\n",
    "    s = Solution()\n",
    "    _s = 'tree'\n",
    "    print(s.frequencySort(_s))"
   ]
  },
  {
   "cell_type": "markdown",
   "metadata": {},
   "source": [
    "### 75. Sort Colors (Medium)\n",
    "75. 颜色分类\n",
    "给定一个包含红色、白色和蓝色，一共 n 个元素的数组，原地对它们进行排序，使得相同颜色的元素相邻，并按照红色、白色、蓝色顺序排列。\n",
    "\n",
    "此题中，我们使用整数 0、 1 和 2 分别表示红色、白色和蓝色。\n",
    "\n",
    "注意:\n",
    "不能使用代码库中的排序函数来解决这道题。\n",
    "\n",
    "示例:\n",
    "\n",
    "输入: [2,0,2,1,1,0]\n",
    "输出: [0,0,1,1,2,2]\n",
    "进阶：\n",
    "\n",
    "一个直观的解决方案是使用计数排序的两趟扫描算法。\n",
    "首先，迭代计算出0、1 和 2 元素的个数，然后按照0、1、2的排序，重写当前数组。\n",
    "你能想出一个仅使用常数空间的一趟扫描算法吗？"
   ]
  },
  {
   "cell_type": "code",
   "execution_count": null,
   "metadata": {
    "collapsed": true
   },
   "outputs": [],
   "source": [
    "class Solution {\n",
    "public:\n",
    "    void sortColors(vector<int>& nums) {\n",
    "      int zero =-1;//nums[0....zero] ==0\n",
    "      int two = nums.size();//nums[two...n-1] == 2\n",
    "    for(int i=0;i<two;){\n",
    "        if(nums[i]==0){\n",
    "            zero++;\n",
    "            swap(nums[zero],nums[i]);\n",
    "            i++;\n",
    "        }\n",
    "        else if(nums[i]==2){\n",
    "            two--;\n",
    "            swap(nums[two],nums[i]);\n",
    "        }else if(nums[i]==1){\n",
    "            i++;\n",
    "        }\n",
    "    }\n",
    "    }\n",
    "};"
   ]
  },
  {
   "cell_type": "code",
   "execution_count": 164,
   "metadata": {},
   "outputs": [
    {
     "name": "stdout",
     "output_type": "stream",
     "text": [
      "[0, 0, 1, 1, 2, 2]\n"
     ]
    }
   ],
   "source": [
    "class Solution:\n",
    "    def sortColors(self, nums: List[int]) -> None:\n",
    "        \"\"\"\n",
    "        Do not return anything, modify nums in-place instead.\n",
    "        \"\"\"\n",
    "        zero = 0\n",
    "        two = len(nums)-1\n",
    "        i = 0\n",
    "        while i<=two:\n",
    "            if nums[i] == 0:\n",
    "                nums[i],nums[zero] = nums[zero],nums[i] ###换过来的一定不是2，是0或者1，无论是0或者1，i都需要加1\n",
    "                zero = zero + 1\n",
    "                i = i + 1\n",
    "            elif nums[i] == 1:\n",
    "                i = i + 1\n",
    "            else:\n",
    "                nums[i],nums[two] = nums[two],nums[i] ### 与2互换之周当前i所指的数值可能是0或1，需要继续的处理，所以i保持不变\n",
    "                two = two - 1\n",
    "if __name__ == '__main__':\n",
    "    s = Solution()\n",
    "    nums = [2,0,2,1,1,0]\n",
    "    s.sortColors(nums)\n",
    "    print(nums)"
   ]
  },
  {
   "cell_type": "code",
   "execution_count": 165,
   "metadata": {
    "collapsed": true
   },
   "outputs": [],
   "source": [
    "a = [2,0,1]"
   ]
  },
  {
   "cell_type": "code",
   "execution_count": 166,
   "metadata": {},
   "outputs": [
    {
     "data": {
      "text/plain": [
       "[2]"
      ]
     },
     "execution_count": 166,
     "metadata": {},
     "output_type": "execute_result"
    }
   ],
   "source": [
    "a[0:1]"
   ]
  },
  {
   "cell_type": "code",
   "execution_count": null,
   "metadata": {
    "collapsed": true
   },
   "outputs": [],
   "source": []
  }
 ],
 "metadata": {
  "kernelspec": {
   "display_name": "Python 3",
   "language": "python",
   "name": "python3"
  },
  "language_info": {
   "codemirror_mode": {
    "name": "ipython",
    "version": 3
   },
   "file_extension": ".py",
   "mimetype": "text/x-python",
   "name": "python",
   "nbconvert_exporter": "python",
   "pygments_lexer": "ipython3",
   "version": "3.6.8"
  }
 },
 "nbformat": 4,
 "nbformat_minor": 2
}
