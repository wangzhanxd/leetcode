{
 "cells": [
  {
   "cell_type": "markdown",
   "metadata": {},
   "source": [
    "### fabonacci array(递归热身)"
   ]
  },
  {
   "cell_type": "code",
   "execution_count": 2,
   "metadata": {},
   "outputs": [
    {
     "name": "stdout",
     "output_type": "stream",
     "text": [
      "1\n",
      "1\n",
      "2\n",
      "3\n",
      "5\n",
      "8\n",
      "13\n",
      "21\n",
      "34\n",
      "55\n"
     ]
    }
   ],
   "source": [
    "def fabonacci(x):\n",
    "    if x ==1 or x == 2:\n",
    "        return 1\n",
    "    else:\n",
    "        return fabonacci(x-1)+fabonacci(x-2)\n",
    "for i in range(1,11):\n",
    "    print(fabonacci(i))"
   ]
  },
  {
   "cell_type": "markdown",
   "metadata": {},
   "source": [
    "### leetcode 120 triangle"
   ]
  },
  {
   "cell_type": "markdown",
   "metadata": {},
   "source": [
    "Given a triangle, find the minimum path sum from top to bottom. Each step you may move to adjacent numbers on the row below.\n",
    "\n",
    "For example, given the following triangle\n",
    "\n",
    "[\n",
    "     [2],\n",
    "    [3,4],\n",
    "   [6,5,7],\n",
    "  [4,1,8,3]\n",
    "]<br>\n",
    "The minimum path sum from top to bottom is 11 (i.e., 2 + 3 + 5 + 1 = 11)."
   ]
  },
  {
   "cell_type": "code",
   "execution_count": 3,
   "metadata": {},
   "outputs": [
    {
     "name": "stdout",
     "output_type": "stream",
     "text": [
      "-550\n",
      "10.106821537017822\n",
      "-550\n",
      "0.0005004405975341797\n"
     ]
    }
   ],
   "source": [
    "import sys\n",
    "class Solution:\n",
    "    def __init__(self):\n",
    "        self.best = sys.maxsize\n",
    "    def minimumTotal_dp(self, triangle):### 自下而上 n*n   n = len(triangle)\n",
    "        m = len(triangle)\n",
    "        for i in range(m-2,-1,-1):\n",
    "            for j in range(i+1):\n",
    "                triangle[i][j] = triangle[i][j] + min(triangle[i+1][j],triangle[i+1][j+1])\n",
    "        return triangle[0][0]\n",
    "    def minimumTotal_recur(self, triangle):### 自上而下 2^n   n = len(triangle) 二叉树DFS\n",
    "        if len(triangle)==1:\n",
    "            return triangle[0][0]\n",
    "        self.traverse( 0 , 0 , 0 , triangle)\n",
    "        return self.best\n",
    "    def traverse(self,i,j,_sum,A):\n",
    "        if i == len(A):\n",
    "            if _sum < self.best:\n",
    "                self.best = _sum\n",
    "            return\n",
    "        self.traverse(i+1,j,_sum+A[i][j],A)\n",
    "        self.traverse(i+1,j+1,_sum+A[i][j],A)\n",
    "        \n",
    "import time\n",
    "t = [[46],\n",
    "     [43,61],\n",
    "     [10,-16,3],\n",
    "     [-26,41,36,-72],\n",
    "     [-28,-76,-22,26,51],\n",
    "     [56,-53,38,67,86,-45],\n",
    "     [58,53,47,-52,-54,-95,56],\n",
    "     [-54,-93,58,68,26,-4,-45,86],\n",
    "     [75,28,27,12,33,98,35,87,1],\n",
    "     [-13,20,25,-98,-13,11,-44,-77,-59,-97],\n",
    "     [-53,-14,83,80,31,89,38,-1,15,-88,53],\n",
    "     [-22,86,-41,-94,-25,68,-96,87,55,-18,-49,-25],\n",
    "     [-93,-48,39,17,8,61,57,-13,-92,-79,-29,87,51],\n",
    "     [-63,3,-72,29,-9,57,-93,-46,-84,88,29,83,69,-7],\n",
    "     [15,-49,43,90,-43,94,29,50,-21,-33,-16,43,-26,4,90],\n",
    "     [-61,-67,-96,18,-63,32,-91,93,16,-61,86,4,67,46,-27,-63],\n",
    "     [-38,0,79,-48,56,51,80,-17,-70,-53,67,49,-3,-52,39,12,-43],\n",
    "     [43,-93,-7,-48,91,-13,44,-69,-27,-74,74,95,-25,-88,-43,75,90,8],\n",
    "     [8,41,-35,91,48,-12,35,-3,62,59,-86,-49,-83,56,-42,-14,84,-74,72],\n",
    "     [6,-44,-78,31,-92,-82,-94,-81,-49,57,85,36,-34,4,77,-66,-71,-34,45,25],\n",
    "     [-95,4,15,-45,-3,-52,-11,83,-67,15,32,38,47,54,-54,54,48,-72,72,75,85],\n",
    "     [35,11,-72,-61,-11,-62,-33,31,82,68,35,-37,-16,66,37,31,-44,20,40,47,-71,-45],\n",
    "     [-6,59,0,-51,7,5,97,-40,-10,32,70,-6,47,-41,31,-86,89,-10,59,1,29,-57,-32]]\n",
    "\n",
    "s = Solution()\n",
    "t1 = time.time()\n",
    "print(s.minimumTotal_recur(t))\n",
    "t2 = time.time()\n",
    "print(t2-t1)\n",
    "print(s.minimumTotal_dp(t))\n",
    "t3 = time.time()\n",
    "print(t3-t2)"
   ]
  },
  {
   "cell_type": "markdown",
   "metadata": {},
   "source": [
    "使用动态规划要远快于递归"
   ]
  },
  {
   "cell_type": "markdown",
   "metadata": {},
   "source": [
    "### leetcode 72 editi distance"
   ]
  },
  {
   "cell_type": "markdown",
   "metadata": {},
   "source": [
    "Given two words word1 and word2, find the minimum number of operations required to convert word1 to word2.\n",
    "\n",
    "You have the following 3 operations permitted on a word:\n",
    "\n",
    "Insert a character<br>\n",
    "Delete a character<br>\n",
    "Replace a character"
   ]
  },
  {
   "cell_type": "code",
   "execution_count": 4,
   "metadata": {},
   "outputs": [],
   "source": [
    "class Solution:\n",
    "    def minDistance(self, word1: str, word2: str) -> int:\n",
    "        print(word1,word2)"
   ]
  },
  {
   "cell_type": "code",
   "execution_count": null,
   "metadata": {},
   "outputs": [],
   "source": []
  },
  {
   "cell_type": "code",
   "execution_count": null,
   "metadata": {},
   "outputs": [],
   "source": []
  }
 ],
 "metadata": {
  "kernelspec": {
   "display_name": "Python 3",
   "language": "python",
   "name": "python3"
  },
  "language_info": {
   "codemirror_mode": {
    "name": "ipython",
    "version": 3
   },
   "file_extension": ".py",
   "mimetype": "text/x-python",
   "name": "python",
   "nbconvert_exporter": "python",
   "pygments_lexer": "ipython3",
   "version": "3.7.0"
  }
 },
 "nbformat": 4,
 "nbformat_minor": 2
}
