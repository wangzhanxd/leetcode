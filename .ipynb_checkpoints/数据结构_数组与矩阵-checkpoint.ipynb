{
 "cells": [
  {
   "cell_type": "markdown",
   "metadata": {},
   "source": [
    "### 283. Move Zeroes\n",
    "Given an array nums, write a function to move all 0's to the end of it while maintaining the relative order of the non-zero elements.\n",
    "\n",
    "Example:\n",
    "\n",
    "Input: [0,1,0,3,12]\n",
    "Output: [1,3,12,0,0]\n",
    "Note:\n",
    "\n",
    "You must do this in-place without making a copy of the array.\n",
    "Minimize the total number of operations."
   ]
  },
  {
   "cell_type": "code",
   "execution_count": null,
   "metadata": {},
   "outputs": [],
   "source": [
    "from typing import List\n",
    "###方法一 双指针\n",
    "### 不简洁\n",
    "class Solution:\n",
    "    def moveZeroes(self, nums: List[int]) -> None:\n",
    "        l = 0\n",
    "        r = 0\n",
    "        m = len(nums)\n",
    "        if m<=1:\n",
    "            return nums\n",
    "        while 1:\n",
    "            if nums[l]!=0:\n",
    "                l = l+1\n",
    "                r = r+1\n",
    "            if r>= m or l>=m:\n",
    "                break\n",
    "            if nums[r]==0:\n",
    "                r = r+1\n",
    "            if r>=m or l>=m:\n",
    "                break\n",
    "            if nums[l]==0 and nums[r]!=0:\n",
    "                nums[l],nums[r] = nums[r],nums[l]\n",
    "        return nums\n",
    "\n",
    "### 简洁版\n",
    "class Solution:\n",
    "    def moveZeroes(self, nums: List[int]) -> None:\n",
    "        k = 0\n",
    "        for i in range(len(nums)):\n",
    "            if nums[i]:\n",
    "                nums[i],nums[k] = nums[k],nums[i]\n",
    "                k = k+1\n",
    "        return nums\n",
    "\n",
    "### 方法二 直接覆盖\n",
    "class Solution:\n",
    "    def moveZeroes(self, nums: List[int]) -> None:\n",
    "        idx = 0\n",
    "        for ele in nums:\n",
    "            if ele:\n",
    "                nums[idx] = ele\n",
    "                idx = idx + 1\n",
    "        while idx < len(nums):\n",
    "            nums[idx] = 0\n",
    "            idx = idx + 1\n",
    "        return nums\n",
    "\n",
    "s = Solution()\n",
    "print(s.moveZeroes([0,1,0,3,12]))"
   ]
  },
  {
   "cell_type": "markdown",
   "metadata": {},
   "source": [
    "### 566. Reshape the Matrix\n",
    "In MATLAB, there is a very useful function called 'reshape', which can reshape a matrix into a new one with different size but keep its original data.\n",
    "\n",
    "You're given a matrix represented by a two-dimensional array, and two positive integers r and c representing the row number and column number of the wanted reshaped matrix, respectively.\n",
    "\n",
    "The reshaped matrix need to be filled with all the elements of the original matrix in the same row-traversing order as they were.\n",
    "\n",
    "If the 'reshape' operation with given parameters is possible and legal, output the new reshaped matrix; Otherwise, output the original matrix.\n"
   ]
  },
  {
   "cell_type": "code",
   "execution_count": null,
   "metadata": {},
   "outputs": [],
   "source": [
    "# Example 1:\n",
    "# Input: \n",
    "# nums = \n",
    "# [[1,2],\n",
    "#  [3,4]]\n",
    "# r = 1, c = 4\n",
    "# Output: \n",
    "# [[1,2,3,4]]\n",
    "# Explanation:\n",
    "# The row-traversing of nums is [1,2,3,4]. The new reshaped matrix is a 1 * 4 matrix, fill it row by row by using the previous list.\n",
    "# Example 2:\n",
    "# Input: \n",
    "# nums = \n",
    "# [[1,2],\n",
    "#  [3,4]]\n",
    "# r = 2, c = 4\n",
    "# Output: \n",
    "# [[1,2],\n",
    "#  [3,4]]\n",
    "# Explanation:\n",
    "# There is no way to reshape a 2 * 2 matrix to a 2 * 4 matrix. So output the original matrix.\n",
    "# Note:\n",
    "# The height and width of the given matrix is in range [1, 100].\n",
    "# The given r and c are all positive."
   ]
  },
  {
   "cell_type": "code",
   "execution_count": null,
   "metadata": {},
   "outputs": [],
   "source": [
    "### 方法一\n",
    "class Solution:\n",
    "    def matrixReshape(self, nums: List[List[int]], r: int, c: int) -> List[List[int]]:\n",
    "        m = len(nums)\n",
    "        n = len(nums[0])\n",
    "        if m*n != r*c:\n",
    "            return nums\n",
    "        ret = []\n",
    "        temp = []\n",
    "        cnt = 0\n",
    "        for i in range(m):\n",
    "            for j in range(n):\n",
    "                temp.append(nums[i][j])\n",
    "                cnt = cnt + 1\n",
    "                if cnt%c==0:\n",
    "                    ret.append(temp)\n",
    "                    temp = []\n",
    "        return ret\n",
    "\n",
    "### 方法二\n",
    "class Solution:\n",
    "    def matrixReshape(self, nums: List[List[int]], r: int, c: int) -> List[List[int]]:\n",
    "        m = len(nums)\n",
    "        n = len(nums[0])\n",
    "        if m*n != r*c:\n",
    "            return nums\n",
    "        ret = [[0]*c for i in range(r)]\n",
    "        cnt = 0\n",
    "        for i in range(m):\n",
    "            for j in range(n):\n",
    "                ret[int(cnt/c)][cnt%c] = nums[i][j]\n",
    "                cnt = cnt + 1\n",
    "        return ret"
   ]
  },
  {
   "cell_type": "code",
   "execution_count": null,
   "metadata": {},
   "outputs": [],
   "source": [
    "s = Solution()\n",
    "print(s.matrixReshape([[0,1,0,3]],2,2))"
   ]
  },
  {
   "cell_type": "markdown",
   "metadata": {},
   "source": [
    "### 485. Max Consecutive Ones\n",
    "Given a binary array, find the maximum number of consecutive 1s in this array.\n",
    "\n",
    "Example 1:\n",
    "Input: [1,1,0,1,1,1]\n",
    "Output: 3\n",
    "Explanation: The first two digits or the last three digits are consecutive 1s.<br>\n",
    "    The maximum number of consecutive 1s is 3.\n",
    "Note:\n",
    "\n",
    "The input array will only contain 0 and 1.\n",
    "The length of input array is a positive integer and will not exceed 10,000"
   ]
  },
  {
   "cell_type": "code",
   "execution_count": 18,
   "metadata": {},
   "outputs": [
    {
     "data": {
      "text/plain": [
       "1"
      ]
     },
     "execution_count": 18,
     "metadata": {},
     "output_type": "execute_result"
    }
   ],
   "source": [
    "from typing import List\n",
    "### 不简洁\n",
    "class Solution:\n",
    "    def findMaxConsecutiveOnes(self, nums: List[int]) -> int:\n",
    "        l = 0\n",
    "        maxl = 0\n",
    "        k = len(nums)\n",
    "        if k<=2:###包含[0,1]这种情况\n",
    "            return sum(nums)\n",
    "        for i in range(k-1):\n",
    "            if nums[l] == 0:\n",
    "                l = l+1\n",
    "            if nums[i]==1 and nums[i+1]==0:\n",
    "                maxl = max(i-l+1,maxl)\n",
    "                l = i+1  \n",
    "            if nums[i]==1 and nums[i+1]==1 and i+1==k-1:\n",
    "                maxl = max(i-l+2,maxl) \n",
    "        return maxl\n",
    "s = Solution()\n",
    "s.findMaxConsecutiveOnes([0,1])"
   ]
  },
  {
   "cell_type": "code",
   "execution_count": 21,
   "metadata": {},
   "outputs": [],
   "source": [
    "### 简洁版\n",
    "class Solution:\n",
    "    def findMaxConsecutiveOnes(self, nums: List[int]) -> int:\n",
    "        cur = 0\n",
    "        maxl = 0\n",
    "        for ele in nums:\n",
    "            if ele==0:\n",
    "                cur = 0\n",
    "            else:\n",
    "                cur += 1\n",
    "            maxl = max(cur,maxl)\n",
    "        return maxl"
   ]
  },
  {
   "cell_type": "markdown",
   "metadata": {},
   "source": [
    "### 240. Search a 2D Matrix II\n",
    "Write an efficient algorithm that searches for a value in an m x n matrix. This matrix has the following properties:\n",
    "\n",
    "Integers in each row are sorted in ascending from left to right.\n",
    "Integers in each column are sorted in ascending from top to bottom."
   ]
  },
  {
   "cell_type": "code",
   "execution_count": 22,
   "metadata": {},
   "outputs": [],
   "source": [
    "# Example:\n",
    "\n",
    "# Consider the following matrix:\n",
    "\n",
    "# [\n",
    "#   [1,   4,  7, 11, 15],\n",
    "#   [2,   5,  8, 12, 19],\n",
    "#   [3,   6,  9, 16, 22],\n",
    "#   [10, 13, 14, 17, 24],\n",
    "#   [18, 21, 23, 26, 30]\n",
    "# ]\n",
    "# Given target = 5, return true.\n",
    "\n",
    "# Given target = 20, return false."
   ]
  },
  {
   "cell_type": "code",
   "execution_count": 26,
   "metadata": {},
   "outputs": [],
   "source": [
    "class Solution:\n",
    "    def searchMatrix(self, matrix, target):\n",
    "        if len(matrix)==0 or len(matrix[0])==0 or matrix==None or target==None:\n",
    "            return False\n",
    "        m = len(matrix)\n",
    "        n = len(matrix[0])\n",
    "        ### 初始比较值是第一行最后一个数\n",
    "        r = 0\n",
    "        c = n-1\n",
    "        while r<m and c>=0:\n",
    "            if matrix[r][c]==target:\n",
    "                return True\n",
    "            elif matrix[r][c]<target:\n",
    "                    r = r+1\n",
    "            else:\n",
    "                c = c-1\n",
    "        return False"
   ]
  },
  {
   "cell_type": "markdown",
   "metadata": {},
   "source": [
    "### 645. Set Mismatch\n",
    "The set S originally contains numbers from 1 to n. But unfortunately, due to the data error, one of the numbers in the set got duplicated to another number in the set, which results in repetition of one number and loss of another number.\n",
    "\n",
    "Given an array nums representing the data status of this set after the error. Your task is to firstly find the number occurs twice and then find the number that is missing. Return them in the form of an array.\n",
    "\n",
    "Example 1:\n",
    "Input: nums = [1,2,2,4]\n",
    "Output: [2,3]\n",
    "Note:\n",
    "The given array size will in the range [2, 10000].\n",
    "The given array's numbers won't have any order."
   ]
  },
  {
   "cell_type": "code",
   "execution_count": 35,
   "metadata": {},
   "outputs": [],
   "source": [
    "### 使用字典 O(N)的时间复杂度和空间复杂度\n",
    "class Solution:\n",
    "    def findErrorNums(self, nums: List[int]) -> List[int]:\n",
    "        d ={}\n",
    "        n = len(nums)\n",
    "        ret1 = 0\n",
    "        ret2 = 0\n",
    "        for ele in nums:\n",
    "            d[ele] = 1 + d.get(ele,0)\n",
    "        for i in range(1,n+1):\n",
    "            if d.get(i,0)==2:\n",
    "                ret1 = i\n",
    "            if d.get(i,0)==0:\n",
    "                ret2 = i\n",
    "        return [ret1,ret2]"
   ]
  },
  {
   "cell_type": "code",
   "execution_count": 29,
   "metadata": {},
   "outputs": [],
   "source": [
    "d = {}"
   ]
  },
  {
   "cell_type": "code",
   "execution_count": 30,
   "metadata": {},
   "outputs": [
    {
     "data": {
      "text/plain": [
       "0"
      ]
     },
     "execution_count": 30,
     "metadata": {},
     "output_type": "execute_result"
    }
   ],
   "source": [
    "d.get(12,0)"
   ]
  },
  {
   "cell_type": "code",
   "execution_count": null,
   "metadata": {},
   "outputs": [],
   "source": []
  }
 ],
 "metadata": {
  "kernelspec": {
   "display_name": "Python 3",
   "language": "python",
   "name": "python3"
  },
  "language_info": {
   "codemirror_mode": {
    "name": "ipython",
    "version": 3
   },
   "file_extension": ".py",
   "mimetype": "text/x-python",
   "name": "python",
   "nbconvert_exporter": "python",
   "pygments_lexer": "ipython3",
   "version": "3.7.0"
  }
 },
 "nbformat": 4,
 "nbformat_minor": 2
}
