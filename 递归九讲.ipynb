{
 "cells": [
  {
   "cell_type": "markdown",
   "metadata": {},
   "source": [
    "### 第一讲"
   ]
  },
  {
   "cell_type": "markdown",
   "metadata": {},
   "source": [
    "### 第二讲\n",
    "* 尾递归\n",
    "* 递归转换成循环"
   ]
  },
  {
   "cell_type": "markdown",
   "metadata": {},
   "source": [
    "#### 双阶乘"
   ]
  },
  {
   "cell_type": "code",
   "execution_count": 9,
   "metadata": {},
   "outputs": [
    {
     "name": "stdout",
     "output_type": "stream",
     "text": [
      "4\n"
     ]
    }
   ],
   "source": [
    "\n",
    "def f(n):\n",
    "    if n==1 or n==2:\n",
    "        return n\n",
    "    return n*f(n-2)\n",
    "print(4)"
   ]
  },
  {
   "cell_type": "markdown",
   "metadata": {},
   "source": [
    "#### 尾递归"
   ]
  },
  {
   "cell_type": "code",
   "execution_count": 11,
   "metadata": {},
   "outputs": [
    {
     "name": "stdout",
     "output_type": "stream",
     "text": [
      "10\n",
      "9\n",
      "8\n",
      "7\n",
      "6\n",
      "5\n",
      "4\n",
      "3\n",
      "2\n",
      "1\n"
     ]
    }
   ],
   "source": [
    "## 打印1-n\n",
    "def print_n(n):\n",
    "    if n<=0:\n",
    "        return\n",
    "    print(n)\n",
    "    print_n(n-1)\n",
    "print_n(10)\n",
    "        "
   ]
  },
  {
   "cell_type": "markdown",
   "metadata": {},
   "source": [
    "#### 作业 \n",
    "##### 求list的最大值,分别用直接递归,尾递归,循环三种方式"
   ]
  },
  {
   "cell_type": "code",
   "execution_count": 17,
   "metadata": {},
   "outputs": [
    {
     "data": {
      "text/plain": [
       "5"
      ]
     },
     "execution_count": 17,
     "metadata": {},
     "output_type": "execute_result"
    }
   ],
   "source": [
    "### 直接递归\n",
    "def find_max(lst):\n",
    "    if len(lst)==1:\n",
    "        return lst[0]\n",
    "    return max(lst[0],find_max(lst[1:]))\n",
    "find_max([1,2,3,4,5])"
   ]
  },
  {
   "cell_type": "code",
   "execution_count": 26,
   "metadata": {},
   "outputs": [
    {
     "name": "stdout",
     "output_type": "stream",
     "text": [
      "[1, 2, 3, 4, 5] -9223372036854775808\n",
      "[2, 3, 4, 5] 1\n",
      "[3, 4, 5] 2\n",
      "[4, 5] 3\n",
      "[5] 4\n"
     ]
    },
    {
     "data": {
      "text/plain": [
       "5"
      ]
     },
     "execution_count": 26,
     "metadata": {},
     "output_type": "execute_result"
    }
   ],
   "source": [
    "### 尾递归\n",
    "import sys\n",
    "max_value = sys.maxsize\n",
    "min_value = -sys.maxsize - 1\n",
    "\n",
    "def find_max1(lst,result):\n",
    "    print(lst,result)\n",
    "    if len(lst)==1:\n",
    "        return max(lst[0],result)\n",
    "    result = max(lst[0],result)\n",
    "    return find_max1(lst[1:],result)\n",
    "find_max1([1,2,3,4,5],min_value)"
   ]
  },
  {
   "cell_type": "code",
   "execution_count": 30,
   "metadata": {},
   "outputs": [
    {
     "data": {
      "text/plain": [
       "5"
      ]
     },
     "execution_count": 30,
     "metadata": {},
     "output_type": "execute_result"
    }
   ],
   "source": [
    "###循环\n",
    "def find_max2(lst):\n",
    "    result = min_value\n",
    "    while 1:\n",
    "        if len(lst) == 1:\n",
    "            return max(lst[0],result)\n",
    "        lst = lst[1:]\n",
    "        result = max(lst[0],result)\n",
    "find_max2([1,2,3,4,5])\n",
    "        "
   ]
  },
  {
   "cell_type": "markdown",
   "metadata": {},
   "source": [
    "### 第三讲\n",
    "* 两两交换链表中的节点\n",
    "* 经典二分查找\n",
    "* 快速幂"
   ]
  },
  {
   "cell_type": "code",
   "execution_count": 85,
   "metadata": {},
   "outputs": [
    {
     "name": "stdout",
     "output_type": "stream",
     "text": [
      "1->2->3->4->5->6\n",
      "2->1->4->3->6->5\n"
     ]
    }
   ],
   "source": [
    "### 两两交换链表中的节点\n",
    "### 递归版\n",
    "class ListNode:\n",
    "    def __init__(self, val=0, next=None):\n",
    "        self.val = val\n",
    "        self.next = next\n",
    "def print_node(head):\n",
    "    ll = []\n",
    "    while True:\n",
    "        if head == None:\n",
    "            break\n",
    "        ll.append(str(head.val))\n",
    "        ll.append(str(\"->\"))\n",
    "        head = head.next\n",
    "    print(\"\".join(ll[:-1]))\n",
    "\n",
    "class Solution:\n",
    "    def swapPairs(self,head):\n",
    "        if head==None or head.next==None:\n",
    "            return head\n",
    "        \n",
    "        first,second = head,head.next\n",
    "        suffix = self.swapPairs(second.next)\n",
    "        second.next = first\n",
    "        first.next = suffix\n",
    "        return second\n",
    "\n",
    "\n",
    "\n",
    "\n",
    "\n",
    "node1 = ListNode(1)\n",
    "node2 = ListNode(2)\n",
    "node3 = ListNode(3)\n",
    "node4 = ListNode(4)\n",
    "node5 = ListNode(5)\n",
    "node6 = ListNode(6)\n",
    "node1.next = node2\n",
    "node2.next = node3\n",
    "node3.next = node4\n",
    "node4.next = node5\n",
    "node5.next = node6\n",
    "\n",
    "slt = Solution()\n",
    "print_node(node1)\n",
    "print_node(slt.swapPairs(node1))\n"
   ]
  },
  {
   "cell_type": "code",
   "execution_count": 106,
   "metadata": {},
   "outputs": [
    {
     "name": "stdout",
     "output_type": "stream",
     "text": [
      "1->2->3->4->5->6\n",
      "2->1->4->3->6->5\n"
     ]
    }
   ],
   "source": [
    "### 迭代版 虚拟头节点\n",
    "def swapPairs2(head):\n",
    "    dummy = ListNode(0)\n",
    "    dummy.next = head\n",
    "\n",
    "    head = dummy\n",
    "    while not (head.next == None or head.next.next==None):\n",
    "\n",
    "        first,second = head.next,head.next.next\n",
    "        head.next = second\n",
    "        first.next= second.next\n",
    "        second.next = first\n",
    "        \n",
    "        head = first\n",
    "    return dummy.next\n",
    "\n",
    "node1a = ListNode(1)\n",
    "node2a = ListNode(2)\n",
    "node3a = ListNode(3)\n",
    "node4a = ListNode(4)\n",
    "node5a = ListNode(5)\n",
    "node6a = ListNode(6)\n",
    "node1a.next = node2a\n",
    "node2a.next = node3a\n",
    "node3a.next = node4a\n",
    "node4a.next = node5a\n",
    "node5a.next = node6a\n",
    "print_node(node1a)\n",
    "print_node(swapPairs2(node1a))"
   ]
  },
  {
   "cell_type": "markdown",
   "metadata": {},
   "source": [
    "#### 二分查找"
   ]
  },
  {
   "cell_type": "markdown",
   "metadata": {},
   "source": [
    "#### 普通递归\n",
    "* 递归主问题定义:在区间上返回查找某个值 f(start,end,target) 返回下标\n",
    "* 递归子问题定义:f(start+1,end,target) 返回下标\n",
    "* 递归的的终止条件 \b\bstart>end 返回-1 nums[start]==target 返回index"
   ]
  },
  {
   "cell_type": "code",
   "execution_count": 166,
   "metadata": {},
   "outputs": [],
   "source": [
    "\n",
    "def binarySearch1(nums,start,end,target):\n",
    "    if start>end:\n",
    "        return -1\n",
    "    if nums[start]==target:\n",
    "        return start\n",
    "    return binarySearch1(nums,start+1,end,target)\n",
    "nums = [1,3,5,5,7,10]\n",
    "binarySearch1(nums,0,len(nums),10)"
   ]
  },
  {
   "cell_type": "markdown",
   "metadata": {},
   "source": [
    "#### 二分查找递归\n",
    "* 递归主问题定义:在区间上返回查找某个值 f(start,end,target) 返回下标\n",
    "* 递归子问题定义:f(new_start,new_end,target) 返回下标\n",
    "* 递归的的终止条件 \b\bstart>end 返回-1 nums[mid]==target 返回mid"
   ]
  },
  {
   "cell_type": "code",
   "execution_count": 180,
   "metadata": {},
   "outputs": [
    {
     "data": {
      "text/plain": [
       "5"
      ]
     },
     "execution_count": 180,
     "metadata": {},
     "output_type": "execute_result"
    }
   ],
   "source": [
    "def binarySearch(nums,start,end,target):\n",
    "    if start>end:\n",
    "        return -1\n",
    "    mid = (start+end)//2\n",
    "    if nums[mid]==target:\n",
    "        return mid\n",
    "    elif nums[mid]>target:\n",
    "        return binarySearch(nums,start,mid-1,target)\n",
    "    else:\n",
    "        return binarySearch(nums,mid+1,end,target)\n",
    "nums = [1,3,5,5,7,10]\n",
    "binarySearch(nums,0,len(nums)-1,10)"
   ]
  },
  {
   "cell_type": "markdown",
   "metadata": {},
   "source": [
    "## 快速幂\n",
    "* (a^n)%b\n",
    "* 暴力递归\n",
    "* 同余定理 (x*y)%z = (x%z)*(y%z)%z"
   ]
  },
  {
   "cell_type": "markdown",
   "metadata": {},
   "source": [
    "### 暴力递归 先计算a^n\n",
    "* 定义递归主问题 f(a,n) 返回a^n\n",
    "* 定义递归子问题 f(a,n-1) 返回a^(n-1)\n",
    "* 递归终止条件 n==0 f(a,0)=1"
   ]
  },
  {
   "cell_type": "code",
   "execution_count": 7,
   "metadata": {},
   "outputs": [
    {
     "name": "stdout",
     "output_type": "stream",
     "text": [
      "81 1\n"
     ]
    }
   ],
   "source": [
    "def fastPower(a,n):\n",
    "    if n==0:\n",
    "        return 1\n",
    "    return a*fastPower(a,n-1)\n",
    "print(fastPower(3,4),fastPower(3,4)%5)"
   ]
  },
  {
   "cell_type": "markdown",
   "metadata": {},
   "source": [
    "### 同余定理 (x*y)%z = (x%z)*(y%z)%z  \n",
    "x->a \n",
    "y->(a^n-1)\n",
    "* 定义递归主问题 f(a,b,n) 返回 a*n%b\n",
    "* 定义递归子问题 f(a,b,n-1)  返回(a^n-1)%b\n",
    "* 递归终止条件 n==0 f(a,b,0)=1\n",
    "\n"
   ]
  },
  {
   "cell_type": "code",
   "execution_count": 48,
   "metadata": {},
   "outputs": [
    {
     "data": {
      "text/plain": [
       "1"
      ]
     },
     "execution_count": 48,
     "metadata": {},
     "output_type": "execute_result"
    }
   ],
   "source": [
    "def fastPower1(a,n,b):\n",
    "    if n==0:\n",
    "        return 1%b\n",
    "    x = a\n",
    "    y = fastPower1(a,n-1,b)\n",
    "    return x*y%b\n",
    "fastPower1(3,4,5)"
   ]
  },
  {
   "cell_type": "markdown",
   "metadata": {},
   "source": [
    "### 同余定理 (x*y)%z = (x%z)*(y%z)%z  \n",
    "x->a \n",
    "y->(a^n-1)\n",
    "* 定义递归主问题 f(a,b,n)\n",
    "* 定义递归子问题 f(a,b,n-1)  a*(a^n-1)%b\n",
    "* 递归终止条件 n==0 f(a,b,0)=1"
   ]
  },
  {
   "cell_type": "code",
   "execution_count": 46,
   "metadata": {},
   "outputs": [
    {
     "data": {
      "text/plain": [
       "1"
      ]
     },
     "execution_count": 46,
     "metadata": {},
     "output_type": "execute_result"
    }
   ],
   "source": [
    "def fastPower2(a,n,b):\n",
    "    if n==0:\n",
    "        return 1%b\n",
    "    x = (fastPower2(a,n//2,b))\n",
    "    y = x if n%2==0 else x*a%b\n",
    "    return x*y%b\n",
    "fastPower2(3,4,5)"
   ]
  },
  {
   "cell_type": "markdown",
   "metadata": {},
   "source": []
  }
 ],
 "metadata": {
  "interpreter": {
   "hash": "b231c61f6d7dac621484ee50057a55e7aa739bcbb91e573d28ea70d6cb0179b7"
  },
  "kernelspec": {
   "display_name": "Python 3.7.2 64-bit ('base': conda)",
   "name": "python3"
  },
  "language_info": {
   "codemirror_mode": {
    "name": "ipython",
    "version": 3
   },
   "file_extension": ".py",
   "mimetype": "text/x-python",
   "name": "python",
   "nbconvert_exporter": "python",
   "pygments_lexer": "ipython3",
   "version": "3.7.2"
  },
  "orig_nbformat": 4
 },
 "nbformat": 4,
 "nbformat_minor": 2
}
